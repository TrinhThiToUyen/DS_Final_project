{
 "cells": [
  {
   "cell_type": "markdown",
   "metadata": {
    "colab_type": "text",
    "id": "view-in-github"
   },
   "source": [
    "<a href=\"https://colab.research.google.com/github/hungviet0304/DS_Final_project/blob/master/Process_data.ipynb\" target=\"_parent\"><img src=\"https://colab.research.google.com/assets/colab-badge.svg\" alt=\"Open In Colab\"/></a>"
   ]
  },
  {
   "cell_type": "code",
   "execution_count": 1,
   "metadata": {
    "colab": {},
    "colab_type": "code",
    "id": "TmvHT3tAgeFe"
   },
   "outputs": [],
   "source": [
    "import pandas as pd\n",
    "import numpy as np\n",
    "import os\n",
    "import copy\n",
    "import math\n",
    "from sklearn.feature_extraction.text import TfidfVectorizer\n",
    "%matplotlib inline"
   ]
  },
  {
   "cell_type": "code",
   "execution_count": 2,
   "metadata": {},
   "outputs": [],
   "source": [
    "%matplotlib inline\n",
    "import matplotlib.pyplot as plt\n",
    "import seaborn as sns # seaborn là thư viện được xây trên matplotlib, giúp việc visualization đỡ khổ hơn\n",
    "import pandas as pd\n",
    "import numpy as np\n",
    "\n",
    "from sklearn.model_selection import train_test_split\n",
    "from sklearn.preprocessing import OneHotEncoder, StandardScaler\n",
    "from sklearn.impute import SimpleImputer\n",
    "from sklearn.base import BaseEstimator, TransformerMixin\n",
    "from sklearn.pipeline import Pipeline, make_pipeline\n",
    "from sklearn.compose import ColumnTransformer, make_column_transformer\n",
    "from sklearn.neural_network import MLPClassifier\n",
    "\n",
    "# You can also import other things ...\n",
    "# YOUR CODE HERE (OPTION)\n",
    "import re\n",
    "from sklearn import preprocessing"
   ]
  },
  {
   "cell_type": "code",
   "execution_count": 3,
   "metadata": {},
   "outputs": [
    {
     "name": "stdout",
     "output_type": "stream",
     "text": [
      "C:\\Users\\Admin\\Documents\\GitHub\\DS_Final_project\\data\n"
     ]
    }
   ],
   "source": [
    "pwd = %pwd\n",
    "if pwd != 'C:\\\\Users\\\\Admin\\\\Documents\\\\GitHub\\\\DS_Final_project\\\\data':\n",
    "    %cd ./data\n"
   ]
  },
  {
   "cell_type": "code",
   "execution_count": 4,
   "metadata": {},
   "outputs": [
    {
     "name": "stdout",
     "output_type": "stream",
     "text": [
      "C:\\Users\\Admin\\Documents\\GitHub\\DS_Final_project\n"
     ]
    }
   ],
   "source": [
    "file_list = os.listdir()\n",
    "data_tmp = []\n",
    "for file in file_list:\n",
    "    df = pd.read_csv(file)\n",
    "    data_tmp.append(df)\n",
    "final_df = pd.concat(data_tmp, axis = 0, ignore_index=True)\n",
    "%cd .."
   ]
  },
  {
   "cell_type": "code",
   "execution_count": 5,
   "metadata": {},
   "outputs": [
    {
     "data": {
      "text/html": [
       "<div>\n",
       "<style scoped>\n",
       "    .dataframe tbody tr th:only-of-type {\n",
       "        vertical-align: middle;\n",
       "    }\n",
       "\n",
       "    .dataframe tbody tr th {\n",
       "        vertical-align: top;\n",
       "    }\n",
       "\n",
       "    .dataframe thead th {\n",
       "        text-align: right;\n",
       "    }\n",
       "</style>\n",
       "<table border=\"1\" class=\"dataframe\">\n",
       "  <thead>\n",
       "    <tr style=\"text-align: right;\">\n",
       "      <th></th>\n",
       "      <th>title</th>\n",
       "      <th>runtime</th>\n",
       "      <th>des</th>\n",
       "      <th>date</th>\n",
       "      <th>genre</th>\n",
       "      <th>cast</th>\n",
       "      <th>director</th>\n",
       "      <th>vote</th>\n",
       "      <th>gross</th>\n",
       "      <th>rating</th>\n",
       "    </tr>\n",
       "  </thead>\n",
       "  <tbody>\n",
       "    <tr>\n",
       "      <td>0</td>\n",
       "      <td>Star Wars: Episode VIII - The Last Jedi</td>\n",
       "      <td>151</td>\n",
       "      <td>Rey develops her newly discovered abilitie...</td>\n",
       "      <td>2017</td>\n",
       "      <td>Action, Adventure, Fantasy</td>\n",
       "      <td>Daisy Ridley, John Boyega, Mark Hamill, Carrie...</td>\n",
       "      <td>Rian Johnson</td>\n",
       "      <td>510252</td>\n",
       "      <td>$620.18M</td>\n",
       "      <td>7.0</td>\n",
       "    </tr>\n",
       "    <tr>\n",
       "      <td>1</td>\n",
       "      <td>Game of Thrones</td>\n",
       "      <td>57</td>\n",
       "      <td>Nine noble families fight for control over...</td>\n",
       "      <td>2019</td>\n",
       "      <td>Action, Adventure, Drama</td>\n",
       "      <td>Emilia Clarke, Peter Dinklage, Kit Harington, ...</td>\n",
       "      <td>NaN</td>\n",
       "      <td>1623080</td>\n",
       "      <td>NaN</td>\n",
       "      <td>9.3</td>\n",
       "    </tr>\n",
       "    <tr>\n",
       "      <td>2</td>\n",
       "      <td>Vikings</td>\n",
       "      <td>44</td>\n",
       "      <td>Vikings transports us to the brutal and my...</td>\n",
       "      <td>2013</td>\n",
       "      <td>Action, Adventure, Drama</td>\n",
       "      <td>Katheryn Winnick, Gustaf Skarsgård, Alexander ...</td>\n",
       "      <td>NaN</td>\n",
       "      <td>366681</td>\n",
       "      <td>NaN</td>\n",
       "      <td>8.6</td>\n",
       "    </tr>\n",
       "    <tr>\n",
       "      <td>3</td>\n",
       "      <td>Star Wars: Episode VII - The Force Awakens</td>\n",
       "      <td>138</td>\n",
       "      <td>Three decades after the Empire's defeat, a...</td>\n",
       "      <td>2015</td>\n",
       "      <td>Action, Adventure, Sci-Fi</td>\n",
       "      <td>Daisy Ridley, John Boyega, Oscar Isaac, Domhna...</td>\n",
       "      <td>J.J. Abrams</td>\n",
       "      <td>817138</td>\n",
       "      <td>$936.66M</td>\n",
       "      <td>7.9</td>\n",
       "    </tr>\n",
       "    <tr>\n",
       "      <td>4</td>\n",
       "      <td>Rogue One: A Star Wars Story</td>\n",
       "      <td>133</td>\n",
       "      <td>The daughter of an Imperial scientist join...</td>\n",
       "      <td>2016</td>\n",
       "      <td>Action, Adventure, Sci-Fi</td>\n",
       "      <td>Felicity Jones, Diego Luna, Alan Tudyk, Donnie...</td>\n",
       "      <td>Gareth Edwards</td>\n",
       "      <td>510747</td>\n",
       "      <td>$532.18M</td>\n",
       "      <td>7.8</td>\n",
       "    </tr>\n",
       "  </tbody>\n",
       "</table>\n",
       "</div>"
      ],
      "text/plain": [
       "                                        title runtime  \\\n",
       "0     Star Wars: Episode VIII - The Last Jedi     151   \n",
       "1                             Game of Thrones      57   \n",
       "2                                     Vikings      44   \n",
       "3  Star Wars: Episode VII - The Force Awakens     138   \n",
       "4                Rogue One: A Star Wars Story     133   \n",
       "\n",
       "                                                 des  date  \\\n",
       "0      Rey develops her newly discovered abilitie...  2017   \n",
       "1      Nine noble families fight for control over...  2019   \n",
       "2      Vikings transports us to the brutal and my...  2013   \n",
       "3      Three decades after the Empire's defeat, a...  2015   \n",
       "4      The daughter of an Imperial scientist join...  2016   \n",
       "\n",
       "                                    genre  \\\n",
       "0  Action, Adventure, Fantasy               \n",
       "1    Action, Adventure, Drama               \n",
       "2    Action, Adventure, Drama               \n",
       "3   Action, Adventure, Sci-Fi               \n",
       "4   Action, Adventure, Sci-Fi               \n",
       "\n",
       "                                                cast        director     vote  \\\n",
       "0  Daisy Ridley, John Boyega, Mark Hamill, Carrie...    Rian Johnson   510252   \n",
       "1  Emilia Clarke, Peter Dinklage, Kit Harington, ...             NaN  1623080   \n",
       "2  Katheryn Winnick, Gustaf Skarsgård, Alexander ...             NaN   366681   \n",
       "3  Daisy Ridley, John Boyega, Oscar Isaac, Domhna...     J.J. Abrams   817138   \n",
       "4  Felicity Jones, Diego Luna, Alan Tudyk, Donnie...  Gareth Edwards   510747   \n",
       "\n",
       "      gross  rating  \n",
       "0  $620.18M     7.0  \n",
       "1       NaN     9.3  \n",
       "2       NaN     8.6  \n",
       "3  $936.66M     7.9  \n",
       "4  $532.18M     7.8  "
      ]
     },
     "execution_count": 5,
     "metadata": {},
     "output_type": "execute_result"
    }
   ],
   "source": [
    "final_df.head()"
   ]
  },
  {
   "cell_type": "code",
   "execution_count": 6,
   "metadata": {},
   "outputs": [
    {
     "data": {
      "text/html": [
       "<div>\n",
       "<style scoped>\n",
       "    .dataframe tbody tr th:only-of-type {\n",
       "        vertical-align: middle;\n",
       "    }\n",
       "\n",
       "    .dataframe tbody tr th {\n",
       "        vertical-align: top;\n",
       "    }\n",
       "\n",
       "    .dataframe thead th {\n",
       "        text-align: right;\n",
       "    }\n",
       "</style>\n",
       "<table border=\"1\" class=\"dataframe\">\n",
       "  <thead>\n",
       "    <tr style=\"text-align: right;\">\n",
       "      <th></th>\n",
       "      <th>title</th>\n",
       "      <th>runtime</th>\n",
       "      <th>des</th>\n",
       "      <th>date</th>\n",
       "      <th>genre</th>\n",
       "      <th>cast</th>\n",
       "      <th>director</th>\n",
       "      <th>vote</th>\n",
       "      <th>gross</th>\n",
       "      <th>rating</th>\n",
       "    </tr>\n",
       "  </thead>\n",
       "  <tbody>\n",
       "    <tr>\n",
       "      <td>count</td>\n",
       "      <td>79500</td>\n",
       "      <td>79500</td>\n",
       "      <td>79500</td>\n",
       "      <td>79500.000000</td>\n",
       "      <td>79500</td>\n",
       "      <td>79050</td>\n",
       "      <td>36140</td>\n",
       "      <td>7.950000e+04</td>\n",
       "      <td>4529</td>\n",
       "      <td>79500.000000</td>\n",
       "    </tr>\n",
       "    <tr>\n",
       "      <td>unique</td>\n",
       "      <td>61473</td>\n",
       "      <td>553</td>\n",
       "      <td>57834</td>\n",
       "      <td>NaN</td>\n",
       "      <td>1016</td>\n",
       "      <td>58958</td>\n",
       "      <td>21051</td>\n",
       "      <td>NaN</td>\n",
       "      <td>1278</td>\n",
       "      <td>NaN</td>\n",
       "    </tr>\n",
       "    <tr>\n",
       "      <td>top</td>\n",
       "      <td>Run</td>\n",
       "      <td>0</td>\n",
       "      <td>Add a Plot</td>\n",
       "      <td>NaN</td>\n",
       "      <td>Documentary</td>\n",
       "      <td>Add a Plot</td>\n",
       "      <td>Kevin Dunn</td>\n",
       "      <td>NaN</td>\n",
       "      <td>$0.01M</td>\n",
       "      <td>NaN</td>\n",
       "    </tr>\n",
       "    <tr>\n",
       "      <td>freq</td>\n",
       "      <td>15</td>\n",
       "      <td>7607</td>\n",
       "      <td>8458</td>\n",
       "      <td>NaN</td>\n",
       "      <td>5446</td>\n",
       "      <td>6029</td>\n",
       "      <td>98</td>\n",
       "      <td>NaN</td>\n",
       "      <td>342</td>\n",
       "      <td>NaN</td>\n",
       "    </tr>\n",
       "    <tr>\n",
       "      <td>mean</td>\n",
       "      <td>NaN</td>\n",
       "      <td>NaN</td>\n",
       "      <td>NaN</td>\n",
       "      <td>2014.174742</td>\n",
       "      <td>NaN</td>\n",
       "      <td>NaN</td>\n",
       "      <td>NaN</td>\n",
       "      <td>4.769354e+03</td>\n",
       "      <td>NaN</td>\n",
       "      <td>4.101481</td>\n",
       "    </tr>\n",
       "    <tr>\n",
       "      <td>std</td>\n",
       "      <td>NaN</td>\n",
       "      <td>NaN</td>\n",
       "      <td>NaN</td>\n",
       "      <td>25.861114</td>\n",
       "      <td>NaN</td>\n",
       "      <td>NaN</td>\n",
       "      <td>NaN</td>\n",
       "      <td>3.709526e+04</td>\n",
       "      <td>NaN</td>\n",
       "      <td>3.431680</td>\n",
       "    </tr>\n",
       "    <tr>\n",
       "      <td>min</td>\n",
       "      <td>NaN</td>\n",
       "      <td>NaN</td>\n",
       "      <td>NaN</td>\n",
       "      <td>0.000000</td>\n",
       "      <td>NaN</td>\n",
       "      <td>NaN</td>\n",
       "      <td>NaN</td>\n",
       "      <td>0.000000e+00</td>\n",
       "      <td>NaN</td>\n",
       "      <td>0.000000</td>\n",
       "    </tr>\n",
       "    <tr>\n",
       "      <td>25%</td>\n",
       "      <td>NaN</td>\n",
       "      <td>NaN</td>\n",
       "      <td>NaN</td>\n",
       "      <td>2013.000000</td>\n",
       "      <td>NaN</td>\n",
       "      <td>NaN</td>\n",
       "      <td>NaN</td>\n",
       "      <td>0.000000e+00</td>\n",
       "      <td>NaN</td>\n",
       "      <td>0.000000</td>\n",
       "    </tr>\n",
       "    <tr>\n",
       "      <td>50%</td>\n",
       "      <td>NaN</td>\n",
       "      <td>NaN</td>\n",
       "      <td>NaN</td>\n",
       "      <td>2015.000000</td>\n",
       "      <td>NaN</td>\n",
       "      <td>NaN</td>\n",
       "      <td>NaN</td>\n",
       "      <td>1.300000e+01</td>\n",
       "      <td>NaN</td>\n",
       "      <td>5.500000</td>\n",
       "    </tr>\n",
       "    <tr>\n",
       "      <td>75%</td>\n",
       "      <td>NaN</td>\n",
       "      <td>NaN</td>\n",
       "      <td>NaN</td>\n",
       "      <td>2016.000000</td>\n",
       "      <td>NaN</td>\n",
       "      <td>NaN</td>\n",
       "      <td>NaN</td>\n",
       "      <td>1.920000e+02</td>\n",
       "      <td>NaN</td>\n",
       "      <td>7.200000</td>\n",
       "    </tr>\n",
       "    <tr>\n",
       "      <td>max</td>\n",
       "      <td>NaN</td>\n",
       "      <td>NaN</td>\n",
       "      <td>NaN</td>\n",
       "      <td>2020.000000</td>\n",
       "      <td>NaN</td>\n",
       "      <td>NaN</td>\n",
       "      <td>NaN</td>\n",
       "      <td>1.623080e+06</td>\n",
       "      <td>NaN</td>\n",
       "      <td>10.000000</td>\n",
       "    </tr>\n",
       "  </tbody>\n",
       "</table>\n",
       "</div>"
      ],
      "text/plain": [
       "        title runtime         des          date                    genre  \\\n",
       "count   79500   79500       79500  79500.000000                    79500   \n",
       "unique  61473     553       57834           NaN                     1016   \n",
       "top       Run       0  Add a Plot           NaN  Documentary               \n",
       "freq       15    7607        8458           NaN                     5446   \n",
       "mean      NaN     NaN         NaN   2014.174742                      NaN   \n",
       "std       NaN     NaN         NaN     25.861114                      NaN   \n",
       "min       NaN     NaN         NaN      0.000000                      NaN   \n",
       "25%       NaN     NaN         NaN   2013.000000                      NaN   \n",
       "50%       NaN     NaN         NaN   2015.000000                      NaN   \n",
       "75%       NaN     NaN         NaN   2016.000000                      NaN   \n",
       "max       NaN     NaN         NaN   2020.000000                      NaN   \n",
       "\n",
       "              cast    director          vote   gross        rating  \n",
       "count        79050       36140  7.950000e+04    4529  79500.000000  \n",
       "unique       58958       21051           NaN    1278           NaN  \n",
       "top     Add a Plot  Kevin Dunn           NaN  $0.01M           NaN  \n",
       "freq          6029          98           NaN     342           NaN  \n",
       "mean           NaN         NaN  4.769354e+03     NaN      4.101481  \n",
       "std            NaN         NaN  3.709526e+04     NaN      3.431680  \n",
       "min            NaN         NaN  0.000000e+00     NaN      0.000000  \n",
       "25%            NaN         NaN  0.000000e+00     NaN      0.000000  \n",
       "50%            NaN         NaN  1.300000e+01     NaN      5.500000  \n",
       "75%            NaN         NaN  1.920000e+02     NaN      7.200000  \n",
       "max            NaN         NaN  1.623080e+06     NaN     10.000000  "
      ]
     },
     "execution_count": 6,
     "metadata": {},
     "output_type": "execute_result"
    }
   ],
   "source": [
    "final_df.describe(include=\"all\")"
   ]
  },
  {
   "cell_type": "code",
   "execution_count": 7,
   "metadata": {},
   "outputs": [
    {
     "data": {
      "text/html": [
       "<div>\n",
       "<style scoped>\n",
       "    .dataframe tbody tr th:only-of-type {\n",
       "        vertical-align: middle;\n",
       "    }\n",
       "\n",
       "    .dataframe tbody tr th {\n",
       "        vertical-align: top;\n",
       "    }\n",
       "\n",
       "    .dataframe thead th {\n",
       "        text-align: right;\n",
       "    }\n",
       "</style>\n",
       "<table border=\"1\" class=\"dataframe\">\n",
       "  <thead>\n",
       "    <tr style=\"text-align: right;\">\n",
       "      <th></th>\n",
       "      <th>title</th>\n",
       "      <th>runtime</th>\n",
       "      <th>des</th>\n",
       "      <th>date</th>\n",
       "      <th>genre</th>\n",
       "      <th>cast</th>\n",
       "      <th>director</th>\n",
       "      <th>vote</th>\n",
       "      <th>gross</th>\n",
       "      <th>rating</th>\n",
       "    </tr>\n",
       "  </thead>\n",
       "  <tbody>\n",
       "    <tr>\n",
       "      <td>0</td>\n",
       "      <td>Star Wars: Episode VIII - The Last Jedi</td>\n",
       "      <td>151</td>\n",
       "      <td>Rey develops her newly discovered abilitie...</td>\n",
       "      <td>2017</td>\n",
       "      <td>Action, Adventure, Fantasy</td>\n",
       "      <td>Daisy Ridley, John Boyega, Mark Hamill, Carrie...</td>\n",
       "      <td>Rian Johnson</td>\n",
       "      <td>510252</td>\n",
       "      <td>$620.18M</td>\n",
       "      <td>7.0</td>\n",
       "    </tr>\n",
       "    <tr>\n",
       "      <td>1</td>\n",
       "      <td>Game of Thrones</td>\n",
       "      <td>57</td>\n",
       "      <td>Nine noble families fight for control over...</td>\n",
       "      <td>2019</td>\n",
       "      <td>Action, Adventure, Drama</td>\n",
       "      <td>Emilia Clarke, Peter Dinklage, Kit Harington, ...</td>\n",
       "      <td>NaN</td>\n",
       "      <td>1623080</td>\n",
       "      <td>NaN</td>\n",
       "      <td>9.3</td>\n",
       "    </tr>\n",
       "    <tr>\n",
       "      <td>2</td>\n",
       "      <td>Vikings</td>\n",
       "      <td>44</td>\n",
       "      <td>Vikings transports us to the brutal and my...</td>\n",
       "      <td>2013</td>\n",
       "      <td>Action, Adventure, Drama</td>\n",
       "      <td>Katheryn Winnick, Gustaf Skarsgård, Alexander ...</td>\n",
       "      <td>NaN</td>\n",
       "      <td>366681</td>\n",
       "      <td>NaN</td>\n",
       "      <td>8.6</td>\n",
       "    </tr>\n",
       "    <tr>\n",
       "      <td>3</td>\n",
       "      <td>Star Wars: Episode VII - The Force Awakens</td>\n",
       "      <td>138</td>\n",
       "      <td>Three decades after the Empire's defeat, a...</td>\n",
       "      <td>2015</td>\n",
       "      <td>Action, Adventure, Sci-Fi</td>\n",
       "      <td>Daisy Ridley, John Boyega, Oscar Isaac, Domhna...</td>\n",
       "      <td>J.J. Abrams</td>\n",
       "      <td>817138</td>\n",
       "      <td>$936.66M</td>\n",
       "      <td>7.9</td>\n",
       "    </tr>\n",
       "    <tr>\n",
       "      <td>4</td>\n",
       "      <td>Rogue One: A Star Wars Story</td>\n",
       "      <td>133</td>\n",
       "      <td>The daughter of an Imperial scientist join...</td>\n",
       "      <td>2016</td>\n",
       "      <td>Action, Adventure, Sci-Fi</td>\n",
       "      <td>Felicity Jones, Diego Luna, Alan Tudyk, Donnie...</td>\n",
       "      <td>Gareth Edwards</td>\n",
       "      <td>510747</td>\n",
       "      <td>$532.18M</td>\n",
       "      <td>7.8</td>\n",
       "    </tr>\n",
       "  </tbody>\n",
       "</table>\n",
       "</div>"
      ],
      "text/plain": [
       "                                        title runtime  \\\n",
       "0     Star Wars: Episode VIII - The Last Jedi     151   \n",
       "1                             Game of Thrones      57   \n",
       "2                                     Vikings      44   \n",
       "3  Star Wars: Episode VII - The Force Awakens     138   \n",
       "4                Rogue One: A Star Wars Story     133   \n",
       "\n",
       "                                                 des  date  \\\n",
       "0      Rey develops her newly discovered abilitie...  2017   \n",
       "1      Nine noble families fight for control over...  2019   \n",
       "2      Vikings transports us to the brutal and my...  2013   \n",
       "3      Three decades after the Empire's defeat, a...  2015   \n",
       "4      The daughter of an Imperial scientist join...  2016   \n",
       "\n",
       "                                    genre  \\\n",
       "0  Action, Adventure, Fantasy               \n",
       "1    Action, Adventure, Drama               \n",
       "2    Action, Adventure, Drama               \n",
       "3   Action, Adventure, Sci-Fi               \n",
       "4   Action, Adventure, Sci-Fi               \n",
       "\n",
       "                                                cast        director     vote  \\\n",
       "0  Daisy Ridley, John Boyega, Mark Hamill, Carrie...    Rian Johnson   510252   \n",
       "1  Emilia Clarke, Peter Dinklage, Kit Harington, ...             NaN  1623080   \n",
       "2  Katheryn Winnick, Gustaf Skarsgård, Alexander ...             NaN   366681   \n",
       "3  Daisy Ridley, John Boyega, Oscar Isaac, Domhna...     J.J. Abrams   817138   \n",
       "4  Felicity Jones, Diego Luna, Alan Tudyk, Donnie...  Gareth Edwards   510747   \n",
       "\n",
       "      gross  rating  \n",
       "0  $620.18M     7.0  \n",
       "1       NaN     9.3  \n",
       "2       NaN     8.6  \n",
       "3  $936.66M     7.9  \n",
       "4  $532.18M     7.8  "
      ]
     },
     "execution_count": 7,
     "metadata": {},
     "output_type": "execute_result"
    }
   ],
   "source": [
    "df = final_df.copy()\n",
    "df = df[df.rating != 0]\n",
    "df.head()"
   ]
  },
  {
   "cell_type": "code",
   "execution_count": 8,
   "metadata": {},
   "outputs": [],
   "source": [
    "# Tách X và y\n",
    "y_sr = df[\"rating\"] # sr là viết tắt của series\n",
    "X_df = df.drop(\"rating\", axis=1)"
   ]
  },
  {
   "cell_type": "code",
   "execution_count": 9,
   "metadata": {},
   "outputs": [
    {
     "data": {
      "text/plain": [
       "Int64Index([40980, 44997, 615, 20521, 13402], dtype='int64')"
      ]
     },
     "execution_count": 9,
     "metadata": {},
     "output_type": "execute_result"
    }
   ],
   "source": [
    "# Tách tập train và tập validation theo tỉ lệ 70%:30%\n",
    "train_X_df, val_X_df, train_y_sr, val_y_sr = train_test_split(X_df, y_sr, test_size=0.3, \n",
    "                                                              stratify=y_sr, random_state=0)\n",
    "\n",
    "train_X_df.head().index"
   ]
  },
  {
   "cell_type": "code",
   "execution_count": 10,
   "metadata": {},
   "outputs": [
    {
     "name": "stdout",
     "output_type": "stream",
     "text": [
      "<class 'pandas.core.frame.DataFrame'>\n",
      "Int64Index: 34267 entries, 40980 to 73596\n",
      "Data columns (total 9 columns):\n",
      "title       34267 non-null object\n",
      "runtime     34267 non-null object\n",
      "des         34267 non-null object\n",
      "date        34267 non-null int64\n",
      "genre       34267 non-null object\n",
      "cast        33958 non-null object\n",
      "director    25306 non-null object\n",
      "vote        34267 non-null int64\n",
      "gross       3176 non-null object\n",
      "dtypes: int64(2), object(7)\n",
      "memory usage: 2.6+ MB\n"
     ]
    }
   ],
   "source": [
    "train_X_df.info()"
   ]
  },
  {
   "cell_type": "code",
   "execution_count": 11,
   "metadata": {},
   "outputs": [
    {
     "name": "stdout",
     "output_type": "stream",
     "text": [
      "<class 'pandas.core.frame.DataFrame'>\n",
      "Int64Index: 14687 entries, 67851 to 23902\n",
      "Data columns (total 9 columns):\n",
      "title       14687 non-null object\n",
      "runtime     14687 non-null object\n",
      "des         14687 non-null object\n",
      "date        14687 non-null int64\n",
      "genre       14687 non-null object\n",
      "cast        14546 non-null object\n",
      "director    10812 non-null object\n",
      "vote        14687 non-null int64\n",
      "gross       1353 non-null object\n",
      "dtypes: int64(2), object(7)\n",
      "memory usage: 1.1+ MB\n"
     ]
    }
   ],
   "source": [
    "val_X_df.info()"
   ]
  },
  {
   "cell_type": "code",
   "execution_count": 12,
   "metadata": {},
   "outputs": [
    {
     "data": {
      "text/html": [
       "<div>\n",
       "<style scoped>\n",
       "    .dataframe tbody tr th:only-of-type {\n",
       "        vertical-align: middle;\n",
       "    }\n",
       "\n",
       "    .dataframe tbody tr th {\n",
       "        vertical-align: top;\n",
       "    }\n",
       "\n",
       "    .dataframe thead th {\n",
       "        text-align: right;\n",
       "    }\n",
       "</style>\n",
       "<table border=\"1\" class=\"dataframe\">\n",
       "  <thead>\n",
       "    <tr style=\"text-align: right;\">\n",
       "      <th></th>\n",
       "      <th>title</th>\n",
       "      <th>runtime</th>\n",
       "      <th>des</th>\n",
       "      <th>date</th>\n",
       "      <th>genre</th>\n",
       "      <th>cast</th>\n",
       "      <th>director</th>\n",
       "      <th>vote</th>\n",
       "      <th>gross</th>\n",
       "    </tr>\n",
       "  </thead>\n",
       "  <tbody>\n",
       "    <tr>\n",
       "      <td>40980</td>\n",
       "      <td>Ghost Light</td>\n",
       "      <td>102</td>\n",
       "      <td>A dark comedy about a disgruntled summer-s...</td>\n",
       "      <td>2018</td>\n",
       "      <td>Comedy, Horror</td>\n",
       "      <td>Roger Bart, Tom Riley, Shannyn Sossamon, Danie...</td>\n",
       "      <td>John Stimpson</td>\n",
       "      <td>292</td>\n",
       "      <td>NaN</td>\n",
       "    </tr>\n",
       "    <tr>\n",
       "      <td>44997</td>\n",
       "      <td>Nothing Good Ever Happens</td>\n",
       "      <td>91</td>\n",
       "      <td>Our film is about Neil who is a painter an...</td>\n",
       "      <td>2016</td>\n",
       "      <td>Comedy, Drama</td>\n",
       "      <td>Erin R. Ryan, Al Snow, Marylee Osborne, Iabou ...</td>\n",
       "      <td>Henrique Couto</td>\n",
       "      <td>74</td>\n",
       "      <td>NaN</td>\n",
       "    </tr>\n",
       "    <tr>\n",
       "      <td>615</td>\n",
       "      <td>Life on the Line</td>\n",
       "      <td>97</td>\n",
       "      <td>A crew of men who do the high-wire work of...</td>\n",
       "      <td>2015</td>\n",
       "      <td>Action, Drama</td>\n",
       "      <td>John Travolta, Kate Bosworth, Devon Sawa, Gil ...</td>\n",
       "      <td>David Hackl</td>\n",
       "      <td>4113</td>\n",
       "      <td>NaN</td>\n",
       "    </tr>\n",
       "    <tr>\n",
       "      <td>20521</td>\n",
       "      <td>Cross Ange: Tenshi to Ryuu no Rondo</td>\n",
       "      <td>0</td>\n",
       "      <td>The first season follows the growth of a p...</td>\n",
       "      <td>2014</td>\n",
       "      <td>Animation, Action, Romance</td>\n",
       "      <td>Emily Neves, Brenda Valdivia, Katelyn Barr, Am...</td>\n",
       "      <td>NaN</td>\n",
       "      <td>279</td>\n",
       "      <td>NaN</td>\n",
       "    </tr>\n",
       "    <tr>\n",
       "      <td>13402</td>\n",
       "      <td>Blunderkind</td>\n",
       "      <td>20</td>\n",
       "      <td>in 1988, 12-year-old boy genius Henry Jame...</td>\n",
       "      <td>2011</td>\n",
       "      <td>Short, Adventure, Comedy</td>\n",
       "      <td>Wes Robertson, Bridger Zadina, Drake Johnston,...</td>\n",
       "      <td>Zak Mechanic</td>\n",
       "      <td>64</td>\n",
       "      <td>NaN</td>\n",
       "    </tr>\n",
       "  </tbody>\n",
       "</table>\n",
       "</div>"
      ],
      "text/plain": [
       "                                     title runtime  \\\n",
       "40980                          Ghost Light     102   \n",
       "44997            Nothing Good Ever Happens      91   \n",
       "615                       Life on the Line      97   \n",
       "20521  Cross Ange: Tenshi to Ryuu no Rondo       0   \n",
       "13402                          Blunderkind      20   \n",
       "\n",
       "                                                     des  date  \\\n",
       "40980      A dark comedy about a disgruntled summer-s...  2018   \n",
       "44997      Our film is about Neil who is a painter an...  2016   \n",
       "615        A crew of men who do the high-wire work of...  2015   \n",
       "20521      The first season follows the growth of a p...  2014   \n",
       "13402      in 1988, 12-year-old boy genius Henry Jame...  2011   \n",
       "\n",
       "                                        genre  \\\n",
       "40980              Comedy, Horror               \n",
       "44997               Comedy, Drama               \n",
       "615                 Action, Drama               \n",
       "20521  Animation, Action, Romance               \n",
       "13402    Short, Adventure, Comedy               \n",
       "\n",
       "                                                    cast        director  \\\n",
       "40980  Roger Bart, Tom Riley, Shannyn Sossamon, Danie...   John Stimpson   \n",
       "44997  Erin R. Ryan, Al Snow, Marylee Osborne, Iabou ...  Henrique Couto   \n",
       "615    John Travolta, Kate Bosworth, Devon Sawa, Gil ...     David Hackl   \n",
       "20521  Emily Neves, Brenda Valdivia, Katelyn Barr, Am...             NaN   \n",
       "13402  Wes Robertson, Bridger Zadina, Drake Johnston,...    Zak Mechanic   \n",
       "\n",
       "       vote gross  \n",
       "40980   292   NaN  \n",
       "44997    74   NaN  \n",
       "615    4113   NaN  \n",
       "20521   279   NaN  \n",
       "13402    64   NaN  "
      ]
     },
     "execution_count": 12,
     "metadata": {},
     "output_type": "execute_result"
    }
   ],
   "source": [
    "train_X_df.head()"
   ]
  },
  {
   "cell_type": "code",
   "execution_count": 13,
   "metadata": {},
   "outputs": [],
   "source": [
    "#df = df.dropna(axis=0)\n",
    "#df = df.drop_duplicates()"
   ]
  },
  {
   "cell_type": "code",
   "execution_count": 14,
   "metadata": {},
   "outputs": [],
   "source": [
    "genre_rating_df = train_X_df[\"genre\"].to_frame().join(train_y_sr)"
   ]
  },
  {
   "cell_type": "code",
   "execution_count": 15,
   "metadata": {},
   "outputs": [
    {
     "data": {
      "text/html": [
       "<div>\n",
       "<style scoped>\n",
       "    .dataframe tbody tr th:only-of-type {\n",
       "        vertical-align: middle;\n",
       "    }\n",
       "\n",
       "    .dataframe tbody tr th {\n",
       "        vertical-align: top;\n",
       "    }\n",
       "\n",
       "    .dataframe thead th {\n",
       "        text-align: right;\n",
       "    }\n",
       "</style>\n",
       "<table border=\"1\" class=\"dataframe\">\n",
       "  <thead>\n",
       "    <tr style=\"text-align: right;\">\n",
       "      <th></th>\n",
       "      <th>genre</th>\n",
       "      <th>rating</th>\n",
       "    </tr>\n",
       "  </thead>\n",
       "  <tbody>\n",
       "    <tr>\n",
       "      <td>40980</td>\n",
       "      <td>Comedy, Horror</td>\n",
       "      <td>4.8</td>\n",
       "    </tr>\n",
       "    <tr>\n",
       "      <td>44997</td>\n",
       "      <td>Comedy, Drama</td>\n",
       "      <td>5.5</td>\n",
       "    </tr>\n",
       "    <tr>\n",
       "      <td>615</td>\n",
       "      <td>Action, Drama</td>\n",
       "      <td>5.2</td>\n",
       "    </tr>\n",
       "    <tr>\n",
       "      <td>20521</td>\n",
       "      <td>Animation, Action, Romance</td>\n",
       "      <td>7.2</td>\n",
       "    </tr>\n",
       "    <tr>\n",
       "      <td>13402</td>\n",
       "      <td>Short, Adventure, Comedy</td>\n",
       "      <td>7.0</td>\n",
       "    </tr>\n",
       "  </tbody>\n",
       "</table>\n",
       "</div>"
      ],
      "text/plain": [
       "                                        genre  rating\n",
       "40980              Comedy, Horror                 4.8\n",
       "44997               Comedy, Drama                 5.5\n",
       "615                 Action, Drama                 5.2\n",
       "20521  Animation, Action, Romance                 7.2\n",
       "13402    Short, Adventure, Comedy                 7.0"
      ]
     },
     "execution_count": 15,
     "metadata": {},
     "output_type": "execute_result"
    }
   ],
   "source": [
    "genre_rating_df.head()"
   ]
  },
  {
   "cell_type": "code",
   "execution_count": 16,
   "metadata": {},
   "outputs": [
    {
     "name": "stdout",
     "output_type": "stream",
     "text": [
      "Counter({'Comedy': 11819, 'Documentary': 9068, 'Drama': 8967, 'Action': 8841, 'Short': 6888, 'Adventure': 6677, 'Crime': 5147, 'Animation': 4990, 'Romance': 4173, 'Biography': 3641, 'Family': 1499, 'Thriller': 1476, 'Horror': 1357, 'Fantasy': 1301, 'History': 1279, 'Sci-Fi': 1079, 'Music': 972, 'Mystery': 853, 'Sport': 595, 'Musical': 206, 'News': 203, 'Reality-TV': 200, 'War': 195, 'Talk-Show': 88, 'Western': 84, 'Game-Show': 55})\n",
      "len =  26\n"
     ]
    },
    {
     "data": {
      "image/png": "[encoded data removed]",
      "text/plain": [
       "<Figure size 1872x288 with 1 Axes>"
      ]
     },
     "metadata": {
      "needs_background": "light"
     },
     "output_type": "display_data"
    }
   ],
   "source": [
    "from collections import Counter\n",
    "\n",
    "list_gens = list(genre_rating_df.genre)\n",
    "unique_gen = []\n",
    "for g in list_gens:\n",
    "    unique_gen += g.strip().split(\", \")\n",
    "dict_gens = Counter(unique_gen)\n",
    "print(dict_gens)\n",
    "print(\"len = \",len(dict_gens))\n",
    "plt.figure(figsize=(26,4))\n",
    "plt.bar(dict_gens.keys(),dict_gens.values(), width = 0.5, color=plt.cm.Paired(np.arange(len(dict_gens))))\n",
    "plt.show()"
   ]
  },
  {
   "cell_type": "markdown",
   "metadata": {},
   "source": []
  },
  {
   "cell_type": "code",
   "execution_count": 17,
   "metadata": {},
   "outputs": [
    {
     "data": {
      "text/plain": [
       "<matplotlib.axes._subplots.AxesSubplot at 0x22c2c4865c8>"
      ]
     },
     "execution_count": 17,
     "metadata": {},
     "output_type": "execute_result"
    },
    {
     "data": {
      "image/png": "[encoded data removed]",
      "text/plain": [
       "<Figure size 432x288 with 1 Axes>"
      ]
     },
     "metadata": {
      "needs_background": "light"
     },
     "output_type": "display_data"
    }
   ],
   "source": [
    "hist = {}\n",
    "for i in range(genre_rating_df.shape[0]):\n",
    "  genres = genre_rating_df.iloc[i].genre.strip().split(\", \")\n",
    "  rating  = genre_rating_df.iloc[i].rating\n",
    "  for g in genres:\n",
    "    if g not in hist:\n",
    "      hist[g] = [rating]\n",
    "    else:\n",
    "      hist[g].append(rating)\n",
    "keys = list(hist.keys())\n",
    "vals = list(hist.values())\n",
    "vals = [np.mean(x) for x in vals]\n",
    "\n",
    "assert len(keys) == len(vals)\n",
    "hist_df = pd.DataFrame(columns=[\"genre\",\"avg_score\"])\n",
    "hist_df.genre = keys\n",
    "hist_df.avg_score = vals\n",
    "hist_df = hist_df.sort_values(by = [\"avg_score\"],ascending=False)\n",
    "hist_df.plot.bar()\n"
   ]
  },
  {
   "cell_type": "code",
   "execution_count": 18,
   "metadata": {},
   "outputs": [
    {
     "name": "stdout",
     "output_type": "stream",
     "text": [
      "          genre  avg_score\n",
      "10  Documentary   7.256341\n",
      "24    Talk-Show   7.236364\n",
      "12    Biography   7.200192\n",
      "11      History   7.163096\n",
      "6         Short   7.158188\n",
      "22         News   7.088670\n",
      "15        Music   7.071091\n",
      "19        Sport   7.069916\n",
      "23   Reality-TV   6.868500\n",
      "4     Animation   6.739078\n",
      "20          War   6.669231\n",
      "9       Musical   6.574757\n",
      "2         Drama   6.567336\n",
      "8         Crime   6.548164\n",
      "7     Adventure   6.530028\n",
      "17      Mystery   6.482884\n",
      "14      Fantasy   6.457802\n",
      "18       Family   6.420147\n",
      "5       Romance   6.372825\n",
      "0        Comedy   6.372138\n",
      "25    Game-Show   6.361818\n",
      "3        Action   6.330992\n",
      "21      Western   6.288095\n",
      "13       Sci-Fi   6.021316\n",
      "16     Thriller   5.717818\n",
      "1        Horror   5.445615\n"
     ]
    }
   ],
   "source": [
    "print(hist_df)"
   ]
  },
  {
   "cell_type": "markdown",
   "metadata": {},
   "source": [
    "- GENRE to number"
   ]
  },
  {
   "cell_type": "code",
   "execution_count": 19,
   "metadata": {},
   "outputs": [],
   "source": [
    "#TF-IDF \n",
    "\n",
    "corpus = genre_rating_df[\"genre\"].tolist()\n",
    "vectorizer = TfidfVectorizer()\n",
    "tfidf = vectorizer.fit_transform(corpus)\n",
    "\n",
    "\n",
    "list_sum_genre = []\n",
    "for i in range(len(genre_rating_df)):\n",
    "    list_sum_genre.append(tfidf[i].sum())"
   ]
  },
  {
   "cell_type": "code",
   "execution_count": 20,
   "metadata": {},
   "outputs": [
    {
     "data": {
      "text/plain": [
       "False"
      ]
     },
     "execution_count": 20,
     "metadata": {},
     "output_type": "execute_result"
    }
   ],
   "source": [
    "sum_genre = pd.DataFrame(list_sum_genre)\n",
    "sum_genre.isnull().values.any()\n"
   ]
  },
  {
   "cell_type": "code",
   "execution_count": 21,
   "metadata": {},
   "outputs": [
    {
     "name": "stderr",
     "output_type": "stream",
     "text": [
      "D:\\app\\anaconda\\run\\lib\\site-packages\\ipykernel_launcher.py:2: SettingWithCopyWarning: \n",
      "A value is trying to be set on a copy of a slice from a DataFrame.\n",
      "Try using .loc[row_indexer,col_indexer] = value instead\n",
      "\n",
      "See the caveats in the documentation: http://pandas.pydata.org/pandas-docs/stable/user_guide/indexing.html#returning-a-view-versus-a-copy\n",
      "  \n"
     ]
    }
   ],
   "source": [
    "#add column into df\n",
    "train_X_df[\"sum_genre\"] = pd.Series(list_sum_genre).values"
   ]
  },
  {
   "cell_type": "code",
   "execution_count": 22,
   "metadata": {},
   "outputs": [
    {
     "data": {
      "text/html": [
       "<div>\n",
       "<style scoped>\n",
       "    .dataframe tbody tr th:only-of-type {\n",
       "        vertical-align: middle;\n",
       "    }\n",
       "\n",
       "    .dataframe tbody tr th {\n",
       "        vertical-align: top;\n",
       "    }\n",
       "\n",
       "    .dataframe thead th {\n",
       "        text-align: right;\n",
       "    }\n",
       "</style>\n",
       "<table border=\"1\" class=\"dataframe\">\n",
       "  <thead>\n",
       "    <tr style=\"text-align: right;\">\n",
       "      <th></th>\n",
       "      <th>title</th>\n",
       "      <th>runtime</th>\n",
       "      <th>des</th>\n",
       "      <th>date</th>\n",
       "      <th>genre</th>\n",
       "      <th>cast</th>\n",
       "      <th>director</th>\n",
       "      <th>vote</th>\n",
       "      <th>gross</th>\n",
       "      <th>sum_genre</th>\n",
       "    </tr>\n",
       "  </thead>\n",
       "  <tbody>\n",
       "    <tr>\n",
       "      <td>40980</td>\n",
       "      <td>Ghost Light</td>\n",
       "      <td>102</td>\n",
       "      <td>A dark comedy about a disgruntled summer-s...</td>\n",
       "      <td>2018</td>\n",
       "      <td>Comedy, Horror</td>\n",
       "      <td>Roger Bart, Tom Riley, Shannyn Sossamon, Danie...</td>\n",
       "      <td>John Stimpson</td>\n",
       "      <td>292</td>\n",
       "      <td>NaN</td>\n",
       "      <td>1.337358</td>\n",
       "    </tr>\n",
       "    <tr>\n",
       "      <td>44997</td>\n",
       "      <td>Nothing Good Ever Happens</td>\n",
       "      <td>91</td>\n",
       "      <td>Our film is about Neil who is a painter an...</td>\n",
       "      <td>2016</td>\n",
       "      <td>Comedy, Drama</td>\n",
       "      <td>Erin R. Ryan, Al Snow, Marylee Osborne, Iabou ...</td>\n",
       "      <td>Henrique Couto</td>\n",
       "      <td>74</td>\n",
       "      <td>NaN</td>\n",
       "      <td>1.411443</td>\n",
       "    </tr>\n",
       "    <tr>\n",
       "      <td>615</td>\n",
       "      <td>Life on the Line</td>\n",
       "      <td>97</td>\n",
       "      <td>A crew of men who do the high-wire work of...</td>\n",
       "      <td>2015</td>\n",
       "      <td>Action, Drama</td>\n",
       "      <td>John Travolta, Kate Bosworth, Devon Sawa, Gil ...</td>\n",
       "      <td>David Hackl</td>\n",
       "      <td>4113</td>\n",
       "      <td>NaN</td>\n",
       "      <td>1.414207</td>\n",
       "    </tr>\n",
       "    <tr>\n",
       "      <td>20521</td>\n",
       "      <td>Cross Ange: Tenshi to Ryuu no Rondo</td>\n",
       "      <td>0</td>\n",
       "      <td>The first season follows the growth of a p...</td>\n",
       "      <td>2014</td>\n",
       "      <td>Animation, Action, Romance</td>\n",
       "      <td>Emily Neves, Brenda Valdivia, Katelyn Barr, Am...</td>\n",
       "      <td>NaN</td>\n",
       "      <td>279</td>\n",
       "      <td>NaN</td>\n",
       "      <td>1.720803</td>\n",
       "    </tr>\n",
       "    <tr>\n",
       "      <td>13402</td>\n",
       "      <td>Blunderkind</td>\n",
       "      <td>20</td>\n",
       "      <td>in 1988, 12-year-old boy genius Henry Jame...</td>\n",
       "      <td>2011</td>\n",
       "      <td>Short, Adventure, Comedy</td>\n",
       "      <td>Wes Robertson, Bridger Zadina, Drake Johnston,...</td>\n",
       "      <td>Zak Mechanic</td>\n",
       "      <td>64</td>\n",
       "      <td>NaN</td>\n",
       "      <td>1.722098</td>\n",
       "    </tr>\n",
       "  </tbody>\n",
       "</table>\n",
       "</div>"
      ],
      "text/plain": [
       "                                     title runtime  \\\n",
       "40980                          Ghost Light     102   \n",
       "44997            Nothing Good Ever Happens      91   \n",
       "615                       Life on the Line      97   \n",
       "20521  Cross Ange: Tenshi to Ryuu no Rondo       0   \n",
       "13402                          Blunderkind      20   \n",
       "\n",
       "                                                     des  date  \\\n",
       "40980      A dark comedy about a disgruntled summer-s...  2018   \n",
       "44997      Our film is about Neil who is a painter an...  2016   \n",
       "615        A crew of men who do the high-wire work of...  2015   \n",
       "20521      The first season follows the growth of a p...  2014   \n",
       "13402      in 1988, 12-year-old boy genius Henry Jame...  2011   \n",
       "\n",
       "                                        genre  \\\n",
       "40980              Comedy, Horror               \n",
       "44997               Comedy, Drama               \n",
       "615                 Action, Drama               \n",
       "20521  Animation, Action, Romance               \n",
       "13402    Short, Adventure, Comedy               \n",
       "\n",
       "                                                    cast        director  \\\n",
       "40980  Roger Bart, Tom Riley, Shannyn Sossamon, Danie...   John Stimpson   \n",
       "44997  Erin R. Ryan, Al Snow, Marylee Osborne, Iabou ...  Henrique Couto   \n",
       "615    John Travolta, Kate Bosworth, Devon Sawa, Gil ...     David Hackl   \n",
       "20521  Emily Neves, Brenda Valdivia, Katelyn Barr, Am...             NaN   \n",
       "13402  Wes Robertson, Bridger Zadina, Drake Johnston,...    Zak Mechanic   \n",
       "\n",
       "       vote gross  sum_genre  \n",
       "40980   292   NaN   1.337358  \n",
       "44997    74   NaN   1.411443  \n",
       "615    4113   NaN   1.414207  \n",
       "20521   279   NaN   1.720803  \n",
       "13402    64   NaN   1.722098  "
      ]
     },
     "execution_count": 22,
     "metadata": {},
     "output_type": "execute_result"
    }
   ],
   "source": [
    "train_X_df.head()"
   ]
  },
  {
   "cell_type": "markdown",
   "metadata": {},
   "source": [
    "- CAST to number"
   ]
  },
  {
   "cell_type": "code",
   "execution_count": 23,
   "metadata": {},
   "outputs": [
    {
     "name": "stderr",
     "output_type": "stream",
     "text": [
      "D:\\app\\anaconda\\run\\lib\\site-packages\\ipykernel_launcher.py:2: SettingWithCopyWarning: \n",
      "A value is trying to be set on a copy of a slice from a DataFrame.\n",
      "Try using .loc[row_indexer,col_indexer] = value instead\n",
      "\n",
      "See the caveats in the documentation: http://pandas.pydata.org/pandas-docs/stable/user_guide/indexing.html#returning-a-view-versus-a-copy\n",
      "  \n"
     ]
    }
   ],
   "source": [
    "#replace NaN element in cast to \"other\"\n",
    "train_X_df[\"cast\"] = train_X_df[\"cast\"].fillna(\"other_cast\");"
   ]
  },
  {
   "cell_type": "code",
   "execution_count": 24,
   "metadata": {},
   "outputs": [
    {
     "name": "stdout",
     "output_type": "stream",
     "text": [
      "len =  67484\n"
     ]
    }
   ],
   "source": [
    "\n",
    "cast_rating_df = train_X_df[\"cast\"].to_frame().join(train_y_sr)\n",
    "\n",
    "from collections import Counter\n",
    "\n",
    "list_cast = list(cast_rating_df.cast)\n",
    "unique_cast = []\n",
    "for g in list_cast:\n",
    "    if(pd.isna(g) ==False):\n",
    "        unique_cast += g.strip().split(\", \")\n",
    "dict_cast = Counter(unique_cast)\n",
    "\n",
    "print(\"len = \",len(dict_cast))\n"
   ]
  },
  {
   "cell_type": "code",
   "execution_count": 25,
   "metadata": {},
   "outputs": [
    {
     "data": {
      "text/plain": [
       "{1: 45893,\n",
       " 2: 12206,\n",
       " 3: 3987,\n",
       " 4: 1803,\n",
       " 5: 1025,\n",
       " 6: 617,\n",
       " 7: 408,\n",
       " 8: 300,\n",
       " 9: 251,\n",
       " 10: 189}"
      ]
     },
     "execution_count": 25,
     "metadata": {},
     "output_type": "execute_result"
    }
   ],
   "source": [
    "occur_cast = Counter(dict_cast.values())  #Số lần xuất hiện - Số diễn viên\n",
    "\n",
    "occur_cast = {k: v for k, v in sorted(occur_cast.items(), key=lambda item: item[1], reverse = True)}\n",
    "\n",
    "dict(list(occur_cast.items())[:10])"
   ]
  },
  {
   "cell_type": "code",
   "execution_count": 26,
   "metadata": {},
   "outputs": [
    {
     "data": {
      "text/plain": [
       "[('other_cast', 309),\n",
       " ('Grey Griffin', 110),\n",
       " ('Troy Baker', 109),\n",
       " ('Laura Bailey', 96),\n",
       " ('Eric Bauza', 68),\n",
       " ('Tara Strong', 65),\n",
       " ('John DiMaggio', 60),\n",
       " ('Eric Roberts', 59),\n",
       " ('Fred Tatasciore', 57),\n",
       " ('Sean Astin', 57)]"
      ]
     },
     "execution_count": 26,
     "metadata": {},
     "output_type": "execute_result"
    }
   ],
   "source": [
    "cast_info = dict_cast.items()\n",
    "cast_info = sorted(cast_info, key=lambda tup: tup[1], reverse=True)\n",
    "cast_info[:10] #Từng diễn viên tương ứng với số lần đóng phim\n"
   ]
  },
  {
   "cell_type": "markdown",
   "metadata": {},
   "source": [
    "# Nhận xét: Những diễn viên xuất hiện nhiều lần, thông thường được mọi người xem là hay. Những diễn viên xuất hiện ít, thường là những người mới hoặc diễn tệ.\n"
   ]
  },
  {
   "cell_type": "code",
   "execution_count": 27,
   "metadata": {},
   "outputs": [],
   "source": [
    "#TF-IDF \n",
    "\n",
    "corpus = cast_rating_df[\"cast\"].tolist()\n",
    "vectorizer = TfidfVectorizer()\n",
    "tfidf = vectorizer.fit_transform(corpus)\n",
    "\n",
    "\n",
    "list_sum_cast = []\n",
    "for i in range(len(cast_rating_df)):\n",
    "    list_sum_cast.append(tfidf[i].sum())"
   ]
  },
  {
   "cell_type": "code",
   "execution_count": 28,
   "metadata": {},
   "outputs": [
    {
     "data": {
      "text/plain": [
       "False"
      ]
     },
     "execution_count": 28,
     "metadata": {},
     "output_type": "execute_result"
    }
   ],
   "source": [
    "sum_cast = pd.DataFrame(list_sum_cast)\n",
    "sum_cast.isnull().values.any()\n"
   ]
  },
  {
   "cell_type": "code",
   "execution_count": 29,
   "metadata": {},
   "outputs": [
    {
     "name": "stderr",
     "output_type": "stream",
     "text": [
      "D:\\app\\anaconda\\run\\lib\\site-packages\\ipykernel_launcher.py:2: SettingWithCopyWarning: \n",
      "A value is trying to be set on a copy of a slice from a DataFrame.\n",
      "Try using .loc[row_indexer,col_indexer] = value instead\n",
      "\n",
      "See the caveats in the documentation: http://pandas.pydata.org/pandas-docs/stable/user_guide/indexing.html#returning-a-view-versus-a-copy\n",
      "  \n"
     ]
    }
   ],
   "source": [
    "#add column into df\n",
    "train_X_df[\"sum_cast\"] = pd.Series(list_sum_cast).values"
   ]
  },
  {
   "cell_type": "code",
   "execution_count": 30,
   "metadata": {},
   "outputs": [
    {
     "data": {
      "text/html": [
       "<div>\n",
       "<style scoped>\n",
       "    .dataframe tbody tr th:only-of-type {\n",
       "        vertical-align: middle;\n",
       "    }\n",
       "\n",
       "    .dataframe tbody tr th {\n",
       "        vertical-align: top;\n",
       "    }\n",
       "\n",
       "    .dataframe thead th {\n",
       "        text-align: right;\n",
       "    }\n",
       "</style>\n",
       "<table border=\"1\" class=\"dataframe\">\n",
       "  <thead>\n",
       "    <tr style=\"text-align: right;\">\n",
       "      <th></th>\n",
       "      <th>title</th>\n",
       "      <th>runtime</th>\n",
       "      <th>des</th>\n",
       "      <th>date</th>\n",
       "      <th>genre</th>\n",
       "      <th>cast</th>\n",
       "      <th>director</th>\n",
       "      <th>vote</th>\n",
       "      <th>gross</th>\n",
       "      <th>sum_genre</th>\n",
       "      <th>sum_cast</th>\n",
       "    </tr>\n",
       "  </thead>\n",
       "  <tbody>\n",
       "    <tr>\n",
       "      <td>40980</td>\n",
       "      <td>Ghost Light</td>\n",
       "      <td>102</td>\n",
       "      <td>A dark comedy about a disgruntled summer-s...</td>\n",
       "      <td>2018</td>\n",
       "      <td>Comedy, Horror</td>\n",
       "      <td>Roger Bart, Tom Riley, Shannyn Sossamon, Danie...</td>\n",
       "      <td>John Stimpson</td>\n",
       "      <td>292</td>\n",
       "      <td>NaN</td>\n",
       "      <td>1.337358</td>\n",
       "      <td>2.760240</td>\n",
       "    </tr>\n",
       "    <tr>\n",
       "      <td>44997</td>\n",
       "      <td>Nothing Good Ever Happens</td>\n",
       "      <td>91</td>\n",
       "      <td>Our film is about Neil who is a painter an...</td>\n",
       "      <td>2016</td>\n",
       "      <td>Comedy, Drama</td>\n",
       "      <td>Erin R. Ryan, Al Snow, Marylee Osborne, Iabou ...</td>\n",
       "      <td>Henrique Couto</td>\n",
       "      <td>74</td>\n",
       "      <td>NaN</td>\n",
       "      <td>1.411443</td>\n",
       "      <td>2.740402</td>\n",
       "    </tr>\n",
       "    <tr>\n",
       "      <td>615</td>\n",
       "      <td>Life on the Line</td>\n",
       "      <td>97</td>\n",
       "      <td>A crew of men who do the high-wire work of...</td>\n",
       "      <td>2015</td>\n",
       "      <td>Action, Drama</td>\n",
       "      <td>John Travolta, Kate Bosworth, Devon Sawa, Gil ...</td>\n",
       "      <td>David Hackl</td>\n",
       "      <td>4113</td>\n",
       "      <td>NaN</td>\n",
       "      <td>1.414207</td>\n",
       "      <td>2.746048</td>\n",
       "    </tr>\n",
       "    <tr>\n",
       "      <td>20521</td>\n",
       "      <td>Cross Ange: Tenshi to Ryuu no Rondo</td>\n",
       "      <td>0</td>\n",
       "      <td>The first season follows the growth of a p...</td>\n",
       "      <td>2014</td>\n",
       "      <td>Animation, Action, Romance</td>\n",
       "      <td>Emily Neves, Brenda Valdivia, Katelyn Barr, Am...</td>\n",
       "      <td>NaN</td>\n",
       "      <td>279</td>\n",
       "      <td>NaN</td>\n",
       "      <td>1.720803</td>\n",
       "      <td>2.782097</td>\n",
       "    </tr>\n",
       "    <tr>\n",
       "      <td>13402</td>\n",
       "      <td>Blunderkind</td>\n",
       "      <td>20</td>\n",
       "      <td>in 1988, 12-year-old boy genius Henry Jame...</td>\n",
       "      <td>2011</td>\n",
       "      <td>Short, Adventure, Comedy</td>\n",
       "      <td>Wes Robertson, Bridger Zadina, Drake Johnston,...</td>\n",
       "      <td>Zak Mechanic</td>\n",
       "      <td>64</td>\n",
       "      <td>NaN</td>\n",
       "      <td>1.722098</td>\n",
       "      <td>2.788380</td>\n",
       "    </tr>\n",
       "  </tbody>\n",
       "</table>\n",
       "</div>"
      ],
      "text/plain": [
       "                                     title runtime  \\\n",
       "40980                          Ghost Light     102   \n",
       "44997            Nothing Good Ever Happens      91   \n",
       "615                       Life on the Line      97   \n",
       "20521  Cross Ange: Tenshi to Ryuu no Rondo       0   \n",
       "13402                          Blunderkind      20   \n",
       "\n",
       "                                                     des  date  \\\n",
       "40980      A dark comedy about a disgruntled summer-s...  2018   \n",
       "44997      Our film is about Neil who is a painter an...  2016   \n",
       "615        A crew of men who do the high-wire work of...  2015   \n",
       "20521      The first season follows the growth of a p...  2014   \n",
       "13402      in 1988, 12-year-old boy genius Henry Jame...  2011   \n",
       "\n",
       "                                        genre  \\\n",
       "40980              Comedy, Horror               \n",
       "44997               Comedy, Drama               \n",
       "615                 Action, Drama               \n",
       "20521  Animation, Action, Romance               \n",
       "13402    Short, Adventure, Comedy               \n",
       "\n",
       "                                                    cast        director  \\\n",
       "40980  Roger Bart, Tom Riley, Shannyn Sossamon, Danie...   John Stimpson   \n",
       "44997  Erin R. Ryan, Al Snow, Marylee Osborne, Iabou ...  Henrique Couto   \n",
       "615    John Travolta, Kate Bosworth, Devon Sawa, Gil ...     David Hackl   \n",
       "20521  Emily Neves, Brenda Valdivia, Katelyn Barr, Am...             NaN   \n",
       "13402  Wes Robertson, Bridger Zadina, Drake Johnston,...    Zak Mechanic   \n",
       "\n",
       "       vote gross  sum_genre  sum_cast  \n",
       "40980   292   NaN   1.337358  2.760240  \n",
       "44997    74   NaN   1.411443  2.740402  \n",
       "615    4113   NaN   1.414207  2.746048  \n",
       "20521   279   NaN   1.720803  2.782097  \n",
       "13402    64   NaN   1.722098  2.788380  "
      ]
     },
     "execution_count": 30,
     "metadata": {},
     "output_type": "execute_result"
    }
   ],
   "source": [
    "train_X_df.head()"
   ]
  },
  {
   "cell_type": "markdown",
   "metadata": {},
   "source": [
    "- DIRECTOR to number"
   ]
  },
  {
   "cell_type": "code",
   "execution_count": 31,
   "metadata": {},
   "outputs": [
    {
     "name": "stderr",
     "output_type": "stream",
     "text": [
      "D:\\app\\anaconda\\run\\lib\\site-packages\\ipykernel_launcher.py:2: SettingWithCopyWarning: \n",
      "A value is trying to be set on a copy of a slice from a DataFrame.\n",
      "Try using .loc[row_indexer,col_indexer] = value instead\n",
      "\n",
      "See the caveats in the documentation: http://pandas.pydata.org/pandas-docs/stable/user_guide/indexing.html#returning-a-view-versus-a-copy\n",
      "  \n"
     ]
    }
   ],
   "source": [
    "#replace NaN element in cast to \"other\"\n",
    "train_X_df[\"director\"] = train_X_df[\"director\"].fillna(\"other_director\");"
   ]
  },
  {
   "cell_type": "code",
   "execution_count": 32,
   "metadata": {},
   "outputs": [
    {
     "name": "stdout",
     "output_type": "stream",
     "text": [
      "len =  67484\n"
     ]
    }
   ],
   "source": [
    "\n",
    "director_rating_df = train_X_df[\"director\"].to_frame().join(train_y_sr)\n",
    "\n",
    "from collections import Counter\n",
    "\n",
    "list_director = list(director_rating_df.director)\n",
    "unique_director = []\n",
    "for g in list_cast:\n",
    "    if(pd.isna(g) ==False):\n",
    "        unique_director += g.strip().split(\", \")\n",
    "dict_director = Counter(unique_director)\n",
    "\n",
    "print(\"len = \",len(dict_director))"
   ]
  },
  {
   "cell_type": "code",
   "execution_count": 33,
   "metadata": {},
   "outputs": [],
   "source": [
    "#TF-IDF \n",
    "\n",
    "corpus = director_rating_df[\"director\"].tolist()\n",
    "vectorizer = TfidfVectorizer()\n",
    "tfidf = vectorizer.fit_transform(corpus)\n",
    "\n",
    "\n",
    "list_sum_director = []\n",
    "for i in range(len(director_rating_df)):\n",
    "    list_sum_director.append(tfidf[i].sum())"
   ]
  },
  {
   "cell_type": "code",
   "execution_count": 34,
   "metadata": {},
   "outputs": [
    {
     "data": {
      "text/plain": [
       "False"
      ]
     },
     "execution_count": 34,
     "metadata": {},
     "output_type": "execute_result"
    }
   ],
   "source": [
    "sum_director = pd.DataFrame(list_sum_director)\n",
    "sum_director.isnull().values.any()\n"
   ]
  },
  {
   "cell_type": "code",
   "execution_count": 35,
   "metadata": {},
   "outputs": [
    {
     "name": "stderr",
     "output_type": "stream",
     "text": [
      "D:\\app\\anaconda\\run\\lib\\site-packages\\ipykernel_launcher.py:2: SettingWithCopyWarning: \n",
      "A value is trying to be set on a copy of a slice from a DataFrame.\n",
      "Try using .loc[row_indexer,col_indexer] = value instead\n",
      "\n",
      "See the caveats in the documentation: http://pandas.pydata.org/pandas-docs/stable/user_guide/indexing.html#returning-a-view-versus-a-copy\n",
      "  \n"
     ]
    }
   ],
   "source": [
    "#add column into df\n",
    "train_X_df[\"sum_director\"] = pd.Series(list_sum_director).values"
   ]
  },
  {
   "cell_type": "code",
   "execution_count": 36,
   "metadata": {},
   "outputs": [
    {
     "data": {
      "text/html": [
       "<div>\n",
       "<style scoped>\n",
       "    .dataframe tbody tr th:only-of-type {\n",
       "        vertical-align: middle;\n",
       "    }\n",
       "\n",
       "    .dataframe tbody tr th {\n",
       "        vertical-align: top;\n",
       "    }\n",
       "\n",
       "    .dataframe thead th {\n",
       "        text-align: right;\n",
       "    }\n",
       "</style>\n",
       "<table border=\"1\" class=\"dataframe\">\n",
       "  <thead>\n",
       "    <tr style=\"text-align: right;\">\n",
       "      <th></th>\n",
       "      <th>title</th>\n",
       "      <th>runtime</th>\n",
       "      <th>des</th>\n",
       "      <th>date</th>\n",
       "      <th>genre</th>\n",
       "      <th>cast</th>\n",
       "      <th>director</th>\n",
       "      <th>vote</th>\n",
       "      <th>gross</th>\n",
       "      <th>sum_genre</th>\n",
       "      <th>sum_cast</th>\n",
       "      <th>sum_director</th>\n",
       "    </tr>\n",
       "  </thead>\n",
       "  <tbody>\n",
       "    <tr>\n",
       "      <td>40980</td>\n",
       "      <td>Ghost Light</td>\n",
       "      <td>102</td>\n",
       "      <td>A dark comedy about a disgruntled summer-s...</td>\n",
       "      <td>2018</td>\n",
       "      <td>Comedy, Horror</td>\n",
       "      <td>Roger Bart, Tom Riley, Shannyn Sossamon, Danie...</td>\n",
       "      <td>John Stimpson</td>\n",
       "      <td>292</td>\n",
       "      <td>NaN</td>\n",
       "      <td>1.337358</td>\n",
       "      <td>2.760240</td>\n",
       "      <td>1.366023</td>\n",
       "    </tr>\n",
       "    <tr>\n",
       "      <td>44997</td>\n",
       "      <td>Nothing Good Ever Happens</td>\n",
       "      <td>91</td>\n",
       "      <td>Our film is about Neil who is a painter an...</td>\n",
       "      <td>2016</td>\n",
       "      <td>Comedy, Drama</td>\n",
       "      <td>Erin R. Ryan, Al Snow, Marylee Osborne, Iabou ...</td>\n",
       "      <td>Henrique Couto</td>\n",
       "      <td>74</td>\n",
       "      <td>NaN</td>\n",
       "      <td>1.411443</td>\n",
       "      <td>2.740402</td>\n",
       "      <td>1.414214</td>\n",
       "    </tr>\n",
       "    <tr>\n",
       "      <td>615</td>\n",
       "      <td>Life on the Line</td>\n",
       "      <td>97</td>\n",
       "      <td>A crew of men who do the high-wire work of...</td>\n",
       "      <td>2015</td>\n",
       "      <td>Action, Drama</td>\n",
       "      <td>John Travolta, Kate Bosworth, Devon Sawa, Gil ...</td>\n",
       "      <td>David Hackl</td>\n",
       "      <td>4113</td>\n",
       "      <td>NaN</td>\n",
       "      <td>1.414207</td>\n",
       "      <td>2.746048</td>\n",
       "      <td>1.333922</td>\n",
       "    </tr>\n",
       "    <tr>\n",
       "      <td>20521</td>\n",
       "      <td>Cross Ange: Tenshi to Ryuu no Rondo</td>\n",
       "      <td>0</td>\n",
       "      <td>The first season follows the growth of a p...</td>\n",
       "      <td>2014</td>\n",
       "      <td>Animation, Action, Romance</td>\n",
       "      <td>Emily Neves, Brenda Valdivia, Katelyn Barr, Am...</td>\n",
       "      <td>other_director</td>\n",
       "      <td>279</td>\n",
       "      <td>NaN</td>\n",
       "      <td>1.720803</td>\n",
       "      <td>2.782097</td>\n",
       "      <td>1.000000</td>\n",
       "    </tr>\n",
       "    <tr>\n",
       "      <td>13402</td>\n",
       "      <td>Blunderkind</td>\n",
       "      <td>20</td>\n",
       "      <td>in 1988, 12-year-old boy genius Henry Jame...</td>\n",
       "      <td>2011</td>\n",
       "      <td>Short, Adventure, Comedy</td>\n",
       "      <td>Wes Robertson, Bridger Zadina, Drake Johnston,...</td>\n",
       "      <td>Zak Mechanic</td>\n",
       "      <td>64</td>\n",
       "      <td>NaN</td>\n",
       "      <td>1.722098</td>\n",
       "      <td>2.788380</td>\n",
       "      <td>1.407825</td>\n",
       "    </tr>\n",
       "  </tbody>\n",
       "</table>\n",
       "</div>"
      ],
      "text/plain": [
       "                                     title runtime  \\\n",
       "40980                          Ghost Light     102   \n",
       "44997            Nothing Good Ever Happens      91   \n",
       "615                       Life on the Line      97   \n",
       "20521  Cross Ange: Tenshi to Ryuu no Rondo       0   \n",
       "13402                          Blunderkind      20   \n",
       "\n",
       "                                                     des  date  \\\n",
       "40980      A dark comedy about a disgruntled summer-s...  2018   \n",
       "44997      Our film is about Neil who is a painter an...  2016   \n",
       "615        A crew of men who do the high-wire work of...  2015   \n",
       "20521      The first season follows the growth of a p...  2014   \n",
       "13402      in 1988, 12-year-old boy genius Henry Jame...  2011   \n",
       "\n",
       "                                        genre  \\\n",
       "40980              Comedy, Horror               \n",
       "44997               Comedy, Drama               \n",
       "615                 Action, Drama               \n",
       "20521  Animation, Action, Romance               \n",
       "13402    Short, Adventure, Comedy               \n",
       "\n",
       "                                                    cast        director  \\\n",
       "40980  Roger Bart, Tom Riley, Shannyn Sossamon, Danie...   John Stimpson   \n",
       "44997  Erin R. Ryan, Al Snow, Marylee Osborne, Iabou ...  Henrique Couto   \n",
       "615    John Travolta, Kate Bosworth, Devon Sawa, Gil ...     David Hackl   \n",
       "20521  Emily Neves, Brenda Valdivia, Katelyn Barr, Am...  other_director   \n",
       "13402  Wes Robertson, Bridger Zadina, Drake Johnston,...    Zak Mechanic   \n",
       "\n",
       "       vote gross  sum_genre  sum_cast  sum_director  \n",
       "40980   292   NaN   1.337358  2.760240      1.366023  \n",
       "44997    74   NaN   1.411443  2.740402      1.414214  \n",
       "615    4113   NaN   1.414207  2.746048      1.333922  \n",
       "20521   279   NaN   1.720803  2.782097      1.000000  \n",
       "13402    64   NaN   1.722098  2.788380      1.407825  "
      ]
     },
     "execution_count": 36,
     "metadata": {},
     "output_type": "execute_result"
    }
   ],
   "source": [
    "train_X_df.head()"
   ]
  },
  {
   "cell_type": "markdown",
   "metadata": {},
   "source": [
    "- GROSS to number"
   ]
  },
  {
   "cell_type": "code",
   "execution_count": 37,
   "metadata": {},
   "outputs": [
    {
     "name": "stderr",
     "output_type": "stream",
     "text": [
      "D:\\app\\anaconda\\run\\lib\\site-packages\\ipykernel_launcher.py:2: SettingWithCopyWarning: \n",
      "A value is trying to be set on a copy of a slice from a DataFrame.\n",
      "Try using .loc[row_indexer,col_indexer] = value instead\n",
      "\n",
      "See the caveats in the documentation: http://pandas.pydata.org/pandas-docs/stable/user_guide/indexing.html#returning-a-view-versus-a-copy\n",
      "  \n"
     ]
    }
   ],
   "source": [
    "#replace NaN element in cast to \"other\"\n",
    "train_X_df[\"gross\"] = train_X_df[\"gross\"].fillna(\"0.0\");"
   ]
  },
  {
   "cell_type": "code",
   "execution_count": 38,
   "metadata": {},
   "outputs": [
    {
     "name": "stderr",
     "output_type": "stream",
     "text": [
      "D:\\app\\anaconda\\run\\lib\\site-packages\\pandas\\core\\indexing.py:205: SettingWithCopyWarning: \n",
      "A value is trying to be set on a copy of a slice from a DataFrame\n",
      "\n",
      "See the caveats in the documentation: http://pandas.pydata.org/pandas-docs/stable/user_guide/indexing.html#returning-a-view-versus-a-copy\n",
      "  self._setitem_with_indexer(indexer, value)\n",
      "D:\\app\\anaconda\\run\\lib\\site-packages\\ipykernel_launcher.py:5: SettingWithCopyWarning: \n",
      "A value is trying to be set on a copy of a slice from a DataFrame\n",
      "\n",
      "See the caveats in the documentation: http://pandas.pydata.org/pandas-docs/stable/user_guide/indexing.html#returning-a-view-versus-a-copy\n",
      "  \"\"\"\n"
     ]
    }
   ],
   "source": [
    "\n",
    "#define money\n",
    "money = {\"M\": 10**6, \"B\": 10**12, \"G\": 10**9, \"P\": 10**15, \"K\": 10**3, \"0\": 0}\n",
    "for i in range(len(train_X_df)):\n",
    "    \n",
    "    train_X_df.gross.iloc[i] = float(re.findall(\"\\d+\\.\\d+\", train_X_df.gross.iloc[i])[0]) * money[train_X_df.gross.iloc[i][-1]]"
   ]
  },
  {
   "cell_type": "code",
   "execution_count": 39,
   "metadata": {},
   "outputs": [
    {
     "data": {
      "text/plain": [
       "{0.0: 31267,\n",
       " 10000.0: 234,\n",
       " 20000.0: 140,\n",
       " 40000.0: 94,\n",
       " 30000.0: 93,\n",
       " 50000.0: 49,\n",
       " 60000.0: 47,\n",
       " 70000.0: 47,\n",
       " 90000.0: 44,\n",
       " 100000.0: 38,\n",
       " 120000.0: 35,\n",
       " 110000.0: 29,\n",
       " 80000.0: 29,\n",
       " 130000.0: 23,\n",
       " 200000.0: 21,\n",
       " 150000.0: 20,\n",
       " 140000.0: 18,\n",
       " 160000.0: 18,\n",
       " 230000.0: 18,\n",
       " 290000.0: 15}"
      ]
     },
     "execution_count": 39,
     "metadata": {},
     "output_type": "execute_result"
    }
   ],
   "source": [
    "\n",
    "dict_gross = Counter(train_X_df.gross)\n",
    "dict_gross = {k: v for k, v in sorted(dict_gross.items(), key=lambda item: item[1], reverse = True)} #sort\n",
    "\n",
    "dict(list(dict_gross.items())[:20])"
   ]
  },
  {
   "cell_type": "markdown",
   "metadata": {},
   "source": [
    "# Nhận thấy: số lượng \"0.0\" chiếm quá nhiều, gây chênh lệnh lớn. Sử dụng median để thay thế"
   ]
  },
  {
   "cell_type": "code",
   "execution_count": 40,
   "metadata": {},
   "outputs": [
    {
     "name": "stderr",
     "output_type": "stream",
     "text": [
      "D:\\app\\anaconda\\run\\lib\\site-packages\\ipykernel_launcher.py:2: SettingWithCopyWarning: \n",
      "A value is trying to be set on a copy of a slice from a DataFrame.\n",
      "Try using .loc[row_indexer,col_indexer] = value instead\n",
      "\n",
      "See the caveats in the documentation: http://pandas.pydata.org/pandas-docs/stable/user_guide/indexing.html#returning-a-view-versus-a-copy\n",
      "  \n"
     ]
    },
    {
     "data": {
      "text/plain": [
       "{1460000.0: 31267,\n",
       " 10000.0: 234,\n",
       " 20000.0: 140,\n",
       " 40000.0: 94,\n",
       " 30000.0: 93,\n",
       " 50000.0: 49,\n",
       " 60000.0: 47,\n",
       " 70000.0: 47,\n",
       " 90000.0: 44,\n",
       " 100000.0: 38,\n",
       " 120000.0: 35,\n",
       " 110000.0: 29,\n",
       " 80000.0: 29,\n",
       " 130000.0: 23,\n",
       " 200000.0: 21,\n",
       " 150000.0: 20,\n",
       " 140000.0: 18,\n",
       " 160000.0: 18,\n",
       " 230000.0: 18,\n",
       " 290000.0: 15}"
      ]
     },
     "execution_count": 40,
     "metadata": {},
     "output_type": "execute_result"
    }
   ],
   "source": [
    "imp = SimpleImputer(missing_values = 0, strategy='median')\n",
    "train_X_df[\"gross\"] = imp.fit_transform(train_X_df[[\"gross\"]]).ravel()\n",
    "\n",
    "\n",
    "dict_gross = Counter(train_X_df.gross)\n",
    "dict_gross = {k: v for k, v in sorted(dict_gross.items(), key=lambda item: item[1], reverse = True)} #sort\n",
    "\n",
    "dict(list(dict_gross.items())[:20])"
   ]
  },
  {
   "cell_type": "code",
   "execution_count": null,
   "metadata": {},
   "outputs": [],
   "source": []
  },
  {
   "cell_type": "code",
   "execution_count": 41,
   "metadata": {},
   "outputs": [
    {
     "data": {
      "text/html": [
       "<div>\n",
       "<style scoped>\n",
       "    .dataframe tbody tr th:only-of-type {\n",
       "        vertical-align: middle;\n",
       "    }\n",
       "\n",
       "    .dataframe tbody tr th {\n",
       "        vertical-align: top;\n",
       "    }\n",
       "\n",
       "    .dataframe thead th {\n",
       "        text-align: right;\n",
       "    }\n",
       "</style>\n",
       "<table border=\"1\" class=\"dataframe\">\n",
       "  <thead>\n",
       "    <tr style=\"text-align: right;\">\n",
       "      <th></th>\n",
       "      <th>title</th>\n",
       "      <th>runtime</th>\n",
       "      <th>des</th>\n",
       "      <th>vote</th>\n",
       "      <th>gross</th>\n",
       "      <th>sum_genre</th>\n",
       "      <th>sum_cast</th>\n",
       "      <th>sum_director</th>\n",
       "    </tr>\n",
       "  </thead>\n",
       "  <tbody>\n",
       "    <tr>\n",
       "      <td>40980</td>\n",
       "      <td>Ghost Light</td>\n",
       "      <td>102</td>\n",
       "      <td>A dark comedy about a disgruntled summer-s...</td>\n",
       "      <td>292</td>\n",
       "      <td>1460000.0</td>\n",
       "      <td>1.337358</td>\n",
       "      <td>2.760240</td>\n",
       "      <td>1.366023</td>\n",
       "    </tr>\n",
       "    <tr>\n",
       "      <td>44997</td>\n",
       "      <td>Nothing Good Ever Happens</td>\n",
       "      <td>91</td>\n",
       "      <td>Our film is about Neil who is a painter an...</td>\n",
       "      <td>74</td>\n",
       "      <td>1460000.0</td>\n",
       "      <td>1.411443</td>\n",
       "      <td>2.740402</td>\n",
       "      <td>1.414214</td>\n",
       "    </tr>\n",
       "    <tr>\n",
       "      <td>615</td>\n",
       "      <td>Life on the Line</td>\n",
       "      <td>97</td>\n",
       "      <td>A crew of men who do the high-wire work of...</td>\n",
       "      <td>4113</td>\n",
       "      <td>1460000.0</td>\n",
       "      <td>1.414207</td>\n",
       "      <td>2.746048</td>\n",
       "      <td>1.333922</td>\n",
       "    </tr>\n",
       "    <tr>\n",
       "      <td>20521</td>\n",
       "      <td>Cross Ange: Tenshi to Ryuu no Rondo</td>\n",
       "      <td>0</td>\n",
       "      <td>The first season follows the growth of a p...</td>\n",
       "      <td>279</td>\n",
       "      <td>1460000.0</td>\n",
       "      <td>1.720803</td>\n",
       "      <td>2.782097</td>\n",
       "      <td>1.000000</td>\n",
       "    </tr>\n",
       "    <tr>\n",
       "      <td>13402</td>\n",
       "      <td>Blunderkind</td>\n",
       "      <td>20</td>\n",
       "      <td>in 1988, 12-year-old boy genius Henry Jame...</td>\n",
       "      <td>64</td>\n",
       "      <td>1460000.0</td>\n",
       "      <td>1.722098</td>\n",
       "      <td>2.788380</td>\n",
       "      <td>1.407825</td>\n",
       "    </tr>\n",
       "  </tbody>\n",
       "</table>\n",
       "</div>"
      ],
      "text/plain": [
       "                                     title runtime  \\\n",
       "40980                          Ghost Light     102   \n",
       "44997            Nothing Good Ever Happens      91   \n",
       "615                       Life on the Line      97   \n",
       "20521  Cross Ange: Tenshi to Ryuu no Rondo       0   \n",
       "13402                          Blunderkind      20   \n",
       "\n",
       "                                                     des  vote      gross  \\\n",
       "40980      A dark comedy about a disgruntled summer-s...   292  1460000.0   \n",
       "44997      Our film is about Neil who is a painter an...    74  1460000.0   \n",
       "615        A crew of men who do the high-wire work of...  4113  1460000.0   \n",
       "20521      The first season follows the growth of a p...   279  1460000.0   \n",
       "13402      in 1988, 12-year-old boy genius Henry Jame...    64  1460000.0   \n",
       "\n",
       "       sum_genre  sum_cast  sum_director  \n",
       "40980   1.337358  2.760240      1.366023  \n",
       "44997   1.411443  2.740402      1.414214  \n",
       "615     1.414207  2.746048      1.333922  \n",
       "20521   1.720803  2.782097      1.000000  \n",
       "13402   1.722098  2.788380      1.407825  "
      ]
     },
     "execution_count": 41,
     "metadata": {},
     "output_type": "execute_result"
    }
   ],
   "source": [
    "train_X_df = train_X_df.drop(['cast',\"genre\",\"director\",\"date\"], axis = 1)\n",
    "train_X_df.head()"
   ]
  },
  {
   "cell_type": "markdown",
   "metadata": {},
   "source": [
    "# scaling"
   ]
  },
  {
   "cell_type": "code",
   "execution_count": 42,
   "metadata": {},
   "outputs": [
    {
     "data": {
      "text/html": [
       "<div>\n",
       "<style scoped>\n",
       "    .dataframe tbody tr th:only-of-type {\n",
       "        vertical-align: middle;\n",
       "    }\n",
       "\n",
       "    .dataframe tbody tr th {\n",
       "        vertical-align: top;\n",
       "    }\n",
       "\n",
       "    .dataframe thead th {\n",
       "        text-align: right;\n",
       "    }\n",
       "</style>\n",
       "<table border=\"1\" class=\"dataframe\">\n",
       "  <thead>\n",
       "    <tr style=\"text-align: right;\">\n",
       "      <th></th>\n",
       "      <th>title</th>\n",
       "      <th>runtime</th>\n",
       "      <th>des</th>\n",
       "      <th>vote</th>\n",
       "      <th>gross</th>\n",
       "      <th>sum_genre</th>\n",
       "      <th>sum_cast</th>\n",
       "      <th>sum_director</th>\n",
       "    </tr>\n",
       "  </thead>\n",
       "  <tbody>\n",
       "    <tr>\n",
       "      <td>40980</td>\n",
       "      <td>Ghost Light</td>\n",
       "      <td>102</td>\n",
       "      <td>A dark comedy about a disgruntled summer-s...</td>\n",
       "      <td>292</td>\n",
       "      <td>1460000.0</td>\n",
       "      <td>1.337358</td>\n",
       "      <td>2.760240</td>\n",
       "      <td>1.366023</td>\n",
       "    </tr>\n",
       "    <tr>\n",
       "      <td>44997</td>\n",
       "      <td>Nothing Good Ever Happens</td>\n",
       "      <td>91</td>\n",
       "      <td>Our film is about Neil who is a painter an...</td>\n",
       "      <td>74</td>\n",
       "      <td>1460000.0</td>\n",
       "      <td>1.411443</td>\n",
       "      <td>2.740402</td>\n",
       "      <td>1.414214</td>\n",
       "    </tr>\n",
       "    <tr>\n",
       "      <td>615</td>\n",
       "      <td>Life on the Line</td>\n",
       "      <td>97</td>\n",
       "      <td>A crew of men who do the high-wire work of...</td>\n",
       "      <td>4113</td>\n",
       "      <td>1460000.0</td>\n",
       "      <td>1.414207</td>\n",
       "      <td>2.746048</td>\n",
       "      <td>1.333922</td>\n",
       "    </tr>\n",
       "    <tr>\n",
       "      <td>20521</td>\n",
       "      <td>Cross Ange: Tenshi to Ryuu no Rondo</td>\n",
       "      <td>0</td>\n",
       "      <td>The first season follows the growth of a p...</td>\n",
       "      <td>279</td>\n",
       "      <td>1460000.0</td>\n",
       "      <td>1.720803</td>\n",
       "      <td>2.782097</td>\n",
       "      <td>1.000000</td>\n",
       "    </tr>\n",
       "    <tr>\n",
       "      <td>13402</td>\n",
       "      <td>Blunderkind</td>\n",
       "      <td>20</td>\n",
       "      <td>in 1988, 12-year-old boy genius Henry Jame...</td>\n",
       "      <td>64</td>\n",
       "      <td>1460000.0</td>\n",
       "      <td>1.722098</td>\n",
       "      <td>2.788380</td>\n",
       "      <td>1.407825</td>\n",
       "    </tr>\n",
       "  </tbody>\n",
       "</table>\n",
       "</div>"
      ],
      "text/plain": [
       "                                     title runtime  \\\n",
       "40980                          Ghost Light     102   \n",
       "44997            Nothing Good Ever Happens      91   \n",
       "615                       Life on the Line      97   \n",
       "20521  Cross Ange: Tenshi to Ryuu no Rondo       0   \n",
       "13402                          Blunderkind      20   \n",
       "\n",
       "                                                     des  vote      gross  \\\n",
       "40980      A dark comedy about a disgruntled summer-s...   292  1460000.0   \n",
       "44997      Our film is about Neil who is a painter an...    74  1460000.0   \n",
       "615        A crew of men who do the high-wire work of...  4113  1460000.0   \n",
       "20521      The first season follows the growth of a p...   279  1460000.0   \n",
       "13402      in 1988, 12-year-old boy genius Henry Jame...    64  1460000.0   \n",
       "\n",
       "       sum_genre  sum_cast  sum_director  \n",
       "40980   1.337358  2.760240      1.366023  \n",
       "44997   1.411443  2.740402      1.414214  \n",
       "615     1.414207  2.746048      1.333922  \n",
       "20521   1.720803  2.782097      1.000000  \n",
       "13402   1.722098  2.788380      1.407825  "
      ]
     },
     "execution_count": 42,
     "metadata": {},
     "output_type": "execute_result"
    }
   ],
   "source": [
    "train_X_df.head()"
   ]
  },
  {
   "cell_type": "code",
   "execution_count": 43,
   "metadata": {},
   "outputs": [],
   "source": [
    "scl = StandardScaler()\n",
    "train_X_df[[\"runtime\",\"vote\", \"gross\", \"sum_genre\", \"sum_cast\", \"sum_director\"]]=scl.fit_transform(train_X_df[[\"runtime\",\"vote\", \"gross\", \"sum_genre\", \"sum_cast\", \"sum_director\"]])"
   ]
  },
  {
   "cell_type": "code",
   "execution_count": 44,
   "metadata": {},
   "outputs": [
    {
     "data": {
      "text/html": [
       "<div>\n",
       "<style scoped>\n",
       "    .dataframe tbody tr th:only-of-type {\n",
       "        vertical-align: middle;\n",
       "    }\n",
       "\n",
       "    .dataframe tbody tr th {\n",
       "        vertical-align: top;\n",
       "    }\n",
       "\n",
       "    .dataframe thead th {\n",
       "        text-align: right;\n",
       "    }\n",
       "</style>\n",
       "<table border=\"1\" class=\"dataframe\">\n",
       "  <thead>\n",
       "    <tr style=\"text-align: right;\">\n",
       "      <th></th>\n",
       "      <th>title</th>\n",
       "      <th>runtime</th>\n",
       "      <th>des</th>\n",
       "      <th>vote</th>\n",
       "      <th>gross</th>\n",
       "      <th>sum_genre</th>\n",
       "      <th>sum_cast</th>\n",
       "      <th>sum_director</th>\n",
       "    </tr>\n",
       "  </thead>\n",
       "  <tbody>\n",
       "    <tr>\n",
       "      <td>40980</td>\n",
       "      <td>Ghost Light</td>\n",
       "      <td>0.914315</td>\n",
       "      <td>A dark comedy about a disgruntled summer-s...</td>\n",
       "      <td>-0.157489</td>\n",
       "      <td>-0.115744</td>\n",
       "      <td>-0.580581</td>\n",
       "      <td>0.367226</td>\n",
       "      <td>-0.042816</td>\n",
       "    </tr>\n",
       "    <tr>\n",
       "      <td>44997</td>\n",
       "      <td>Nothing Good Ever Happens</td>\n",
       "      <td>0.683783</td>\n",
       "      <td>Our film is about Neil who is a painter an...</td>\n",
       "      <td>-0.162184</td>\n",
       "      <td>-0.115744</td>\n",
       "      <td>-0.318696</td>\n",
       "      <td>0.323584</td>\n",
       "      <td>0.080718</td>\n",
       "    </tr>\n",
       "    <tr>\n",
       "      <td>615</td>\n",
       "      <td>Life on the Line</td>\n",
       "      <td>0.809528</td>\n",
       "      <td>A crew of men who do the high-wire work of...</td>\n",
       "      <td>-0.075198</td>\n",
       "      <td>-0.115744</td>\n",
       "      <td>-0.308926</td>\n",
       "      <td>0.336005</td>\n",
       "      <td>-0.125106</td>\n",
       "    </tr>\n",
       "    <tr>\n",
       "      <td>20521</td>\n",
       "      <td>Cross Ange: Tenshi to Ryuu no Rondo</td>\n",
       "      <td>-1.223348</td>\n",
       "      <td>The first season follows the growth of a p...</td>\n",
       "      <td>-0.157769</td>\n",
       "      <td>-0.115744</td>\n",
       "      <td>0.774859</td>\n",
       "      <td>0.415311</td>\n",
       "      <td>-0.981101</td>\n",
       "    </tr>\n",
       "    <tr>\n",
       "      <td>13402</td>\n",
       "      <td>Blunderkind</td>\n",
       "      <td>-0.804199</td>\n",
       "      <td>in 1988, 12-year-old boy genius Henry Jame...</td>\n",
       "      <td>-0.162399</td>\n",
       "      <td>-0.115744</td>\n",
       "      <td>0.779437</td>\n",
       "      <td>0.429133</td>\n",
       "      <td>0.064341</td>\n",
       "    </tr>\n",
       "  </tbody>\n",
       "</table>\n",
       "</div>"
      ],
      "text/plain": [
       "                                     title   runtime  \\\n",
       "40980                          Ghost Light  0.914315   \n",
       "44997            Nothing Good Ever Happens  0.683783   \n",
       "615                       Life on the Line  0.809528   \n",
       "20521  Cross Ange: Tenshi to Ryuu no Rondo -1.223348   \n",
       "13402                          Blunderkind -0.804199   \n",
       "\n",
       "                                                     des      vote     gross  \\\n",
       "40980      A dark comedy about a disgruntled summer-s... -0.157489 -0.115744   \n",
       "44997      Our film is about Neil who is a painter an... -0.162184 -0.115744   \n",
       "615        A crew of men who do the high-wire work of... -0.075198 -0.115744   \n",
       "20521      The first season follows the growth of a p... -0.157769 -0.115744   \n",
       "13402      in 1988, 12-year-old boy genius Henry Jame... -0.162399 -0.115744   \n",
       "\n",
       "       sum_genre  sum_cast  sum_director  \n",
       "40980  -0.580581  0.367226     -0.042816  \n",
       "44997  -0.318696  0.323584      0.080718  \n",
       "615    -0.308926  0.336005     -0.125106  \n",
       "20521   0.774859  0.415311     -0.981101  \n",
       "13402   0.779437  0.429133      0.064341  "
      ]
     },
     "execution_count": 44,
     "metadata": {},
     "output_type": "execute_result"
    }
   ],
   "source": [
    "train_X_df.head()"
   ]
  },
  {
   "cell_type": "code",
   "execution_count": 45,
   "metadata": {},
   "outputs": [],
   "source": [
    "def token(text):\n",
    "    return(text.split(\" \"))"
   ]
  },
  {
   "cell_type": "markdown",
   "metadata": {},
   "source": [
    "- To CSV"
   ]
  },
  {
   "cell_type": "code",
   "execution_count": 46,
   "metadata": {},
   "outputs": [],
   "source": [
    "train_X_df.to_csv(\"./processed_data/train_X_df.csv\",index = False, header = True)\n",
    "train_y_sr.to_csv(\"./processed_data/train_y_sr.csv\",index = False, header = True)"
   ]
  },
  {
   "cell_type": "markdown",
   "metadata": {},
   "source": []
  },
  {
   "cell_type": "code",
   "execution_count": 47,
   "metadata": {},
   "outputs": [],
   "source": [
    "train_X_df = pd.read_csv(\"./processed_data/train_X_df.csv\")\n",
    "train_y_sr = pd.read_csv(\"./processed_data/train_y_sr.csv\")\n"
   ]
  },
  {
   "cell_type": "code",
   "execution_count": 49,
   "metadata": {},
   "outputs": [
    {
     "data": {
      "text/html": [
       "<div>\n",
       "<style scoped>\n",
       "    .dataframe tbody tr th:only-of-type {\n",
       "        vertical-align: middle;\n",
       "    }\n",
       "\n",
       "    .dataframe tbody tr th {\n",
       "        vertical-align: top;\n",
       "    }\n",
       "\n",
       "    .dataframe thead th {\n",
       "        text-align: right;\n",
       "    }\n",
       "</style>\n",
       "<table border=\"1\" class=\"dataframe\">\n",
       "  <thead>\n",
       "    <tr style=\"text-align: right;\">\n",
       "      <th></th>\n",
       "      <th>title</th>\n",
       "      <th>runtime</th>\n",
       "      <th>des</th>\n",
       "      <th>vote</th>\n",
       "      <th>gross</th>\n",
       "      <th>sum_genre</th>\n",
       "      <th>sum_cast</th>\n",
       "      <th>sum_director</th>\n",
       "    </tr>\n",
       "  </thead>\n",
       "  <tbody>\n",
       "    <tr>\n",
       "      <td>0</td>\n",
       "      <td>Ghost Light</td>\n",
       "      <td>0.914315</td>\n",
       "      <td>A dark comedy about a disgruntled summer-s...</td>\n",
       "      <td>-0.157489</td>\n",
       "      <td>-0.115744</td>\n",
       "      <td>-0.580581</td>\n",
       "      <td>0.367226</td>\n",
       "      <td>-0.042816</td>\n",
       "    </tr>\n",
       "    <tr>\n",
       "      <td>1</td>\n",
       "      <td>Nothing Good Ever Happens</td>\n",
       "      <td>0.683783</td>\n",
       "      <td>Our film is about Neil who is a painter an...</td>\n",
       "      <td>-0.162184</td>\n",
       "      <td>-0.115744</td>\n",
       "      <td>-0.318696</td>\n",
       "      <td>0.323584</td>\n",
       "      <td>0.080718</td>\n",
       "    </tr>\n",
       "    <tr>\n",
       "      <td>2</td>\n",
       "      <td>Life on the Line</td>\n",
       "      <td>0.809528</td>\n",
       "      <td>A crew of men who do the high-wire work of...</td>\n",
       "      <td>-0.075198</td>\n",
       "      <td>-0.115744</td>\n",
       "      <td>-0.308926</td>\n",
       "      <td>0.336005</td>\n",
       "      <td>-0.125106</td>\n",
       "    </tr>\n",
       "    <tr>\n",
       "      <td>3</td>\n",
       "      <td>Cross Ange: Tenshi to Ryuu no Rondo</td>\n",
       "      <td>-1.223348</td>\n",
       "      <td>The first season follows the growth of a p...</td>\n",
       "      <td>-0.157769</td>\n",
       "      <td>-0.115744</td>\n",
       "      <td>0.774859</td>\n",
       "      <td>0.415311</td>\n",
       "      <td>-0.981101</td>\n",
       "    </tr>\n",
       "    <tr>\n",
       "      <td>4</td>\n",
       "      <td>Blunderkind</td>\n",
       "      <td>-0.804199</td>\n",
       "      <td>in 1988, 12-year-old boy genius Henry Jame...</td>\n",
       "      <td>-0.162399</td>\n",
       "      <td>-0.115744</td>\n",
       "      <td>0.779437</td>\n",
       "      <td>0.429133</td>\n",
       "      <td>0.064341</td>\n",
       "    </tr>\n",
       "  </tbody>\n",
       "</table>\n",
       "</div>"
      ],
      "text/plain": [
       "                                 title   runtime  \\\n",
       "0                          Ghost Light  0.914315   \n",
       "1            Nothing Good Ever Happens  0.683783   \n",
       "2                     Life on the Line  0.809528   \n",
       "3  Cross Ange: Tenshi to Ryuu no Rondo -1.223348   \n",
       "4                          Blunderkind -0.804199   \n",
       "\n",
       "                                                 des      vote     gross  \\\n",
       "0      A dark comedy about a disgruntled summer-s... -0.157489 -0.115744   \n",
       "1      Our film is about Neil who is a painter an... -0.162184 -0.115744   \n",
       "2      A crew of men who do the high-wire work of... -0.075198 -0.115744   \n",
       "3      The first season follows the growth of a p... -0.157769 -0.115744   \n",
       "4      in 1988, 12-year-old boy genius Henry Jame... -0.162399 -0.115744   \n",
       "\n",
       "   sum_genre  sum_cast  sum_director  \n",
       "0  -0.580581  0.367226     -0.042816  \n",
       "1  -0.318696  0.323584      0.080718  \n",
       "2  -0.308926  0.336005     -0.125106  \n",
       "3   0.774859  0.415311     -0.981101  \n",
       "4   0.779437  0.429133      0.064341  "
      ]
     },
     "execution_count": 49,
     "metadata": {},
     "output_type": "execute_result"
    }
   ],
   "source": [
    "train_X_df.head()"
   ]
  },
  {
   "cell_type": "code",
   "execution_count": null,
   "metadata": {},
   "outputs": [],
   "source": []
  }
 ],
 "metadata": {
  "colab": {
   "include_colab_link": true,
   "name": "Process_data.ipynb",
   "provenance": []
  },
  "kernelspec": {
   "display_name": "Python 3",
   "language": "python",
   "name": "python3"
  },
  "language_info": {
   "codemirror_mode": {
    "name": "ipython",
    "version": 3
   },
   "file_extension": ".py",
   "mimetype": "text/x-python",
   "name": "python",
   "nbconvert_exporter": "python",
   "pygments_lexer": "ipython3",
   "version": "3.7.4"
  }
 },
 "nbformat": 4,
 "nbformat_minor": 4
}
