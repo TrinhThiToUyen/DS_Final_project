{
 "cells": [
  {
   "cell_type": "markdown",
   "metadata": {
    "colab_type": "text",
    "id": "view-in-github"
   },
   "source": [
    "<a href=\"https://colab.research.google.com/github/hungviet0304/DS_Final_project/blob/master/Process_data.ipynb\" target=\"_parent\"><img src=\"https://colab.research.google.com/assets/colab-badge.svg\" alt=\"Open In Colab\"/></a>"
   ]
  },
  {
   "cell_type": "code",
   "execution_count": 14,
   "metadata": {
    "colab": {},
    "colab_type": "code",
    "id": "TmvHT3tAgeFe"
   },
   "outputs": [],
   "source": [
    "import pandas as pd\n",
    "import numpy as np\n",
    "import os\n",
    "import copy\n",
    "import math\n",
    "from sklearn.feature_extraction.text import TfidfVectorizer\n",
    "%matplotlib inline"
   ]
  },
  {
   "cell_type": "code",
   "execution_count": 15,
   "metadata": {},
   "outputs": [],
   "source": [
    "%matplotlib inline\n",
    "import matplotlib.pyplot as plt\n",
    "import seaborn as sns # seaborn là thư viện được xây trên matplotlib, giúp việc visualization đỡ khổ hơn\n",
    "import pandas as pd\n",
    "import numpy as np\n",
    "\n",
    "from sklearn.model_selection import train_test_split\n",
    "from sklearn.preprocessing import OneHotEncoder, StandardScaler\n",
    "from sklearn.impute import SimpleImputer\n",
    "from sklearn.base import BaseEstimator, TransformerMixin\n",
    "from sklearn.pipeline import Pipeline, make_pipeline\n",
    "from sklearn.compose import ColumnTransformer, make_column_transformer\n",
    "from sklearn.neural_network import MLPClassifier\n",
    "\n",
    "# You can also import other things ...\n",
    "# YOUR CODE HERE (OPTION)\n",
    "import re\n",
    "from sklearn import preprocessing"
   ]
  },
  {
   "cell_type": "code",
   "execution_count": 16,
   "metadata": {},
   "outputs": [
    {
     "name": "stdout",
     "output_type": "stream",
     "text": [
      "C:\\Users\\Admin\\Documents\\GitHub\\DS_Final_project\\data\n",
      "C:\\Users\\Admin\\Documents\\GitHub\\DS_Final_project\n"
     ]
    }
   ],
   "source": [
    "pwd = %pwd\n",
    "if pwd != 'C:\\\\Users\\\\Admin\\\\Documents\\\\GitHub\\\\DS_Final_project\\\\data':\n",
    "    %cd ./data\n",
    "\n",
    "file_list = os.listdir()\n",
    "data_tmp = []\n",
    "for file in file_list:\n",
    "    df = pd.read_csv(file)\n",
    "    data_tmp.append(df)\n",
    "final_df = pd.concat(data_tmp, axis = 0, ignore_index=True)\n",
    "%cd .."
   ]
  },
  {
   "cell_type": "code",
   "execution_count": 17,
   "metadata": {},
   "outputs": [
    {
     "data": {
      "text/html": [
       "<div>\n",
       "<style scoped>\n",
       "    .dataframe tbody tr th:only-of-type {\n",
       "        vertical-align: middle;\n",
       "    }\n",
       "\n",
       "    .dataframe tbody tr th {\n",
       "        vertical-align: top;\n",
       "    }\n",
       "\n",
       "    .dataframe thead th {\n",
       "        text-align: right;\n",
       "    }\n",
       "</style>\n",
       "<table border=\"1\" class=\"dataframe\">\n",
       "  <thead>\n",
       "    <tr style=\"text-align: right;\">\n",
       "      <th></th>\n",
       "      <th>title</th>\n",
       "      <th>runtime</th>\n",
       "      <th>des</th>\n",
       "      <th>date</th>\n",
       "      <th>genre</th>\n",
       "      <th>cast</th>\n",
       "      <th>director</th>\n",
       "      <th>vote</th>\n",
       "      <th>gross</th>\n",
       "      <th>rating</th>\n",
       "    </tr>\n",
       "  </thead>\n",
       "  <tbody>\n",
       "    <tr>\n",
       "      <td>0</td>\n",
       "      <td>Star Wars: Episode VIII - The Last Jedi</td>\n",
       "      <td>151</td>\n",
       "      <td>Rey develops her newly discovered abilitie...</td>\n",
       "      <td>2017</td>\n",
       "      <td>Action, Adventure, Fantasy</td>\n",
       "      <td>Daisy Ridley, John Boyega, Mark Hamill, Carrie...</td>\n",
       "      <td>Rian Johnson</td>\n",
       "      <td>511977</td>\n",
       "      <td>$620.18M</td>\n",
       "      <td>7.0</td>\n",
       "    </tr>\n",
       "    <tr>\n",
       "      <td>1</td>\n",
       "      <td>Game of Thrones</td>\n",
       "      <td>57</td>\n",
       "      <td>Nine noble families fight for control over...</td>\n",
       "      <td>2019</td>\n",
       "      <td>Action, Adventure, Drama</td>\n",
       "      <td>Emilia Clarke, Peter Dinklage, Kit Harington, ...</td>\n",
       "      <td>NaN</td>\n",
       "      <td>1624187</td>\n",
       "      <td>NaN</td>\n",
       "      <td>9.3</td>\n",
       "    </tr>\n",
       "    <tr>\n",
       "      <td>2</td>\n",
       "      <td>Vikings</td>\n",
       "      <td>44</td>\n",
       "      <td>Vikings transports us to the brutal and my...</td>\n",
       "      <td>2013</td>\n",
       "      <td>Action, Adventure, Drama</td>\n",
       "      <td>Katheryn Winnick, Gustaf Skarsgård, Alexander ...</td>\n",
       "      <td>NaN</td>\n",
       "      <td>367194</td>\n",
       "      <td>NaN</td>\n",
       "      <td>8.6</td>\n",
       "    </tr>\n",
       "    <tr>\n",
       "      <td>3</td>\n",
       "      <td>Star Wars: Episode VII - The Force Awakens</td>\n",
       "      <td>138</td>\n",
       "      <td>Three decades after the Empire's defeat, a...</td>\n",
       "      <td>2015</td>\n",
       "      <td>Action, Adventure, Sci-Fi</td>\n",
       "      <td>Daisy Ridley, John Boyega, Oscar Isaac, Domhna...</td>\n",
       "      <td>J.J. Abrams</td>\n",
       "      <td>818309</td>\n",
       "      <td>$936.66M</td>\n",
       "      <td>7.9</td>\n",
       "    </tr>\n",
       "    <tr>\n",
       "      <td>4</td>\n",
       "      <td>Rogue One: A Star Wars Story</td>\n",
       "      <td>133</td>\n",
       "      <td>The daughter of an Imperial scientist join...</td>\n",
       "      <td>2016</td>\n",
       "      <td>Action, Adventure, Sci-Fi</td>\n",
       "      <td>Felicity Jones, Diego Luna, Alan Tudyk, Donnie...</td>\n",
       "      <td>Gareth Edwards</td>\n",
       "      <td>511959</td>\n",
       "      <td>$532.18M</td>\n",
       "      <td>7.8</td>\n",
       "    </tr>\n",
       "  </tbody>\n",
       "</table>\n",
       "</div>"
      ],
      "text/plain": [
       "                                        title runtime  \\\n",
       "0     Star Wars: Episode VIII - The Last Jedi     151   \n",
       "1                             Game of Thrones      57   \n",
       "2                                     Vikings      44   \n",
       "3  Star Wars: Episode VII - The Force Awakens     138   \n",
       "4                Rogue One: A Star Wars Story     133   \n",
       "\n",
       "                                                 des  date  \\\n",
       "0      Rey develops her newly discovered abilitie...  2017   \n",
       "1      Nine noble families fight for control over...  2019   \n",
       "2      Vikings transports us to the brutal and my...  2013   \n",
       "3      Three decades after the Empire's defeat, a...  2015   \n",
       "4      The daughter of an Imperial scientist join...  2016   \n",
       "\n",
       "                                    genre  \\\n",
       "0  Action, Adventure, Fantasy               \n",
       "1    Action, Adventure, Drama               \n",
       "2    Action, Adventure, Drama               \n",
       "3   Action, Adventure, Sci-Fi               \n",
       "4   Action, Adventure, Sci-Fi               \n",
       "\n",
       "                                                cast        director     vote  \\\n",
       "0  Daisy Ridley, John Boyega, Mark Hamill, Carrie...    Rian Johnson   511977   \n",
       "1  Emilia Clarke, Peter Dinklage, Kit Harington, ...             NaN  1624187   \n",
       "2  Katheryn Winnick, Gustaf Skarsgård, Alexander ...             NaN   367194   \n",
       "3  Daisy Ridley, John Boyega, Oscar Isaac, Domhna...     J.J. Abrams   818309   \n",
       "4  Felicity Jones, Diego Luna, Alan Tudyk, Donnie...  Gareth Edwards   511959   \n",
       "\n",
       "      gross  rating  \n",
       "0  $620.18M     7.0  \n",
       "1       NaN     9.3  \n",
       "2       NaN     8.6  \n",
       "3  $936.66M     7.9  \n",
       "4  $532.18M     7.8  "
      ]
     },
     "execution_count": 17,
     "metadata": {},
     "output_type": "execute_result"
    }
   ],
   "source": [
    "final_df.head()"
   ]
  },
  {
   "cell_type": "code",
   "execution_count": 18,
   "metadata": {},
   "outputs": [
    {
     "data": {
      "text/html": [
       "<div>\n",
       "<style scoped>\n",
       "    .dataframe tbody tr th:only-of-type {\n",
       "        vertical-align: middle;\n",
       "    }\n",
       "\n",
       "    .dataframe tbody tr th {\n",
       "        vertical-align: top;\n",
       "    }\n",
       "\n",
       "    .dataframe thead th {\n",
       "        text-align: right;\n",
       "    }\n",
       "</style>\n",
       "<table border=\"1\" class=\"dataframe\">\n",
       "  <thead>\n",
       "    <tr style=\"text-align: right;\">\n",
       "      <th></th>\n",
       "      <th>title</th>\n",
       "      <th>runtime</th>\n",
       "      <th>des</th>\n",
       "      <th>date</th>\n",
       "      <th>genre</th>\n",
       "      <th>cast</th>\n",
       "      <th>director</th>\n",
       "      <th>vote</th>\n",
       "      <th>gross</th>\n",
       "      <th>rating</th>\n",
       "    </tr>\n",
       "  </thead>\n",
       "  <tbody>\n",
       "    <tr>\n",
       "      <td>count</td>\n",
       "      <td>78450</td>\n",
       "      <td>78450</td>\n",
       "      <td>78447</td>\n",
       "      <td>78450.000000</td>\n",
       "      <td>78450</td>\n",
       "      <td>77035</td>\n",
       "      <td>55833</td>\n",
       "      <td>7.845000e+04</td>\n",
       "      <td>4529</td>\n",
       "      <td>78450.000000</td>\n",
       "    </tr>\n",
       "    <tr>\n",
       "      <td>unique</td>\n",
       "      <td>60555</td>\n",
       "      <td>552</td>\n",
       "      <td>57146</td>\n",
       "      <td>NaN</td>\n",
       "      <td>1014</td>\n",
       "      <td>61886</td>\n",
       "      <td>35901</td>\n",
       "      <td>NaN</td>\n",
       "      <td>1278</td>\n",
       "      <td>NaN</td>\n",
       "    </tr>\n",
       "    <tr>\n",
       "      <td>top</td>\n",
       "      <td>Run</td>\n",
       "      <td>0</td>\n",
       "      <td>Add a Plot</td>\n",
       "      <td>NaN</td>\n",
       "      <td>Documentary</td>\n",
       "      <td>Missy Jubilee</td>\n",
       "      <td>Kevin Dunn</td>\n",
       "      <td>NaN</td>\n",
       "      <td>$0.01M</td>\n",
       "      <td>NaN</td>\n",
       "    </tr>\n",
       "    <tr>\n",
       "      <td>freq</td>\n",
       "      <td>15</td>\n",
       "      <td>7605</td>\n",
       "      <td>8135</td>\n",
       "      <td>NaN</td>\n",
       "      <td>5444</td>\n",
       "      <td>26</td>\n",
       "      <td>98</td>\n",
       "      <td>NaN</td>\n",
       "      <td>342</td>\n",
       "      <td>NaN</td>\n",
       "    </tr>\n",
       "    <tr>\n",
       "      <td>mean</td>\n",
       "      <td>NaN</td>\n",
       "      <td>NaN</td>\n",
       "      <td>NaN</td>\n",
       "      <td>2014.172569</td>\n",
       "      <td>NaN</td>\n",
       "      <td>NaN</td>\n",
       "      <td>NaN</td>\n",
       "      <td>4.836305e+03</td>\n",
       "      <td>NaN</td>\n",
       "      <td>4.144744</td>\n",
       "    </tr>\n",
       "    <tr>\n",
       "      <td>std</td>\n",
       "      <td>NaN</td>\n",
       "      <td>NaN</td>\n",
       "      <td>NaN</td>\n",
       "      <td>26.032289</td>\n",
       "      <td>NaN</td>\n",
       "      <td>NaN</td>\n",
       "      <td>NaN</td>\n",
       "      <td>3.736042e+04</td>\n",
       "      <td>NaN</td>\n",
       "      <td>3.422669</td>\n",
       "    </tr>\n",
       "    <tr>\n",
       "      <td>min</td>\n",
       "      <td>NaN</td>\n",
       "      <td>NaN</td>\n",
       "      <td>NaN</td>\n",
       "      <td>0.000000</td>\n",
       "      <td>NaN</td>\n",
       "      <td>NaN</td>\n",
       "      <td>NaN</td>\n",
       "      <td>0.000000e+00</td>\n",
       "      <td>NaN</td>\n",
       "      <td>0.000000</td>\n",
       "    </tr>\n",
       "    <tr>\n",
       "      <td>25%</td>\n",
       "      <td>NaN</td>\n",
       "      <td>NaN</td>\n",
       "      <td>NaN</td>\n",
       "      <td>2013.000000</td>\n",
       "      <td>NaN</td>\n",
       "      <td>NaN</td>\n",
       "      <td>NaN</td>\n",
       "      <td>0.000000e+00</td>\n",
       "      <td>NaN</td>\n",
       "      <td>0.000000</td>\n",
       "    </tr>\n",
       "    <tr>\n",
       "      <td>50%</td>\n",
       "      <td>NaN</td>\n",
       "      <td>NaN</td>\n",
       "      <td>NaN</td>\n",
       "      <td>2015.000000</td>\n",
       "      <td>NaN</td>\n",
       "      <td>NaN</td>\n",
       "      <td>NaN</td>\n",
       "      <td>1.400000e+01</td>\n",
       "      <td>NaN</td>\n",
       "      <td>5.500000</td>\n",
       "    </tr>\n",
       "    <tr>\n",
       "      <td>75%</td>\n",
       "      <td>NaN</td>\n",
       "      <td>NaN</td>\n",
       "      <td>NaN</td>\n",
       "      <td>2016.000000</td>\n",
       "      <td>NaN</td>\n",
       "      <td>NaN</td>\n",
       "      <td>NaN</td>\n",
       "      <td>2.020000e+02</td>\n",
       "      <td>NaN</td>\n",
       "      <td>7.200000</td>\n",
       "    </tr>\n",
       "    <tr>\n",
       "      <td>max</td>\n",
       "      <td>NaN</td>\n",
       "      <td>NaN</td>\n",
       "      <td>NaN</td>\n",
       "      <td>2020.000000</td>\n",
       "      <td>NaN</td>\n",
       "      <td>NaN</td>\n",
       "      <td>NaN</td>\n",
       "      <td>1.624258e+06</td>\n",
       "      <td>NaN</td>\n",
       "      <td>10.000000</td>\n",
       "    </tr>\n",
       "  </tbody>\n",
       "</table>\n",
       "</div>"
      ],
      "text/plain": [
       "        title runtime         des          date                    genre  \\\n",
       "count   78450   78450       78447  78450.000000                    78450   \n",
       "unique  60555     552       57146           NaN                     1014   \n",
       "top       Run       0  Add a Plot           NaN  Documentary               \n",
       "freq       15    7605        8135           NaN                     5444   \n",
       "mean      NaN     NaN         NaN   2014.172569                      NaN   \n",
       "std       NaN     NaN         NaN     26.032289                      NaN   \n",
       "min       NaN     NaN         NaN      0.000000                      NaN   \n",
       "25%       NaN     NaN         NaN   2013.000000                      NaN   \n",
       "50%       NaN     NaN         NaN   2015.000000                      NaN   \n",
       "75%       NaN     NaN         NaN   2016.000000                      NaN   \n",
       "max       NaN     NaN         NaN   2020.000000                      NaN   \n",
       "\n",
       "                 cast    director          vote   gross        rating  \n",
       "count           77035       55833  7.845000e+04    4529  78450.000000  \n",
       "unique          61886       35901           NaN    1278           NaN  \n",
       "top     Missy Jubilee  Kevin Dunn           NaN  $0.01M           NaN  \n",
       "freq               26          98           NaN     342           NaN  \n",
       "mean              NaN         NaN  4.836305e+03     NaN      4.144744  \n",
       "std               NaN         NaN  3.736042e+04     NaN      3.422669  \n",
       "min               NaN         NaN  0.000000e+00     NaN      0.000000  \n",
       "25%               NaN         NaN  0.000000e+00     NaN      0.000000  \n",
       "50%               NaN         NaN  1.400000e+01     NaN      5.500000  \n",
       "75%               NaN         NaN  2.020000e+02     NaN      7.200000  \n",
       "max               NaN         NaN  1.624258e+06     NaN     10.000000  "
      ]
     },
     "execution_count": 18,
     "metadata": {},
     "output_type": "execute_result"
    }
   ],
   "source": [
    "final_df.describe(include=\"all\")"
   ]
  },
  {
   "cell_type": "code",
   "execution_count": 19,
   "metadata": {},
   "outputs": [
    {
     "data": {
      "text/html": [
       "<div>\n",
       "<style scoped>\n",
       "    .dataframe tbody tr th:only-of-type {\n",
       "        vertical-align: middle;\n",
       "    }\n",
       "\n",
       "    .dataframe tbody tr th {\n",
       "        vertical-align: top;\n",
       "    }\n",
       "\n",
       "    .dataframe thead th {\n",
       "        text-align: right;\n",
       "    }\n",
       "</style>\n",
       "<table border=\"1\" class=\"dataframe\">\n",
       "  <thead>\n",
       "    <tr style=\"text-align: right;\">\n",
       "      <th></th>\n",
       "      <th>title</th>\n",
       "      <th>runtime</th>\n",
       "      <th>des</th>\n",
       "      <th>date</th>\n",
       "      <th>genre</th>\n",
       "      <th>cast</th>\n",
       "      <th>director</th>\n",
       "      <th>vote</th>\n",
       "      <th>gross</th>\n",
       "      <th>rating</th>\n",
       "    </tr>\n",
       "  </thead>\n",
       "  <tbody>\n",
       "    <tr>\n",
       "      <td>0</td>\n",
       "      <td>Star Wars: Episode VIII - The Last Jedi</td>\n",
       "      <td>151</td>\n",
       "      <td>Rey develops her newly discovered abilitie...</td>\n",
       "      <td>2017</td>\n",
       "      <td>Action, Adventure, Fantasy</td>\n",
       "      <td>Daisy Ridley, John Boyega, Mark Hamill, Carrie...</td>\n",
       "      <td>Rian Johnson</td>\n",
       "      <td>511977</td>\n",
       "      <td>$620.18M</td>\n",
       "      <td>7.0</td>\n",
       "    </tr>\n",
       "    <tr>\n",
       "      <td>1</td>\n",
       "      <td>Game of Thrones</td>\n",
       "      <td>57</td>\n",
       "      <td>Nine noble families fight for control over...</td>\n",
       "      <td>2019</td>\n",
       "      <td>Action, Adventure, Drama</td>\n",
       "      <td>Emilia Clarke, Peter Dinklage, Kit Harington, ...</td>\n",
       "      <td>NaN</td>\n",
       "      <td>1624187</td>\n",
       "      <td>NaN</td>\n",
       "      <td>9.3</td>\n",
       "    </tr>\n",
       "    <tr>\n",
       "      <td>2</td>\n",
       "      <td>Vikings</td>\n",
       "      <td>44</td>\n",
       "      <td>Vikings transports us to the brutal and my...</td>\n",
       "      <td>2013</td>\n",
       "      <td>Action, Adventure, Drama</td>\n",
       "      <td>Katheryn Winnick, Gustaf Skarsgård, Alexander ...</td>\n",
       "      <td>NaN</td>\n",
       "      <td>367194</td>\n",
       "      <td>NaN</td>\n",
       "      <td>8.6</td>\n",
       "    </tr>\n",
       "    <tr>\n",
       "      <td>3</td>\n",
       "      <td>Star Wars: Episode VII - The Force Awakens</td>\n",
       "      <td>138</td>\n",
       "      <td>Three decades after the Empire's defeat, a...</td>\n",
       "      <td>2015</td>\n",
       "      <td>Action, Adventure, Sci-Fi</td>\n",
       "      <td>Daisy Ridley, John Boyega, Oscar Isaac, Domhna...</td>\n",
       "      <td>J.J. Abrams</td>\n",
       "      <td>818309</td>\n",
       "      <td>$936.66M</td>\n",
       "      <td>7.9</td>\n",
       "    </tr>\n",
       "    <tr>\n",
       "      <td>4</td>\n",
       "      <td>Rogue One: A Star Wars Story</td>\n",
       "      <td>133</td>\n",
       "      <td>The daughter of an Imperial scientist join...</td>\n",
       "      <td>2016</td>\n",
       "      <td>Action, Adventure, Sci-Fi</td>\n",
       "      <td>Felicity Jones, Diego Luna, Alan Tudyk, Donnie...</td>\n",
       "      <td>Gareth Edwards</td>\n",
       "      <td>511959</td>\n",
       "      <td>$532.18M</td>\n",
       "      <td>7.8</td>\n",
       "    </tr>\n",
       "  </tbody>\n",
       "</table>\n",
       "</div>"
      ],
      "text/plain": [
       "                                        title runtime  \\\n",
       "0     Star Wars: Episode VIII - The Last Jedi     151   \n",
       "1                             Game of Thrones      57   \n",
       "2                                     Vikings      44   \n",
       "3  Star Wars: Episode VII - The Force Awakens     138   \n",
       "4                Rogue One: A Star Wars Story     133   \n",
       "\n",
       "                                                 des  date  \\\n",
       "0      Rey develops her newly discovered abilitie...  2017   \n",
       "1      Nine noble families fight for control over...  2019   \n",
       "2      Vikings transports us to the brutal and my...  2013   \n",
       "3      Three decades after the Empire's defeat, a...  2015   \n",
       "4      The daughter of an Imperial scientist join...  2016   \n",
       "\n",
       "                                    genre  \\\n",
       "0  Action, Adventure, Fantasy               \n",
       "1    Action, Adventure, Drama               \n",
       "2    Action, Adventure, Drama               \n",
       "3   Action, Adventure, Sci-Fi               \n",
       "4   Action, Adventure, Sci-Fi               \n",
       "\n",
       "                                                cast        director     vote  \\\n",
       "0  Daisy Ridley, John Boyega, Mark Hamill, Carrie...    Rian Johnson   511977   \n",
       "1  Emilia Clarke, Peter Dinklage, Kit Harington, ...             NaN  1624187   \n",
       "2  Katheryn Winnick, Gustaf Skarsgård, Alexander ...             NaN   367194   \n",
       "3  Daisy Ridley, John Boyega, Oscar Isaac, Domhna...     J.J. Abrams   818309   \n",
       "4  Felicity Jones, Diego Luna, Alan Tudyk, Donnie...  Gareth Edwards   511959   \n",
       "\n",
       "      gross  rating  \n",
       "0  $620.18M     7.0  \n",
       "1       NaN     9.3  \n",
       "2       NaN     8.6  \n",
       "3  $936.66M     7.9  \n",
       "4  $532.18M     7.8  "
      ]
     },
     "execution_count": 19,
     "metadata": {},
     "output_type": "execute_result"
    }
   ],
   "source": [
    "df = final_df.copy()\n",
    "df = df[df.rating != 0]\n",
    "df = df.drop_duplicates(subset=None,keep=\"first\")\n",
    "\n",
    "df.head()\n"
   ]
  },
  {
   "cell_type": "code",
   "execution_count": 20,
   "metadata": {},
   "outputs": [],
   "source": [
    "# Tách X và y\n",
    "y_sr = df[\"rating\"] # sr là viết tắt của series\n",
    "X_df = df.drop(\"rating\", axis=1)"
   ]
  },
  {
   "cell_type": "code",
   "execution_count": 21,
   "metadata": {},
   "outputs": [
    {
     "data": {
      "text/plain": [
       "Int64Index([49202, 30380, 61848, 16592, 47346], dtype='int64')"
      ]
     },
     "execution_count": 21,
     "metadata": {},
     "output_type": "execute_result"
    }
   ],
   "source": [
    "# Tách tập train và tập validation theo tỉ lệ 70%:30%\n",
    "train_X_df, val_X_df, train_y_sr, val_y_sr = train_test_split(X_df, y_sr, test_size=0.3, \n",
    "                                                              stratify=y_sr, random_state=0)\n",
    "\n",
    "train_X_df.head().index"
   ]
  },
  {
   "cell_type": "code",
   "execution_count": 22,
   "metadata": {},
   "outputs": [
    {
     "name": "stdout",
     "output_type": "stream",
     "text": [
      "<class 'pandas.core.frame.DataFrame'>\n",
      "Int64Index: 29834 entries, 49202 to 3929\n",
      "Data columns (total 9 columns):\n",
      "title       29834 non-null object\n",
      "runtime     29834 non-null object\n",
      "des         29834 non-null object\n",
      "date        29834 non-null int64\n",
      "genre       29834 non-null object\n",
      "cast        29558 non-null object\n",
      "director    21919 non-null object\n",
      "vote        29834 non-null int64\n",
      "gross       2610 non-null object\n",
      "dtypes: int64(2), object(7)\n",
      "memory usage: 2.3+ MB\n"
     ]
    }
   ],
   "source": [
    "train_X_df.info()"
   ]
  },
  {
   "cell_type": "code",
   "execution_count": 23,
   "metadata": {},
   "outputs": [
    {
     "name": "stdout",
     "output_type": "stream",
     "text": [
      "<class 'pandas.core.frame.DataFrame'>\n",
      "Int64Index: 12787 entries, 73623 to 69684\n",
      "Data columns (total 9 columns):\n",
      "title       12787 non-null object\n",
      "runtime     12787 non-null object\n",
      "des         12787 non-null object\n",
      "date        12787 non-null int64\n",
      "genre       12787 non-null object\n",
      "cast        12656 non-null object\n",
      "director    9363 non-null object\n",
      "vote        12787 non-null int64\n",
      "gross       1147 non-null object\n",
      "dtypes: int64(2), object(7)\n",
      "memory usage: 999.0+ KB\n"
     ]
    }
   ],
   "source": [
    "val_X_df.info()"
   ]
  },
  {
   "cell_type": "code",
   "execution_count": 24,
   "metadata": {},
   "outputs": [
    {
     "data": {
      "text/html": [
       "<div>\n",
       "<style scoped>\n",
       "    .dataframe tbody tr th:only-of-type {\n",
       "        vertical-align: middle;\n",
       "    }\n",
       "\n",
       "    .dataframe tbody tr th {\n",
       "        vertical-align: top;\n",
       "    }\n",
       "\n",
       "    .dataframe thead th {\n",
       "        text-align: right;\n",
       "    }\n",
       "</style>\n",
       "<table border=\"1\" class=\"dataframe\">\n",
       "  <thead>\n",
       "    <tr style=\"text-align: right;\">\n",
       "      <th></th>\n",
       "      <th>title</th>\n",
       "      <th>runtime</th>\n",
       "      <th>des</th>\n",
       "      <th>date</th>\n",
       "      <th>genre</th>\n",
       "      <th>cast</th>\n",
       "      <th>director</th>\n",
       "      <th>vote</th>\n",
       "      <th>gross</th>\n",
       "    </tr>\n",
       "  </thead>\n",
       "  <tbody>\n",
       "    <tr>\n",
       "      <td>49202</td>\n",
       "      <td>Homicide for the Holidays</td>\n",
       "      <td>0</td>\n",
       "      <td>For most, the winter holidays mean bringing fa...</td>\n",
       "      <td>2019</td>\n",
       "      <td>Crime</td>\n",
       "      <td>James Zeiss, Vanessa Molinelli, Mitch Damron, ...</td>\n",
       "      <td>NaN</td>\n",
       "      <td>22</td>\n",
       "      <td>NaN</td>\n",
       "    </tr>\n",
       "    <tr>\n",
       "      <td>30380</td>\n",
       "      <td>Song from the Forest</td>\n",
       "      <td>98</td>\n",
       "      <td>25 years ago, Louis Sarno, an American, heard ...</td>\n",
       "      <td>2013</td>\n",
       "      <td>Documentary, Biography, Music</td>\n",
       "      <td>Louis Sarno, Samedi Mathurin Bokombe, Jim Jarm...</td>\n",
       "      <td>Michael Obert</td>\n",
       "      <td>209</td>\n",
       "      <td>NaN</td>\n",
       "    </tr>\n",
       "    <tr>\n",
       "      <td>61848</td>\n",
       "      <td>Hieronymus Bosch, Touched by the Devil</td>\n",
       "      <td>86</td>\n",
       "      <td>In 2016, the Noordbrabants Museum in the Dutch...</td>\n",
       "      <td>2015</td>\n",
       "      <td>Documentary</td>\n",
       "      <td>Matthijs Ilsink, Peter Klein, Jos Koldeweij, R...</td>\n",
       "      <td>Pieter van Huystee</td>\n",
       "      <td>263</td>\n",
       "      <td>$0.17M</td>\n",
       "    </tr>\n",
       "    <tr>\n",
       "      <td>16592</td>\n",
       "      <td>The Adventures of Tintin: Secret of the Unicor...</td>\n",
       "      <td>0</td>\n",
       "      <td>Add a Plot</td>\n",
       "      <td>2011</td>\n",
       "      <td>Adventure</td>\n",
       "      <td>Erik Braa, Adam Harrington, Brian Sommer</td>\n",
       "      <td>NaN</td>\n",
       "      <td>13</td>\n",
       "      <td>NaN</td>\n",
       "    </tr>\n",
       "    <tr>\n",
       "      <td>47346</td>\n",
       "      <td>Forgiving Chris Brown</td>\n",
       "      <td>12</td>\n",
       "      <td>Forgiving Chris Brown is a dark comedy short t...</td>\n",
       "      <td>2015</td>\n",
       "      <td>Short, Comedy, Drama</td>\n",
       "      <td>Lodric D. Collins, Tami Jordan, Tanda Kerín, T...</td>\n",
       "      <td>Marquette Jones</td>\n",
       "      <td>9</td>\n",
       "      <td>NaN</td>\n",
       "    </tr>\n",
       "  </tbody>\n",
       "</table>\n",
       "</div>"
      ],
      "text/plain": [
       "                                                   title runtime  \\\n",
       "49202                          Homicide for the Holidays       0   \n",
       "30380                               Song from the Forest      98   \n",
       "61848             Hieronymus Bosch, Touched by the Devil      86   \n",
       "16592  The Adventures of Tintin: Secret of the Unicor...       0   \n",
       "47346                              Forgiving Chris Brown      12   \n",
       "\n",
       "                                                     des  date  \\\n",
       "49202  For most, the winter holidays mean bringing fa...  2019   \n",
       "30380  25 years ago, Louis Sarno, an American, heard ...  2013   \n",
       "61848  In 2016, the Noordbrabants Museum in the Dutch...  2015   \n",
       "16592                                         Add a Plot  2011   \n",
       "47346  Forgiving Chris Brown is a dark comedy short t...  2015   \n",
       "\n",
       "                                           genre  \\\n",
       "49202                          Crime               \n",
       "30380  Documentary, Biography, Music               \n",
       "61848                    Documentary               \n",
       "16592                      Adventure               \n",
       "47346           Short, Comedy, Drama               \n",
       "\n",
       "                                                    cast            director  \\\n",
       "49202  James Zeiss, Vanessa Molinelli, Mitch Damron, ...                 NaN   \n",
       "30380  Louis Sarno, Samedi Mathurin Bokombe, Jim Jarm...       Michael Obert   \n",
       "61848  Matthijs Ilsink, Peter Klein, Jos Koldeweij, R...  Pieter van Huystee   \n",
       "16592           Erik Braa, Adam Harrington, Brian Sommer                 NaN   \n",
       "47346  Lodric D. Collins, Tami Jordan, Tanda Kerín, T...     Marquette Jones   \n",
       "\n",
       "       vote   gross  \n",
       "49202    22     NaN  \n",
       "30380   209     NaN  \n",
       "61848   263  $0.17M  \n",
       "16592    13     NaN  \n",
       "47346     9     NaN  "
      ]
     },
     "execution_count": 24,
     "metadata": {},
     "output_type": "execute_result"
    }
   ],
   "source": [
    "train_X_df.head()"
   ]
  },
  {
   "cell_type": "code",
   "execution_count": 25,
   "metadata": {},
   "outputs": [],
   "source": [
    "#df = df.dropna(axis=0)\n",
    "#df = df.drop_duplicates()"
   ]
  },
  {
   "cell_type": "code",
   "execution_count": 26,
   "metadata": {},
   "outputs": [],
   "source": [
    "genre_rating_df = train_X_df[\"genre\"].to_frame().join(train_y_sr)"
   ]
  },
  {
   "cell_type": "code",
   "execution_count": 27,
   "metadata": {},
   "outputs": [
    {
     "data": {
      "text/html": [
       "<div>\n",
       "<style scoped>\n",
       "    .dataframe tbody tr th:only-of-type {\n",
       "        vertical-align: middle;\n",
       "    }\n",
       "\n",
       "    .dataframe tbody tr th {\n",
       "        vertical-align: top;\n",
       "    }\n",
       "\n",
       "    .dataframe thead th {\n",
       "        text-align: right;\n",
       "    }\n",
       "</style>\n",
       "<table border=\"1\" class=\"dataframe\">\n",
       "  <thead>\n",
       "    <tr style=\"text-align: right;\">\n",
       "      <th></th>\n",
       "      <th>genre</th>\n",
       "      <th>rating</th>\n",
       "    </tr>\n",
       "  </thead>\n",
       "  <tbody>\n",
       "    <tr>\n",
       "      <td>49202</td>\n",
       "      <td>Crime</td>\n",
       "      <td>7.1</td>\n",
       "    </tr>\n",
       "    <tr>\n",
       "      <td>30380</td>\n",
       "      <td>Documentary, Biography, Music</td>\n",
       "      <td>6.9</td>\n",
       "    </tr>\n",
       "    <tr>\n",
       "      <td>61848</td>\n",
       "      <td>Documentary</td>\n",
       "      <td>6.5</td>\n",
       "    </tr>\n",
       "    <tr>\n",
       "      <td>16592</td>\n",
       "      <td>Adventure</td>\n",
       "      <td>7.5</td>\n",
       "    </tr>\n",
       "    <tr>\n",
       "      <td>47346</td>\n",
       "      <td>Short, Comedy, Drama</td>\n",
       "      <td>8.2</td>\n",
       "    </tr>\n",
       "  </tbody>\n",
       "</table>\n",
       "</div>"
      ],
      "text/plain": [
       "                                           genre  rating\n",
       "49202                          Crime                 7.1\n",
       "30380  Documentary, Biography, Music                 6.9\n",
       "61848                    Documentary                 6.5\n",
       "16592                      Adventure                 7.5\n",
       "47346           Short, Comedy, Drama                 8.2"
      ]
     },
     "execution_count": 27,
     "metadata": {},
     "output_type": "execute_result"
    }
   ],
   "source": [
    "genre_rating_df.head()"
   ]
  },
  {
   "cell_type": "code",
   "execution_count": 28,
   "metadata": {},
   "outputs": [
    {
     "name": "stdout",
     "output_type": "stream",
     "text": [
      "Counter({'Comedy': 10512, 'Documentary': 8119, 'Drama': 8105, 'Action': 6215, 'Short': 6168, 'Adventure': 4731, 'Crime': 4102, 'Romance': 3999, 'Animation': 3784, 'Biography': 2870, 'Family': 1352, 'Horror': 1311, 'Thriller': 1268, 'Fantasy': 1114, 'History': 1053, 'Sci-Fi': 904, 'Music': 893, 'Mystery': 810, 'Sport': 522, 'Musical': 197, 'News': 191, 'War': 189, 'Reality-TV': 181, 'Talk-Show': 83, 'Western': 72, 'Game-Show': 58})\n",
      "len =  26\n"
     ]
    },
    {
     "data": {
      "image/png": "[encoded data removed]",
      "text/plain": [
       "<Figure size 1872x288 with 1 Axes>"
      ]
     },
     "metadata": {
      "needs_background": "light"
     },
     "output_type": "display_data"
    }
   ],
   "source": [
    "from collections import Counter\n",
    "\n",
    "list_gens = list(genre_rating_df.genre)\n",
    "unique_gen = []\n",
    "for g in list_gens:\n",
    "    unique_gen += g.strip().split(\", \")\n",
    "dict_gens = Counter(unique_gen)\n",
    "print(dict_gens)\n",
    "print(\"len = \",len(dict_gens))\n",
    "plt.figure(figsize=(26,4))\n",
    "plt.bar(dict_gens.keys(),dict_gens.values(), width = 0.5, color=plt.cm.Paired(np.arange(len(dict_gens))))\n",
    "plt.show()"
   ]
  },
  {
   "cell_type": "markdown",
   "metadata": {},
   "source": []
  },
  {
   "cell_type": "code",
   "execution_count": 29,
   "metadata": {},
   "outputs": [
    {
     "data": {
      "text/plain": [
       "<matplotlib.axes._subplots.AxesSubplot at 0x2e7f626c888>"
      ]
     },
     "execution_count": 29,
     "metadata": {},
     "output_type": "execute_result"
    },
    {
     "data": {
      "image/png": "[encoded data removed]",
      "text/plain": [
       "<Figure size 432x288 with 1 Axes>"
      ]
     },
     "metadata": {
      "needs_background": "light"
     },
     "output_type": "display_data"
    }
   ],
   "source": [
    "hist = {}\n",
    "for i in range(genre_rating_df.shape[0]):\n",
    "  genres = genre_rating_df.iloc[i].genre.strip().split(\", \")\n",
    "  rating  = genre_rating_df.iloc[i].rating\n",
    "  for g in genres:\n",
    "    if g not in hist:\n",
    "      hist[g] = [rating]\n",
    "    else:\n",
    "      hist[g].append(rating)\n",
    "keys = list(hist.keys())\n",
    "vals = list(hist.values())\n",
    "vals = [np.mean(x) for x in vals]\n",
    "\n",
    "assert len(keys) == len(vals)\n",
    "hist_df = pd.DataFrame(columns=[\"genre\",\"avg_score\"])\n",
    "hist_df.genre = keys\n",
    "hist_df.avg_score = vals\n",
    "hist_df = hist_df.sort_values(by = [\"avg_score\"],ascending=False)\n",
    "hist_df.plot.bar()\n"
   ]
  },
  {
   "cell_type": "code",
   "execution_count": 30,
   "metadata": {},
   "outputs": [
    {
     "name": "stdout",
     "output_type": "stream",
     "text": [
      "          genre  avg_score\n",
      "25    Talk-Show   7.298795\n",
      "1   Documentary   7.260266\n",
      "19         News   7.194764\n",
      "2     Biography   7.191916\n",
      "14      History   7.184995\n",
      "5         Short   7.151443\n",
      "18        Sport   7.127395\n",
      "3         Music   6.975700\n",
      "22   Reality-TV   6.839227\n",
      "8     Animation   6.721670\n",
      "23          War   6.657672\n",
      "24    Game-Show   6.594828\n",
      "7         Drama   6.584762\n",
      "0         Crime   6.576085\n",
      "4     Adventure   6.561002\n",
      "21      Musical   6.498985\n",
      "13      Mystery   6.464074\n",
      "16      Fantasy   6.456463\n",
      "15      Romance   6.398225\n",
      "12       Family   6.380843\n",
      "17      Western   6.380556\n",
      "6        Comedy   6.361530\n",
      "11       Action   6.305889\n",
      "20       Sci-Fi   6.047788\n",
      "10     Thriller   5.713407\n",
      "9        Horror   5.465523\n"
     ]
    }
   ],
   "source": [
    "print(hist_df)"
   ]
  },
  {
   "cell_type": "markdown",
   "metadata": {},
   "source": [
    "- GENRE to number"
   ]
  },
  {
   "cell_type": "code",
   "execution_count": 31,
   "metadata": {},
   "outputs": [],
   "source": [
    "#TF-IDF \n",
    "\n",
    "corpus = genre_rating_df[\"genre\"].tolist()\n",
    "vectorizer = TfidfVectorizer()\n",
    "tfidf = vectorizer.fit_transform(corpus)\n",
    "\n",
    "\n",
    "list_sum_genre = []\n",
    "for i in range(len(genre_rating_df)):\n",
    "    list_sum_genre.append(tfidf[i].sum())"
   ]
  },
  {
   "cell_type": "code",
   "execution_count": 32,
   "metadata": {},
   "outputs": [
    {
     "data": {
      "text/plain": [
       "False"
      ]
     },
     "execution_count": 32,
     "metadata": {},
     "output_type": "execute_result"
    }
   ],
   "source": [
    "sum_genre = pd.DataFrame(list_sum_genre)\n",
    "sum_genre.isnull().values.any()\n"
   ]
  },
  {
   "cell_type": "code",
   "execution_count": 33,
   "metadata": {},
   "outputs": [
    {
     "name": "stderr",
     "output_type": "stream",
     "text": [
      "D:\\app\\anaconda\\run\\lib\\site-packages\\ipykernel_launcher.py:2: SettingWithCopyWarning: \n",
      "A value is trying to be set on a copy of a slice from a DataFrame.\n",
      "Try using .loc[row_indexer,col_indexer] = value instead\n",
      "\n",
      "See the caveats in the documentation: http://pandas.pydata.org/pandas-docs/stable/user_guide/indexing.html#returning-a-view-versus-a-copy\n",
      "  \n"
     ]
    }
   ],
   "source": [
    "#add column into df\n",
    "train_X_df[\"sum_genre\"] = pd.Series(list_sum_genre).values"
   ]
  },
  {
   "cell_type": "code",
   "execution_count": 34,
   "metadata": {},
   "outputs": [
    {
     "data": {
      "text/html": [
       "<div>\n",
       "<style scoped>\n",
       "    .dataframe tbody tr th:only-of-type {\n",
       "        vertical-align: middle;\n",
       "    }\n",
       "\n",
       "    .dataframe tbody tr th {\n",
       "        vertical-align: top;\n",
       "    }\n",
       "\n",
       "    .dataframe thead th {\n",
       "        text-align: right;\n",
       "    }\n",
       "</style>\n",
       "<table border=\"1\" class=\"dataframe\">\n",
       "  <thead>\n",
       "    <tr style=\"text-align: right;\">\n",
       "      <th></th>\n",
       "      <th>title</th>\n",
       "      <th>runtime</th>\n",
       "      <th>des</th>\n",
       "      <th>date</th>\n",
       "      <th>genre</th>\n",
       "      <th>cast</th>\n",
       "      <th>director</th>\n",
       "      <th>vote</th>\n",
       "      <th>gross</th>\n",
       "      <th>sum_genre</th>\n",
       "    </tr>\n",
       "  </thead>\n",
       "  <tbody>\n",
       "    <tr>\n",
       "      <td>49202</td>\n",
       "      <td>Homicide for the Holidays</td>\n",
       "      <td>0</td>\n",
       "      <td>For most, the winter holidays mean bringing fa...</td>\n",
       "      <td>2019</td>\n",
       "      <td>Crime</td>\n",
       "      <td>James Zeiss, Vanessa Molinelli, Mitch Damron, ...</td>\n",
       "      <td>NaN</td>\n",
       "      <td>22</td>\n",
       "      <td>NaN</td>\n",
       "      <td>1.000000</td>\n",
       "    </tr>\n",
       "    <tr>\n",
       "      <td>30380</td>\n",
       "      <td>Song from the Forest</td>\n",
       "      <td>98</td>\n",
       "      <td>25 years ago, Louis Sarno, an American, heard ...</td>\n",
       "      <td>2013</td>\n",
       "      <td>Documentary, Biography, Music</td>\n",
       "      <td>Louis Sarno, Samedi Mathurin Bokombe, Jim Jarm...</td>\n",
       "      <td>Michael Obert</td>\n",
       "      <td>209</td>\n",
       "      <td>NaN</td>\n",
       "      <td>1.673689</td>\n",
       "    </tr>\n",
       "    <tr>\n",
       "      <td>61848</td>\n",
       "      <td>Hieronymus Bosch, Touched by the Devil</td>\n",
       "      <td>86</td>\n",
       "      <td>In 2016, the Noordbrabants Museum in the Dutch...</td>\n",
       "      <td>2015</td>\n",
       "      <td>Documentary</td>\n",
       "      <td>Matthijs Ilsink, Peter Klein, Jos Koldeweij, R...</td>\n",
       "      <td>Pieter van Huystee</td>\n",
       "      <td>263</td>\n",
       "      <td>$0.17M</td>\n",
       "      <td>1.000000</td>\n",
       "    </tr>\n",
       "    <tr>\n",
       "      <td>16592</td>\n",
       "      <td>The Adventures of Tintin: Secret of the Unicor...</td>\n",
       "      <td>0</td>\n",
       "      <td>Add a Plot</td>\n",
       "      <td>2011</td>\n",
       "      <td>Adventure</td>\n",
       "      <td>Erik Braa, Adam Harrington, Brian Sommer</td>\n",
       "      <td>NaN</td>\n",
       "      <td>13</td>\n",
       "      <td>NaN</td>\n",
       "      <td>1.000000</td>\n",
       "    </tr>\n",
       "    <tr>\n",
       "      <td>47346</td>\n",
       "      <td>Forgiving Chris Brown</td>\n",
       "      <td>12</td>\n",
       "      <td>Forgiving Chris Brown is a dark comedy short t...</td>\n",
       "      <td>2015</td>\n",
       "      <td>Short, Comedy, Drama</td>\n",
       "      <td>Lodric D. Collins, Tami Jordan, Tanda Kerín, T...</td>\n",
       "      <td>Marquette Jones</td>\n",
       "      <td>9</td>\n",
       "      <td>NaN</td>\n",
       "      <td>1.724397</td>\n",
       "    </tr>\n",
       "  </tbody>\n",
       "</table>\n",
       "</div>"
      ],
      "text/plain": [
       "                                                   title runtime  \\\n",
       "49202                          Homicide for the Holidays       0   \n",
       "30380                               Song from the Forest      98   \n",
       "61848             Hieronymus Bosch, Touched by the Devil      86   \n",
       "16592  The Adventures of Tintin: Secret of the Unicor...       0   \n",
       "47346                              Forgiving Chris Brown      12   \n",
       "\n",
       "                                                     des  date  \\\n",
       "49202  For most, the winter holidays mean bringing fa...  2019   \n",
       "30380  25 years ago, Louis Sarno, an American, heard ...  2013   \n",
       "61848  In 2016, the Noordbrabants Museum in the Dutch...  2015   \n",
       "16592                                         Add a Plot  2011   \n",
       "47346  Forgiving Chris Brown is a dark comedy short t...  2015   \n",
       "\n",
       "                                           genre  \\\n",
       "49202                          Crime               \n",
       "30380  Documentary, Biography, Music               \n",
       "61848                    Documentary               \n",
       "16592                      Adventure               \n",
       "47346           Short, Comedy, Drama               \n",
       "\n",
       "                                                    cast            director  \\\n",
       "49202  James Zeiss, Vanessa Molinelli, Mitch Damron, ...                 NaN   \n",
       "30380  Louis Sarno, Samedi Mathurin Bokombe, Jim Jarm...       Michael Obert   \n",
       "61848  Matthijs Ilsink, Peter Klein, Jos Koldeweij, R...  Pieter van Huystee   \n",
       "16592           Erik Braa, Adam Harrington, Brian Sommer                 NaN   \n",
       "47346  Lodric D. Collins, Tami Jordan, Tanda Kerín, T...     Marquette Jones   \n",
       "\n",
       "       vote   gross  sum_genre  \n",
       "49202    22     NaN   1.000000  \n",
       "30380   209     NaN   1.673689  \n",
       "61848   263  $0.17M   1.000000  \n",
       "16592    13     NaN   1.000000  \n",
       "47346     9     NaN   1.724397  "
      ]
     },
     "execution_count": 34,
     "metadata": {},
     "output_type": "execute_result"
    }
   ],
   "source": [
    "train_X_df.head()"
   ]
  },
  {
   "cell_type": "markdown",
   "metadata": {},
   "source": [
    "- CAST to number"
   ]
  },
  {
   "cell_type": "code",
   "execution_count": 35,
   "metadata": {},
   "outputs": [],
   "source": [
    "#replace NaN element in cast to \"other\"\n",
    "#train_X_df[\"cast\"] = train_X_df[\"cast\"].fillna(\"other_cast\");"
   ]
  },
  {
   "cell_type": "code",
   "execution_count": 36,
   "metadata": {},
   "outputs": [
    {
     "name": "stdout",
     "output_type": "stream",
     "text": [
      "len =  65146\n"
     ]
    }
   ],
   "source": [
    "\n",
    "cast_rating_df = train_X_df[\"cast\"].to_frame().join(train_y_sr)\n",
    "\n",
    "from collections import Counter\n",
    "\n",
    "list_cast = list(cast_rating_df.cast)\n",
    "unique_cast = []\n",
    "for g in list_cast:\n",
    "    if(pd.isna(g) ==False):\n",
    "        unique_cast += g.strip().split(\", \")\n",
    "dict_cast = Counter(unique_cast)\n",
    "\n",
    "print(\"len = \",len(dict_cast))\n"
   ]
  },
  {
   "cell_type": "code",
   "execution_count": 37,
   "metadata": {},
   "outputs": [
    {
     "data": {
      "text/plain": [
       "{1: 48358,\n",
       " 2: 9762,\n",
       " 3: 2810,\n",
       " 4: 1412,\n",
       " 5: 815,\n",
       " 6: 497,\n",
       " 7: 378,\n",
       " 8: 274,\n",
       " 9: 173,\n",
       " 10: 144}"
      ]
     },
     "execution_count": 37,
     "metadata": {},
     "output_type": "execute_result"
    }
   ],
   "source": [
    "occur_cast = Counter(dict_cast.values())  #Số lần xuất hiện - Số diễn viên\n",
    "\n",
    "occur_cast = {k: v for k, v in sorted(occur_cast.items(), key=lambda item: item[1], reverse = True)}\n",
    "\n",
    "dict(list(occur_cast.items())[:10])"
   ]
  },
  {
   "cell_type": "code",
   "execution_count": 38,
   "metadata": {},
   "outputs": [
    {
     "data": {
      "text/plain": [
       "[('Laura Bailey', 70),\n",
       " ('Grey Griffin', 58),\n",
       " ('Troy Baker', 56),\n",
       " ('Eric Roberts', 51),\n",
       " ('Fred Tatasciore', 42),\n",
       " ('Dee Bradley Baker', 41),\n",
       " ('Eric Bauza', 40),\n",
       " ('Ashleigh Ball', 36),\n",
       " ('Sean Astin', 36),\n",
       " ('Tom Kenny', 35)]"
      ]
     },
     "execution_count": 38,
     "metadata": {},
     "output_type": "execute_result"
    }
   ],
   "source": [
    "cast_info = dict_cast.items()\n",
    "cast_info = sorted(cast_info, key=lambda tup: tup[1], reverse=True)\n",
    "cast_info[:10] #Từng diễn viên tương ứng với số lần đóng phim\n"
   ]
  },
  {
   "cell_type": "markdown",
   "metadata": {},
   "source": [
    "# Nhận xét: Những diễn viên xuất hiện nhiều lần, thông thường được mọi người xem là hay. Những diễn viên xuất hiện ít, thường là những người mới hoặc diễn tệ.\n"
   ]
  },
  {
   "cell_type": "code",
   "execution_count": 39,
   "metadata": {},
   "outputs": [],
   "source": [
    "#TF-IDF \n",
    "\n",
    "corpus = cast_rating_df.loc[cast_rating_df.cast.isnull() == False].cast.tolist()\n",
    "vectorizer = TfidfVectorizer()\n",
    "tfidf = vectorizer.fit_transform(corpus)\n",
    "\n",
    "\n",
    "list_sum_cast = cast_rating_df.cast.copy()\n",
    "\n",
    "list_sum = []\n",
    "for i in range(len(cast_rating_df.loc[cast_rating_df.cast.isnull() == False])):\n",
    "    list_sum.append(tfidf[i].sum())\n",
    "\n",
    "list_sum_cast[list_sum_cast.isnull() == False] = list_sum\n",
    "list_sum_cast[list_sum_cast.isnull() != False] = 0"
   ]
  },
  {
   "cell_type": "code",
   "execution_count": 40,
   "metadata": {},
   "outputs": [
    {
     "data": {
      "text/plain": [
       "False"
      ]
     },
     "execution_count": 40,
     "metadata": {},
     "output_type": "execute_result"
    }
   ],
   "source": [
    "sum_cast = pd.DataFrame(list_sum_cast)\n",
    "sum_cast.isnull().values.any()\n"
   ]
  },
  {
   "cell_type": "code",
   "execution_count": 41,
   "metadata": {},
   "outputs": [
    {
     "name": "stderr",
     "output_type": "stream",
     "text": [
      "D:\\app\\anaconda\\run\\lib\\site-packages\\ipykernel_launcher.py:2: SettingWithCopyWarning: \n",
      "A value is trying to be set on a copy of a slice from a DataFrame.\n",
      "Try using .loc[row_indexer,col_indexer] = value instead\n",
      "\n",
      "See the caveats in the documentation: http://pandas.pydata.org/pandas-docs/stable/user_guide/indexing.html#returning-a-view-versus-a-copy\n",
      "  \n"
     ]
    }
   ],
   "source": [
    "#add column into df\n",
    "train_X_df[\"sum_cast\"] = pd.Series(list_sum_cast).values"
   ]
  },
  {
   "cell_type": "code",
   "execution_count": 42,
   "metadata": {},
   "outputs": [
    {
     "data": {
      "text/html": [
       "<div>\n",
       "<style scoped>\n",
       "    .dataframe tbody tr th:only-of-type {\n",
       "        vertical-align: middle;\n",
       "    }\n",
       "\n",
       "    .dataframe tbody tr th {\n",
       "        vertical-align: top;\n",
       "    }\n",
       "\n",
       "    .dataframe thead th {\n",
       "        text-align: right;\n",
       "    }\n",
       "</style>\n",
       "<table border=\"1\" class=\"dataframe\">\n",
       "  <thead>\n",
       "    <tr style=\"text-align: right;\">\n",
       "      <th></th>\n",
       "      <th>title</th>\n",
       "      <th>runtime</th>\n",
       "      <th>des</th>\n",
       "      <th>date</th>\n",
       "      <th>genre</th>\n",
       "      <th>cast</th>\n",
       "      <th>director</th>\n",
       "      <th>vote</th>\n",
       "      <th>gross</th>\n",
       "      <th>sum_genre</th>\n",
       "      <th>sum_cast</th>\n",
       "    </tr>\n",
       "  </thead>\n",
       "  <tbody>\n",
       "    <tr>\n",
       "      <td>49202</td>\n",
       "      <td>Homicide for the Holidays</td>\n",
       "      <td>0</td>\n",
       "      <td>For most, the winter holidays mean bringing fa...</td>\n",
       "      <td>2019</td>\n",
       "      <td>Crime</td>\n",
       "      <td>James Zeiss, Vanessa Molinelli, Mitch Damron, ...</td>\n",
       "      <td>NaN</td>\n",
       "      <td>22</td>\n",
       "      <td>NaN</td>\n",
       "      <td>1.000000</td>\n",
       "      <td>2.72749</td>\n",
       "    </tr>\n",
       "    <tr>\n",
       "      <td>30380</td>\n",
       "      <td>Song from the Forest</td>\n",
       "      <td>98</td>\n",
       "      <td>25 years ago, Louis Sarno, an American, heard ...</td>\n",
       "      <td>2013</td>\n",
       "      <td>Documentary, Biography, Music</td>\n",
       "      <td>Louis Sarno, Samedi Mathurin Bokombe, Jim Jarm...</td>\n",
       "      <td>Michael Obert</td>\n",
       "      <td>209</td>\n",
       "      <td>NaN</td>\n",
       "      <td>1.673689</td>\n",
       "      <td>2.93533</td>\n",
       "    </tr>\n",
       "    <tr>\n",
       "      <td>61848</td>\n",
       "      <td>Hieronymus Bosch, Touched by the Devil</td>\n",
       "      <td>86</td>\n",
       "      <td>In 2016, the Noordbrabants Museum in the Dutch...</td>\n",
       "      <td>2015</td>\n",
       "      <td>Documentary</td>\n",
       "      <td>Matthijs Ilsink, Peter Klein, Jos Koldeweij, R...</td>\n",
       "      <td>Pieter van Huystee</td>\n",
       "      <td>263</td>\n",
       "      <td>$0.17M</td>\n",
       "      <td>1.000000</td>\n",
       "      <td>2.75147</td>\n",
       "    </tr>\n",
       "    <tr>\n",
       "      <td>16592</td>\n",
       "      <td>The Adventures of Tintin: Secret of the Unicor...</td>\n",
       "      <td>0</td>\n",
       "      <td>Add a Plot</td>\n",
       "      <td>2011</td>\n",
       "      <td>Adventure</td>\n",
       "      <td>Erik Braa, Adam Harrington, Brian Sommer</td>\n",
       "      <td>NaN</td>\n",
       "      <td>13</td>\n",
       "      <td>NaN</td>\n",
       "      <td>1.000000</td>\n",
       "      <td>2.38388</td>\n",
       "    </tr>\n",
       "    <tr>\n",
       "      <td>47346</td>\n",
       "      <td>Forgiving Chris Brown</td>\n",
       "      <td>12</td>\n",
       "      <td>Forgiving Chris Brown is a dark comedy short t...</td>\n",
       "      <td>2015</td>\n",
       "      <td>Short, Comedy, Drama</td>\n",
       "      <td>Lodric D. Collins, Tami Jordan, Tanda Kerín, T...</td>\n",
       "      <td>Marquette Jones</td>\n",
       "      <td>9</td>\n",
       "      <td>NaN</td>\n",
       "      <td>1.724397</td>\n",
       "      <td>2.7592</td>\n",
       "    </tr>\n",
       "  </tbody>\n",
       "</table>\n",
       "</div>"
      ],
      "text/plain": [
       "                                                   title runtime  \\\n",
       "49202                          Homicide for the Holidays       0   \n",
       "30380                               Song from the Forest      98   \n",
       "61848             Hieronymus Bosch, Touched by the Devil      86   \n",
       "16592  The Adventures of Tintin: Secret of the Unicor...       0   \n",
       "47346                              Forgiving Chris Brown      12   \n",
       "\n",
       "                                                     des  date  \\\n",
       "49202  For most, the winter holidays mean bringing fa...  2019   \n",
       "30380  25 years ago, Louis Sarno, an American, heard ...  2013   \n",
       "61848  In 2016, the Noordbrabants Museum in the Dutch...  2015   \n",
       "16592                                         Add a Plot  2011   \n",
       "47346  Forgiving Chris Brown is a dark comedy short t...  2015   \n",
       "\n",
       "                                           genre  \\\n",
       "49202                          Crime               \n",
       "30380  Documentary, Biography, Music               \n",
       "61848                    Documentary               \n",
       "16592                      Adventure               \n",
       "47346           Short, Comedy, Drama               \n",
       "\n",
       "                                                    cast            director  \\\n",
       "49202  James Zeiss, Vanessa Molinelli, Mitch Damron, ...                 NaN   \n",
       "30380  Louis Sarno, Samedi Mathurin Bokombe, Jim Jarm...       Michael Obert   \n",
       "61848  Matthijs Ilsink, Peter Klein, Jos Koldeweij, R...  Pieter van Huystee   \n",
       "16592           Erik Braa, Adam Harrington, Brian Sommer                 NaN   \n",
       "47346  Lodric D. Collins, Tami Jordan, Tanda Kerín, T...     Marquette Jones   \n",
       "\n",
       "       vote   gross  sum_genre sum_cast  \n",
       "49202    22     NaN   1.000000  2.72749  \n",
       "30380   209     NaN   1.673689  2.93533  \n",
       "61848   263  $0.17M   1.000000  2.75147  \n",
       "16592    13     NaN   1.000000  2.38388  \n",
       "47346     9     NaN   1.724397   2.7592  "
      ]
     },
     "execution_count": 42,
     "metadata": {},
     "output_type": "execute_result"
    }
   ],
   "source": [
    "train_X_df.head()"
   ]
  },
  {
   "cell_type": "markdown",
   "metadata": {},
   "source": [
    "- DIRECTOR to number"
   ]
  },
  {
   "cell_type": "code",
   "execution_count": 43,
   "metadata": {},
   "outputs": [],
   "source": [
    "#replace NaN element in cast to \"other\"\n",
    "#train_X_df[\"director\"] = train_X_df[\"director\"].fillna(\"other_director\");"
   ]
  },
  {
   "cell_type": "code",
   "execution_count": 44,
   "metadata": {},
   "outputs": [
    {
     "name": "stdout",
     "output_type": "stream",
     "text": [
      "len =  65146\n"
     ]
    }
   ],
   "source": [
    "\n",
    "director_rating_df = train_X_df[\"director\"].to_frame().join(train_y_sr)\n",
    "\n",
    "from collections import Counter\n",
    "\n",
    "list_director = list(director_rating_df.director)\n",
    "unique_director = []\n",
    "for g in list_cast:\n",
    "    if(pd.isna(g) ==False):\n",
    "        unique_director += g.strip().split(\", \")\n",
    "dict_director = Counter(unique_director)\n",
    "\n",
    "print(\"len = \",len(dict_director))"
   ]
  },
  {
   "cell_type": "code",
   "execution_count": 45,
   "metadata": {},
   "outputs": [],
   "source": [
    "#TF-IDF \n",
    "\n",
    "corpus =director_rating_df.loc[director_rating_df.director.isnull() == False].director.tolist()\n",
    "vectorizer = TfidfVectorizer()\n",
    "tfidf = vectorizer.fit_transform(corpus)\n",
    "\n",
    "\n",
    "list_sum_director = director_rating_df.director.copy()\n",
    "list_sum = []\n",
    "for i in range(len(director_rating_df.loc[director_rating_df.director.isnull() == False])):\n",
    "    list_sum.append(tfidf[i].sum())\n",
    "list_sum_director[list_sum_director.isnull() == False] = list_sum\n",
    "list_sum_director[list_sum_director.isnull() != False] = 0"
   ]
  },
  {
   "cell_type": "code",
   "execution_count": 46,
   "metadata": {},
   "outputs": [
    {
     "data": {
      "text/plain": [
       "False"
      ]
     },
     "execution_count": 46,
     "metadata": {},
     "output_type": "execute_result"
    }
   ],
   "source": [
    "sum_director = pd.DataFrame(list_sum_director)\n",
    "sum_director.isnull().values.any()\n"
   ]
  },
  {
   "cell_type": "code",
   "execution_count": 47,
   "metadata": {},
   "outputs": [
    {
     "name": "stderr",
     "output_type": "stream",
     "text": [
      "D:\\app\\anaconda\\run\\lib\\site-packages\\ipykernel_launcher.py:2: SettingWithCopyWarning: \n",
      "A value is trying to be set on a copy of a slice from a DataFrame.\n",
      "Try using .loc[row_indexer,col_indexer] = value instead\n",
      "\n",
      "See the caveats in the documentation: http://pandas.pydata.org/pandas-docs/stable/user_guide/indexing.html#returning-a-view-versus-a-copy\n",
      "  \n"
     ]
    }
   ],
   "source": [
    "#add column into df\n",
    "train_X_df[\"sum_director\"] = pd.Series(list_sum_director).values"
   ]
  },
  {
   "cell_type": "code",
   "execution_count": 48,
   "metadata": {},
   "outputs": [
    {
     "data": {
      "text/html": [
       "<div>\n",
       "<style scoped>\n",
       "    .dataframe tbody tr th:only-of-type {\n",
       "        vertical-align: middle;\n",
       "    }\n",
       "\n",
       "    .dataframe tbody tr th {\n",
       "        vertical-align: top;\n",
       "    }\n",
       "\n",
       "    .dataframe thead th {\n",
       "        text-align: right;\n",
       "    }\n",
       "</style>\n",
       "<table border=\"1\" class=\"dataframe\">\n",
       "  <thead>\n",
       "    <tr style=\"text-align: right;\">\n",
       "      <th></th>\n",
       "      <th>title</th>\n",
       "      <th>runtime</th>\n",
       "      <th>des</th>\n",
       "      <th>date</th>\n",
       "      <th>genre</th>\n",
       "      <th>cast</th>\n",
       "      <th>director</th>\n",
       "      <th>vote</th>\n",
       "      <th>gross</th>\n",
       "      <th>sum_genre</th>\n",
       "      <th>sum_cast</th>\n",
       "      <th>sum_director</th>\n",
       "    </tr>\n",
       "  </thead>\n",
       "  <tbody>\n",
       "    <tr>\n",
       "      <td>49202</td>\n",
       "      <td>Homicide for the Holidays</td>\n",
       "      <td>0</td>\n",
       "      <td>For most, the winter holidays mean bringing fa...</td>\n",
       "      <td>2019</td>\n",
       "      <td>Crime</td>\n",
       "      <td>James Zeiss, Vanessa Molinelli, Mitch Damron, ...</td>\n",
       "      <td>NaN</td>\n",
       "      <td>22</td>\n",
       "      <td>NaN</td>\n",
       "      <td>1.000000</td>\n",
       "      <td>2.72749</td>\n",
       "      <td>0</td>\n",
       "    </tr>\n",
       "    <tr>\n",
       "      <td>30380</td>\n",
       "      <td>Song from the Forest</td>\n",
       "      <td>98</td>\n",
       "      <td>25 years ago, Louis Sarno, an American, heard ...</td>\n",
       "      <td>2013</td>\n",
       "      <td>Documentary, Biography, Music</td>\n",
       "      <td>Louis Sarno, Samedi Mathurin Bokombe, Jim Jarm...</td>\n",
       "      <td>Michael Obert</td>\n",
       "      <td>209</td>\n",
       "      <td>NaN</td>\n",
       "      <td>1.673689</td>\n",
       "      <td>2.93533</td>\n",
       "      <td>1.70656</td>\n",
       "    </tr>\n",
       "    <tr>\n",
       "      <td>61848</td>\n",
       "      <td>Hieronymus Bosch, Touched by the Devil</td>\n",
       "      <td>86</td>\n",
       "      <td>In 2016, the Noordbrabants Museum in the Dutch...</td>\n",
       "      <td>2015</td>\n",
       "      <td>Documentary</td>\n",
       "      <td>Matthijs Ilsink, Peter Klein, Jos Koldeweij, R...</td>\n",
       "      <td>Pieter van Huystee</td>\n",
       "      <td>263</td>\n",
       "      <td>$0.17M</td>\n",
       "      <td>1.000000</td>\n",
       "      <td>2.75147</td>\n",
       "      <td>1.38174</td>\n",
       "    </tr>\n",
       "    <tr>\n",
       "      <td>16592</td>\n",
       "      <td>The Adventures of Tintin: Secret of the Unicor...</td>\n",
       "      <td>0</td>\n",
       "      <td>Add a Plot</td>\n",
       "      <td>2011</td>\n",
       "      <td>Adventure</td>\n",
       "      <td>Erik Braa, Adam Harrington, Brian Sommer</td>\n",
       "      <td>NaN</td>\n",
       "      <td>13</td>\n",
       "      <td>NaN</td>\n",
       "      <td>1.000000</td>\n",
       "      <td>2.38388</td>\n",
       "      <td>0</td>\n",
       "    </tr>\n",
       "    <tr>\n",
       "      <td>47346</td>\n",
       "      <td>Forgiving Chris Brown</td>\n",
       "      <td>12</td>\n",
       "      <td>Forgiving Chris Brown is a dark comedy short t...</td>\n",
       "      <td>2015</td>\n",
       "      <td>Short, Comedy, Drama</td>\n",
       "      <td>Lodric D. Collins, Tami Jordan, Tanda Kerín, T...</td>\n",
       "      <td>Marquette Jones</td>\n",
       "      <td>9</td>\n",
       "      <td>NaN</td>\n",
       "      <td>1.724397</td>\n",
       "      <td>2.7592</td>\n",
       "      <td>1.69008</td>\n",
       "    </tr>\n",
       "  </tbody>\n",
       "</table>\n",
       "</div>"
      ],
      "text/plain": [
       "                                                   title runtime  \\\n",
       "49202                          Homicide for the Holidays       0   \n",
       "30380                               Song from the Forest      98   \n",
       "61848             Hieronymus Bosch, Touched by the Devil      86   \n",
       "16592  The Adventures of Tintin: Secret of the Unicor...       0   \n",
       "47346                              Forgiving Chris Brown      12   \n",
       "\n",
       "                                                     des  date  \\\n",
       "49202  For most, the winter holidays mean bringing fa...  2019   \n",
       "30380  25 years ago, Louis Sarno, an American, heard ...  2013   \n",
       "61848  In 2016, the Noordbrabants Museum in the Dutch...  2015   \n",
       "16592                                         Add a Plot  2011   \n",
       "47346  Forgiving Chris Brown is a dark comedy short t...  2015   \n",
       "\n",
       "                                           genre  \\\n",
       "49202                          Crime               \n",
       "30380  Documentary, Biography, Music               \n",
       "61848                    Documentary               \n",
       "16592                      Adventure               \n",
       "47346           Short, Comedy, Drama               \n",
       "\n",
       "                                                    cast            director  \\\n",
       "49202  James Zeiss, Vanessa Molinelli, Mitch Damron, ...                 NaN   \n",
       "30380  Louis Sarno, Samedi Mathurin Bokombe, Jim Jarm...       Michael Obert   \n",
       "61848  Matthijs Ilsink, Peter Klein, Jos Koldeweij, R...  Pieter van Huystee   \n",
       "16592           Erik Braa, Adam Harrington, Brian Sommer                 NaN   \n",
       "47346  Lodric D. Collins, Tami Jordan, Tanda Kerín, T...     Marquette Jones   \n",
       "\n",
       "       vote   gross  sum_genre sum_cast sum_director  \n",
       "49202    22     NaN   1.000000  2.72749            0  \n",
       "30380   209     NaN   1.673689  2.93533      1.70656  \n",
       "61848   263  $0.17M   1.000000  2.75147      1.38174  \n",
       "16592    13     NaN   1.000000  2.38388            0  \n",
       "47346     9     NaN   1.724397   2.7592      1.69008  "
      ]
     },
     "execution_count": 48,
     "metadata": {},
     "output_type": "execute_result"
    }
   ],
   "source": [
    "train_X_df.head()"
   ]
  },
  {
   "cell_type": "markdown",
   "metadata": {},
   "source": [
    "- GROSS to number"
   ]
  },
  {
   "cell_type": "code",
   "execution_count": 49,
   "metadata": {},
   "outputs": [
    {
     "name": "stderr",
     "output_type": "stream",
     "text": [
      "D:\\app\\anaconda\\run\\lib\\site-packages\\ipykernel_launcher.py:2: SettingWithCopyWarning: \n",
      "A value is trying to be set on a copy of a slice from a DataFrame.\n",
      "Try using .loc[row_indexer,col_indexer] = value instead\n",
      "\n",
      "See the caveats in the documentation: http://pandas.pydata.org/pandas-docs/stable/user_guide/indexing.html#returning-a-view-versus-a-copy\n",
      "  \n"
     ]
    }
   ],
   "source": [
    "#replace NaN element in cast to \"other\"\n",
    "train_X_df[\"gross\"] = train_X_df[\"gross\"].fillna(\"0.0\");"
   ]
  },
  {
   "cell_type": "code",
   "execution_count": 50,
   "metadata": {},
   "outputs": [
    {
     "name": "stderr",
     "output_type": "stream",
     "text": [
      "D:\\app\\anaconda\\run\\lib\\site-packages\\pandas\\core\\indexing.py:205: SettingWithCopyWarning: \n",
      "A value is trying to be set on a copy of a slice from a DataFrame\n",
      "\n",
      "See the caveats in the documentation: http://pandas.pydata.org/pandas-docs/stable/user_guide/indexing.html#returning-a-view-versus-a-copy\n",
      "  self._setitem_with_indexer(indexer, value)\n",
      "D:\\app\\anaconda\\run\\lib\\site-packages\\ipykernel_launcher.py:5: SettingWithCopyWarning: \n",
      "A value is trying to be set on a copy of a slice from a DataFrame\n",
      "\n",
      "See the caveats in the documentation: http://pandas.pydata.org/pandas-docs/stable/user_guide/indexing.html#returning-a-view-versus-a-copy\n",
      "  \"\"\"\n"
     ]
    }
   ],
   "source": [
    "\n",
    "#define money\n",
    "money = {\"M\": 10**6, \"B\": 10**12, \"G\": 10**9, \"P\": 10**15, \"K\": 10**3, \"0\": 0}\n",
    "for i in range(len(train_X_df)):\n",
    "    \n",
    "    train_X_df.gross.iloc[i] = float(re.findall(\"\\d+\\.\\d+\", train_X_df.gross.iloc[i])[0]) * money[train_X_df.gross.iloc[i][-1]]"
   ]
  },
  {
   "cell_type": "code",
   "execution_count": 51,
   "metadata": {},
   "outputs": [
    {
     "data": {
      "text/plain": [
       "{0.0: 27374,\n",
       " 10000.0: 210,\n",
       " 20000.0: 116,\n",
       " 30000.0: 74,\n",
       " 40000.0: 72,\n",
       " 50000.0: 43,\n",
       " 60000.0: 41,\n",
       " 70000.0: 33,\n",
       " 90000.0: 32,\n",
       " 120000.0: 31,\n",
       " 100000.0: 30,\n",
       " 110000.0: 26,\n",
       " 80000.0: 17,\n",
       " 180000.0: 16,\n",
       " 200000.0: 16,\n",
       " 130000.0: 15,\n",
       " 150000.0: 15,\n",
       " 140000.0: 14,\n",
       " 300000.0: 13,\n",
       " 170000.0: 12,\n",
       " 290000.0: 12,\n",
       " 210000.0: 11,\n",
       " 240000.0: 11,\n",
       " 230000.0: 10,\n",
       " 560000.0: 10,\n",
       " 160000.0: 10,\n",
       " 310000.0: 10,\n",
       " 530000.0: 10,\n",
       " 340000.0: 10,\n",
       " 320000.0: 10,\n",
       " 220000.0: 10,\n",
       " 540000.0: 9,\n",
       " 360000.0: 9,\n",
       " 260000.0: 9,\n",
       " 380000.0: 9,\n",
       " 190000.0: 9,\n",
       " 330000.0: 8,\n",
       " 250000.0: 8,\n",
       " 1010000.0: 8,\n",
       " 700000.0: 7}"
      ]
     },
     "execution_count": 51,
     "metadata": {},
     "output_type": "execute_result"
    }
   ],
   "source": [
    "\n",
    "dict_gross = Counter(train_X_df.gross)\n",
    "dict_gross = {k: v for k, v in sorted(dict_gross.items(), key=lambda item: item[1], reverse = True)} #sort\n",
    "\n",
    "dict(list(dict_gross.items())[:40])"
   ]
  },
  {
   "cell_type": "markdown",
   "metadata": {},
   "source": [
    "# Nhận thấy: số lượng \"0.0\" chiếm quá nhiều, gây chênh lệnh lớn. Sử dụng median (vì lượng gross bị lệch nên tính theo mean không tốt) trên dòng không có \"0.0\" để thay thế"
   ]
  },
  {
   "cell_type": "code",
   "execution_count": 52,
   "metadata": {},
   "outputs": [
    {
     "name": "stderr",
     "output_type": "stream",
     "text": [
      "D:\\app\\anaconda\\run\\lib\\site-packages\\ipykernel_launcher.py:2: SettingWithCopyWarning: \n",
      "A value is trying to be set on a copy of a slice from a DataFrame.\n",
      "Try using .loc[row_indexer,col_indexer] = value instead\n",
      "\n",
      "See the caveats in the documentation: http://pandas.pydata.org/pandas-docs/stable/user_guide/indexing.html#returning-a-view-versus-a-copy\n",
      "  \n"
     ]
    },
    {
     "data": {
      "text/plain": [
       "{1420000.0: 27376,\n",
       " 10000.0: 210,\n",
       " 20000.0: 116,\n",
       " 30000.0: 74,\n",
       " 40000.0: 72,\n",
       " 50000.0: 43,\n",
       " 60000.0: 41,\n",
       " 70000.0: 33,\n",
       " 90000.0: 32,\n",
       " 120000.0: 31,\n",
       " 100000.0: 30,\n",
       " 110000.0: 26,\n",
       " 80000.0: 17,\n",
       " 180000.0: 16,\n",
       " 200000.0: 16,\n",
       " 130000.0: 15,\n",
       " 150000.0: 15,\n",
       " 140000.0: 14,\n",
       " 300000.0: 13,\n",
       " 170000.0: 12}"
      ]
     },
     "execution_count": 52,
     "metadata": {},
     "output_type": "execute_result"
    }
   ],
   "source": [
    "imp = SimpleImputer(missing_values = 0, strategy='median')\n",
    "train_X_df[\"gross\"] = imp.fit_transform(train_X_df[[\"gross\"]]).ravel()\n",
    "\n",
    "\n",
    "dict_gross = Counter(train_X_df.gross)\n",
    "dict_gross = {k: v for k, v in sorted(dict_gross.items(), key=lambda item: item[1], reverse = True)} #sort\n",
    "\n",
    "dict(list(dict_gross.items())[:20])"
   ]
  },
  {
   "cell_type": "code",
   "execution_count": 53,
   "metadata": {},
   "outputs": [
    {
     "data": {
      "text/html": [
       "<div>\n",
       "<style scoped>\n",
       "    .dataframe tbody tr th:only-of-type {\n",
       "        vertical-align: middle;\n",
       "    }\n",
       "\n",
       "    .dataframe tbody tr th {\n",
       "        vertical-align: top;\n",
       "    }\n",
       "\n",
       "    .dataframe thead th {\n",
       "        text-align: right;\n",
       "    }\n",
       "</style>\n",
       "<table border=\"1\" class=\"dataframe\">\n",
       "  <thead>\n",
       "    <tr style=\"text-align: right;\">\n",
       "      <th></th>\n",
       "      <th>title</th>\n",
       "      <th>runtime</th>\n",
       "      <th>des</th>\n",
       "      <th>vote</th>\n",
       "      <th>gross</th>\n",
       "      <th>sum_genre</th>\n",
       "      <th>sum_cast</th>\n",
       "      <th>sum_director</th>\n",
       "    </tr>\n",
       "  </thead>\n",
       "  <tbody>\n",
       "    <tr>\n",
       "      <td>49202</td>\n",
       "      <td>Homicide for the Holidays</td>\n",
       "      <td>0</td>\n",
       "      <td>For most, the winter holidays mean bringing fa...</td>\n",
       "      <td>22</td>\n",
       "      <td>1420000.0</td>\n",
       "      <td>1.000000</td>\n",
       "      <td>2.72749</td>\n",
       "      <td>0</td>\n",
       "    </tr>\n",
       "    <tr>\n",
       "      <td>30380</td>\n",
       "      <td>Song from the Forest</td>\n",
       "      <td>98</td>\n",
       "      <td>25 years ago, Louis Sarno, an American, heard ...</td>\n",
       "      <td>209</td>\n",
       "      <td>1420000.0</td>\n",
       "      <td>1.673689</td>\n",
       "      <td>2.93533</td>\n",
       "      <td>1.70656</td>\n",
       "    </tr>\n",
       "    <tr>\n",
       "      <td>61848</td>\n",
       "      <td>Hieronymus Bosch, Touched by the Devil</td>\n",
       "      <td>86</td>\n",
       "      <td>In 2016, the Noordbrabants Museum in the Dutch...</td>\n",
       "      <td>263</td>\n",
       "      <td>170000.0</td>\n",
       "      <td>1.000000</td>\n",
       "      <td>2.75147</td>\n",
       "      <td>1.38174</td>\n",
       "    </tr>\n",
       "    <tr>\n",
       "      <td>16592</td>\n",
       "      <td>The Adventures of Tintin: Secret of the Unicor...</td>\n",
       "      <td>0</td>\n",
       "      <td>Add a Plot</td>\n",
       "      <td>13</td>\n",
       "      <td>1420000.0</td>\n",
       "      <td>1.000000</td>\n",
       "      <td>2.38388</td>\n",
       "      <td>0</td>\n",
       "    </tr>\n",
       "    <tr>\n",
       "      <td>47346</td>\n",
       "      <td>Forgiving Chris Brown</td>\n",
       "      <td>12</td>\n",
       "      <td>Forgiving Chris Brown is a dark comedy short t...</td>\n",
       "      <td>9</td>\n",
       "      <td>1420000.0</td>\n",
       "      <td>1.724397</td>\n",
       "      <td>2.7592</td>\n",
       "      <td>1.69008</td>\n",
       "    </tr>\n",
       "  </tbody>\n",
       "</table>\n",
       "</div>"
      ],
      "text/plain": [
       "                                                   title runtime  \\\n",
       "49202                          Homicide for the Holidays       0   \n",
       "30380                               Song from the Forest      98   \n",
       "61848             Hieronymus Bosch, Touched by the Devil      86   \n",
       "16592  The Adventures of Tintin: Secret of the Unicor...       0   \n",
       "47346                              Forgiving Chris Brown      12   \n",
       "\n",
       "                                                     des  vote      gross  \\\n",
       "49202  For most, the winter holidays mean bringing fa...    22  1420000.0   \n",
       "30380  25 years ago, Louis Sarno, an American, heard ...   209  1420000.0   \n",
       "61848  In 2016, the Noordbrabants Museum in the Dutch...   263   170000.0   \n",
       "16592                                         Add a Plot    13  1420000.0   \n",
       "47346  Forgiving Chris Brown is a dark comedy short t...     9  1420000.0   \n",
       "\n",
       "       sum_genre sum_cast sum_director  \n",
       "49202   1.000000  2.72749            0  \n",
       "30380   1.673689  2.93533      1.70656  \n",
       "61848   1.000000  2.75147      1.38174  \n",
       "16592   1.000000  2.38388            0  \n",
       "47346   1.724397   2.7592      1.69008  "
      ]
     },
     "execution_count": 53,
     "metadata": {},
     "output_type": "execute_result"
    }
   ],
   "source": [
    "train_X_df = train_X_df.drop(['cast',\"genre\",\"director\",\"date\"], axis = 1)\n",
    "train_X_df.head()"
   ]
  },
  {
   "cell_type": "markdown",
   "metadata": {},
   "source": [
    "# scaling"
   ]
  },
  {
   "cell_type": "code",
   "execution_count": 54,
   "metadata": {},
   "outputs": [
    {
     "data": {
      "text/html": [
       "<div>\n",
       "<style scoped>\n",
       "    .dataframe tbody tr th:only-of-type {\n",
       "        vertical-align: middle;\n",
       "    }\n",
       "\n",
       "    .dataframe tbody tr th {\n",
       "        vertical-align: top;\n",
       "    }\n",
       "\n",
       "    .dataframe thead th {\n",
       "        text-align: right;\n",
       "    }\n",
       "</style>\n",
       "<table border=\"1\" class=\"dataframe\">\n",
       "  <thead>\n",
       "    <tr style=\"text-align: right;\">\n",
       "      <th></th>\n",
       "      <th>title</th>\n",
       "      <th>runtime</th>\n",
       "      <th>des</th>\n",
       "      <th>vote</th>\n",
       "      <th>gross</th>\n",
       "      <th>sum_genre</th>\n",
       "      <th>sum_cast</th>\n",
       "      <th>sum_director</th>\n",
       "    </tr>\n",
       "  </thead>\n",
       "  <tbody>\n",
       "    <tr>\n",
       "      <td>49202</td>\n",
       "      <td>Homicide for the Holidays</td>\n",
       "      <td>0</td>\n",
       "      <td>For most, the winter holidays mean bringing fa...</td>\n",
       "      <td>22</td>\n",
       "      <td>1420000.0</td>\n",
       "      <td>1.000000</td>\n",
       "      <td>2.72749</td>\n",
       "      <td>0</td>\n",
       "    </tr>\n",
       "    <tr>\n",
       "      <td>30380</td>\n",
       "      <td>Song from the Forest</td>\n",
       "      <td>98</td>\n",
       "      <td>25 years ago, Louis Sarno, an American, heard ...</td>\n",
       "      <td>209</td>\n",
       "      <td>1420000.0</td>\n",
       "      <td>1.673689</td>\n",
       "      <td>2.93533</td>\n",
       "      <td>1.70656</td>\n",
       "    </tr>\n",
       "    <tr>\n",
       "      <td>61848</td>\n",
       "      <td>Hieronymus Bosch, Touched by the Devil</td>\n",
       "      <td>86</td>\n",
       "      <td>In 2016, the Noordbrabants Museum in the Dutch...</td>\n",
       "      <td>263</td>\n",
       "      <td>170000.0</td>\n",
       "      <td>1.000000</td>\n",
       "      <td>2.75147</td>\n",
       "      <td>1.38174</td>\n",
       "    </tr>\n",
       "    <tr>\n",
       "      <td>16592</td>\n",
       "      <td>The Adventures of Tintin: Secret of the Unicor...</td>\n",
       "      <td>0</td>\n",
       "      <td>Add a Plot</td>\n",
       "      <td>13</td>\n",
       "      <td>1420000.0</td>\n",
       "      <td>1.000000</td>\n",
       "      <td>2.38388</td>\n",
       "      <td>0</td>\n",
       "    </tr>\n",
       "    <tr>\n",
       "      <td>47346</td>\n",
       "      <td>Forgiving Chris Brown</td>\n",
       "      <td>12</td>\n",
       "      <td>Forgiving Chris Brown is a dark comedy short t...</td>\n",
       "      <td>9</td>\n",
       "      <td>1420000.0</td>\n",
       "      <td>1.724397</td>\n",
       "      <td>2.7592</td>\n",
       "      <td>1.69008</td>\n",
       "    </tr>\n",
       "  </tbody>\n",
       "</table>\n",
       "</div>"
      ],
      "text/plain": [
       "                                                   title runtime  \\\n",
       "49202                          Homicide for the Holidays       0   \n",
       "30380                               Song from the Forest      98   \n",
       "61848             Hieronymus Bosch, Touched by the Devil      86   \n",
       "16592  The Adventures of Tintin: Secret of the Unicor...       0   \n",
       "47346                              Forgiving Chris Brown      12   \n",
       "\n",
       "                                                     des  vote      gross  \\\n",
       "49202  For most, the winter holidays mean bringing fa...    22  1420000.0   \n",
       "30380  25 years ago, Louis Sarno, an American, heard ...   209  1420000.0   \n",
       "61848  In 2016, the Noordbrabants Museum in the Dutch...   263   170000.0   \n",
       "16592                                         Add a Plot    13  1420000.0   \n",
       "47346  Forgiving Chris Brown is a dark comedy short t...     9  1420000.0   \n",
       "\n",
       "       sum_genre sum_cast sum_director  \n",
       "49202   1.000000  2.72749            0  \n",
       "30380   1.673689  2.93533      1.70656  \n",
       "61848   1.000000  2.75147      1.38174  \n",
       "16592   1.000000  2.38388            0  \n",
       "47346   1.724397   2.7592      1.69008  "
      ]
     },
     "execution_count": 54,
     "metadata": {},
     "output_type": "execute_result"
    }
   ],
   "source": [
    "train_X_df.head()"
   ]
  },
  {
   "cell_type": "code",
   "execution_count": 55,
   "metadata": {},
   "outputs": [],
   "source": [
    "scl = StandardScaler()\n",
    "train_X_df[[\"runtime\",\"vote\", \"gross\", \"sum_genre\", \"sum_cast\", \"sum_director\"]]=scl.fit_transform(train_X_df[[\"runtime\",\"vote\", \"gross\", \"sum_genre\", \"sum_cast\", \"sum_director\"]])"
   ]
  },
  {
   "cell_type": "code",
   "execution_count": 56,
   "metadata": {},
   "outputs": [
    {
     "data": {
      "text/html": [
       "<div>\n",
       "<style scoped>\n",
       "    .dataframe tbody tr th:only-of-type {\n",
       "        vertical-align: middle;\n",
       "    }\n",
       "\n",
       "    .dataframe tbody tr th {\n",
       "        vertical-align: top;\n",
       "    }\n",
       "\n",
       "    .dataframe thead th {\n",
       "        text-align: right;\n",
       "    }\n",
       "</style>\n",
       "<table border=\"1\" class=\"dataframe\">\n",
       "  <thead>\n",
       "    <tr style=\"text-align: right;\">\n",
       "      <th></th>\n",
       "      <th>title</th>\n",
       "      <th>runtime</th>\n",
       "      <th>des</th>\n",
       "      <th>vote</th>\n",
       "      <th>gross</th>\n",
       "      <th>sum_genre</th>\n",
       "      <th>sum_cast</th>\n",
       "      <th>sum_director</th>\n",
       "    </tr>\n",
       "  </thead>\n",
       "  <tbody>\n",
       "    <tr>\n",
       "      <td>49202</td>\n",
       "      <td>Homicide for the Holidays</td>\n",
       "      <td>-1.224851</td>\n",
       "      <td>For most, the winter holidays mean bringing fa...</td>\n",
       "      <td>-0.155025</td>\n",
       "      <td>-0.11178</td>\n",
       "      <td>-1.633668</td>\n",
       "      <td>0.311316</td>\n",
       "      <td>-1.522936</td>\n",
       "    </tr>\n",
       "    <tr>\n",
       "      <td>30380</td>\n",
       "      <td>Song from the Forest</td>\n",
       "      <td>0.842315</td>\n",
       "      <td>25 years ago, Louis Sarno, an American, heard ...</td>\n",
       "      <td>-0.150652</td>\n",
       "      <td>-0.11178</td>\n",
       "      <td>0.684421</td>\n",
       "      <td>0.706477</td>\n",
       "      <td>0.819313</td>\n",
       "    </tr>\n",
       "    <tr>\n",
       "      <td>61848</td>\n",
       "      <td>Hieronymus Bosch, Touched by the Devil</td>\n",
       "      <td>0.589193</td>\n",
       "      <td>In 2016, the Noordbrabants Museum in the Dutch...</td>\n",
       "      <td>-0.149389</td>\n",
       "      <td>-0.16944</td>\n",
       "      <td>-1.633668</td>\n",
       "      <td>0.356912</td>\n",
       "      <td>0.373501</td>\n",
       "    </tr>\n",
       "    <tr>\n",
       "      <td>16592</td>\n",
       "      <td>The Adventures of Tintin: Secret of the Unicor...</td>\n",
       "      <td>-1.224851</td>\n",
       "      <td>Add a Plot</td>\n",
       "      <td>-0.155235</td>\n",
       "      <td>-0.11178</td>\n",
       "      <td>-1.633668</td>\n",
       "      <td>-0.341982</td>\n",
       "      <td>-1.522936</td>\n",
       "    </tr>\n",
       "    <tr>\n",
       "      <td>47346</td>\n",
       "      <td>Forgiving Chris Brown</td>\n",
       "      <td>-0.971729</td>\n",
       "      <td>Forgiving Chris Brown is a dark comedy short t...</td>\n",
       "      <td>-0.155329</td>\n",
       "      <td>-0.11178</td>\n",
       "      <td>0.858900</td>\n",
       "      <td>0.371600</td>\n",
       "      <td>0.796705</td>\n",
       "    </tr>\n",
       "  </tbody>\n",
       "</table>\n",
       "</div>"
      ],
      "text/plain": [
       "                                                   title   runtime  \\\n",
       "49202                          Homicide for the Holidays -1.224851   \n",
       "30380                               Song from the Forest  0.842315   \n",
       "61848             Hieronymus Bosch, Touched by the Devil  0.589193   \n",
       "16592  The Adventures of Tintin: Secret of the Unicor... -1.224851   \n",
       "47346                              Forgiving Chris Brown -0.971729   \n",
       "\n",
       "                                                     des      vote    gross  \\\n",
       "49202  For most, the winter holidays mean bringing fa... -0.155025 -0.11178   \n",
       "30380  25 years ago, Louis Sarno, an American, heard ... -0.150652 -0.11178   \n",
       "61848  In 2016, the Noordbrabants Museum in the Dutch... -0.149389 -0.16944   \n",
       "16592                                         Add a Plot -0.155235 -0.11178   \n",
       "47346  Forgiving Chris Brown is a dark comedy short t... -0.155329 -0.11178   \n",
       "\n",
       "       sum_genre  sum_cast  sum_director  \n",
       "49202  -1.633668  0.311316     -1.522936  \n",
       "30380   0.684421  0.706477      0.819313  \n",
       "61848  -1.633668  0.356912      0.373501  \n",
       "16592  -1.633668 -0.341982     -1.522936  \n",
       "47346   0.858900  0.371600      0.796705  "
      ]
     },
     "execution_count": 56,
     "metadata": {},
     "output_type": "execute_result"
    }
   ],
   "source": [
    "train_X_df.head()"
   ]
  },
  {
   "cell_type": "markdown",
   "metadata": {},
   "source": [
    "# Xử lý tương tự trên tập validation"
   ]
  },
  {
   "cell_type": "code",
   "execution_count": null,
   "metadata": {},
   "outputs": [],
   "source": []
  },
  {
   "cell_type": "code",
   "execution_count": 57,
   "metadata": {},
   "outputs": [],
   "source": [
    "genre_rating_df = val_X_df[\"genre\"].to_frame().join(val_y_sr)"
   ]
  },
  {
   "cell_type": "code",
   "execution_count": 58,
   "metadata": {},
   "outputs": [
    {
     "data": {
      "text/html": [
       "<div>\n",
       "<style scoped>\n",
       "    .dataframe tbody tr th:only-of-type {\n",
       "        vertical-align: middle;\n",
       "    }\n",
       "\n",
       "    .dataframe tbody tr th {\n",
       "        vertical-align: top;\n",
       "    }\n",
       "\n",
       "    .dataframe thead th {\n",
       "        text-align: right;\n",
       "    }\n",
       "</style>\n",
       "<table border=\"1\" class=\"dataframe\">\n",
       "  <thead>\n",
       "    <tr style=\"text-align: right;\">\n",
       "      <th></th>\n",
       "      <th>genre</th>\n",
       "      <th>rating</th>\n",
       "    </tr>\n",
       "  </thead>\n",
       "  <tbody>\n",
       "    <tr>\n",
       "      <td>73623</td>\n",
       "      <td>Short, Comedy, Drama</td>\n",
       "      <td>6.0</td>\n",
       "    </tr>\n",
       "    <tr>\n",
       "      <td>5550</td>\n",
       "      <td>Short, Action, Drama</td>\n",
       "      <td>7.8</td>\n",
       "    </tr>\n",
       "    <tr>\n",
       "      <td>64399</td>\n",
       "      <td>Documentary</td>\n",
       "      <td>8.6</td>\n",
       "    </tr>\n",
       "    <tr>\n",
       "      <td>31054</td>\n",
       "      <td>Documentary, Short, Biography</td>\n",
       "      <td>6.1</td>\n",
       "    </tr>\n",
       "    <tr>\n",
       "      <td>41488</td>\n",
       "      <td>Short, Action, Comedy</td>\n",
       "      <td>9.4</td>\n",
       "    </tr>\n",
       "  </tbody>\n",
       "</table>\n",
       "</div>"
      ],
      "text/plain": [
       "                                           genre  rating\n",
       "73623           Short, Comedy, Drama                 6.0\n",
       "5550            Short, Action, Drama                 7.8\n",
       "64399                    Documentary                 8.6\n",
       "31054  Documentary, Short, Biography                 6.1\n",
       "41488          Short, Action, Comedy                 9.4"
      ]
     },
     "execution_count": 58,
     "metadata": {},
     "output_type": "execute_result"
    }
   ],
   "source": [
    "genre_rating_df.head()"
   ]
  },
  {
   "cell_type": "code",
   "execution_count": 59,
   "metadata": {},
   "outputs": [
    {
     "name": "stdout",
     "output_type": "stream",
     "text": [
      "Counter({'Comedy': 4566, 'Drama': 3477, 'Documentary': 3407, 'Action': 2676, 'Short': 2555, 'Adventure': 1977, 'Crime': 1708, 'Romance': 1701, 'Animation': 1696, 'Biography': 1222, 'Family': 601, 'Thriller': 582, 'Horror': 543, 'History': 516, 'Fantasy': 489, 'Music': 384, 'Sci-Fi': 369, 'Mystery': 318, 'Sport': 227, 'Reality-TV': 88, 'News': 83, 'Musical': 78, 'War': 76, 'Talk-Show': 43, 'Western': 28, 'Game-Show': 9})\n",
      "len =  26\n"
     ]
    },
    {
     "data": {
      "image/png": "[encoded data removed]",
      "text/plain": [
       "<Figure size 1872x288 with 1 Axes>"
      ]
     },
     "metadata": {
      "needs_background": "light"
     },
     "output_type": "display_data"
    }
   ],
   "source": [
    "from collections import Counter\n",
    "\n",
    "list_gens = list(genre_rating_df.genre)\n",
    "unique_gen = []\n",
    "for g in list_gens:\n",
    "    unique_gen += g.strip().split(\", \")\n",
    "dict_gens = Counter(unique_gen)\n",
    "print(dict_gens)\n",
    "print(\"len = \",len(dict_gens))\n",
    "plt.figure(figsize=(26,4))\n",
    "plt.bar(dict_gens.keys(),dict_gens.values(), width = 0.5, color=plt.cm.Paired(np.arange(len(dict_gens))))\n",
    "plt.show()"
   ]
  },
  {
   "cell_type": "markdown",
   "metadata": {},
   "source": []
  },
  {
   "cell_type": "code",
   "execution_count": 60,
   "metadata": {},
   "outputs": [
    {
     "data": {
      "text/plain": [
       "<matplotlib.axes._subplots.AxesSubplot at 0x2e7f49c4c08>"
      ]
     },
     "execution_count": 60,
     "metadata": {},
     "output_type": "execute_result"
    },
    {
     "data": {
      "image/png": "[encoded data removed]",
      "text/plain": [
       "<Figure size 432x288 with 1 Axes>"
      ]
     },
     "metadata": {
      "needs_background": "light"
     },
     "output_type": "display_data"
    }
   ],
   "source": [
    "hist = {}\n",
    "for i in range(genre_rating_df.shape[0]):\n",
    "  genres = genre_rating_df.iloc[i].genre.strip().split(\", \")\n",
    "  rating  = genre_rating_df.iloc[i].rating\n",
    "  for g in genres:\n",
    "    if g not in hist:\n",
    "      hist[g] = [rating]\n",
    "    else:\n",
    "      hist[g].append(rating)\n",
    "keys = list(hist.keys())\n",
    "vals = list(hist.values())\n",
    "vals = [np.mean(x) for x in vals]\n",
    "\n",
    "assert len(keys) == len(vals)\n",
    "hist_df = pd.DataFrame(columns=[\"genre\",\"avg_score\"])\n",
    "hist_df.genre = keys\n",
    "hist_df.avg_score = vals\n",
    "hist_df = hist_df.sort_values(by = [\"avg_score\"],ascending=False)\n",
    "hist_df.plot.bar()\n"
   ]
  },
  {
   "cell_type": "code",
   "execution_count": 61,
   "metadata": {},
   "outputs": [
    {
     "name": "stdout",
     "output_type": "stream",
     "text": [
      "          genre  avg_score\n",
      "4   Documentary   7.281890\n",
      "5     Biography   7.210884\n",
      "0         Short   7.176556\n",
      "18      History   7.150775\n",
      "25         News   7.149398\n",
      "17        Sport   7.118062\n",
      "7         Music   7.111719\n",
      "22    Talk-Show   7.055814\n",
      "21   Reality-TV   7.025000\n",
      "10    Animation   6.743455\n",
      "20      Musical   6.661538\n",
      "13          War   6.632895\n",
      "8     Adventure   6.628882\n",
      "2         Drama   6.608456\n",
      "6         Crime   6.604274\n",
      "19      Fantasy   6.508793\n",
      "11      Mystery   6.473899\n",
      "14       Family   6.379035\n",
      "1        Comedy   6.360644\n",
      "15      Romance   6.352557\n",
      "3        Action   6.313229\n",
      "24      Western   6.085714\n",
      "9        Sci-Fi   6.068564\n",
      "16     Thriller   5.789003\n",
      "23    Game-Show   5.566667\n",
      "12       Horror   5.381215\n"
     ]
    }
   ],
   "source": [
    "print(hist_df)"
   ]
  },
  {
   "cell_type": "markdown",
   "metadata": {},
   "source": [
    "- GENRE to number"
   ]
  },
  {
   "cell_type": "code",
   "execution_count": 62,
   "metadata": {},
   "outputs": [],
   "source": [
    "#TF-IDF \n",
    "\n",
    "corpus = genre_rating_df[\"genre\"].tolist()\n",
    "vectorizer = TfidfVectorizer()\n",
    "tfidf = vectorizer.fit_transform(corpus)\n",
    "\n",
    "\n",
    "list_sum_genre = []\n",
    "for i in range(len(genre_rating_df)):\n",
    "    list_sum_genre.append(tfidf[i].sum())"
   ]
  },
  {
   "cell_type": "code",
   "execution_count": 63,
   "metadata": {},
   "outputs": [
    {
     "data": {
      "text/plain": [
       "False"
      ]
     },
     "execution_count": 63,
     "metadata": {},
     "output_type": "execute_result"
    }
   ],
   "source": [
    "sum_genre = pd.DataFrame(list_sum_genre)\n",
    "sum_genre.isnull().values.any()\n"
   ]
  },
  {
   "cell_type": "code",
   "execution_count": 64,
   "metadata": {},
   "outputs": [
    {
     "name": "stderr",
     "output_type": "stream",
     "text": [
      "D:\\app\\anaconda\\run\\lib\\site-packages\\ipykernel_launcher.py:2: SettingWithCopyWarning: \n",
      "A value is trying to be set on a copy of a slice from a DataFrame.\n",
      "Try using .loc[row_indexer,col_indexer] = value instead\n",
      "\n",
      "See the caveats in the documentation: http://pandas.pydata.org/pandas-docs/stable/user_guide/indexing.html#returning-a-view-versus-a-copy\n",
      "  \n"
     ]
    }
   ],
   "source": [
    "#add column into df\n",
    "val_X_df[\"sum_genre\"] = pd.Series(list_sum_genre).values"
   ]
  },
  {
   "cell_type": "code",
   "execution_count": 65,
   "metadata": {},
   "outputs": [
    {
     "data": {
      "text/html": [
       "<div>\n",
       "<style scoped>\n",
       "    .dataframe tbody tr th:only-of-type {\n",
       "        vertical-align: middle;\n",
       "    }\n",
       "\n",
       "    .dataframe tbody tr th {\n",
       "        vertical-align: top;\n",
       "    }\n",
       "\n",
       "    .dataframe thead th {\n",
       "        text-align: right;\n",
       "    }\n",
       "</style>\n",
       "<table border=\"1\" class=\"dataframe\">\n",
       "  <thead>\n",
       "    <tr style=\"text-align: right;\">\n",
       "      <th></th>\n",
       "      <th>title</th>\n",
       "      <th>runtime</th>\n",
       "      <th>des</th>\n",
       "      <th>date</th>\n",
       "      <th>genre</th>\n",
       "      <th>cast</th>\n",
       "      <th>director</th>\n",
       "      <th>vote</th>\n",
       "      <th>gross</th>\n",
       "      <th>sum_genre</th>\n",
       "    </tr>\n",
       "  </thead>\n",
       "  <tbody>\n",
       "    <tr>\n",
       "      <td>73623</td>\n",
       "      <td>Mia</td>\n",
       "      <td>9</td>\n",
       "      <td>On the eve of her sixteenth birthday, the ...</td>\n",
       "      <td>2014</td>\n",
       "      <td>Short, Comedy, Drama</td>\n",
       "      <td>Avery Dresel-Kurtz, Reynolds Duck, Josh Green,...</td>\n",
       "      <td>Emi Bell</td>\n",
       "      <td>6</td>\n",
       "      <td>NaN</td>\n",
       "      <td>1.723029</td>\n",
       "    </tr>\n",
       "    <tr>\n",
       "      <td>5550</td>\n",
       "      <td>After the Fall</td>\n",
       "      <td>20</td>\n",
       "      <td>While on a long journey north, a post-apoc...</td>\n",
       "      <td>2017</td>\n",
       "      <td>Short, Action, Drama</td>\n",
       "      <td>Jordan Jett, Ashley Leake, Cole David Murray, ...</td>\n",
       "      <td>Matthew Manyak</td>\n",
       "      <td>30</td>\n",
       "      <td>NaN</td>\n",
       "      <td>1.729492</td>\n",
       "    </tr>\n",
       "    <tr>\n",
       "      <td>64399</td>\n",
       "      <td>Last Chance Lawyer NYC</td>\n",
       "      <td>45</td>\n",
       "      <td>Documentary series following the exploits ...</td>\n",
       "      <td>2018</td>\n",
       "      <td>Documentary</td>\n",
       "      <td>Howard Greenberg</td>\n",
       "      <td>NaN</td>\n",
       "      <td>57</td>\n",
       "      <td>NaN</td>\n",
       "      <td>1.000000</td>\n",
       "    </tr>\n",
       "    <tr>\n",
       "      <td>31054</td>\n",
       "      <td>Kehinde Wiley: An Economy of Grace</td>\n",
       "      <td>38</td>\n",
       "      <td>Famous for his vibrant reinterpretations of cl...</td>\n",
       "      <td>2014</td>\n",
       "      <td>Documentary, Short, Biography</td>\n",
       "      <td>Kehinde Wiley</td>\n",
       "      <td>Jeff Dupre</td>\n",
       "      <td>28</td>\n",
       "      <td>NaN</td>\n",
       "      <td>1.711254</td>\n",
       "    </tr>\n",
       "    <tr>\n",
       "      <td>41488</td>\n",
       "      <td>E.T. 2</td>\n",
       "      <td>9</td>\n",
       "      <td>A lonely man befriends a cocaine addicted ...</td>\n",
       "      <td>2015</td>\n",
       "      <td>Short, Action, Comedy</td>\n",
       "      <td>Ios Alex, Goomba, Joji, Brock Lee</td>\n",
       "      <td>Joji</td>\n",
       "      <td>1409</td>\n",
       "      <td>NaN</td>\n",
       "      <td>1.721724</td>\n",
       "    </tr>\n",
       "  </tbody>\n",
       "</table>\n",
       "</div>"
      ],
      "text/plain": [
       "                                    title runtime  \\\n",
       "73623                                 Mia       9   \n",
       "5550                       After the Fall      20   \n",
       "64399              Last Chance Lawyer NYC      45   \n",
       "31054  Kehinde Wiley: An Economy of Grace      38   \n",
       "41488                              E.T. 2       9   \n",
       "\n",
       "                                                     des  date  \\\n",
       "73623      On the eve of her sixteenth birthday, the ...  2014   \n",
       "5550       While on a long journey north, a post-apoc...  2017   \n",
       "64399      Documentary series following the exploits ...  2018   \n",
       "31054  Famous for his vibrant reinterpretations of cl...  2014   \n",
       "41488      A lonely man befriends a cocaine addicted ...  2015   \n",
       "\n",
       "                                           genre  \\\n",
       "73623           Short, Comedy, Drama               \n",
       "5550            Short, Action, Drama               \n",
       "64399                    Documentary               \n",
       "31054  Documentary, Short, Biography               \n",
       "41488          Short, Action, Comedy               \n",
       "\n",
       "                                                    cast        director  \\\n",
       "73623  Avery Dresel-Kurtz, Reynolds Duck, Josh Green,...        Emi Bell   \n",
       "5550   Jordan Jett, Ashley Leake, Cole David Murray, ...  Matthew Manyak   \n",
       "64399                                   Howard Greenberg             NaN   \n",
       "31054                                      Kehinde Wiley      Jeff Dupre   \n",
       "41488                  Ios Alex, Goomba, Joji, Brock Lee            Joji   \n",
       "\n",
       "       vote gross  sum_genre  \n",
       "73623     6   NaN   1.723029  \n",
       "5550     30   NaN   1.729492  \n",
       "64399    57   NaN   1.000000  \n",
       "31054    28   NaN   1.711254  \n",
       "41488  1409   NaN   1.721724  "
      ]
     },
     "execution_count": 65,
     "metadata": {},
     "output_type": "execute_result"
    }
   ],
   "source": [
    "val_X_df.head()"
   ]
  },
  {
   "cell_type": "markdown",
   "metadata": {},
   "source": [
    "- CAST to number"
   ]
  },
  {
   "cell_type": "code",
   "execution_count": 66,
   "metadata": {},
   "outputs": [
    {
     "name": "stderr",
     "output_type": "stream",
     "text": [
      "D:\\app\\anaconda\\run\\lib\\site-packages\\ipykernel_launcher.py:2: SettingWithCopyWarning: \n",
      "A value is trying to be set on a copy of a slice from a DataFrame.\n",
      "Try using .loc[row_indexer,col_indexer] = value instead\n",
      "\n",
      "See the caveats in the documentation: http://pandas.pydata.org/pandas-docs/stable/user_guide/indexing.html#returning-a-view-versus-a-copy\n",
      "  \n"
     ]
    }
   ],
   "source": [
    "#replace NaN element in cast to \"other\"\n",
    "val_X_df[\"cast\"] = val_X_df[\"cast\"].fillna(\"other_cast\");"
   ]
  },
  {
   "cell_type": "code",
   "execution_count": 67,
   "metadata": {},
   "outputs": [
    {
     "name": "stdout",
     "output_type": "stream",
     "text": [
      "len =  33311\n"
     ]
    }
   ],
   "source": [
    "\n",
    "cast_rating_df = val_X_df[\"cast\"].to_frame().join(val_y_sr)\n",
    "\n",
    "from collections import Counter\n",
    "\n",
    "list_cast = list(cast_rating_df.cast)\n",
    "unique_cast = []\n",
    "for g in list_cast:\n",
    "    if(pd.isna(g) ==False):\n",
    "        unique_cast += g.strip().split(\", \")\n",
    "dict_cast = Counter(unique_cast)\n",
    "\n",
    "print(\"len = \",len(dict_cast))\n"
   ]
  },
  {
   "cell_type": "code",
   "execution_count": 68,
   "metadata": {},
   "outputs": [
    {
     "data": {
      "text/plain": [
       "{1: 27258,\n",
       " 2: 3737,\n",
       " 3: 1112,\n",
       " 4: 483,\n",
       " 5: 268,\n",
       " 6: 176,\n",
       " 7: 97,\n",
       " 8: 49,\n",
       " 9: 41,\n",
       " 10: 30}"
      ]
     },
     "execution_count": 68,
     "metadata": {},
     "output_type": "execute_result"
    }
   ],
   "source": [
    "occur_cast = Counter(dict_cast.values())  #Số lần xuất hiện - Số diễn viên\n",
    "\n",
    "occur_cast = {k: v for k, v in sorted(occur_cast.items(), key=lambda item: item[1], reverse = True)}\n",
    "\n",
    "dict(list(occur_cast.items())[:10])"
   ]
  },
  {
   "cell_type": "code",
   "execution_count": 69,
   "metadata": {},
   "outputs": [
    {
     "data": {
      "text/plain": [
       "[('other_cast', 131),\n",
       " ('Grey Griffin', 39),\n",
       " ('Troy Baker', 30),\n",
       " ('Tara Strong', 26),\n",
       " ('Danny Trejo', 21),\n",
       " ('Eric Bauza', 21),\n",
       " ('Sean Astin', 20),\n",
       " ('Steve Blum', 18),\n",
       " ('Eric Roberts', 18),\n",
       " ('Laura Bailey', 18)]"
      ]
     },
     "execution_count": 69,
     "metadata": {},
     "output_type": "execute_result"
    }
   ],
   "source": [
    "cast_info = dict_cast.items()\n",
    "cast_info = sorted(cast_info, key=lambda tup: tup[1], reverse=True)\n",
    "cast_info[:10] #Từng diễn viên tương ứng với số lần đóng phim\n"
   ]
  },
  {
   "cell_type": "markdown",
   "metadata": {},
   "source": [
    "# Nhận xét: Những diễn viên xuất hiện nhiều lần, thông thường được mọi người xem là hay. Những diễn viên xuất hiện ít, thường là những người mới hoặc diễn tệ.\n"
   ]
  },
  {
   "cell_type": "code",
   "execution_count": 70,
   "metadata": {},
   "outputs": [],
   "source": [
    "#TF-IDF \n",
    "\n",
    "corpus = cast_rating_df.loc[cast_rating_df.cast.isnull() == False].cast.tolist()\n",
    "vectorizer = TfidfVectorizer()\n",
    "tfidf = vectorizer.fit_transform(corpus)\n",
    "\n",
    "\n",
    "list_sum_cast = cast_rating_df.cast.copy()\n",
    "\n",
    "list_sum = []\n",
    "for i in range(len(cast_rating_df.loc[cast_rating_df.cast.isnull() == False])):\n",
    "    list_sum.append(tfidf[i].sum())\n",
    "\n",
    "list_sum_cast[list_sum_cast.isnull() == False] = list_sum\n",
    "list_sum_cast[list_sum_cast.isnull() != False] = 0"
   ]
  },
  {
   "cell_type": "code",
   "execution_count": 71,
   "metadata": {},
   "outputs": [
    {
     "data": {
      "text/plain": [
       "False"
      ]
     },
     "execution_count": 71,
     "metadata": {},
     "output_type": "execute_result"
    }
   ],
   "source": [
    "sum_cast = pd.DataFrame(list_sum_cast)\n",
    "sum_cast.isnull().values.any()\n"
   ]
  },
  {
   "cell_type": "code",
   "execution_count": 72,
   "metadata": {},
   "outputs": [
    {
     "name": "stderr",
     "output_type": "stream",
     "text": [
      "D:\\app\\anaconda\\run\\lib\\site-packages\\ipykernel_launcher.py:2: SettingWithCopyWarning: \n",
      "A value is trying to be set on a copy of a slice from a DataFrame.\n",
      "Try using .loc[row_indexer,col_indexer] = value instead\n",
      "\n",
      "See the caveats in the documentation: http://pandas.pydata.org/pandas-docs/stable/user_guide/indexing.html#returning-a-view-versus-a-copy\n",
      "  \n"
     ]
    }
   ],
   "source": [
    "#add column into df\n",
    "val_X_df[\"sum_cast\"] = pd.Series(list_sum_cast).values"
   ]
  },
  {
   "cell_type": "code",
   "execution_count": 73,
   "metadata": {},
   "outputs": [
    {
     "data": {
      "text/html": [
       "<div>\n",
       "<style scoped>\n",
       "    .dataframe tbody tr th:only-of-type {\n",
       "        vertical-align: middle;\n",
       "    }\n",
       "\n",
       "    .dataframe tbody tr th {\n",
       "        vertical-align: top;\n",
       "    }\n",
       "\n",
       "    .dataframe thead th {\n",
       "        text-align: right;\n",
       "    }\n",
       "</style>\n",
       "<table border=\"1\" class=\"dataframe\">\n",
       "  <thead>\n",
       "    <tr style=\"text-align: right;\">\n",
       "      <th></th>\n",
       "      <th>title</th>\n",
       "      <th>runtime</th>\n",
       "      <th>des</th>\n",
       "      <th>date</th>\n",
       "      <th>genre</th>\n",
       "      <th>cast</th>\n",
       "      <th>director</th>\n",
       "      <th>vote</th>\n",
       "      <th>gross</th>\n",
       "      <th>sum_genre</th>\n",
       "      <th>sum_cast</th>\n",
       "    </tr>\n",
       "  </thead>\n",
       "  <tbody>\n",
       "    <tr>\n",
       "      <td>73623</td>\n",
       "      <td>Mia</td>\n",
       "      <td>9</td>\n",
       "      <td>On the eve of her sixteenth birthday, the ...</td>\n",
       "      <td>2014</td>\n",
       "      <td>Short, Comedy, Drama</td>\n",
       "      <td>Avery Dresel-Kurtz, Reynolds Duck, Josh Green,...</td>\n",
       "      <td>Emi Bell</td>\n",
       "      <td>6</td>\n",
       "      <td>NaN</td>\n",
       "      <td>1.723029</td>\n",
       "      <td>2.94932</td>\n",
       "    </tr>\n",
       "    <tr>\n",
       "      <td>5550</td>\n",
       "      <td>After the Fall</td>\n",
       "      <td>20</td>\n",
       "      <td>While on a long journey north, a post-apoc...</td>\n",
       "      <td>2017</td>\n",
       "      <td>Short, Action, Drama</td>\n",
       "      <td>Jordan Jett, Ashley Leake, Cole David Murray, ...</td>\n",
       "      <td>Matthew Manyak</td>\n",
       "      <td>30</td>\n",
       "      <td>NaN</td>\n",
       "      <td>1.729492</td>\n",
       "      <td>2.89005</td>\n",
       "    </tr>\n",
       "    <tr>\n",
       "      <td>64399</td>\n",
       "      <td>Last Chance Lawyer NYC</td>\n",
       "      <td>45</td>\n",
       "      <td>Documentary series following the exploits ...</td>\n",
       "      <td>2018</td>\n",
       "      <td>Documentary</td>\n",
       "      <td>Howard Greenberg</td>\n",
       "      <td>NaN</td>\n",
       "      <td>57</td>\n",
       "      <td>NaN</td>\n",
       "      <td>1.000000</td>\n",
       "      <td>1.40241</td>\n",
       "    </tr>\n",
       "    <tr>\n",
       "      <td>31054</td>\n",
       "      <td>Kehinde Wiley: An Economy of Grace</td>\n",
       "      <td>38</td>\n",
       "      <td>Famous for his vibrant reinterpretations of cl...</td>\n",
       "      <td>2014</td>\n",
       "      <td>Documentary, Short, Biography</td>\n",
       "      <td>Kehinde Wiley</td>\n",
       "      <td>Jeff Dupre</td>\n",
       "      <td>28</td>\n",
       "      <td>NaN</td>\n",
       "      <td>1.711254</td>\n",
       "      <td>1.4139</td>\n",
       "    </tr>\n",
       "    <tr>\n",
       "      <td>41488</td>\n",
       "      <td>E.T. 2</td>\n",
       "      <td>9</td>\n",
       "      <td>A lonely man befriends a cocaine addicted ...</td>\n",
       "      <td>2015</td>\n",
       "      <td>Short, Action, Comedy</td>\n",
       "      <td>Ios Alex, Goomba, Joji, Brock Lee</td>\n",
       "      <td>Joji</td>\n",
       "      <td>1409</td>\n",
       "      <td>NaN</td>\n",
       "      <td>1.721724</td>\n",
       "      <td>2.37155</td>\n",
       "    </tr>\n",
       "  </tbody>\n",
       "</table>\n",
       "</div>"
      ],
      "text/plain": [
       "                                    title runtime  \\\n",
       "73623                                 Mia       9   \n",
       "5550                       After the Fall      20   \n",
       "64399              Last Chance Lawyer NYC      45   \n",
       "31054  Kehinde Wiley: An Economy of Grace      38   \n",
       "41488                              E.T. 2       9   \n",
       "\n",
       "                                                     des  date  \\\n",
       "73623      On the eve of her sixteenth birthday, the ...  2014   \n",
       "5550       While on a long journey north, a post-apoc...  2017   \n",
       "64399      Documentary series following the exploits ...  2018   \n",
       "31054  Famous for his vibrant reinterpretations of cl...  2014   \n",
       "41488      A lonely man befriends a cocaine addicted ...  2015   \n",
       "\n",
       "                                           genre  \\\n",
       "73623           Short, Comedy, Drama               \n",
       "5550            Short, Action, Drama               \n",
       "64399                    Documentary               \n",
       "31054  Documentary, Short, Biography               \n",
       "41488          Short, Action, Comedy               \n",
       "\n",
       "                                                    cast        director  \\\n",
       "73623  Avery Dresel-Kurtz, Reynolds Duck, Josh Green,...        Emi Bell   \n",
       "5550   Jordan Jett, Ashley Leake, Cole David Murray, ...  Matthew Manyak   \n",
       "64399                                   Howard Greenberg             NaN   \n",
       "31054                                      Kehinde Wiley      Jeff Dupre   \n",
       "41488                  Ios Alex, Goomba, Joji, Brock Lee            Joji   \n",
       "\n",
       "       vote gross  sum_genre sum_cast  \n",
       "73623     6   NaN   1.723029  2.94932  \n",
       "5550     30   NaN   1.729492  2.89005  \n",
       "64399    57   NaN   1.000000  1.40241  \n",
       "31054    28   NaN   1.711254   1.4139  \n",
       "41488  1409   NaN   1.721724  2.37155  "
      ]
     },
     "execution_count": 73,
     "metadata": {},
     "output_type": "execute_result"
    }
   ],
   "source": [
    "val_X_df.head()"
   ]
  },
  {
   "cell_type": "markdown",
   "metadata": {},
   "source": [
    "- DIRECTOR to number"
   ]
  },
  {
   "cell_type": "code",
   "execution_count": 74,
   "metadata": {},
   "outputs": [
    {
     "name": "stderr",
     "output_type": "stream",
     "text": [
      "D:\\app\\anaconda\\run\\lib\\site-packages\\ipykernel_launcher.py:2: SettingWithCopyWarning: \n",
      "A value is trying to be set on a copy of a slice from a DataFrame.\n",
      "Try using .loc[row_indexer,col_indexer] = value instead\n",
      "\n",
      "See the caveats in the documentation: http://pandas.pydata.org/pandas-docs/stable/user_guide/indexing.html#returning-a-view-versus-a-copy\n",
      "  \n"
     ]
    }
   ],
   "source": [
    "#replace NaN element in cast to \"other\"\n",
    "val_X_df[\"director\"] = val_X_df[\"director\"].fillna(\"other_director\");"
   ]
  },
  {
   "cell_type": "code",
   "execution_count": 75,
   "metadata": {},
   "outputs": [
    {
     "name": "stdout",
     "output_type": "stream",
     "text": [
      "len =  33311\n"
     ]
    }
   ],
   "source": [
    "\n",
    "director_rating_df = val_X_df[\"director\"].to_frame().join(val_y_sr)\n",
    "\n",
    "from collections import Counter\n",
    "\n",
    "list_director = list(director_rating_df.director)\n",
    "unique_director = []\n",
    "for g in list_cast:\n",
    "    if(pd.isna(g) ==False):\n",
    "        unique_director += g.strip().split(\", \")\n",
    "dict_director = Counter(unique_director)\n",
    "\n",
    "print(\"len = \",len(dict_director))"
   ]
  },
  {
   "cell_type": "code",
   "execution_count": 76,
   "metadata": {},
   "outputs": [],
   "source": [
    "#TF-IDF \n",
    "\n",
    "corpus =director_rating_df.loc[director_rating_df.director.isnull() == False].director.tolist()\n",
    "vectorizer = TfidfVectorizer()\n",
    "tfidf = vectorizer.fit_transform(corpus)\n",
    "\n",
    "\n",
    "list_sum_director = director_rating_df.director.copy()\n",
    "list_sum = []\n",
    "for i in range(len(director_rating_df.loc[director_rating_df.director.isnull() == False])):\n",
    "    list_sum.append(tfidf[i].sum())\n",
    "list_sum_director[list_sum_director.isnull() == False] = list_sum\n",
    "list_sum_director[list_sum_director.isnull() != False] = 0"
   ]
  },
  {
   "cell_type": "code",
   "execution_count": 77,
   "metadata": {},
   "outputs": [
    {
     "data": {
      "text/plain": [
       "False"
      ]
     },
     "execution_count": 77,
     "metadata": {},
     "output_type": "execute_result"
    }
   ],
   "source": [
    "sum_director = pd.DataFrame(list_sum_director)\n",
    "sum_director.isnull().values.any()\n"
   ]
  },
  {
   "cell_type": "code",
   "execution_count": 78,
   "metadata": {},
   "outputs": [
    {
     "name": "stderr",
     "output_type": "stream",
     "text": [
      "D:\\app\\anaconda\\run\\lib\\site-packages\\ipykernel_launcher.py:2: SettingWithCopyWarning: \n",
      "A value is trying to be set on a copy of a slice from a DataFrame.\n",
      "Try using .loc[row_indexer,col_indexer] = value instead\n",
      "\n",
      "See the caveats in the documentation: http://pandas.pydata.org/pandas-docs/stable/user_guide/indexing.html#returning-a-view-versus-a-copy\n",
      "  \n"
     ]
    }
   ],
   "source": [
    "#add column into df\n",
    "val_X_df[\"sum_director\"] = pd.Series(list_sum_director).values"
   ]
  },
  {
   "cell_type": "code",
   "execution_count": 79,
   "metadata": {},
   "outputs": [
    {
     "data": {
      "text/html": [
       "<div>\n",
       "<style scoped>\n",
       "    .dataframe tbody tr th:only-of-type {\n",
       "        vertical-align: middle;\n",
       "    }\n",
       "\n",
       "    .dataframe tbody tr th {\n",
       "        vertical-align: top;\n",
       "    }\n",
       "\n",
       "    .dataframe thead th {\n",
       "        text-align: right;\n",
       "    }\n",
       "</style>\n",
       "<table border=\"1\" class=\"dataframe\">\n",
       "  <thead>\n",
       "    <tr style=\"text-align: right;\">\n",
       "      <th></th>\n",
       "      <th>title</th>\n",
       "      <th>runtime</th>\n",
       "      <th>des</th>\n",
       "      <th>date</th>\n",
       "      <th>genre</th>\n",
       "      <th>cast</th>\n",
       "      <th>director</th>\n",
       "      <th>vote</th>\n",
       "      <th>gross</th>\n",
       "      <th>sum_genre</th>\n",
       "      <th>sum_cast</th>\n",
       "      <th>sum_director</th>\n",
       "    </tr>\n",
       "  </thead>\n",
       "  <tbody>\n",
       "    <tr>\n",
       "      <td>73623</td>\n",
       "      <td>Mia</td>\n",
       "      <td>9</td>\n",
       "      <td>On the eve of her sixteenth birthday, the ...</td>\n",
       "      <td>2014</td>\n",
       "      <td>Short, Comedy, Drama</td>\n",
       "      <td>Avery Dresel-Kurtz, Reynolds Duck, Josh Green,...</td>\n",
       "      <td>Emi Bell</td>\n",
       "      <td>6</td>\n",
       "      <td>NaN</td>\n",
       "      <td>1.723029</td>\n",
       "      <td>2.94932</td>\n",
       "      <td>1.40931</td>\n",
       "    </tr>\n",
       "    <tr>\n",
       "      <td>5550</td>\n",
       "      <td>After the Fall</td>\n",
       "      <td>20</td>\n",
       "      <td>While on a long journey north, a post-apoc...</td>\n",
       "      <td>2017</td>\n",
       "      <td>Short, Action, Drama</td>\n",
       "      <td>Jordan Jett, Ashley Leake, Cole David Murray, ...</td>\n",
       "      <td>Matthew Manyak</td>\n",
       "      <td>30</td>\n",
       "      <td>NaN</td>\n",
       "      <td>1.729492</td>\n",
       "      <td>2.89005</td>\n",
       "      <td>1.37794</td>\n",
       "    </tr>\n",
       "    <tr>\n",
       "      <td>64399</td>\n",
       "      <td>Last Chance Lawyer NYC</td>\n",
       "      <td>45</td>\n",
       "      <td>Documentary series following the exploits ...</td>\n",
       "      <td>2018</td>\n",
       "      <td>Documentary</td>\n",
       "      <td>Howard Greenberg</td>\n",
       "      <td>other_director</td>\n",
       "      <td>57</td>\n",
       "      <td>NaN</td>\n",
       "      <td>1.000000</td>\n",
       "      <td>1.40241</td>\n",
       "      <td>1</td>\n",
       "    </tr>\n",
       "    <tr>\n",
       "      <td>31054</td>\n",
       "      <td>Kehinde Wiley: An Economy of Grace</td>\n",
       "      <td>38</td>\n",
       "      <td>Famous for his vibrant reinterpretations of cl...</td>\n",
       "      <td>2014</td>\n",
       "      <td>Documentary, Short, Biography</td>\n",
       "      <td>Kehinde Wiley</td>\n",
       "      <td>Jeff Dupre</td>\n",
       "      <td>28</td>\n",
       "      <td>NaN</td>\n",
       "      <td>1.711254</td>\n",
       "      <td>1.4139</td>\n",
       "      <td>1.38342</td>\n",
       "    </tr>\n",
       "    <tr>\n",
       "      <td>41488</td>\n",
       "      <td>E.T. 2</td>\n",
       "      <td>9</td>\n",
       "      <td>A lonely man befriends a cocaine addicted ...</td>\n",
       "      <td>2015</td>\n",
       "      <td>Short, Action, Comedy</td>\n",
       "      <td>Ios Alex, Goomba, Joji, Brock Lee</td>\n",
       "      <td>Joji</td>\n",
       "      <td>1409</td>\n",
       "      <td>NaN</td>\n",
       "      <td>1.721724</td>\n",
       "      <td>2.37155</td>\n",
       "      <td>1</td>\n",
       "    </tr>\n",
       "  </tbody>\n",
       "</table>\n",
       "</div>"
      ],
      "text/plain": [
       "                                    title runtime  \\\n",
       "73623                                 Mia       9   \n",
       "5550                       After the Fall      20   \n",
       "64399              Last Chance Lawyer NYC      45   \n",
       "31054  Kehinde Wiley: An Economy of Grace      38   \n",
       "41488                              E.T. 2       9   \n",
       "\n",
       "                                                     des  date  \\\n",
       "73623      On the eve of her sixteenth birthday, the ...  2014   \n",
       "5550       While on a long journey north, a post-apoc...  2017   \n",
       "64399      Documentary series following the exploits ...  2018   \n",
       "31054  Famous for his vibrant reinterpretations of cl...  2014   \n",
       "41488      A lonely man befriends a cocaine addicted ...  2015   \n",
       "\n",
       "                                           genre  \\\n",
       "73623           Short, Comedy, Drama               \n",
       "5550            Short, Action, Drama               \n",
       "64399                    Documentary               \n",
       "31054  Documentary, Short, Biography               \n",
       "41488          Short, Action, Comedy               \n",
       "\n",
       "                                                    cast        director  \\\n",
       "73623  Avery Dresel-Kurtz, Reynolds Duck, Josh Green,...        Emi Bell   \n",
       "5550   Jordan Jett, Ashley Leake, Cole David Murray, ...  Matthew Manyak   \n",
       "64399                                   Howard Greenberg  other_director   \n",
       "31054                                      Kehinde Wiley      Jeff Dupre   \n",
       "41488                  Ios Alex, Goomba, Joji, Brock Lee            Joji   \n",
       "\n",
       "       vote gross  sum_genre sum_cast sum_director  \n",
       "73623     6   NaN   1.723029  2.94932      1.40931  \n",
       "5550     30   NaN   1.729492  2.89005      1.37794  \n",
       "64399    57   NaN   1.000000  1.40241            1  \n",
       "31054    28   NaN   1.711254   1.4139      1.38342  \n",
       "41488  1409   NaN   1.721724  2.37155            1  "
      ]
     },
     "execution_count": 79,
     "metadata": {},
     "output_type": "execute_result"
    }
   ],
   "source": [
    "val_X_df.head()"
   ]
  },
  {
   "cell_type": "markdown",
   "metadata": {},
   "source": [
    "- GROSS to number"
   ]
  },
  {
   "cell_type": "code",
   "execution_count": 80,
   "metadata": {},
   "outputs": [
    {
     "name": "stderr",
     "output_type": "stream",
     "text": [
      "D:\\app\\anaconda\\run\\lib\\site-packages\\ipykernel_launcher.py:2: SettingWithCopyWarning: \n",
      "A value is trying to be set on a copy of a slice from a DataFrame.\n",
      "Try using .loc[row_indexer,col_indexer] = value instead\n",
      "\n",
      "See the caveats in the documentation: http://pandas.pydata.org/pandas-docs/stable/user_guide/indexing.html#returning-a-view-versus-a-copy\n",
      "  \n"
     ]
    }
   ],
   "source": [
    "#replace NaN element in cast to \"other\"\n",
    "val_X_df[\"gross\"] = val_X_df[\"gross\"].fillna(\"0.0\");"
   ]
  },
  {
   "cell_type": "code",
   "execution_count": 81,
   "metadata": {},
   "outputs": [
    {
     "name": "stderr",
     "output_type": "stream",
     "text": [
      "D:\\app\\anaconda\\run\\lib\\site-packages\\pandas\\core\\indexing.py:205: SettingWithCopyWarning: \n",
      "A value is trying to be set on a copy of a slice from a DataFrame\n",
      "\n",
      "See the caveats in the documentation: http://pandas.pydata.org/pandas-docs/stable/user_guide/indexing.html#returning-a-view-versus-a-copy\n",
      "  self._setitem_with_indexer(indexer, value)\n",
      "D:\\app\\anaconda\\run\\lib\\site-packages\\ipykernel_launcher.py:5: SettingWithCopyWarning: \n",
      "A value is trying to be set on a copy of a slice from a DataFrame\n",
      "\n",
      "See the caveats in the documentation: http://pandas.pydata.org/pandas-docs/stable/user_guide/indexing.html#returning-a-view-versus-a-copy\n",
      "  \"\"\"\n"
     ]
    }
   ],
   "source": [
    "\n",
    "#define money\n",
    "money = {\"M\": 10**6, \"B\": 10**12, \"G\": 10**9, \"P\": 10**15, \"K\": 10**3, \"0\": 0}\n",
    "for i in range(len(val_X_df)):\n",
    "    \n",
    "    val_X_df.gross.iloc[i] = float(re.findall(\"\\d+\\.\\d+\", val_X_df.gross.iloc[i])[0]) * money[val_X_df.gross.iloc[i][-1]]"
   ]
  },
  {
   "cell_type": "code",
   "execution_count": 82,
   "metadata": {},
   "outputs": [
    {
     "data": {
      "text/plain": [
       "{0.0: 11704,\n",
       " 10000.0: 91,\n",
       " 20000.0: 60,\n",
       " 30000.0: 41,\n",
       " 40000.0: 38,\n",
       " 100000.0: 19,\n",
       " 70000.0: 19,\n",
       " 80000.0: 17,\n",
       " 60000.0: 17,\n",
       " 50000.0: 16,\n",
       " 90000.0: 15,\n",
       " 160000.0: 12,\n",
       " 120000.0: 11,\n",
       " 150000.0: 9,\n",
       " 130000.0: 9,\n",
       " 200000.0: 8,\n",
       " 110000.0: 8,\n",
       " 140000.0: 7,\n",
       " 190000.0: 6,\n",
       " 250000.0: 6}"
      ]
     },
     "execution_count": 82,
     "metadata": {},
     "output_type": "execute_result"
    }
   ],
   "source": [
    "\n",
    "dict_gross = Counter(val_X_df.gross)\n",
    "dict_gross = {k: v for k, v in sorted(dict_gross.items(), key=lambda item: item[1], reverse = True)} #sort\n",
    "\n",
    "dict(list(dict_gross.items())[:20])"
   ]
  },
  {
   "cell_type": "markdown",
   "metadata": {},
   "source": [
    "# Nhận thấy: số lượng \"0.0\" chiếm quá nhiều, gây chênh lệnh lớn. Sử dụng median để thay thế"
   ]
  },
  {
   "cell_type": "code",
   "execution_count": 83,
   "metadata": {},
   "outputs": [
    {
     "name": "stderr",
     "output_type": "stream",
     "text": [
      "D:\\app\\anaconda\\run\\lib\\site-packages\\ipykernel_launcher.py:2: SettingWithCopyWarning: \n",
      "A value is trying to be set on a copy of a slice from a DataFrame.\n",
      "Try using .loc[row_indexer,col_indexer] = value instead\n",
      "\n",
      "See the caveats in the documentation: http://pandas.pydata.org/pandas-docs/stable/user_guide/indexing.html#returning-a-view-versus-a-copy\n",
      "  \n"
     ]
    },
    {
     "data": {
      "text/plain": [
       "{1080000.0: 11705,\n",
       " 10000.0: 91,\n",
       " 20000.0: 60,\n",
       " 30000.0: 41,\n",
       " 40000.0: 38,\n",
       " 100000.0: 19,\n",
       " 70000.0: 19,\n",
       " 80000.0: 17,\n",
       " 60000.0: 17,\n",
       " 50000.0: 16,\n",
       " 90000.0: 15,\n",
       " 160000.0: 12,\n",
       " 120000.0: 11,\n",
       " 150000.0: 9,\n",
       " 130000.0: 9,\n",
       " 200000.0: 8,\n",
       " 110000.0: 8,\n",
       " 140000.0: 7,\n",
       " 190000.0: 6,\n",
       " 250000.0: 6}"
      ]
     },
     "execution_count": 83,
     "metadata": {},
     "output_type": "execute_result"
    }
   ],
   "source": [
    "imp = SimpleImputer(missing_values = 0, strategy='median')\n",
    "val_X_df[\"gross\"] = imp.fit_transform(val_X_df[[\"gross\"]]).ravel()\n",
    "\n",
    "\n",
    "dict_gross = Counter(val_X_df.gross)\n",
    "dict_gross = {k: v for k, v in sorted(dict_gross.items(), key=lambda item: item[1], reverse = True)} #sort\n",
    "\n",
    "dict(list(dict_gross.items())[:20])"
   ]
  },
  {
   "cell_type": "code",
   "execution_count": null,
   "metadata": {},
   "outputs": [],
   "source": []
  },
  {
   "cell_type": "code",
   "execution_count": 84,
   "metadata": {},
   "outputs": [
    {
     "data": {
      "text/html": [
       "<div>\n",
       "<style scoped>\n",
       "    .dataframe tbody tr th:only-of-type {\n",
       "        vertical-align: middle;\n",
       "    }\n",
       "\n",
       "    .dataframe tbody tr th {\n",
       "        vertical-align: top;\n",
       "    }\n",
       "\n",
       "    .dataframe thead th {\n",
       "        text-align: right;\n",
       "    }\n",
       "</style>\n",
       "<table border=\"1\" class=\"dataframe\">\n",
       "  <thead>\n",
       "    <tr style=\"text-align: right;\">\n",
       "      <th></th>\n",
       "      <th>title</th>\n",
       "      <th>runtime</th>\n",
       "      <th>des</th>\n",
       "      <th>vote</th>\n",
       "      <th>gross</th>\n",
       "      <th>sum_genre</th>\n",
       "      <th>sum_cast</th>\n",
       "      <th>sum_director</th>\n",
       "    </tr>\n",
       "  </thead>\n",
       "  <tbody>\n",
       "    <tr>\n",
       "      <td>73623</td>\n",
       "      <td>Mia</td>\n",
       "      <td>9</td>\n",
       "      <td>On the eve of her sixteenth birthday, the ...</td>\n",
       "      <td>6</td>\n",
       "      <td>1080000.0</td>\n",
       "      <td>1.723029</td>\n",
       "      <td>2.94932</td>\n",
       "      <td>1.40931</td>\n",
       "    </tr>\n",
       "    <tr>\n",
       "      <td>5550</td>\n",
       "      <td>After the Fall</td>\n",
       "      <td>20</td>\n",
       "      <td>While on a long journey north, a post-apoc...</td>\n",
       "      <td>30</td>\n",
       "      <td>1080000.0</td>\n",
       "      <td>1.729492</td>\n",
       "      <td>2.89005</td>\n",
       "      <td>1.37794</td>\n",
       "    </tr>\n",
       "    <tr>\n",
       "      <td>64399</td>\n",
       "      <td>Last Chance Lawyer NYC</td>\n",
       "      <td>45</td>\n",
       "      <td>Documentary series following the exploits ...</td>\n",
       "      <td>57</td>\n",
       "      <td>1080000.0</td>\n",
       "      <td>1.000000</td>\n",
       "      <td>1.40241</td>\n",
       "      <td>1</td>\n",
       "    </tr>\n",
       "    <tr>\n",
       "      <td>31054</td>\n",
       "      <td>Kehinde Wiley: An Economy of Grace</td>\n",
       "      <td>38</td>\n",
       "      <td>Famous for his vibrant reinterpretations of cl...</td>\n",
       "      <td>28</td>\n",
       "      <td>1080000.0</td>\n",
       "      <td>1.711254</td>\n",
       "      <td>1.4139</td>\n",
       "      <td>1.38342</td>\n",
       "    </tr>\n",
       "    <tr>\n",
       "      <td>41488</td>\n",
       "      <td>E.T. 2</td>\n",
       "      <td>9</td>\n",
       "      <td>A lonely man befriends a cocaine addicted ...</td>\n",
       "      <td>1409</td>\n",
       "      <td>1080000.0</td>\n",
       "      <td>1.721724</td>\n",
       "      <td>2.37155</td>\n",
       "      <td>1</td>\n",
       "    </tr>\n",
       "  </tbody>\n",
       "</table>\n",
       "</div>"
      ],
      "text/plain": [
       "                                    title runtime  \\\n",
       "73623                                 Mia       9   \n",
       "5550                       After the Fall      20   \n",
       "64399              Last Chance Lawyer NYC      45   \n",
       "31054  Kehinde Wiley: An Economy of Grace      38   \n",
       "41488                              E.T. 2       9   \n",
       "\n",
       "                                                     des  vote      gross  \\\n",
       "73623      On the eve of her sixteenth birthday, the ...     6  1080000.0   \n",
       "5550       While on a long journey north, a post-apoc...    30  1080000.0   \n",
       "64399      Documentary series following the exploits ...    57  1080000.0   \n",
       "31054  Famous for his vibrant reinterpretations of cl...    28  1080000.0   \n",
       "41488      A lonely man befriends a cocaine addicted ...  1409  1080000.0   \n",
       "\n",
       "       sum_genre sum_cast sum_director  \n",
       "73623   1.723029  2.94932      1.40931  \n",
       "5550    1.729492  2.89005      1.37794  \n",
       "64399   1.000000  1.40241            1  \n",
       "31054   1.711254   1.4139      1.38342  \n",
       "41488   1.721724  2.37155            1  "
      ]
     },
     "execution_count": 84,
     "metadata": {},
     "output_type": "execute_result"
    }
   ],
   "source": [
    "val_X_df = val_X_df.drop(['cast',\"genre\",\"director\",\"date\"], axis = 1)\n",
    "val_X_df.head()"
   ]
  },
  {
   "cell_type": "markdown",
   "metadata": {},
   "source": [
    "# scaling"
   ]
  },
  {
   "cell_type": "code",
   "execution_count": 85,
   "metadata": {},
   "outputs": [
    {
     "data": {
      "text/html": [
       "<div>\n",
       "<style scoped>\n",
       "    .dataframe tbody tr th:only-of-type {\n",
       "        vertical-align: middle;\n",
       "    }\n",
       "\n",
       "    .dataframe tbody tr th {\n",
       "        vertical-align: top;\n",
       "    }\n",
       "\n",
       "    .dataframe thead th {\n",
       "        text-align: right;\n",
       "    }\n",
       "</style>\n",
       "<table border=\"1\" class=\"dataframe\">\n",
       "  <thead>\n",
       "    <tr style=\"text-align: right;\">\n",
       "      <th></th>\n",
       "      <th>title</th>\n",
       "      <th>runtime</th>\n",
       "      <th>des</th>\n",
       "      <th>vote</th>\n",
       "      <th>gross</th>\n",
       "      <th>sum_genre</th>\n",
       "      <th>sum_cast</th>\n",
       "      <th>sum_director</th>\n",
       "    </tr>\n",
       "  </thead>\n",
       "  <tbody>\n",
       "    <tr>\n",
       "      <td>73623</td>\n",
       "      <td>Mia</td>\n",
       "      <td>9</td>\n",
       "      <td>On the eve of her sixteenth birthday, the ...</td>\n",
       "      <td>6</td>\n",
       "      <td>1080000.0</td>\n",
       "      <td>1.723029</td>\n",
       "      <td>2.94932</td>\n",
       "      <td>1.40931</td>\n",
       "    </tr>\n",
       "    <tr>\n",
       "      <td>5550</td>\n",
       "      <td>After the Fall</td>\n",
       "      <td>20</td>\n",
       "      <td>While on a long journey north, a post-apoc...</td>\n",
       "      <td>30</td>\n",
       "      <td>1080000.0</td>\n",
       "      <td>1.729492</td>\n",
       "      <td>2.89005</td>\n",
       "      <td>1.37794</td>\n",
       "    </tr>\n",
       "    <tr>\n",
       "      <td>64399</td>\n",
       "      <td>Last Chance Lawyer NYC</td>\n",
       "      <td>45</td>\n",
       "      <td>Documentary series following the exploits ...</td>\n",
       "      <td>57</td>\n",
       "      <td>1080000.0</td>\n",
       "      <td>1.000000</td>\n",
       "      <td>1.40241</td>\n",
       "      <td>1</td>\n",
       "    </tr>\n",
       "    <tr>\n",
       "      <td>31054</td>\n",
       "      <td>Kehinde Wiley: An Economy of Grace</td>\n",
       "      <td>38</td>\n",
       "      <td>Famous for his vibrant reinterpretations of cl...</td>\n",
       "      <td>28</td>\n",
       "      <td>1080000.0</td>\n",
       "      <td>1.711254</td>\n",
       "      <td>1.4139</td>\n",
       "      <td>1.38342</td>\n",
       "    </tr>\n",
       "    <tr>\n",
       "      <td>41488</td>\n",
       "      <td>E.T. 2</td>\n",
       "      <td>9</td>\n",
       "      <td>A lonely man befriends a cocaine addicted ...</td>\n",
       "      <td>1409</td>\n",
       "      <td>1080000.0</td>\n",
       "      <td>1.721724</td>\n",
       "      <td>2.37155</td>\n",
       "      <td>1</td>\n",
       "    </tr>\n",
       "  </tbody>\n",
       "</table>\n",
       "</div>"
      ],
      "text/plain": [
       "                                    title runtime  \\\n",
       "73623                                 Mia       9   \n",
       "5550                       After the Fall      20   \n",
       "64399              Last Chance Lawyer NYC      45   \n",
       "31054  Kehinde Wiley: An Economy of Grace      38   \n",
       "41488                              E.T. 2       9   \n",
       "\n",
       "                                                     des  vote      gross  \\\n",
       "73623      On the eve of her sixteenth birthday, the ...     6  1080000.0   \n",
       "5550       While on a long journey north, a post-apoc...    30  1080000.0   \n",
       "64399      Documentary series following the exploits ...    57  1080000.0   \n",
       "31054  Famous for his vibrant reinterpretations of cl...    28  1080000.0   \n",
       "41488      A lonely man befriends a cocaine addicted ...  1409  1080000.0   \n",
       "\n",
       "       sum_genre sum_cast sum_director  \n",
       "73623   1.723029  2.94932      1.40931  \n",
       "5550    1.729492  2.89005      1.37794  \n",
       "64399   1.000000  1.40241            1  \n",
       "31054   1.711254   1.4139      1.38342  \n",
       "41488   1.721724  2.37155            1  "
      ]
     },
     "execution_count": 85,
     "metadata": {},
     "output_type": "execute_result"
    }
   ],
   "source": [
    "val_X_df.head()"
   ]
  },
  {
   "cell_type": "code",
   "execution_count": 86,
   "metadata": {},
   "outputs": [],
   "source": [
    "scl = StandardScaler()\n",
    "val_X_df[[\"runtime\",\"vote\", \"gross\", \"sum_genre\", \"sum_cast\", \"sum_director\"]]=scl.fit_transform(val_X_df[[\"runtime\",\"vote\", \"gross\", \"sum_genre\", \"sum_cast\", \"sum_director\"]])"
   ]
  },
  {
   "cell_type": "code",
   "execution_count": 87,
   "metadata": {},
   "outputs": [
    {
     "data": {
      "text/html": [
       "<div>\n",
       "<style scoped>\n",
       "    .dataframe tbody tr th:only-of-type {\n",
       "        vertical-align: middle;\n",
       "    }\n",
       "\n",
       "    .dataframe tbody tr th {\n",
       "        vertical-align: top;\n",
       "    }\n",
       "\n",
       "    .dataframe thead th {\n",
       "        text-align: right;\n",
       "    }\n",
       "</style>\n",
       "<table border=\"1\" class=\"dataframe\">\n",
       "  <thead>\n",
       "    <tr style=\"text-align: right;\">\n",
       "      <th></th>\n",
       "      <th>title</th>\n",
       "      <th>runtime</th>\n",
       "      <th>des</th>\n",
       "      <th>vote</th>\n",
       "      <th>gross</th>\n",
       "      <th>sum_genre</th>\n",
       "      <th>sum_cast</th>\n",
       "      <th>sum_director</th>\n",
       "    </tr>\n",
       "  </thead>\n",
       "  <tbody>\n",
       "    <tr>\n",
       "      <td>73623</td>\n",
       "      <td>Mia</td>\n",
       "      <td>-1.031210</td>\n",
       "      <td>On the eve of her sixteenth birthday, the ...</td>\n",
       "      <td>-0.155853</td>\n",
       "      <td>-0.1119</td>\n",
       "      <td>0.861844</td>\n",
       "      <td>0.742387</td>\n",
       "      <td>0.072520</td>\n",
       "    </tr>\n",
       "    <tr>\n",
       "      <td>5550</td>\n",
       "      <td>After the Fall</td>\n",
       "      <td>-0.802083</td>\n",
       "      <td>While on a long journey north, a post-apoc...</td>\n",
       "      <td>-0.155315</td>\n",
       "      <td>-0.1119</td>\n",
       "      <td>0.884074</td>\n",
       "      <td>0.623745</td>\n",
       "      <td>-0.007991</td>\n",
       "    </tr>\n",
       "    <tr>\n",
       "      <td>64399</td>\n",
       "      <td>Last Chance Lawyer NYC</td>\n",
       "      <td>-0.281338</td>\n",
       "      <td>Documentary series following the exploits ...</td>\n",
       "      <td>-0.154709</td>\n",
       "      <td>-0.1119</td>\n",
       "      <td>-1.625116</td>\n",
       "      <td>-2.354195</td>\n",
       "      <td>-0.977878</td>\n",
       "    </tr>\n",
       "    <tr>\n",
       "      <td>31054</td>\n",
       "      <td>Kehinde Wiley: An Economy of Grace</td>\n",
       "      <td>-0.427147</td>\n",
       "      <td>Famous for his vibrant reinterpretations of cl...</td>\n",
       "      <td>-0.155359</td>\n",
       "      <td>-0.1119</td>\n",
       "      <td>0.821342</td>\n",
       "      <td>-2.331196</td>\n",
       "      <td>0.006066</td>\n",
       "    </tr>\n",
       "    <tr>\n",
       "      <td>41488</td>\n",
       "      <td>E.T. 2</td>\n",
       "      <td>-1.031210</td>\n",
       "      <td>A lonely man befriends a cocaine addicted ...</td>\n",
       "      <td>-0.124364</td>\n",
       "      <td>-0.1119</td>\n",
       "      <td>0.857356</td>\n",
       "      <td>-0.414190</td>\n",
       "      <td>-0.977878</td>\n",
       "    </tr>\n",
       "  </tbody>\n",
       "</table>\n",
       "</div>"
      ],
      "text/plain": [
       "                                    title   runtime  \\\n",
       "73623                                 Mia -1.031210   \n",
       "5550                       After the Fall -0.802083   \n",
       "64399              Last Chance Lawyer NYC -0.281338   \n",
       "31054  Kehinde Wiley: An Economy of Grace -0.427147   \n",
       "41488                              E.T. 2 -1.031210   \n",
       "\n",
       "                                                     des      vote   gross  \\\n",
       "73623      On the eve of her sixteenth birthday, the ... -0.155853 -0.1119   \n",
       "5550       While on a long journey north, a post-apoc... -0.155315 -0.1119   \n",
       "64399      Documentary series following the exploits ... -0.154709 -0.1119   \n",
       "31054  Famous for his vibrant reinterpretations of cl... -0.155359 -0.1119   \n",
       "41488      A lonely man befriends a cocaine addicted ... -0.124364 -0.1119   \n",
       "\n",
       "       sum_genre  sum_cast  sum_director  \n",
       "73623   0.861844  0.742387      0.072520  \n",
       "5550    0.884074  0.623745     -0.007991  \n",
       "64399  -1.625116 -2.354195     -0.977878  \n",
       "31054   0.821342 -2.331196      0.006066  \n",
       "41488   0.857356 -0.414190     -0.977878  "
      ]
     },
     "execution_count": 87,
     "metadata": {},
     "output_type": "execute_result"
    }
   ],
   "source": [
    "val_X_df.head()"
   ]
  },
  {
   "cell_type": "markdown",
   "metadata": {},
   "source": [
    "# To CSV"
   ]
  },
  {
   "cell_type": "code",
   "execution_count": 88,
   "metadata": {},
   "outputs": [],
   "source": [
    "train_X_df.to_csv(\"./processed_data/train_X_df.csv\",index = False, header = True)\n",
    "train_y_sr.to_csv(\"./processed_data/train_y_sr.csv\",index = False, header = True)\n",
    "val_X_df.to_csv(\"./processed_data/val_X_df.csv\",index = False, header = True)\n",
    "val_y_sr.to_csv(\"./processed_data/val_y_sr.csv\",index = False, header = True)"
   ]
  },
  {
   "cell_type": "markdown",
   "metadata": {},
   "source": []
  },
  {
   "cell_type": "code",
   "execution_count": 89,
   "metadata": {},
   "outputs": [],
   "source": [
    "train_X_df = pd.read_csv(\"./processed_data/train_X_df.csv\")\n",
    "train_y_sr = pd.read_csv(\"./processed_data/train_y_sr.csv\")\n"
   ]
  },
  {
   "cell_type": "code",
   "execution_count": 91,
   "metadata": {},
   "outputs": [
    {
     "data": {
      "text/html": [
       "<div>\n",
       "<style scoped>\n",
       "    .dataframe tbody tr th:only-of-type {\n",
       "        vertical-align: middle;\n",
       "    }\n",
       "\n",
       "    .dataframe tbody tr th {\n",
       "        vertical-align: top;\n",
       "    }\n",
       "\n",
       "    .dataframe thead th {\n",
       "        text-align: right;\n",
       "    }\n",
       "</style>\n",
       "<table border=\"1\" class=\"dataframe\">\n",
       "  <thead>\n",
       "    <tr style=\"text-align: right;\">\n",
       "      <th></th>\n",
       "      <th>title</th>\n",
       "      <th>runtime</th>\n",
       "      <th>des</th>\n",
       "      <th>vote</th>\n",
       "      <th>gross</th>\n",
       "      <th>sum_genre</th>\n",
       "      <th>sum_cast</th>\n",
       "      <th>sum_director</th>\n",
       "    </tr>\n",
       "  </thead>\n",
       "  <tbody>\n",
       "    <tr>\n",
       "      <td>0</td>\n",
       "      <td>Homicide for the Holidays</td>\n",
       "      <td>-1.224851</td>\n",
       "      <td>For most, the winter holidays mean bringing fa...</td>\n",
       "      <td>-0.155025</td>\n",
       "      <td>-0.11178</td>\n",
       "      <td>-1.633668</td>\n",
       "      <td>0.311316</td>\n",
       "      <td>-1.522936</td>\n",
       "    </tr>\n",
       "    <tr>\n",
       "      <td>1</td>\n",
       "      <td>Song from the Forest</td>\n",
       "      <td>0.842315</td>\n",
       "      <td>25 years ago, Louis Sarno, an American, heard ...</td>\n",
       "      <td>-0.150652</td>\n",
       "      <td>-0.11178</td>\n",
       "      <td>0.684421</td>\n",
       "      <td>0.706477</td>\n",
       "      <td>0.819313</td>\n",
       "    </tr>\n",
       "    <tr>\n",
       "      <td>2</td>\n",
       "      <td>Hieronymus Bosch, Touched by the Devil</td>\n",
       "      <td>0.589193</td>\n",
       "      <td>In 2016, the Noordbrabants Museum in the Dutch...</td>\n",
       "      <td>-0.149389</td>\n",
       "      <td>-0.16944</td>\n",
       "      <td>-1.633668</td>\n",
       "      <td>0.356912</td>\n",
       "      <td>0.373501</td>\n",
       "    </tr>\n",
       "    <tr>\n",
       "      <td>3</td>\n",
       "      <td>The Adventures of Tintin: Secret of the Unicor...</td>\n",
       "      <td>-1.224851</td>\n",
       "      <td>Add a Plot</td>\n",
       "      <td>-0.155235</td>\n",
       "      <td>-0.11178</td>\n",
       "      <td>-1.633668</td>\n",
       "      <td>-0.341982</td>\n",
       "      <td>-1.522936</td>\n",
       "    </tr>\n",
       "    <tr>\n",
       "      <td>4</td>\n",
       "      <td>Forgiving Chris Brown</td>\n",
       "      <td>-0.971729</td>\n",
       "      <td>Forgiving Chris Brown is a dark comedy short t...</td>\n",
       "      <td>-0.155329</td>\n",
       "      <td>-0.11178</td>\n",
       "      <td>0.858900</td>\n",
       "      <td>0.371600</td>\n",
       "      <td>0.796705</td>\n",
       "    </tr>\n",
       "  </tbody>\n",
       "</table>\n",
       "</div>"
      ],
      "text/plain": [
       "                                               title   runtime  \\\n",
       "0                          Homicide for the Holidays -1.224851   \n",
       "1                               Song from the Forest  0.842315   \n",
       "2             Hieronymus Bosch, Touched by the Devil  0.589193   \n",
       "3  The Adventures of Tintin: Secret of the Unicor... -1.224851   \n",
       "4                              Forgiving Chris Brown -0.971729   \n",
       "\n",
       "                                                 des      vote    gross  \\\n",
       "0  For most, the winter holidays mean bringing fa... -0.155025 -0.11178   \n",
       "1  25 years ago, Louis Sarno, an American, heard ... -0.150652 -0.11178   \n",
       "2  In 2016, the Noordbrabants Museum in the Dutch... -0.149389 -0.16944   \n",
       "3                                         Add a Plot -0.155235 -0.11178   \n",
       "4  Forgiving Chris Brown is a dark comedy short t... -0.155329 -0.11178   \n",
       "\n",
       "   sum_genre  sum_cast  sum_director  \n",
       "0  -1.633668  0.311316     -1.522936  \n",
       "1   0.684421  0.706477      0.819313  \n",
       "2  -1.633668  0.356912      0.373501  \n",
       "3  -1.633668 -0.341982     -1.522936  \n",
       "4   0.858900  0.371600      0.796705  "
      ]
     },
     "execution_count": 91,
     "metadata": {},
     "output_type": "execute_result"
    }
   ],
   "source": [
    "train_X_df.head()"
   ]
  },
  {
   "cell_type": "code",
   "execution_count": null,
   "metadata": {},
   "outputs": [],
   "source": []
  }
 ],
 "metadata": {
  "colab": {
   "include_colab_link": true,
   "name": "Process_data.ipynb",
   "provenance": []
  },
  "kernelspec": {
   "display_name": "Python 3",
   "language": "python",
   "name": "python3"
  },
  "language_info": {
   "codemirror_mode": {
    "name": "ipython",
    "version": 3
   },
   "file_extension": ".py",
   "mimetype": "text/x-python",
   "name": "python",
   "nbconvert_exporter": "python",
   "pygments_lexer": "ipython3",
   "version": "3.7.4"
  }
 },
 "nbformat": 4,
 "nbformat_minor": 4
}
