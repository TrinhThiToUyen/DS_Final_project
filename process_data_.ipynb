{
 "cells": [
  {
   "cell_type": "markdown",
   "metadata": {
    "colab_type": "text",
    "id": "view-in-github"
   },
   "source": [
    "<a href=\"https://colab.research.google.com/github/hungviet0304/DS_Final_project/blob/master/Process_data.ipynb\" target=\"_parent\"><img src=\"https://colab.research.google.com/assets/colab-badge.svg\" alt=\"Open In Colab\"/></a>"
   ]
  },
  {
   "cell_type": "code",
   "execution_count": 269,
   "metadata": {
    "colab": {},
    "colab_type": "code",
    "id": "TmvHT3tAgeFe"
   },
   "outputs": [],
   "source": [
    "import pandas as pd\n",
    "import numpy as np\n",
    "import os\n",
    "import copy\n",
    "import math\n",
    "from sklearn.feature_extraction.text import TfidfVectorizer\n",
    "%matplotlib inline"
   ]
  },
  {
   "cell_type": "code",
   "execution_count": 270,
   "metadata": {},
   "outputs": [],
   "source": [
    "%matplotlib inline\n",
    "import matplotlib.pyplot as plt\n",
    "import seaborn as sns # seaborn là thư viện được xây trên matplotlib, giúp việc visualization đỡ khổ hơn\n",
    "import pandas as pd\n",
    "import numpy as np\n",
    "\n",
    "from sklearn.model_selection import train_test_split\n",
    "from sklearn.preprocessing import OneHotEncoder, StandardScaler\n",
    "from sklearn.impute import SimpleImputer\n",
    "from sklearn.base import BaseEstimator, TransformerMixin\n",
    "from sklearn.pipeline import Pipeline, make_pipeline\n",
    "from sklearn.compose import ColumnTransformer, make_column_transformer\n",
    "from sklearn.neural_network import MLPClassifier\n",
    "\n",
    "# You can also import other things ...\n",
    "# YOUR CODE HERE (OPTION)\n",
    "import re\n",
    "from sklearn import preprocessing"
   ]
  },
  {
   "cell_type": "code",
   "execution_count": 271,
   "metadata": {},
   "outputs": [
    {
     "name": "stdout",
     "output_type": "stream",
     "text": [
      "C:\\Users\\Admin\\Documents\\GitHub\\DS_Final_project\\data\n",
      "C:\\Users\\Admin\\Documents\\GitHub\\DS_Final_project\n"
     ]
    }
   ],
   "source": [
    "pwd = %pwd\n",
    "if pwd != 'C:\\\\Users\\\\Admin\\\\Documents\\\\GitHub\\\\DS_Final_project\\\\data':\n",
    "    %cd ./data\n",
    "\n",
    "file_list = os.listdir()\n",
    "data_tmp = []\n",
    "for file in file_list:\n",
    "    df = pd.read_csv(file)\n",
    "    data_tmp.append(df)\n",
    "final_df = pd.concat(data_tmp, axis = 0, ignore_index=True)\n",
    "%cd .."
   ]
  },
  {
   "cell_type": "code",
   "execution_count": 272,
   "metadata": {},
   "outputs": [
    {
     "data": {
      "text/html": [
       "<div>\n",
       "<style scoped>\n",
       "    .dataframe tbody tr th:only-of-type {\n",
       "        vertical-align: middle;\n",
       "    }\n",
       "\n",
       "    .dataframe tbody tr th {\n",
       "        vertical-align: top;\n",
       "    }\n",
       "\n",
       "    .dataframe thead th {\n",
       "        text-align: right;\n",
       "    }\n",
       "</style>\n",
       "<table border=\"1\" class=\"dataframe\">\n",
       "  <thead>\n",
       "    <tr style=\"text-align: right;\">\n",
       "      <th></th>\n",
       "      <th>title</th>\n",
       "      <th>runtime</th>\n",
       "      <th>des</th>\n",
       "      <th>date</th>\n",
       "      <th>genre</th>\n",
       "      <th>cast</th>\n",
       "      <th>director</th>\n",
       "      <th>vote</th>\n",
       "      <th>gross</th>\n",
       "      <th>rating</th>\n",
       "    </tr>\n",
       "  </thead>\n",
       "  <tbody>\n",
       "    <tr>\n",
       "      <td>0</td>\n",
       "      <td>Star Wars: Episode VIII - The Last Jedi</td>\n",
       "      <td>151</td>\n",
       "      <td>Rey develops her newly discovered abilitie...</td>\n",
       "      <td>2017</td>\n",
       "      <td>Action, Adventure, Fantasy</td>\n",
       "      <td>Daisy Ridley, John Boyega, Mark Hamill, Carrie...</td>\n",
       "      <td>Rian Johnson</td>\n",
       "      <td>511977</td>\n",
       "      <td>$620.18M</td>\n",
       "      <td>7.0</td>\n",
       "    </tr>\n",
       "    <tr>\n",
       "      <td>1</td>\n",
       "      <td>Game of Thrones</td>\n",
       "      <td>57</td>\n",
       "      <td>Nine noble families fight for control over...</td>\n",
       "      <td>2019</td>\n",
       "      <td>Action, Adventure, Drama</td>\n",
       "      <td>Emilia Clarke, Peter Dinklage, Kit Harington, ...</td>\n",
       "      <td>NaN</td>\n",
       "      <td>1624187</td>\n",
       "      <td>NaN</td>\n",
       "      <td>9.3</td>\n",
       "    </tr>\n",
       "    <tr>\n",
       "      <td>2</td>\n",
       "      <td>Vikings</td>\n",
       "      <td>44</td>\n",
       "      <td>Vikings transports us to the brutal and my...</td>\n",
       "      <td>2013</td>\n",
       "      <td>Action, Adventure, Drama</td>\n",
       "      <td>Katheryn Winnick, Gustaf Skarsgård, Alexander ...</td>\n",
       "      <td>NaN</td>\n",
       "      <td>367194</td>\n",
       "      <td>NaN</td>\n",
       "      <td>8.6</td>\n",
       "    </tr>\n",
       "    <tr>\n",
       "      <td>3</td>\n",
       "      <td>Star Wars: Episode VII - The Force Awakens</td>\n",
       "      <td>138</td>\n",
       "      <td>Three decades after the Empire's defeat, a...</td>\n",
       "      <td>2015</td>\n",
       "      <td>Action, Adventure, Sci-Fi</td>\n",
       "      <td>Daisy Ridley, John Boyega, Oscar Isaac, Domhna...</td>\n",
       "      <td>J.J. Abrams</td>\n",
       "      <td>818309</td>\n",
       "      <td>$936.66M</td>\n",
       "      <td>7.9</td>\n",
       "    </tr>\n",
       "    <tr>\n",
       "      <td>4</td>\n",
       "      <td>Rogue One: A Star Wars Story</td>\n",
       "      <td>133</td>\n",
       "      <td>The daughter of an Imperial scientist join...</td>\n",
       "      <td>2016</td>\n",
       "      <td>Action, Adventure, Sci-Fi</td>\n",
       "      <td>Felicity Jones, Diego Luna, Alan Tudyk, Donnie...</td>\n",
       "      <td>Gareth Edwards</td>\n",
       "      <td>511959</td>\n",
       "      <td>$532.18M</td>\n",
       "      <td>7.8</td>\n",
       "    </tr>\n",
       "  </tbody>\n",
       "</table>\n",
       "</div>"
      ],
      "text/plain": [
       "                                        title runtime  \\\n",
       "0     Star Wars: Episode VIII - The Last Jedi     151   \n",
       "1                             Game of Thrones      57   \n",
       "2                                     Vikings      44   \n",
       "3  Star Wars: Episode VII - The Force Awakens     138   \n",
       "4                Rogue One: A Star Wars Story     133   \n",
       "\n",
       "                                                 des  date  \\\n",
       "0      Rey develops her newly discovered abilitie...  2017   \n",
       "1      Nine noble families fight for control over...  2019   \n",
       "2      Vikings transports us to the brutal and my...  2013   \n",
       "3      Three decades after the Empire's defeat, a...  2015   \n",
       "4      The daughter of an Imperial scientist join...  2016   \n",
       "\n",
       "                                    genre  \\\n",
       "0  Action, Adventure, Fantasy               \n",
       "1    Action, Adventure, Drama               \n",
       "2    Action, Adventure, Drama               \n",
       "3   Action, Adventure, Sci-Fi               \n",
       "4   Action, Adventure, Sci-Fi               \n",
       "\n",
       "                                                cast        director     vote  \\\n",
       "0  Daisy Ridley, John Boyega, Mark Hamill, Carrie...    Rian Johnson   511977   \n",
       "1  Emilia Clarke, Peter Dinklage, Kit Harington, ...             NaN  1624187   \n",
       "2  Katheryn Winnick, Gustaf Skarsgård, Alexander ...             NaN   367194   \n",
       "3  Daisy Ridley, John Boyega, Oscar Isaac, Domhna...     J.J. Abrams   818309   \n",
       "4  Felicity Jones, Diego Luna, Alan Tudyk, Donnie...  Gareth Edwards   511959   \n",
       "\n",
       "      gross  rating  \n",
       "0  $620.18M     7.0  \n",
       "1       NaN     9.3  \n",
       "2       NaN     8.6  \n",
       "3  $936.66M     7.9  \n",
       "4  $532.18M     7.8  "
      ]
     },
     "execution_count": 272,
     "metadata": {},
     "output_type": "execute_result"
    }
   ],
   "source": [
    "final_df.head()"
   ]
  },
  {
   "cell_type": "code",
   "execution_count": 273,
   "metadata": {},
   "outputs": [
    {
     "data": {
      "text/html": [
       "<div>\n",
       "<style scoped>\n",
       "    .dataframe tbody tr th:only-of-type {\n",
       "        vertical-align: middle;\n",
       "    }\n",
       "\n",
       "    .dataframe tbody tr th {\n",
       "        vertical-align: top;\n",
       "    }\n",
       "\n",
       "    .dataframe thead th {\n",
       "        text-align: right;\n",
       "    }\n",
       "</style>\n",
       "<table border=\"1\" class=\"dataframe\">\n",
       "  <thead>\n",
       "    <tr style=\"text-align: right;\">\n",
       "      <th></th>\n",
       "      <th>title</th>\n",
       "      <th>runtime</th>\n",
       "      <th>des</th>\n",
       "      <th>date</th>\n",
       "      <th>genre</th>\n",
       "      <th>cast</th>\n",
       "      <th>director</th>\n",
       "      <th>vote</th>\n",
       "      <th>gross</th>\n",
       "      <th>rating</th>\n",
       "    </tr>\n",
       "  </thead>\n",
       "  <tbody>\n",
       "    <tr>\n",
       "      <td>count</td>\n",
       "      <td>78450</td>\n",
       "      <td>78450</td>\n",
       "      <td>78447</td>\n",
       "      <td>78450.000000</td>\n",
       "      <td>78450</td>\n",
       "      <td>77035</td>\n",
       "      <td>55833</td>\n",
       "      <td>7.845000e+04</td>\n",
       "      <td>4529</td>\n",
       "      <td>78450.000000</td>\n",
       "    </tr>\n",
       "    <tr>\n",
       "      <td>unique</td>\n",
       "      <td>60555</td>\n",
       "      <td>552</td>\n",
       "      <td>57146</td>\n",
       "      <td>NaN</td>\n",
       "      <td>1014</td>\n",
       "      <td>61886</td>\n",
       "      <td>35901</td>\n",
       "      <td>NaN</td>\n",
       "      <td>1278</td>\n",
       "      <td>NaN</td>\n",
       "    </tr>\n",
       "    <tr>\n",
       "      <td>top</td>\n",
       "      <td>Run</td>\n",
       "      <td>0</td>\n",
       "      <td>Add a Plot</td>\n",
       "      <td>NaN</td>\n",
       "      <td>Documentary</td>\n",
       "      <td>Missy Jubilee</td>\n",
       "      <td>Kevin Dunn</td>\n",
       "      <td>NaN</td>\n",
       "      <td>$0.01M</td>\n",
       "      <td>NaN</td>\n",
       "    </tr>\n",
       "    <tr>\n",
       "      <td>freq</td>\n",
       "      <td>15</td>\n",
       "      <td>7605</td>\n",
       "      <td>8135</td>\n",
       "      <td>NaN</td>\n",
       "      <td>5444</td>\n",
       "      <td>26</td>\n",
       "      <td>98</td>\n",
       "      <td>NaN</td>\n",
       "      <td>342</td>\n",
       "      <td>NaN</td>\n",
       "    </tr>\n",
       "    <tr>\n",
       "      <td>mean</td>\n",
       "      <td>NaN</td>\n",
       "      <td>NaN</td>\n",
       "      <td>NaN</td>\n",
       "      <td>2014.172569</td>\n",
       "      <td>NaN</td>\n",
       "      <td>NaN</td>\n",
       "      <td>NaN</td>\n",
       "      <td>4.836305e+03</td>\n",
       "      <td>NaN</td>\n",
       "      <td>4.144744</td>\n",
       "    </tr>\n",
       "    <tr>\n",
       "      <td>std</td>\n",
       "      <td>NaN</td>\n",
       "      <td>NaN</td>\n",
       "      <td>NaN</td>\n",
       "      <td>26.032289</td>\n",
       "      <td>NaN</td>\n",
       "      <td>NaN</td>\n",
       "      <td>NaN</td>\n",
       "      <td>3.736042e+04</td>\n",
       "      <td>NaN</td>\n",
       "      <td>3.422669</td>\n",
       "    </tr>\n",
       "    <tr>\n",
       "      <td>min</td>\n",
       "      <td>NaN</td>\n",
       "      <td>NaN</td>\n",
       "      <td>NaN</td>\n",
       "      <td>0.000000</td>\n",
       "      <td>NaN</td>\n",
       "      <td>NaN</td>\n",
       "      <td>NaN</td>\n",
       "      <td>0.000000e+00</td>\n",
       "      <td>NaN</td>\n",
       "      <td>0.000000</td>\n",
       "    </tr>\n",
       "    <tr>\n",
       "      <td>25%</td>\n",
       "      <td>NaN</td>\n",
       "      <td>NaN</td>\n",
       "      <td>NaN</td>\n",
       "      <td>2013.000000</td>\n",
       "      <td>NaN</td>\n",
       "      <td>NaN</td>\n",
       "      <td>NaN</td>\n",
       "      <td>0.000000e+00</td>\n",
       "      <td>NaN</td>\n",
       "      <td>0.000000</td>\n",
       "    </tr>\n",
       "    <tr>\n",
       "      <td>50%</td>\n",
       "      <td>NaN</td>\n",
       "      <td>NaN</td>\n",
       "      <td>NaN</td>\n",
       "      <td>2015.000000</td>\n",
       "      <td>NaN</td>\n",
       "      <td>NaN</td>\n",
       "      <td>NaN</td>\n",
       "      <td>1.400000e+01</td>\n",
       "      <td>NaN</td>\n",
       "      <td>5.500000</td>\n",
       "    </tr>\n",
       "    <tr>\n",
       "      <td>75%</td>\n",
       "      <td>NaN</td>\n",
       "      <td>NaN</td>\n",
       "      <td>NaN</td>\n",
       "      <td>2016.000000</td>\n",
       "      <td>NaN</td>\n",
       "      <td>NaN</td>\n",
       "      <td>NaN</td>\n",
       "      <td>2.020000e+02</td>\n",
       "      <td>NaN</td>\n",
       "      <td>7.200000</td>\n",
       "    </tr>\n",
       "    <tr>\n",
       "      <td>max</td>\n",
       "      <td>NaN</td>\n",
       "      <td>NaN</td>\n",
       "      <td>NaN</td>\n",
       "      <td>2020.000000</td>\n",
       "      <td>NaN</td>\n",
       "      <td>NaN</td>\n",
       "      <td>NaN</td>\n",
       "      <td>1.624258e+06</td>\n",
       "      <td>NaN</td>\n",
       "      <td>10.000000</td>\n",
       "    </tr>\n",
       "  </tbody>\n",
       "</table>\n",
       "</div>"
      ],
      "text/plain": [
       "        title runtime         des          date                    genre  \\\n",
       "count   78450   78450       78447  78450.000000                    78450   \n",
       "unique  60555     552       57146           NaN                     1014   \n",
       "top       Run       0  Add a Plot           NaN  Documentary               \n",
       "freq       15    7605        8135           NaN                     5444   \n",
       "mean      NaN     NaN         NaN   2014.172569                      NaN   \n",
       "std       NaN     NaN         NaN     26.032289                      NaN   \n",
       "min       NaN     NaN         NaN      0.000000                      NaN   \n",
       "25%       NaN     NaN         NaN   2013.000000                      NaN   \n",
       "50%       NaN     NaN         NaN   2015.000000                      NaN   \n",
       "75%       NaN     NaN         NaN   2016.000000                      NaN   \n",
       "max       NaN     NaN         NaN   2020.000000                      NaN   \n",
       "\n",
       "                 cast    director          vote   gross        rating  \n",
       "count           77035       55833  7.845000e+04    4529  78450.000000  \n",
       "unique          61886       35901           NaN    1278           NaN  \n",
       "top     Missy Jubilee  Kevin Dunn           NaN  $0.01M           NaN  \n",
       "freq               26          98           NaN     342           NaN  \n",
       "mean              NaN         NaN  4.836305e+03     NaN      4.144744  \n",
       "std               NaN         NaN  3.736042e+04     NaN      3.422669  \n",
       "min               NaN         NaN  0.000000e+00     NaN      0.000000  \n",
       "25%               NaN         NaN  0.000000e+00     NaN      0.000000  \n",
       "50%               NaN         NaN  1.400000e+01     NaN      5.500000  \n",
       "75%               NaN         NaN  2.020000e+02     NaN      7.200000  \n",
       "max               NaN         NaN  1.624258e+06     NaN     10.000000  "
      ]
     },
     "execution_count": 273,
     "metadata": {},
     "output_type": "execute_result"
    }
   ],
   "source": [
    "final_df.describe(include=\"all\")"
   ]
  },
  {
   "cell_type": "code",
   "execution_count": 274,
   "metadata": {},
   "outputs": [
    {
     "data": {
      "text/html": [
       "<div>\n",
       "<style scoped>\n",
       "    .dataframe tbody tr th:only-of-type {\n",
       "        vertical-align: middle;\n",
       "    }\n",
       "\n",
       "    .dataframe tbody tr th {\n",
       "        vertical-align: top;\n",
       "    }\n",
       "\n",
       "    .dataframe thead th {\n",
       "        text-align: right;\n",
       "    }\n",
       "</style>\n",
       "<table border=\"1\" class=\"dataframe\">\n",
       "  <thead>\n",
       "    <tr style=\"text-align: right;\">\n",
       "      <th></th>\n",
       "      <th>title</th>\n",
       "      <th>runtime</th>\n",
       "      <th>des</th>\n",
       "      <th>date</th>\n",
       "      <th>genre</th>\n",
       "      <th>cast</th>\n",
       "      <th>director</th>\n",
       "      <th>vote</th>\n",
       "      <th>gross</th>\n",
       "      <th>rating</th>\n",
       "    </tr>\n",
       "  </thead>\n",
       "  <tbody>\n",
       "    <tr>\n",
       "      <td>0</td>\n",
       "      <td>Star Wars: Episode VIII - The Last Jedi</td>\n",
       "      <td>151</td>\n",
       "      <td>Rey develops her newly discovered abilitie...</td>\n",
       "      <td>2017</td>\n",
       "      <td>Action, Adventure, Fantasy</td>\n",
       "      <td>Daisy Ridley, John Boyega, Mark Hamill, Carrie...</td>\n",
       "      <td>Rian Johnson</td>\n",
       "      <td>511977</td>\n",
       "      <td>$620.18M</td>\n",
       "      <td>7.0</td>\n",
       "    </tr>\n",
       "    <tr>\n",
       "      <td>1</td>\n",
       "      <td>Game of Thrones</td>\n",
       "      <td>57</td>\n",
       "      <td>Nine noble families fight for control over...</td>\n",
       "      <td>2019</td>\n",
       "      <td>Action, Adventure, Drama</td>\n",
       "      <td>Emilia Clarke, Peter Dinklage, Kit Harington, ...</td>\n",
       "      <td>NaN</td>\n",
       "      <td>1624187</td>\n",
       "      <td>NaN</td>\n",
       "      <td>9.3</td>\n",
       "    </tr>\n",
       "    <tr>\n",
       "      <td>2</td>\n",
       "      <td>Vikings</td>\n",
       "      <td>44</td>\n",
       "      <td>Vikings transports us to the brutal and my...</td>\n",
       "      <td>2013</td>\n",
       "      <td>Action, Adventure, Drama</td>\n",
       "      <td>Katheryn Winnick, Gustaf Skarsgård, Alexander ...</td>\n",
       "      <td>NaN</td>\n",
       "      <td>367194</td>\n",
       "      <td>NaN</td>\n",
       "      <td>8.6</td>\n",
       "    </tr>\n",
       "    <tr>\n",
       "      <td>3</td>\n",
       "      <td>Star Wars: Episode VII - The Force Awakens</td>\n",
       "      <td>138</td>\n",
       "      <td>Three decades after the Empire's defeat, a...</td>\n",
       "      <td>2015</td>\n",
       "      <td>Action, Adventure, Sci-Fi</td>\n",
       "      <td>Daisy Ridley, John Boyega, Oscar Isaac, Domhna...</td>\n",
       "      <td>J.J. Abrams</td>\n",
       "      <td>818309</td>\n",
       "      <td>$936.66M</td>\n",
       "      <td>7.9</td>\n",
       "    </tr>\n",
       "    <tr>\n",
       "      <td>4</td>\n",
       "      <td>Rogue One: A Star Wars Story</td>\n",
       "      <td>133</td>\n",
       "      <td>The daughter of an Imperial scientist join...</td>\n",
       "      <td>2016</td>\n",
       "      <td>Action, Adventure, Sci-Fi</td>\n",
       "      <td>Felicity Jones, Diego Luna, Alan Tudyk, Donnie...</td>\n",
       "      <td>Gareth Edwards</td>\n",
       "      <td>511959</td>\n",
       "      <td>$532.18M</td>\n",
       "      <td>7.8</td>\n",
       "    </tr>\n",
       "  </tbody>\n",
       "</table>\n",
       "</div>"
      ],
      "text/plain": [
       "                                        title runtime  \\\n",
       "0     Star Wars: Episode VIII - The Last Jedi     151   \n",
       "1                             Game of Thrones      57   \n",
       "2                                     Vikings      44   \n",
       "3  Star Wars: Episode VII - The Force Awakens     138   \n",
       "4                Rogue One: A Star Wars Story     133   \n",
       "\n",
       "                                                 des  date  \\\n",
       "0      Rey develops her newly discovered abilitie...  2017   \n",
       "1      Nine noble families fight for control over...  2019   \n",
       "2      Vikings transports us to the brutal and my...  2013   \n",
       "3      Three decades after the Empire's defeat, a...  2015   \n",
       "4      The daughter of an Imperial scientist join...  2016   \n",
       "\n",
       "                                    genre  \\\n",
       "0  Action, Adventure, Fantasy               \n",
       "1    Action, Adventure, Drama               \n",
       "2    Action, Adventure, Drama               \n",
       "3   Action, Adventure, Sci-Fi               \n",
       "4   Action, Adventure, Sci-Fi               \n",
       "\n",
       "                                                cast        director     vote  \\\n",
       "0  Daisy Ridley, John Boyega, Mark Hamill, Carrie...    Rian Johnson   511977   \n",
       "1  Emilia Clarke, Peter Dinklage, Kit Harington, ...             NaN  1624187   \n",
       "2  Katheryn Winnick, Gustaf Skarsgård, Alexander ...             NaN   367194   \n",
       "3  Daisy Ridley, John Boyega, Oscar Isaac, Domhna...     J.J. Abrams   818309   \n",
       "4  Felicity Jones, Diego Luna, Alan Tudyk, Donnie...  Gareth Edwards   511959   \n",
       "\n",
       "      gross  rating  \n",
       "0  $620.18M     7.0  \n",
       "1       NaN     9.3  \n",
       "2       NaN     8.6  \n",
       "3  $936.66M     7.9  \n",
       "4  $532.18M     7.8  "
      ]
     },
     "execution_count": 274,
     "metadata": {},
     "output_type": "execute_result"
    }
   ],
   "source": [
    "df = final_df.copy()\n",
    "df = df[df.rating != 0]\n",
    "df.head()"
   ]
  },
  {
   "cell_type": "code",
   "execution_count": 275,
   "metadata": {},
   "outputs": [],
   "source": [
    "# Tách X và y\n",
    "y_sr = df[\"rating\"] # sr là viết tắt của series\n",
    "X_df = df.drop(\"rating\", axis=1)"
   ]
  },
  {
   "cell_type": "code",
   "execution_count": 276,
   "metadata": {},
   "outputs": [
    {
     "data": {
      "text/plain": [
       "Int64Index([33273, 52310, 64394, 13478, 39926], dtype='int64')"
      ]
     },
     "execution_count": 276,
     "metadata": {},
     "output_type": "execute_result"
    }
   ],
   "source": [
    "# Tách tập train và tập validation theo tỉ lệ 70%:30%\n",
    "train_X_df, val_X_df, train_y_sr, val_y_sr = train_test_split(X_df, y_sr, test_size=0.3, \n",
    "                                                              stratify=y_sr, random_state=0)\n",
    "\n",
    "train_X_df.head().index"
   ]
  },
  {
   "cell_type": "code",
   "execution_count": 277,
   "metadata": {},
   "outputs": [
    {
     "name": "stdout",
     "output_type": "stream",
     "text": [
      "<class 'pandas.core.frame.DataFrame'>\n",
      "Int64Index: 34181 entries, 33273 to 41741\n",
      "Data columns (total 9 columns):\n",
      "title       34181 non-null object\n",
      "runtime     34181 non-null object\n",
      "des         34181 non-null object\n",
      "date        34181 non-null int64\n",
      "genre       34181 non-null object\n",
      "cast        33878 non-null object\n",
      "director    25249 non-null object\n",
      "vote        34181 non-null int64\n",
      "gross       3136 non-null object\n",
      "dtypes: int64(2), object(7)\n",
      "memory usage: 2.6+ MB\n"
     ]
    }
   ],
   "source": [
    "train_X_df.info()"
   ]
  },
  {
   "cell_type": "code",
   "execution_count": 278,
   "metadata": {},
   "outputs": [
    {
     "name": "stdout",
     "output_type": "stream",
     "text": [
      "<class 'pandas.core.frame.DataFrame'>\n",
      "Int64Index: 14649 entries, 32044 to 46456\n",
      "Data columns (total 9 columns):\n",
      "title       14649 non-null object\n",
      "runtime     14649 non-null object\n",
      "des         14649 non-null object\n",
      "date        14649 non-null int64\n",
      "genre       14649 non-null object\n",
      "cast        14505 non-null object\n",
      "director    10803 non-null object\n",
      "vote        14649 non-null int64\n",
      "gross       1393 non-null object\n",
      "dtypes: int64(2), object(7)\n",
      "memory usage: 1.1+ MB\n"
     ]
    }
   ],
   "source": [
    "val_X_df.info()"
   ]
  },
  {
   "cell_type": "code",
   "execution_count": 279,
   "metadata": {},
   "outputs": [
    {
     "data": {
      "text/html": [
       "<div>\n",
       "<style scoped>\n",
       "    .dataframe tbody tr th:only-of-type {\n",
       "        vertical-align: middle;\n",
       "    }\n",
       "\n",
       "    .dataframe tbody tr th {\n",
       "        vertical-align: top;\n",
       "    }\n",
       "\n",
       "    .dataframe thead th {\n",
       "        text-align: right;\n",
       "    }\n",
       "</style>\n",
       "<table border=\"1\" class=\"dataframe\">\n",
       "  <thead>\n",
       "    <tr style=\"text-align: right;\">\n",
       "      <th></th>\n",
       "      <th>title</th>\n",
       "      <th>runtime</th>\n",
       "      <th>des</th>\n",
       "      <th>date</th>\n",
       "      <th>genre</th>\n",
       "      <th>cast</th>\n",
       "      <th>director</th>\n",
       "      <th>vote</th>\n",
       "      <th>gross</th>\n",
       "    </tr>\n",
       "  </thead>\n",
       "  <tbody>\n",
       "    <tr>\n",
       "      <td>33273</td>\n",
       "      <td>Lint the Movie</td>\n",
       "      <td>101</td>\n",
       "      <td>Documents the life and work of cult SF author ...</td>\n",
       "      <td>2011</td>\n",
       "      <td>Biography, Comedy, Sci-Fi</td>\n",
       "      <td>Alan Moore, Stewart Lee, Josie Long, Steve Aylett</td>\n",
       "      <td>Steve Aylett</td>\n",
       "      <td>13</td>\n",
       "      <td>NaN</td>\n",
       "    </tr>\n",
       "    <tr>\n",
       "      <td>52310</td>\n",
       "      <td>Broken Chains</td>\n",
       "      <td>0</td>\n",
       "      <td>Brianna married a man she thought would pr...</td>\n",
       "      <td>2017</td>\n",
       "      <td>Action, Adventure, Biography</td>\n",
       "      <td>Denise Reed, Shannon Brown, Mark Vincent, Mich...</td>\n",
       "      <td>Shannon Brown</td>\n",
       "      <td>13</td>\n",
       "      <td>NaN</td>\n",
       "    </tr>\n",
       "    <tr>\n",
       "      <td>64394</td>\n",
       "      <td>The Tattooist</td>\n",
       "      <td>47</td>\n",
       "      <td>In \"The Tattooist,\" Rooster Teeth's Geoff Rams...</td>\n",
       "      <td>2017</td>\n",
       "      <td>Documentary</td>\n",
       "      <td>Geoff Ramsey, Griffon Ramsey, Millie Ramsey, B...</td>\n",
       "      <td>Mat Hames</td>\n",
       "      <td>17</td>\n",
       "      <td>NaN</td>\n",
       "    </tr>\n",
       "    <tr>\n",
       "      <td>13478</td>\n",
       "      <td>Fairy Fencer F: Advent Dark Force</td>\n",
       "      <td>0</td>\n",
       "      <td>A long time ago there was a conflict between a...</td>\n",
       "      <td>2016</td>\n",
       "      <td>Action, Adventure, Fantasy</td>\n",
       "      <td>Takatsugu Awazu, Takuya Eguchi, Ayumi Fujimura...</td>\n",
       "      <td>NaN</td>\n",
       "      <td>64</td>\n",
       "      <td>NaN</td>\n",
       "    </tr>\n",
       "    <tr>\n",
       "      <td>39926</td>\n",
       "      <td>Wild Oats</td>\n",
       "      <td>86</td>\n",
       "      <td>Everything changes for Eva when she receiv...</td>\n",
       "      <td>2016</td>\n",
       "      <td>Action, Adventure, Comedy</td>\n",
       "      <td>Shirley MacLaine, Jessica Lange, Demi Moore, P...</td>\n",
       "      <td>Andy Tennant</td>\n",
       "      <td>3053</td>\n",
       "      <td>$0.04M</td>\n",
       "    </tr>\n",
       "  </tbody>\n",
       "</table>\n",
       "</div>"
      ],
      "text/plain": [
       "                                   title runtime  \\\n",
       "33273                     Lint the Movie     101   \n",
       "52310                      Broken Chains       0   \n",
       "64394                      The Tattooist      47   \n",
       "13478  Fairy Fencer F: Advent Dark Force       0   \n",
       "39926                          Wild Oats      86   \n",
       "\n",
       "                                                     des  date  \\\n",
       "33273  Documents the life and work of cult SF author ...  2011   \n",
       "52310      Brianna married a man she thought would pr...  2017   \n",
       "64394  In \"The Tattooist,\" Rooster Teeth's Geoff Rams...  2017   \n",
       "13478  A long time ago there was a conflict between a...  2016   \n",
       "39926      Everything changes for Eva when she receiv...  2016   \n",
       "\n",
       "                                          genre  \\\n",
       "33273     Biography, Comedy, Sci-Fi               \n",
       "52310  Action, Adventure, Biography               \n",
       "64394                   Documentary               \n",
       "13478    Action, Adventure, Fantasy               \n",
       "39926     Action, Adventure, Comedy               \n",
       "\n",
       "                                                    cast       director  vote  \\\n",
       "33273  Alan Moore, Stewart Lee, Josie Long, Steve Aylett   Steve Aylett    13   \n",
       "52310  Denise Reed, Shannon Brown, Mark Vincent, Mich...  Shannon Brown    13   \n",
       "64394  Geoff Ramsey, Griffon Ramsey, Millie Ramsey, B...      Mat Hames    17   \n",
       "13478  Takatsugu Awazu, Takuya Eguchi, Ayumi Fujimura...            NaN    64   \n",
       "39926  Shirley MacLaine, Jessica Lange, Demi Moore, P...   Andy Tennant  3053   \n",
       "\n",
       "        gross  \n",
       "33273     NaN  \n",
       "52310     NaN  \n",
       "64394     NaN  \n",
       "13478     NaN  \n",
       "39926  $0.04M  "
      ]
     },
     "execution_count": 279,
     "metadata": {},
     "output_type": "execute_result"
    }
   ],
   "source": [
    "train_X_df.head()"
   ]
  },
  {
   "cell_type": "code",
   "execution_count": 280,
   "metadata": {},
   "outputs": [],
   "source": [
    "#df = df.dropna(axis=0)\n",
    "#df = df.drop_duplicates()"
   ]
  },
  {
   "cell_type": "code",
   "execution_count": 281,
   "metadata": {},
   "outputs": [],
   "source": [
    "genre_rating_df = train_X_df[\"genre\"].to_frame().join(train_y_sr)"
   ]
  },
  {
   "cell_type": "code",
   "execution_count": 282,
   "metadata": {},
   "outputs": [
    {
     "data": {
      "text/html": [
       "<div>\n",
       "<style scoped>\n",
       "    .dataframe tbody tr th:only-of-type {\n",
       "        vertical-align: middle;\n",
       "    }\n",
       "\n",
       "    .dataframe tbody tr th {\n",
       "        vertical-align: top;\n",
       "    }\n",
       "\n",
       "    .dataframe thead th {\n",
       "        text-align: right;\n",
       "    }\n",
       "</style>\n",
       "<table border=\"1\" class=\"dataframe\">\n",
       "  <thead>\n",
       "    <tr style=\"text-align: right;\">\n",
       "      <th></th>\n",
       "      <th>genre</th>\n",
       "      <th>rating</th>\n",
       "    </tr>\n",
       "  </thead>\n",
       "  <tbody>\n",
       "    <tr>\n",
       "      <td>33273</td>\n",
       "      <td>Biography, Comedy, Sci-Fi</td>\n",
       "      <td>6.3</td>\n",
       "    </tr>\n",
       "    <tr>\n",
       "      <td>52310</td>\n",
       "      <td>Action, Adventure, Biography</td>\n",
       "      <td>6.8</td>\n",
       "    </tr>\n",
       "    <tr>\n",
       "      <td>64394</td>\n",
       "      <td>Documentary</td>\n",
       "      <td>8.1</td>\n",
       "    </tr>\n",
       "    <tr>\n",
       "      <td>13478</td>\n",
       "      <td>Action, Adventure, Fantasy</td>\n",
       "      <td>9.5</td>\n",
       "    </tr>\n",
       "    <tr>\n",
       "      <td>39926</td>\n",
       "      <td>Action, Adventure, Comedy</td>\n",
       "      <td>5.7</td>\n",
       "    </tr>\n",
       "  </tbody>\n",
       "</table>\n",
       "</div>"
      ],
      "text/plain": [
       "                                          genre  rating\n",
       "33273     Biography, Comedy, Sci-Fi                 6.3\n",
       "52310  Action, Adventure, Biography                 6.8\n",
       "64394                   Documentary                 8.1\n",
       "13478    Action, Adventure, Fantasy                 9.5\n",
       "39926     Action, Adventure, Comedy                 5.7"
      ]
     },
     "execution_count": 282,
     "metadata": {},
     "output_type": "execute_result"
    }
   ],
   "source": [
    "genre_rating_df.head()"
   ]
  },
  {
   "cell_type": "code",
   "execution_count": 283,
   "metadata": {},
   "outputs": [
    {
     "name": "stdout",
     "output_type": "stream",
     "text": [
      "Counter({'Comedy': 11851, 'Documentary': 9071, 'Drama': 8970, 'Action': 8827, 'Short': 6749, 'Adventure': 6738, 'Crime': 5151, 'Animation': 4879, 'Romance': 4203, 'Biography': 3647, 'Family': 1508, 'Thriller': 1409, 'Horror': 1405, 'Fantasy': 1330, 'History': 1289, 'Sci-Fi': 1037, 'Music': 972, 'Mystery': 864, 'Sport': 562, 'News': 208, 'Reality-TV': 204, 'War': 203, 'Musical': 189, 'Talk-Show': 97, 'Western': 77, 'Game-Show': 56})\n",
      "len =  26\n"
     ]
    },
    {
     "data": {
      "image/png": "[encoded data removed]",
      "text/plain": [
       "<Figure size 1872x288 with 1 Axes>"
      ]
     },
     "metadata": {
      "needs_background": "light"
     },
     "output_type": "display_data"
    }
   ],
   "source": [
    "from collections import Counter\n",
    "\n",
    "list_gens = list(genre_rating_df.genre)\n",
    "unique_gen = []\n",
    "for g in list_gens:\n",
    "    unique_gen += g.strip().split(\", \")\n",
    "dict_gens = Counter(unique_gen)\n",
    "print(dict_gens)\n",
    "print(\"len = \",len(dict_gens))\n",
    "plt.figure(figsize=(26,4))\n",
    "plt.bar(dict_gens.keys(),dict_gens.values(), width = 0.5, color=plt.cm.Paired(np.arange(len(dict_gens))))\n",
    "plt.show()"
   ]
  },
  {
   "cell_type": "markdown",
   "metadata": {},
   "source": []
  },
  {
   "cell_type": "code",
   "execution_count": 284,
   "metadata": {},
   "outputs": [
    {
     "data": {
      "text/plain": [
       "<matplotlib.axes._subplots.AxesSubplot at 0x27a83747908>"
      ]
     },
     "execution_count": 284,
     "metadata": {},
     "output_type": "execute_result"
    },
    {
     "data": {
      "image/png": "[encoded data removed]",
      "text/plain": [
       "<Figure size 432x288 with 1 Axes>"
      ]
     },
     "metadata": {
      "needs_background": "light"
     },
     "output_type": "display_data"
    }
   ],
   "source": [
    "hist = {}\n",
    "for i in range(genre_rating_df.shape[0]):\n",
    "  genres = genre_rating_df.iloc[i].genre.strip().split(\", \")\n",
    "  rating  = genre_rating_df.iloc[i].rating\n",
    "  for g in genres:\n",
    "    if g not in hist:\n",
    "      hist[g] = [rating]\n",
    "    else:\n",
    "      hist[g].append(rating)\n",
    "keys = list(hist.keys())\n",
    "vals = list(hist.values())\n",
    "vals = [np.mean(x) for x in vals]\n",
    "\n",
    "assert len(keys) == len(vals)\n",
    "hist_df = pd.DataFrame(columns=[\"genre\",\"avg_score\"])\n",
    "hist_df.genre = keys\n",
    "hist_df.avg_score = vals\n",
    "hist_df = hist_df.sort_values(by = [\"avg_score\"],ascending=False)\n",
    "hist_df.plot.bar()\n"
   ]
  },
  {
   "cell_type": "code",
   "execution_count": 285,
   "metadata": {},
   "outputs": [
    {
     "name": "stdout",
     "output_type": "stream",
     "text": [
      "          genre  avg_score\n",
      "5   Documentary   7.260765\n",
      "18    Talk-Show   7.220619\n",
      "0     Biography   7.196627\n",
      "15      History   7.172847\n",
      "12        Short   7.163743\n",
      "21         News   7.157212\n",
      "20        Sport   7.103737\n",
      "16        Music   7.061317\n",
      "19   Reality-TV   6.946569\n",
      "24          War   6.777833\n",
      "8     Animation   6.722730\n",
      "22    Game-Show   6.664286\n",
      "23      Musical   6.651852\n",
      "7         Drama   6.574682\n",
      "10        Crime   6.553543\n",
      "4     Adventure   6.514767\n",
      "6       Fantasy   6.488722\n",
      "13      Mystery   6.469444\n",
      "9        Family   6.406300\n",
      "1        Comedy   6.376913\n",
      "11      Romance   6.375517\n",
      "3        Action   6.311623\n",
      "25      Western   6.300000\n",
      "2        Sci-Fi   6.043780\n",
      "14     Thriller   5.721150\n",
      "17       Horror   5.489751\n"
     ]
    }
   ],
   "source": [
    "print(hist_df)"
   ]
  },
  {
   "cell_type": "markdown",
   "metadata": {},
   "source": [
    "- GENRE to number"
   ]
  },
  {
   "cell_type": "code",
   "execution_count": 286,
   "metadata": {},
   "outputs": [],
   "source": [
    "#TF-IDF \n",
    "\n",
    "corpus = genre_rating_df[\"genre\"].tolist()\n",
    "vectorizer = TfidfVectorizer()\n",
    "tfidf = vectorizer.fit_transform(corpus)\n",
    "\n",
    "\n",
    "list_sum_genre = []\n",
    "for i in range(len(genre_rating_df)):\n",
    "    list_sum_genre.append(tfidf[i].sum())"
   ]
  },
  {
   "cell_type": "code",
   "execution_count": 287,
   "metadata": {},
   "outputs": [
    {
     "data": {
      "text/plain": [
       "False"
      ]
     },
     "execution_count": 287,
     "metadata": {},
     "output_type": "execute_result"
    }
   ],
   "source": [
    "sum_genre = pd.DataFrame(list_sum_genre)\n",
    "sum_genre.isnull().values.any()\n"
   ]
  },
  {
   "cell_type": "code",
   "execution_count": 288,
   "metadata": {},
   "outputs": [
    {
     "name": "stderr",
     "output_type": "stream",
     "text": [
      "D:\\app\\anaconda\\run\\lib\\site-packages\\ipykernel_launcher.py:2: SettingWithCopyWarning: \n",
      "A value is trying to be set on a copy of a slice from a DataFrame.\n",
      "Try using .loc[row_indexer,col_indexer] = value instead\n",
      "\n",
      "See the caveats in the documentation: http://pandas.pydata.org/pandas-docs/stable/user_guide/indexing.html#returning-a-view-versus-a-copy\n",
      "  \n"
     ]
    }
   ],
   "source": [
    "#add column into df\n",
    "train_X_df[\"sum_genre\"] = pd.Series(list_sum_genre).values"
   ]
  },
  {
   "cell_type": "code",
   "execution_count": 289,
   "metadata": {},
   "outputs": [
    {
     "data": {
      "text/html": [
       "<div>\n",
       "<style scoped>\n",
       "    .dataframe tbody tr th:only-of-type {\n",
       "        vertical-align: middle;\n",
       "    }\n",
       "\n",
       "    .dataframe tbody tr th {\n",
       "        vertical-align: top;\n",
       "    }\n",
       "\n",
       "    .dataframe thead th {\n",
       "        text-align: right;\n",
       "    }\n",
       "</style>\n",
       "<table border=\"1\" class=\"dataframe\">\n",
       "  <thead>\n",
       "    <tr style=\"text-align: right;\">\n",
       "      <th></th>\n",
       "      <th>title</th>\n",
       "      <th>runtime</th>\n",
       "      <th>des</th>\n",
       "      <th>date</th>\n",
       "      <th>genre</th>\n",
       "      <th>cast</th>\n",
       "      <th>director</th>\n",
       "      <th>vote</th>\n",
       "      <th>gross</th>\n",
       "      <th>sum_genre</th>\n",
       "    </tr>\n",
       "  </thead>\n",
       "  <tbody>\n",
       "    <tr>\n",
       "      <td>33273</td>\n",
       "      <td>Lint the Movie</td>\n",
       "      <td>101</td>\n",
       "      <td>Documents the life and work of cult SF author ...</td>\n",
       "      <td>2011</td>\n",
       "      <td>Biography, Comedy, Sci-Fi</td>\n",
       "      <td>Alan Moore, Stewart Lee, Josie Long, Steve Aylett</td>\n",
       "      <td>Steve Aylett</td>\n",
       "      <td>13</td>\n",
       "      <td>NaN</td>\n",
       "      <td>1.924142</td>\n",
       "    </tr>\n",
       "    <tr>\n",
       "      <td>52310</td>\n",
       "      <td>Broken Chains</td>\n",
       "      <td>0</td>\n",
       "      <td>Brianna married a man she thought would pr...</td>\n",
       "      <td>2017</td>\n",
       "      <td>Action, Adventure, Biography</td>\n",
       "      <td>Denise Reed, Shannon Brown, Mark Vincent, Mich...</td>\n",
       "      <td>Shannon Brown</td>\n",
       "      <td>13</td>\n",
       "      <td>NaN</td>\n",
       "      <td>1.716472</td>\n",
       "    </tr>\n",
       "    <tr>\n",
       "      <td>64394</td>\n",
       "      <td>The Tattooist</td>\n",
       "      <td>47</td>\n",
       "      <td>In \"The Tattooist,\" Rooster Teeth's Geoff Rams...</td>\n",
       "      <td>2017</td>\n",
       "      <td>Documentary</td>\n",
       "      <td>Geoff Ramsey, Griffon Ramsey, Millie Ramsey, B...</td>\n",
       "      <td>Mat Hames</td>\n",
       "      <td>17</td>\n",
       "      <td>NaN</td>\n",
       "      <td>1.000000</td>\n",
       "    </tr>\n",
       "    <tr>\n",
       "      <td>13478</td>\n",
       "      <td>Fairy Fencer F: Advent Dark Force</td>\n",
       "      <td>0</td>\n",
       "      <td>A long time ago there was a conflict between a...</td>\n",
       "      <td>2016</td>\n",
       "      <td>Action, Adventure, Fantasy</td>\n",
       "      <td>Takatsugu Awazu, Takuya Eguchi, Ayumi Fujimura...</td>\n",
       "      <td>NaN</td>\n",
       "      <td>64</td>\n",
       "      <td>NaN</td>\n",
       "      <td>1.671423</td>\n",
       "    </tr>\n",
       "    <tr>\n",
       "      <td>39926</td>\n",
       "      <td>Wild Oats</td>\n",
       "      <td>86</td>\n",
       "      <td>Everything changes for Eva when she receiv...</td>\n",
       "      <td>2016</td>\n",
       "      <td>Action, Adventure, Comedy</td>\n",
       "      <td>Shirley MacLaine, Jessica Lange, Demi Moore, P...</td>\n",
       "      <td>Andy Tennant</td>\n",
       "      <td>3053</td>\n",
       "      <td>$0.04M</td>\n",
       "      <td>1.723743</td>\n",
       "    </tr>\n",
       "  </tbody>\n",
       "</table>\n",
       "</div>"
      ],
      "text/plain": [
       "                                   title runtime  \\\n",
       "33273                     Lint the Movie     101   \n",
       "52310                      Broken Chains       0   \n",
       "64394                      The Tattooist      47   \n",
       "13478  Fairy Fencer F: Advent Dark Force       0   \n",
       "39926                          Wild Oats      86   \n",
       "\n",
       "                                                     des  date  \\\n",
       "33273  Documents the life and work of cult SF author ...  2011   \n",
       "52310      Brianna married a man she thought would pr...  2017   \n",
       "64394  In \"The Tattooist,\" Rooster Teeth's Geoff Rams...  2017   \n",
       "13478  A long time ago there was a conflict between a...  2016   \n",
       "39926      Everything changes for Eva when she receiv...  2016   \n",
       "\n",
       "                                          genre  \\\n",
       "33273     Biography, Comedy, Sci-Fi               \n",
       "52310  Action, Adventure, Biography               \n",
       "64394                   Documentary               \n",
       "13478    Action, Adventure, Fantasy               \n",
       "39926     Action, Adventure, Comedy               \n",
       "\n",
       "                                                    cast       director  vote  \\\n",
       "33273  Alan Moore, Stewart Lee, Josie Long, Steve Aylett   Steve Aylett    13   \n",
       "52310  Denise Reed, Shannon Brown, Mark Vincent, Mich...  Shannon Brown    13   \n",
       "64394  Geoff Ramsey, Griffon Ramsey, Millie Ramsey, B...      Mat Hames    17   \n",
       "13478  Takatsugu Awazu, Takuya Eguchi, Ayumi Fujimura...            NaN    64   \n",
       "39926  Shirley MacLaine, Jessica Lange, Demi Moore, P...   Andy Tennant  3053   \n",
       "\n",
       "        gross  sum_genre  \n",
       "33273     NaN   1.924142  \n",
       "52310     NaN   1.716472  \n",
       "64394     NaN   1.000000  \n",
       "13478     NaN   1.671423  \n",
       "39926  $0.04M   1.723743  "
      ]
     },
     "execution_count": 289,
     "metadata": {},
     "output_type": "execute_result"
    }
   ],
   "source": [
    "train_X_df.head()"
   ]
  },
  {
   "cell_type": "markdown",
   "metadata": {},
   "source": [
    "- CAST to number"
   ]
  },
  {
   "cell_type": "code",
   "execution_count": 290,
   "metadata": {},
   "outputs": [],
   "source": [
    "#replace NaN element in cast to \"other\"\n",
    "#train_X_df[\"cast\"] = train_X_df[\"cast\"].fillna(\"other_cast\");"
   ]
  },
  {
   "cell_type": "code",
   "execution_count": 291,
   "metadata": {},
   "outputs": [
    {
     "name": "stdout",
     "output_type": "stream",
     "text": [
      "len =  66630\n"
     ]
    }
   ],
   "source": [
    "\n",
    "cast_rating_df = train_X_df[\"cast\"].to_frame().join(train_y_sr)\n",
    "\n",
    "from collections import Counter\n",
    "\n",
    "list_cast = list(cast_rating_df.cast)\n",
    "unique_cast = []\n",
    "for g in list_cast:\n",
    "    if(pd.isna(g) ==False):\n",
    "        unique_cast += g.strip().split(\", \")\n",
    "dict_cast = Counter(unique_cast)\n",
    "\n",
    "print(\"len = \",len(dict_cast))\n"
   ]
  },
  {
   "cell_type": "code",
   "execution_count": 292,
   "metadata": {},
   "outputs": [
    {
     "data": {
      "text/plain": [
       "{1: 44894,\n",
       " 2: 12368,\n",
       " 3: 3940,\n",
       " 4: 1804,\n",
       " 5: 999,\n",
       " 6: 593,\n",
       " 7: 447,\n",
       " 8: 325,\n",
       " 9: 250,\n",
       " 10: 178}"
      ]
     },
     "execution_count": 292,
     "metadata": {},
     "output_type": "execute_result"
    }
   ],
   "source": [
    "occur_cast = Counter(dict_cast.values())  #Số lần xuất hiện - Số diễn viên\n",
    "\n",
    "occur_cast = {k: v for k, v in sorted(occur_cast.items(), key=lambda item: item[1], reverse = True)}\n",
    "\n",
    "dict(list(occur_cast.items())[:10])"
   ]
  },
  {
   "cell_type": "code",
   "execution_count": 293,
   "metadata": {},
   "outputs": [
    {
     "data": {
      "text/plain": [
       "[('Troy Baker', 108),\n",
       " ('Grey Griffin', 103),\n",
       " ('Laura Bailey', 93),\n",
       " ('Eric Bauza', 70),\n",
       " ('Eric Roberts', 70),\n",
       " ('Tara Strong', 69),\n",
       " ('Fred Tatasciore', 58),\n",
       " ('Steve Blum', 53),\n",
       " ('Danny Trejo', 53),\n",
       " ('Frank Welker', 52)]"
      ]
     },
     "execution_count": 293,
     "metadata": {},
     "output_type": "execute_result"
    }
   ],
   "source": [
    "cast_info = dict_cast.items()\n",
    "cast_info = sorted(cast_info, key=lambda tup: tup[1], reverse=True)\n",
    "cast_info[:10] #Từng diễn viên tương ứng với số lần đóng phim\n"
   ]
  },
  {
   "cell_type": "markdown",
   "metadata": {},
   "source": [
    "# Nhận xét: Những diễn viên xuất hiện nhiều lần, thông thường được mọi người xem là hay. Những diễn viên xuất hiện ít, thường là những người mới hoặc diễn tệ.\n"
   ]
  },
  {
   "cell_type": "code",
   "execution_count": 294,
   "metadata": {},
   "outputs": [],
   "source": [
    "#TF-IDF \n",
    "\n",
    "corpus = cast_rating_df.loc[cast_rating_df.cast.isnull() == False].cast.tolist()\n",
    "vectorizer = TfidfVectorizer()\n",
    "tfidf = vectorizer.fit_transform(corpus)\n",
    "\n",
    "\n",
    "list_sum_cast = cast_rating_df.cast.copy()\n",
    "\n",
    "list_sum = []\n",
    "for i in range(len(cast_rating_df.loc[cast_rating_df.cast.isnull() == False])):\n",
    "    list_sum.append(tfidf[i].sum())\n",
    "\n",
    "list_sum_cast[list_sum_cast.isnull() == False] = list_sum\n",
    "list_sum_cast[list_sum_cast.isnull() != False] = 0"
   ]
  },
  {
   "cell_type": "code",
   "execution_count": 295,
   "metadata": {},
   "outputs": [
    {
     "data": {
      "text/plain": [
       "False"
      ]
     },
     "execution_count": 295,
     "metadata": {},
     "output_type": "execute_result"
    }
   ],
   "source": [
    "sum_cast = pd.DataFrame(list_sum_cast)\n",
    "sum_cast.isnull().values.any()\n"
   ]
  },
  {
   "cell_type": "code",
   "execution_count": 296,
   "metadata": {},
   "outputs": [
    {
     "name": "stderr",
     "output_type": "stream",
     "text": [
      "D:\\app\\anaconda\\run\\lib\\site-packages\\ipykernel_launcher.py:2: SettingWithCopyWarning: \n",
      "A value is trying to be set on a copy of a slice from a DataFrame.\n",
      "Try using .loc[row_indexer,col_indexer] = value instead\n",
      "\n",
      "See the caveats in the documentation: http://pandas.pydata.org/pandas-docs/stable/user_guide/indexing.html#returning-a-view-versus-a-copy\n",
      "  \n"
     ]
    }
   ],
   "source": [
    "#add column into df\n",
    "train_X_df[\"sum_cast\"] = pd.Series(list_sum_cast).values"
   ]
  },
  {
   "cell_type": "code",
   "execution_count": 297,
   "metadata": {},
   "outputs": [
    {
     "data": {
      "text/html": [
       "<div>\n",
       "<style scoped>\n",
       "    .dataframe tbody tr th:only-of-type {\n",
       "        vertical-align: middle;\n",
       "    }\n",
       "\n",
       "    .dataframe tbody tr th {\n",
       "        vertical-align: top;\n",
       "    }\n",
       "\n",
       "    .dataframe thead th {\n",
       "        text-align: right;\n",
       "    }\n",
       "</style>\n",
       "<table border=\"1\" class=\"dataframe\">\n",
       "  <thead>\n",
       "    <tr style=\"text-align: right;\">\n",
       "      <th></th>\n",
       "      <th>title</th>\n",
       "      <th>runtime</th>\n",
       "      <th>des</th>\n",
       "      <th>date</th>\n",
       "      <th>genre</th>\n",
       "      <th>cast</th>\n",
       "      <th>director</th>\n",
       "      <th>vote</th>\n",
       "      <th>gross</th>\n",
       "      <th>sum_genre</th>\n",
       "      <th>sum_cast</th>\n",
       "    </tr>\n",
       "  </thead>\n",
       "  <tbody>\n",
       "    <tr>\n",
       "      <td>33273</td>\n",
       "      <td>Lint the Movie</td>\n",
       "      <td>101</td>\n",
       "      <td>Documents the life and work of cult SF author ...</td>\n",
       "      <td>2011</td>\n",
       "      <td>Biography, Comedy, Sci-Fi</td>\n",
       "      <td>Alan Moore, Stewart Lee, Josie Long, Steve Aylett</td>\n",
       "      <td>Steve Aylett</td>\n",
       "      <td>13</td>\n",
       "      <td>NaN</td>\n",
       "      <td>1.924142</td>\n",
       "      <td>2.73615</td>\n",
       "    </tr>\n",
       "    <tr>\n",
       "      <td>52310</td>\n",
       "      <td>Broken Chains</td>\n",
       "      <td>0</td>\n",
       "      <td>Brianna married a man she thought would pr...</td>\n",
       "      <td>2017</td>\n",
       "      <td>Action, Adventure, Biography</td>\n",
       "      <td>Denise Reed, Shannon Brown, Mark Vincent, Mich...</td>\n",
       "      <td>Shannon Brown</td>\n",
       "      <td>13</td>\n",
       "      <td>NaN</td>\n",
       "      <td>1.716472</td>\n",
       "      <td>2.73785</td>\n",
       "    </tr>\n",
       "    <tr>\n",
       "      <td>64394</td>\n",
       "      <td>The Tattooist</td>\n",
       "      <td>47</td>\n",
       "      <td>In \"The Tattooist,\" Rooster Teeth's Geoff Rams...</td>\n",
       "      <td>2017</td>\n",
       "      <td>Documentary</td>\n",
       "      <td>Geoff Ramsey, Griffon Ramsey, Millie Ramsey, B...</td>\n",
       "      <td>Mat Hames</td>\n",
       "      <td>17</td>\n",
       "      <td>NaN</td>\n",
       "      <td>1.000000</td>\n",
       "      <td>2.14702</td>\n",
       "    </tr>\n",
       "    <tr>\n",
       "      <td>13478</td>\n",
       "      <td>Fairy Fencer F: Advent Dark Force</td>\n",
       "      <td>0</td>\n",
       "      <td>A long time ago there was a conflict between a...</td>\n",
       "      <td>2016</td>\n",
       "      <td>Action, Adventure, Fantasy</td>\n",
       "      <td>Takatsugu Awazu, Takuya Eguchi, Ayumi Fujimura...</td>\n",
       "      <td>NaN</td>\n",
       "      <td>64</td>\n",
       "      <td>NaN</td>\n",
       "      <td>1.671423</td>\n",
       "      <td>2.82307</td>\n",
       "    </tr>\n",
       "    <tr>\n",
       "      <td>39926</td>\n",
       "      <td>Wild Oats</td>\n",
       "      <td>86</td>\n",
       "      <td>Everything changes for Eva when she receiv...</td>\n",
       "      <td>2016</td>\n",
       "      <td>Action, Adventure, Comedy</td>\n",
       "      <td>Shirley MacLaine, Jessica Lange, Demi Moore, P...</td>\n",
       "      <td>Andy Tennant</td>\n",
       "      <td>3053</td>\n",
       "      <td>$0.04M</td>\n",
       "      <td>1.723743</td>\n",
       "      <td>2.78731</td>\n",
       "    </tr>\n",
       "  </tbody>\n",
       "</table>\n",
       "</div>"
      ],
      "text/plain": [
       "                                   title runtime  \\\n",
       "33273                     Lint the Movie     101   \n",
       "52310                      Broken Chains       0   \n",
       "64394                      The Tattooist      47   \n",
       "13478  Fairy Fencer F: Advent Dark Force       0   \n",
       "39926                          Wild Oats      86   \n",
       "\n",
       "                                                     des  date  \\\n",
       "33273  Documents the life and work of cult SF author ...  2011   \n",
       "52310      Brianna married a man she thought would pr...  2017   \n",
       "64394  In \"The Tattooist,\" Rooster Teeth's Geoff Rams...  2017   \n",
       "13478  A long time ago there was a conflict between a...  2016   \n",
       "39926      Everything changes for Eva when she receiv...  2016   \n",
       "\n",
       "                                          genre  \\\n",
       "33273     Biography, Comedy, Sci-Fi               \n",
       "52310  Action, Adventure, Biography               \n",
       "64394                   Documentary               \n",
       "13478    Action, Adventure, Fantasy               \n",
       "39926     Action, Adventure, Comedy               \n",
       "\n",
       "                                                    cast       director  vote  \\\n",
       "33273  Alan Moore, Stewart Lee, Josie Long, Steve Aylett   Steve Aylett    13   \n",
       "52310  Denise Reed, Shannon Brown, Mark Vincent, Mich...  Shannon Brown    13   \n",
       "64394  Geoff Ramsey, Griffon Ramsey, Millie Ramsey, B...      Mat Hames    17   \n",
       "13478  Takatsugu Awazu, Takuya Eguchi, Ayumi Fujimura...            NaN    64   \n",
       "39926  Shirley MacLaine, Jessica Lange, Demi Moore, P...   Andy Tennant  3053   \n",
       "\n",
       "        gross  sum_genre sum_cast  \n",
       "33273     NaN   1.924142  2.73615  \n",
       "52310     NaN   1.716472  2.73785  \n",
       "64394     NaN   1.000000  2.14702  \n",
       "13478     NaN   1.671423  2.82307  \n",
       "39926  $0.04M   1.723743  2.78731  "
      ]
     },
     "execution_count": 297,
     "metadata": {},
     "output_type": "execute_result"
    }
   ],
   "source": [
    "train_X_df.head()"
   ]
  },
  {
   "cell_type": "markdown",
   "metadata": {},
   "source": [
    "- DIRECTOR to number"
   ]
  },
  {
   "cell_type": "code",
   "execution_count": 298,
   "metadata": {},
   "outputs": [],
   "source": [
    "#replace NaN element in cast to \"other\"\n",
    "#train_X_df[\"director\"] = train_X_df[\"director\"].fillna(\"other_director\");"
   ]
  },
  {
   "cell_type": "code",
   "execution_count": 299,
   "metadata": {},
   "outputs": [
    {
     "name": "stdout",
     "output_type": "stream",
     "text": [
      "len =  66630\n"
     ]
    }
   ],
   "source": [
    "\n",
    "director_rating_df = train_X_df[\"director\"].to_frame().join(train_y_sr)\n",
    "\n",
    "from collections import Counter\n",
    "\n",
    "list_director = list(director_rating_df.director)\n",
    "unique_director = []\n",
    "for g in list_cast:\n",
    "    if(pd.isna(g) ==False):\n",
    "        unique_director += g.strip().split(\", \")\n",
    "dict_director = Counter(unique_director)\n",
    "\n",
    "print(\"len = \",len(dict_director))"
   ]
  },
  {
   "cell_type": "code",
   "execution_count": 300,
   "metadata": {},
   "outputs": [],
   "source": [
    "#TF-IDF \n",
    "\n",
    "corpus =director_rating_df.loc[director_rating_df.director.isnull() == False].director.tolist()\n",
    "vectorizer = TfidfVectorizer()\n",
    "tfidf = vectorizer.fit_transform(corpus)\n",
    "\n",
    "\n",
    "list_sum_director = director_rating_df.director.copy()\n",
    "list_sum = []\n",
    "for i in range(len(director_rating_df.loc[director_rating_df.director.isnull() == False])):\n",
    "    list_sum.append(tfidf[i].sum())\n",
    "list_sum_director[list_sum_director.isnull() == False] = list_sum\n",
    "list_sum_director[list_sum_director.isnull() != False] = 0"
   ]
  },
  {
   "cell_type": "code",
   "execution_count": 301,
   "metadata": {},
   "outputs": [
    {
     "data": {
      "text/plain": [
       "False"
      ]
     },
     "execution_count": 301,
     "metadata": {},
     "output_type": "execute_result"
    }
   ],
   "source": [
    "sum_director = pd.DataFrame(list_sum_director)\n",
    "sum_director.isnull().values.any()\n"
   ]
  },
  {
   "cell_type": "code",
   "execution_count": 302,
   "metadata": {},
   "outputs": [
    {
     "name": "stderr",
     "output_type": "stream",
     "text": [
      "D:\\app\\anaconda\\run\\lib\\site-packages\\ipykernel_launcher.py:2: SettingWithCopyWarning: \n",
      "A value is trying to be set on a copy of a slice from a DataFrame.\n",
      "Try using .loc[row_indexer,col_indexer] = value instead\n",
      "\n",
      "See the caveats in the documentation: http://pandas.pydata.org/pandas-docs/stable/user_guide/indexing.html#returning-a-view-versus-a-copy\n",
      "  \n"
     ]
    }
   ],
   "source": [
    "#add column into df\n",
    "train_X_df[\"sum_director\"] = pd.Series(list_sum_director).values"
   ]
  },
  {
   "cell_type": "code",
   "execution_count": 303,
   "metadata": {},
   "outputs": [
    {
     "data": {
      "text/html": [
       "<div>\n",
       "<style scoped>\n",
       "    .dataframe tbody tr th:only-of-type {\n",
       "        vertical-align: middle;\n",
       "    }\n",
       "\n",
       "    .dataframe tbody tr th {\n",
       "        vertical-align: top;\n",
       "    }\n",
       "\n",
       "    .dataframe thead th {\n",
       "        text-align: right;\n",
       "    }\n",
       "</style>\n",
       "<table border=\"1\" class=\"dataframe\">\n",
       "  <thead>\n",
       "    <tr style=\"text-align: right;\">\n",
       "      <th></th>\n",
       "      <th>title</th>\n",
       "      <th>runtime</th>\n",
       "      <th>des</th>\n",
       "      <th>date</th>\n",
       "      <th>genre</th>\n",
       "      <th>cast</th>\n",
       "      <th>director</th>\n",
       "      <th>vote</th>\n",
       "      <th>gross</th>\n",
       "      <th>sum_genre</th>\n",
       "      <th>sum_cast</th>\n",
       "      <th>sum_director</th>\n",
       "    </tr>\n",
       "  </thead>\n",
       "  <tbody>\n",
       "    <tr>\n",
       "      <td>33273</td>\n",
       "      <td>Lint the Movie</td>\n",
       "      <td>101</td>\n",
       "      <td>Documents the life and work of cult SF author ...</td>\n",
       "      <td>2011</td>\n",
       "      <td>Biography, Comedy, Sci-Fi</td>\n",
       "      <td>Alan Moore, Stewart Lee, Josie Long, Steve Aylett</td>\n",
       "      <td>Steve Aylett</td>\n",
       "      <td>13</td>\n",
       "      <td>NaN</td>\n",
       "      <td>1.924142</td>\n",
       "      <td>2.73615</td>\n",
       "      <td>1.36511</td>\n",
       "    </tr>\n",
       "    <tr>\n",
       "      <td>52310</td>\n",
       "      <td>Broken Chains</td>\n",
       "      <td>0</td>\n",
       "      <td>Brianna married a man she thought would pr...</td>\n",
       "      <td>2017</td>\n",
       "      <td>Action, Adventure, Biography</td>\n",
       "      <td>Denise Reed, Shannon Brown, Mark Vincent, Mich...</td>\n",
       "      <td>Shannon Brown</td>\n",
       "      <td>13</td>\n",
       "      <td>NaN</td>\n",
       "      <td>1.716472</td>\n",
       "      <td>2.73785</td>\n",
       "      <td>1.40967</td>\n",
       "    </tr>\n",
       "    <tr>\n",
       "      <td>64394</td>\n",
       "      <td>The Tattooist</td>\n",
       "      <td>47</td>\n",
       "      <td>In \"The Tattooist,\" Rooster Teeth's Geoff Rams...</td>\n",
       "      <td>2017</td>\n",
       "      <td>Documentary</td>\n",
       "      <td>Geoff Ramsey, Griffon Ramsey, Millie Ramsey, B...</td>\n",
       "      <td>Mat Hames</td>\n",
       "      <td>17</td>\n",
       "      <td>NaN</td>\n",
       "      <td>1.000000</td>\n",
       "      <td>2.14702</td>\n",
       "      <td>1.41185</td>\n",
       "    </tr>\n",
       "    <tr>\n",
       "      <td>13478</td>\n",
       "      <td>Fairy Fencer F: Advent Dark Force</td>\n",
       "      <td>0</td>\n",
       "      <td>A long time ago there was a conflict between a...</td>\n",
       "      <td>2016</td>\n",
       "      <td>Action, Adventure, Fantasy</td>\n",
       "      <td>Takatsugu Awazu, Takuya Eguchi, Ayumi Fujimura...</td>\n",
       "      <td>NaN</td>\n",
       "      <td>64</td>\n",
       "      <td>NaN</td>\n",
       "      <td>1.671423</td>\n",
       "      <td>2.82307</td>\n",
       "      <td>0</td>\n",
       "    </tr>\n",
       "    <tr>\n",
       "      <td>39926</td>\n",
       "      <td>Wild Oats</td>\n",
       "      <td>86</td>\n",
       "      <td>Everything changes for Eva when she receiv...</td>\n",
       "      <td>2016</td>\n",
       "      <td>Action, Adventure, Comedy</td>\n",
       "      <td>Shirley MacLaine, Jessica Lange, Demi Moore, P...</td>\n",
       "      <td>Andy Tennant</td>\n",
       "      <td>3053</td>\n",
       "      <td>$0.04M</td>\n",
       "      <td>1.723743</td>\n",
       "      <td>2.78731</td>\n",
       "      <td>1.36226</td>\n",
       "    </tr>\n",
       "  </tbody>\n",
       "</table>\n",
       "</div>"
      ],
      "text/plain": [
       "                                   title runtime  \\\n",
       "33273                     Lint the Movie     101   \n",
       "52310                      Broken Chains       0   \n",
       "64394                      The Tattooist      47   \n",
       "13478  Fairy Fencer F: Advent Dark Force       0   \n",
       "39926                          Wild Oats      86   \n",
       "\n",
       "                                                     des  date  \\\n",
       "33273  Documents the life and work of cult SF author ...  2011   \n",
       "52310      Brianna married a man she thought would pr...  2017   \n",
       "64394  In \"The Tattooist,\" Rooster Teeth's Geoff Rams...  2017   \n",
       "13478  A long time ago there was a conflict between a...  2016   \n",
       "39926      Everything changes for Eva when she receiv...  2016   \n",
       "\n",
       "                                          genre  \\\n",
       "33273     Biography, Comedy, Sci-Fi               \n",
       "52310  Action, Adventure, Biography               \n",
       "64394                   Documentary               \n",
       "13478    Action, Adventure, Fantasy               \n",
       "39926     Action, Adventure, Comedy               \n",
       "\n",
       "                                                    cast       director  vote  \\\n",
       "33273  Alan Moore, Stewart Lee, Josie Long, Steve Aylett   Steve Aylett    13   \n",
       "52310  Denise Reed, Shannon Brown, Mark Vincent, Mich...  Shannon Brown    13   \n",
       "64394  Geoff Ramsey, Griffon Ramsey, Millie Ramsey, B...      Mat Hames    17   \n",
       "13478  Takatsugu Awazu, Takuya Eguchi, Ayumi Fujimura...            NaN    64   \n",
       "39926  Shirley MacLaine, Jessica Lange, Demi Moore, P...   Andy Tennant  3053   \n",
       "\n",
       "        gross  sum_genre sum_cast sum_director  \n",
       "33273     NaN   1.924142  2.73615      1.36511  \n",
       "52310     NaN   1.716472  2.73785      1.40967  \n",
       "64394     NaN   1.000000  2.14702      1.41185  \n",
       "13478     NaN   1.671423  2.82307            0  \n",
       "39926  $0.04M   1.723743  2.78731      1.36226  "
      ]
     },
     "execution_count": 303,
     "metadata": {},
     "output_type": "execute_result"
    }
   ],
   "source": [
    "train_X_df.head()"
   ]
  },
  {
   "cell_type": "markdown",
   "metadata": {},
   "source": [
    "- GROSS to number"
   ]
  },
  {
   "cell_type": "code",
   "execution_count": 304,
   "metadata": {},
   "outputs": [
    {
     "name": "stderr",
     "output_type": "stream",
     "text": [
      "D:\\app\\anaconda\\run\\lib\\site-packages\\ipykernel_launcher.py:2: SettingWithCopyWarning: \n",
      "A value is trying to be set on a copy of a slice from a DataFrame.\n",
      "Try using .loc[row_indexer,col_indexer] = value instead\n",
      "\n",
      "See the caveats in the documentation: http://pandas.pydata.org/pandas-docs/stable/user_guide/indexing.html#returning-a-view-versus-a-copy\n",
      "  \n"
     ]
    }
   ],
   "source": [
    "#replace NaN element in cast to \"other\"\n",
    "train_X_df[\"gross\"] = train_X_df[\"gross\"].fillna(\"0.0\");"
   ]
  },
  {
   "cell_type": "code",
   "execution_count": 305,
   "metadata": {},
   "outputs": [
    {
     "name": "stderr",
     "output_type": "stream",
     "text": [
      "D:\\app\\anaconda\\run\\lib\\site-packages\\pandas\\core\\indexing.py:205: SettingWithCopyWarning: \n",
      "A value is trying to be set on a copy of a slice from a DataFrame\n",
      "\n",
      "See the caveats in the documentation: http://pandas.pydata.org/pandas-docs/stable/user_guide/indexing.html#returning-a-view-versus-a-copy\n",
      "  self._setitem_with_indexer(indexer, value)\n",
      "D:\\app\\anaconda\\run\\lib\\site-packages\\ipykernel_launcher.py:5: SettingWithCopyWarning: \n",
      "A value is trying to be set on a copy of a slice from a DataFrame\n",
      "\n",
      "See the caveats in the documentation: http://pandas.pydata.org/pandas-docs/stable/user_guide/indexing.html#returning-a-view-versus-a-copy\n",
      "  \"\"\"\n"
     ]
    }
   ],
   "source": [
    "\n",
    "#define money\n",
    "money = {\"M\": 10**6, \"B\": 10**12, \"G\": 10**9, \"P\": 10**15, \"K\": 10**3, \"0\": 0}\n",
    "for i in range(len(train_X_df)):\n",
    "    \n",
    "    train_X_df.gross.iloc[i] = float(re.findall(\"\\d+\\.\\d+\", train_X_df.gross.iloc[i])[0]) * money[train_X_df.gross.iloc[i][-1]]"
   ]
  },
  {
   "cell_type": "code",
   "execution_count": 306,
   "metadata": {},
   "outputs": [
    {
     "data": {
      "text/plain": [
       "{0.0: 31213,\n",
       " 10000.0: 245,\n",
       " 20000.0: 139,\n",
       " 40000.0: 93,\n",
       " 30000.0: 91,\n",
       " 50000.0: 52,\n",
       " 70000.0: 44,\n",
       " 60000.0: 40,\n",
       " 100000.0: 40,\n",
       " 90000.0: 33,\n",
       " 120000.0: 26,\n",
       " 110000.0: 24,\n",
       " 80000.0: 24,\n",
       " 130000.0: 22,\n",
       " 200000.0: 20,\n",
       " 290000.0: 19,\n",
       " 140000.0: 19,\n",
       " 150000.0: 19,\n",
       " 160000.0: 16,\n",
       " 190000.0: 15,\n",
       " 240000.0: 15,\n",
       " 180000.0: 14,\n",
       " 230000.0: 14,\n",
       " 210000.0: 12,\n",
       " 320000.0: 12,\n",
       " 300000.0: 12,\n",
       " 560000.0: 11,\n",
       " 220000.0: 11,\n",
       " 170000.0: 11,\n",
       " 700000.0: 11,\n",
       " 360000.0: 10,\n",
       " 270000.0: 10,\n",
       " 340000.0: 10,\n",
       " 250000.0: 10,\n",
       " 310000.0: 10,\n",
       " 260000.0: 9,\n",
       " 490000.0: 9,\n",
       " 540000.0: 9,\n",
       " 380000.0: 9,\n",
       " 1010000.0: 8}"
      ]
     },
     "execution_count": 306,
     "metadata": {},
     "output_type": "execute_result"
    }
   ],
   "source": [
    "\n",
    "dict_gross = Counter(train_X_df.gross)\n",
    "dict_gross = {k: v for k, v in sorted(dict_gross.items(), key=lambda item: item[1], reverse = True)} #sort\n",
    "\n",
    "dict(list(dict_gross.items())[:40])"
   ]
  },
  {
   "cell_type": "markdown",
   "metadata": {},
   "source": [
    "# Nhận thấy: số lượng \"0.0\" chiếm quá nhiều, gây chênh lệnh lớn. Sử dụng median (vì lượng gross bị lệch nên tính theo mean không tốt) trên dòng không có \"0.0\" để thay thế"
   ]
  },
  {
   "cell_type": "code",
   "execution_count": 307,
   "metadata": {},
   "outputs": [
    {
     "name": "stderr",
     "output_type": "stream",
     "text": [
      "D:\\app\\anaconda\\run\\lib\\site-packages\\ipykernel_launcher.py:2: SettingWithCopyWarning: \n",
      "A value is trying to be set on a copy of a slice from a DataFrame.\n",
      "Try using .loc[row_indexer,col_indexer] = value instead\n",
      "\n",
      "See the caveats in the documentation: http://pandas.pydata.org/pandas-docs/stable/user_guide/indexing.html#returning-a-view-versus-a-copy\n",
      "  \n"
     ]
    },
    {
     "data": {
      "text/plain": [
       "{1650000.0: 31217,\n",
       " 10000.0: 245,\n",
       " 20000.0: 139,\n",
       " 40000.0: 93,\n",
       " 30000.0: 91,\n",
       " 50000.0: 52,\n",
       " 70000.0: 44,\n",
       " 60000.0: 40,\n",
       " 100000.0: 40,\n",
       " 90000.0: 33,\n",
       " 120000.0: 26,\n",
       " 110000.0: 24,\n",
       " 80000.0: 24,\n",
       " 130000.0: 22,\n",
       " 200000.0: 20,\n",
       " 290000.0: 19,\n",
       " 140000.0: 19,\n",
       " 150000.0: 19,\n",
       " 160000.0: 16,\n",
       " 190000.0: 15}"
      ]
     },
     "execution_count": 307,
     "metadata": {},
     "output_type": "execute_result"
    }
   ],
   "source": [
    "imp = SimpleImputer(missing_values = 0, strategy='median')\n",
    "train_X_df[\"gross\"] = imp.fit_transform(train_X_df[[\"gross\"]]).ravel()\n",
    "\n",
    "\n",
    "dict_gross = Counter(train_X_df.gross)\n",
    "dict_gross = {k: v for k, v in sorted(dict_gross.items(), key=lambda item: item[1], reverse = True)} #sort\n",
    "\n",
    "dict(list(dict_gross.items())[:20])"
   ]
  },
  {
   "cell_type": "code",
   "execution_count": 308,
   "metadata": {},
   "outputs": [
    {
     "data": {
      "text/html": [
       "<div>\n",
       "<style scoped>\n",
       "    .dataframe tbody tr th:only-of-type {\n",
       "        vertical-align: middle;\n",
       "    }\n",
       "\n",
       "    .dataframe tbody tr th {\n",
       "        vertical-align: top;\n",
       "    }\n",
       "\n",
       "    .dataframe thead th {\n",
       "        text-align: right;\n",
       "    }\n",
       "</style>\n",
       "<table border=\"1\" class=\"dataframe\">\n",
       "  <thead>\n",
       "    <tr style=\"text-align: right;\">\n",
       "      <th></th>\n",
       "      <th>title</th>\n",
       "      <th>runtime</th>\n",
       "      <th>des</th>\n",
       "      <th>vote</th>\n",
       "      <th>gross</th>\n",
       "      <th>sum_genre</th>\n",
       "      <th>sum_cast</th>\n",
       "      <th>sum_director</th>\n",
       "    </tr>\n",
       "  </thead>\n",
       "  <tbody>\n",
       "    <tr>\n",
       "      <td>33273</td>\n",
       "      <td>Lint the Movie</td>\n",
       "      <td>101</td>\n",
       "      <td>Documents the life and work of cult SF author ...</td>\n",
       "      <td>13</td>\n",
       "      <td>1650000.0</td>\n",
       "      <td>1.924142</td>\n",
       "      <td>2.73615</td>\n",
       "      <td>1.36511</td>\n",
       "    </tr>\n",
       "    <tr>\n",
       "      <td>52310</td>\n",
       "      <td>Broken Chains</td>\n",
       "      <td>0</td>\n",
       "      <td>Brianna married a man she thought would pr...</td>\n",
       "      <td>13</td>\n",
       "      <td>1650000.0</td>\n",
       "      <td>1.716472</td>\n",
       "      <td>2.73785</td>\n",
       "      <td>1.40967</td>\n",
       "    </tr>\n",
       "    <tr>\n",
       "      <td>64394</td>\n",
       "      <td>The Tattooist</td>\n",
       "      <td>47</td>\n",
       "      <td>In \"The Tattooist,\" Rooster Teeth's Geoff Rams...</td>\n",
       "      <td>17</td>\n",
       "      <td>1650000.0</td>\n",
       "      <td>1.000000</td>\n",
       "      <td>2.14702</td>\n",
       "      <td>1.41185</td>\n",
       "    </tr>\n",
       "    <tr>\n",
       "      <td>13478</td>\n",
       "      <td>Fairy Fencer F: Advent Dark Force</td>\n",
       "      <td>0</td>\n",
       "      <td>A long time ago there was a conflict between a...</td>\n",
       "      <td>64</td>\n",
       "      <td>1650000.0</td>\n",
       "      <td>1.671423</td>\n",
       "      <td>2.82307</td>\n",
       "      <td>0</td>\n",
       "    </tr>\n",
       "    <tr>\n",
       "      <td>39926</td>\n",
       "      <td>Wild Oats</td>\n",
       "      <td>86</td>\n",
       "      <td>Everything changes for Eva when she receiv...</td>\n",
       "      <td>3053</td>\n",
       "      <td>40000.0</td>\n",
       "      <td>1.723743</td>\n",
       "      <td>2.78731</td>\n",
       "      <td>1.36226</td>\n",
       "    </tr>\n",
       "  </tbody>\n",
       "</table>\n",
       "</div>"
      ],
      "text/plain": [
       "                                   title runtime  \\\n",
       "33273                     Lint the Movie     101   \n",
       "52310                      Broken Chains       0   \n",
       "64394                      The Tattooist      47   \n",
       "13478  Fairy Fencer F: Advent Dark Force       0   \n",
       "39926                          Wild Oats      86   \n",
       "\n",
       "                                                     des  vote      gross  \\\n",
       "33273  Documents the life and work of cult SF author ...    13  1650000.0   \n",
       "52310      Brianna married a man she thought would pr...    13  1650000.0   \n",
       "64394  In \"The Tattooist,\" Rooster Teeth's Geoff Rams...    17  1650000.0   \n",
       "13478  A long time ago there was a conflict between a...    64  1650000.0   \n",
       "39926      Everything changes for Eva when she receiv...  3053    40000.0   \n",
       "\n",
       "       sum_genre sum_cast sum_director  \n",
       "33273   1.924142  2.73615      1.36511  \n",
       "52310   1.716472  2.73785      1.40967  \n",
       "64394   1.000000  2.14702      1.41185  \n",
       "13478   1.671423  2.82307            0  \n",
       "39926   1.723743  2.78731      1.36226  "
      ]
     },
     "execution_count": 308,
     "metadata": {},
     "output_type": "execute_result"
    }
   ],
   "source": [
    "train_X_df = train_X_df.drop(['cast',\"genre\",\"director\",\"date\"], axis = 1)\n",
    "train_X_df.head()"
   ]
  },
  {
   "cell_type": "markdown",
   "metadata": {},
   "source": [
    "# scaling"
   ]
  },
  {
   "cell_type": "code",
   "execution_count": 309,
   "metadata": {},
   "outputs": [
    {
     "data": {
      "text/html": [
       "<div>\n",
       "<style scoped>\n",
       "    .dataframe tbody tr th:only-of-type {\n",
       "        vertical-align: middle;\n",
       "    }\n",
       "\n",
       "    .dataframe tbody tr th {\n",
       "        vertical-align: top;\n",
       "    }\n",
       "\n",
       "    .dataframe thead th {\n",
       "        text-align: right;\n",
       "    }\n",
       "</style>\n",
       "<table border=\"1\" class=\"dataframe\">\n",
       "  <thead>\n",
       "    <tr style=\"text-align: right;\">\n",
       "      <th></th>\n",
       "      <th>title</th>\n",
       "      <th>runtime</th>\n",
       "      <th>des</th>\n",
       "      <th>vote</th>\n",
       "      <th>gross</th>\n",
       "      <th>sum_genre</th>\n",
       "      <th>sum_cast</th>\n",
       "      <th>sum_director</th>\n",
       "    </tr>\n",
       "  </thead>\n",
       "  <tbody>\n",
       "    <tr>\n",
       "      <td>33273</td>\n",
       "      <td>Lint the Movie</td>\n",
       "      <td>101</td>\n",
       "      <td>Documents the life and work of cult SF author ...</td>\n",
       "      <td>13</td>\n",
       "      <td>1650000.0</td>\n",
       "      <td>1.924142</td>\n",
       "      <td>2.73615</td>\n",
       "      <td>1.36511</td>\n",
       "    </tr>\n",
       "    <tr>\n",
       "      <td>52310</td>\n",
       "      <td>Broken Chains</td>\n",
       "      <td>0</td>\n",
       "      <td>Brianna married a man she thought would pr...</td>\n",
       "      <td>13</td>\n",
       "      <td>1650000.0</td>\n",
       "      <td>1.716472</td>\n",
       "      <td>2.73785</td>\n",
       "      <td>1.40967</td>\n",
       "    </tr>\n",
       "    <tr>\n",
       "      <td>64394</td>\n",
       "      <td>The Tattooist</td>\n",
       "      <td>47</td>\n",
       "      <td>In \"The Tattooist,\" Rooster Teeth's Geoff Rams...</td>\n",
       "      <td>17</td>\n",
       "      <td>1650000.0</td>\n",
       "      <td>1.000000</td>\n",
       "      <td>2.14702</td>\n",
       "      <td>1.41185</td>\n",
       "    </tr>\n",
       "    <tr>\n",
       "      <td>13478</td>\n",
       "      <td>Fairy Fencer F: Advent Dark Force</td>\n",
       "      <td>0</td>\n",
       "      <td>A long time ago there was a conflict between a...</td>\n",
       "      <td>64</td>\n",
       "      <td>1650000.0</td>\n",
       "      <td>1.671423</td>\n",
       "      <td>2.82307</td>\n",
       "      <td>0</td>\n",
       "    </tr>\n",
       "    <tr>\n",
       "      <td>39926</td>\n",
       "      <td>Wild Oats</td>\n",
       "      <td>86</td>\n",
       "      <td>Everything changes for Eva when she receiv...</td>\n",
       "      <td>3053</td>\n",
       "      <td>40000.0</td>\n",
       "      <td>1.723743</td>\n",
       "      <td>2.78731</td>\n",
       "      <td>1.36226</td>\n",
       "    </tr>\n",
       "  </tbody>\n",
       "</table>\n",
       "</div>"
      ],
      "text/plain": [
       "                                   title runtime  \\\n",
       "33273                     Lint the Movie     101   \n",
       "52310                      Broken Chains       0   \n",
       "64394                      The Tattooist      47   \n",
       "13478  Fairy Fencer F: Advent Dark Force       0   \n",
       "39926                          Wild Oats      86   \n",
       "\n",
       "                                                     des  vote      gross  \\\n",
       "33273  Documents the life and work of cult SF author ...    13  1650000.0   \n",
       "52310      Brianna married a man she thought would pr...    13  1650000.0   \n",
       "64394  In \"The Tattooist,\" Rooster Teeth's Geoff Rams...    17  1650000.0   \n",
       "13478  A long time ago there was a conflict between a...    64  1650000.0   \n",
       "39926      Everything changes for Eva when she receiv...  3053    40000.0   \n",
       "\n",
       "       sum_genre sum_cast sum_director  \n",
       "33273   1.924142  2.73615      1.36511  \n",
       "52310   1.716472  2.73785      1.40967  \n",
       "64394   1.000000  2.14702      1.41185  \n",
       "13478   1.671423  2.82307            0  \n",
       "39926   1.723743  2.78731      1.36226  "
      ]
     },
     "execution_count": 309,
     "metadata": {},
     "output_type": "execute_result"
    }
   ],
   "source": [
    "train_X_df.head()"
   ]
  },
  {
   "cell_type": "code",
   "execution_count": 310,
   "metadata": {},
   "outputs": [],
   "source": [
    "scl = StandardScaler()\n",
    "train_X_df[[\"runtime\",\"vote\", \"gross\", \"sum_genre\", \"sum_cast\", \"sum_director\"]]=scl.fit_transform(train_X_df[[\"runtime\",\"vote\", \"gross\", \"sum_genre\", \"sum_cast\", \"sum_director\"]])"
   ]
  },
  {
   "cell_type": "code",
   "execution_count": 311,
   "metadata": {},
   "outputs": [
    {
     "data": {
      "text/html": [
       "<div>\n",
       "<style scoped>\n",
       "    .dataframe tbody tr th:only-of-type {\n",
       "        vertical-align: middle;\n",
       "    }\n",
       "\n",
       "    .dataframe tbody tr th {\n",
       "        vertical-align: top;\n",
       "    }\n",
       "\n",
       "    .dataframe thead th {\n",
       "        text-align: right;\n",
       "    }\n",
       "</style>\n",
       "<table border=\"1\" class=\"dataframe\">\n",
       "  <thead>\n",
       "    <tr style=\"text-align: right;\">\n",
       "      <th></th>\n",
       "      <th>title</th>\n",
       "      <th>runtime</th>\n",
       "      <th>des</th>\n",
       "      <th>vote</th>\n",
       "      <th>gross</th>\n",
       "      <th>sum_genre</th>\n",
       "      <th>sum_cast</th>\n",
       "      <th>sum_director</th>\n",
       "    </tr>\n",
       "  </thead>\n",
       "  <tbody>\n",
       "    <tr>\n",
       "      <td>33273</td>\n",
       "      <td>Lint the Movie</td>\n",
       "      <td>0.899029</td>\n",
       "      <td>Documents the life and work of cult SF author ...</td>\n",
       "      <td>-0.165576</td>\n",
       "      <td>-0.117640</td>\n",
       "      <td>1.496379</td>\n",
       "      <td>0.317929</td>\n",
       "      <td>0.334017</td>\n",
       "    </tr>\n",
       "    <tr>\n",
       "      <td>52310</td>\n",
       "      <td>Broken Chains</td>\n",
       "      <td>-1.237446</td>\n",
       "      <td>Brianna married a man she thought would pr...</td>\n",
       "      <td>-0.165576</td>\n",
       "      <td>-0.117640</td>\n",
       "      <td>0.760571</td>\n",
       "      <td>0.321192</td>\n",
       "      <td>0.394587</td>\n",
       "    </tr>\n",
       "    <tr>\n",
       "      <td>64394</td>\n",
       "      <td>The Tattooist</td>\n",
       "      <td>-0.243244</td>\n",
       "      <td>In \"The Tattooist,\" Rooster Teeth's Geoff Rams...</td>\n",
       "      <td>-0.165490</td>\n",
       "      <td>-0.117640</td>\n",
       "      <td>-1.778006</td>\n",
       "      <td>-0.814768</td>\n",
       "      <td>0.397553</td>\n",
       "    </tr>\n",
       "    <tr>\n",
       "      <td>13478</td>\n",
       "      <td>Fairy Fencer F: Advent Dark Force</td>\n",
       "      <td>-1.237446</td>\n",
       "      <td>A long time ago there was a conflict between a...</td>\n",
       "      <td>-0.164480</td>\n",
       "      <td>-0.117640</td>\n",
       "      <td>0.600956</td>\n",
       "      <td>0.485044</td>\n",
       "      <td>-1.521668</td>\n",
       "    </tr>\n",
       "    <tr>\n",
       "      <td>39926</td>\n",
       "      <td>Wild Oats</td>\n",
       "      <td>0.581731</td>\n",
       "      <td>Everything changes for Eva when she receiv...</td>\n",
       "      <td>-0.100232</td>\n",
       "      <td>-0.180534</td>\n",
       "      <td>0.786334</td>\n",
       "      <td>0.416285</td>\n",
       "      <td>0.330136</td>\n",
       "    </tr>\n",
       "  </tbody>\n",
       "</table>\n",
       "</div>"
      ],
      "text/plain": [
       "                                   title   runtime  \\\n",
       "33273                     Lint the Movie  0.899029   \n",
       "52310                      Broken Chains -1.237446   \n",
       "64394                      The Tattooist -0.243244   \n",
       "13478  Fairy Fencer F: Advent Dark Force -1.237446   \n",
       "39926                          Wild Oats  0.581731   \n",
       "\n",
       "                                                     des      vote     gross  \\\n",
       "33273  Documents the life and work of cult SF author ... -0.165576 -0.117640   \n",
       "52310      Brianna married a man she thought would pr... -0.165576 -0.117640   \n",
       "64394  In \"The Tattooist,\" Rooster Teeth's Geoff Rams... -0.165490 -0.117640   \n",
       "13478  A long time ago there was a conflict between a... -0.164480 -0.117640   \n",
       "39926      Everything changes for Eva when she receiv... -0.100232 -0.180534   \n",
       "\n",
       "       sum_genre  sum_cast  sum_director  \n",
       "33273   1.496379  0.317929      0.334017  \n",
       "52310   0.760571  0.321192      0.394587  \n",
       "64394  -1.778006 -0.814768      0.397553  \n",
       "13478   0.600956  0.485044     -1.521668  \n",
       "39926   0.786334  0.416285      0.330136  "
      ]
     },
     "execution_count": 311,
     "metadata": {},
     "output_type": "execute_result"
    }
   ],
   "source": [
    "train_X_df.head()"
   ]
  },
  {
   "cell_type": "markdown",
   "metadata": {},
   "source": [
    "# Xử lý tương tự trên tập validation"
   ]
  },
  {
   "cell_type": "code",
   "execution_count": null,
   "metadata": {},
   "outputs": [],
   "source": []
  },
  {
   "cell_type": "code",
   "execution_count": 312,
   "metadata": {},
   "outputs": [],
   "source": [
    "genre_rating_df = val_X_df[\"genre\"].to_frame().join(val_y_sr)"
   ]
  },
  {
   "cell_type": "code",
   "execution_count": 313,
   "metadata": {},
   "outputs": [
    {
     "data": {
      "text/html": [
       "<div>\n",
       "<style scoped>\n",
       "    .dataframe tbody tr th:only-of-type {\n",
       "        vertical-align: middle;\n",
       "    }\n",
       "\n",
       "    .dataframe tbody tr th {\n",
       "        vertical-align: top;\n",
       "    }\n",
       "\n",
       "    .dataframe thead th {\n",
       "        text-align: right;\n",
       "    }\n",
       "</style>\n",
       "<table border=\"1\" class=\"dataframe\">\n",
       "  <thead>\n",
       "    <tr style=\"text-align: right;\">\n",
       "      <th></th>\n",
       "      <th>genre</th>\n",
       "      <th>rating</th>\n",
       "    </tr>\n",
       "  </thead>\n",
       "  <tbody>\n",
       "    <tr>\n",
       "      <td>32044</td>\n",
       "      <td>Documentary, Animation, Biography</td>\n",
       "      <td>7.4</td>\n",
       "    </tr>\n",
       "    <tr>\n",
       "      <td>53034</td>\n",
       "      <td>Short, Action, Crime</td>\n",
       "      <td>7.0</td>\n",
       "    </tr>\n",
       "    <tr>\n",
       "      <td>62086</td>\n",
       "      <td>Documentary, Biography, History</td>\n",
       "      <td>6.8</td>\n",
       "    </tr>\n",
       "    <tr>\n",
       "      <td>49471</td>\n",
       "      <td>Crime, Drama, Thriller</td>\n",
       "      <td>7.1</td>\n",
       "    </tr>\n",
       "    <tr>\n",
       "      <td>3999</td>\n",
       "      <td>Action, Comedy, Horror</td>\n",
       "      <td>5.2</td>\n",
       "    </tr>\n",
       "  </tbody>\n",
       "</table>\n",
       "</div>"
      ],
      "text/plain": [
       "                                               genre  rating\n",
       "32044  Documentary, Animation, Biography                 7.4\n",
       "53034               Short, Action, Crime                 7.0\n",
       "62086    Documentary, Biography, History                 6.8\n",
       "49471             Crime, Drama, Thriller                 7.1\n",
       "3999              Action, Comedy, Horror                 5.2"
      ]
     },
     "execution_count": 313,
     "metadata": {},
     "output_type": "execute_result"
    }
   ],
   "source": [
    "genre_rating_df.head()"
   ]
  },
  {
   "cell_type": "code",
   "execution_count": 314,
   "metadata": {},
   "outputs": [
    {
     "name": "stdout",
     "output_type": "stream",
     "text": [
      "Counter({'Comedy': 5007, 'Documentary': 3918, 'Drama': 3781, 'Action': 3715, 'Short': 2980, 'Adventure': 2818, 'Crime': 2199, 'Animation': 2097, 'Romance': 1758, 'Biography': 1639, 'Thriller': 658, 'Family': 639, 'Horror': 568, 'Fantasy': 551, 'History': 545, 'Sci-Fi': 434, 'Music': 433, 'Mystery': 369, 'Sport': 267, 'Musical': 98, 'News': 79, 'War': 73, 'Reality-TV': 72, 'Talk-Show': 32, 'Western': 31, 'Game-Show': 14})\n",
      "len =  26\n"
     ]
    },
    {
     "data": {
      "image/png": "[encoded data removed]",
      "text/plain": [
       "<Figure size 1872x288 with 1 Axes>"
      ]
     },
     "metadata": {
      "needs_background": "light"
     },
     "output_type": "display_data"
    }
   ],
   "source": [
    "from collections import Counter\n",
    "\n",
    "list_gens = list(genre_rating_df.genre)\n",
    "unique_gen = []\n",
    "for g in list_gens:\n",
    "    unique_gen += g.strip().split(\", \")\n",
    "dict_gens = Counter(unique_gen)\n",
    "print(dict_gens)\n",
    "print(\"len = \",len(dict_gens))\n",
    "plt.figure(figsize=(26,4))\n",
    "plt.bar(dict_gens.keys(),dict_gens.values(), width = 0.5, color=plt.cm.Paired(np.arange(len(dict_gens))))\n",
    "plt.show()"
   ]
  },
  {
   "cell_type": "markdown",
   "metadata": {},
   "source": []
  },
  {
   "cell_type": "code",
   "execution_count": 315,
   "metadata": {},
   "outputs": [
    {
     "data": {
      "text/plain": [
       "<matplotlib.axes._subplots.AxesSubplot at 0x27a800614c8>"
      ]
     },
     "execution_count": 315,
     "metadata": {},
     "output_type": "execute_result"
    },
    {
     "data": {
      "image/png": "[encoded data removed]",
      "text/plain": [
       "<Figure size 432x288 with 1 Axes>"
      ]
     },
     "metadata": {
      "needs_background": "light"
     },
     "output_type": "display_data"
    }
   ],
   "source": [
    "hist = {}\n",
    "for i in range(genre_rating_df.shape[0]):\n",
    "  genres = genre_rating_df.iloc[i].genre.strip().split(\", \")\n",
    "  rating  = genre_rating_df.iloc[i].rating\n",
    "  for g in genres:\n",
    "    if g not in hist:\n",
    "      hist[g] = [rating]\n",
    "    else:\n",
    "      hist[g].append(rating)\n",
    "keys = list(hist.keys())\n",
    "vals = list(hist.values())\n",
    "vals = [np.mean(x) for x in vals]\n",
    "\n",
    "assert len(keys) == len(vals)\n",
    "hist_df = pd.DataFrame(columns=[\"genre\",\"avg_score\"])\n",
    "hist_df.genre = keys\n",
    "hist_df.avg_score = vals\n",
    "hist_df = hist_df.sort_values(by = [\"avg_score\"],ascending=False)\n",
    "hist_df.plot.bar()\n"
   ]
  },
  {
   "cell_type": "code",
   "execution_count": 316,
   "metadata": {},
   "outputs": [
    {
     "name": "stdout",
     "output_type": "stream",
     "text": [
      "          genre  avg_score\n",
      "0   Documentary   7.282134\n",
      "2     Biography   7.226113\n",
      "6       History   7.211009\n",
      "18    Talk-Show   7.206250\n",
      "15        Sport   7.184270\n",
      "20         News   7.183544\n",
      "3         Short   7.145302\n",
      "17        Music   6.994688\n",
      "22   Reality-TV   6.793056\n",
      "1     Animation   6.703863\n",
      "12    Adventure   6.568027\n",
      "7         Drama   6.548717\n",
      "5         Crime   6.487358\n",
      "11      Mystery   6.455285\n",
      "23      Musical   6.404082\n",
      "19       Family   6.398905\n",
      "16      Fantasy   6.398548\n",
      "13      Romance   6.382935\n",
      "9        Comedy   6.352087\n",
      "4        Action   6.339892\n",
      "14          War   6.330137\n",
      "24      Western   6.254839\n",
      "21       Sci-Fi   6.051843\n",
      "8      Thriller   5.726900\n",
      "25    Game-Show   5.678571\n",
      "10       Horror   5.339261\n"
     ]
    }
   ],
   "source": [
    "print(hist_df)"
   ]
  },
  {
   "cell_type": "markdown",
   "metadata": {},
   "source": [
    "- GENRE to number"
   ]
  },
  {
   "cell_type": "code",
   "execution_count": 317,
   "metadata": {},
   "outputs": [],
   "source": [
    "#TF-IDF \n",
    "\n",
    "corpus = genre_rating_df[\"genre\"].tolist()\n",
    "vectorizer = TfidfVectorizer()\n",
    "tfidf = vectorizer.fit_transform(corpus)\n",
    "\n",
    "\n",
    "list_sum_genre = []\n",
    "for i in range(len(genre_rating_df)):\n",
    "    list_sum_genre.append(tfidf[i].sum())"
   ]
  },
  {
   "cell_type": "code",
   "execution_count": 318,
   "metadata": {},
   "outputs": [
    {
     "data": {
      "text/plain": [
       "False"
      ]
     },
     "execution_count": 318,
     "metadata": {},
     "output_type": "execute_result"
    }
   ],
   "source": [
    "sum_genre = pd.DataFrame(list_sum_genre)\n",
    "sum_genre.isnull().values.any()\n"
   ]
  },
  {
   "cell_type": "code",
   "execution_count": 319,
   "metadata": {},
   "outputs": [
    {
     "name": "stderr",
     "output_type": "stream",
     "text": [
      "D:\\app\\anaconda\\run\\lib\\site-packages\\ipykernel_launcher.py:2: SettingWithCopyWarning: \n",
      "A value is trying to be set on a copy of a slice from a DataFrame.\n",
      "Try using .loc[row_indexer,col_indexer] = value instead\n",
      "\n",
      "See the caveats in the documentation: http://pandas.pydata.org/pandas-docs/stable/user_guide/indexing.html#returning-a-view-versus-a-copy\n",
      "  \n"
     ]
    }
   ],
   "source": [
    "#add column into df\n",
    "val_X_df[\"sum_genre\"] = pd.Series(list_sum_genre).values"
   ]
  },
  {
   "cell_type": "code",
   "execution_count": 320,
   "metadata": {},
   "outputs": [
    {
     "data": {
      "text/html": [
       "<div>\n",
       "<style scoped>\n",
       "    .dataframe tbody tr th:only-of-type {\n",
       "        vertical-align: middle;\n",
       "    }\n",
       "\n",
       "    .dataframe tbody tr th {\n",
       "        vertical-align: top;\n",
       "    }\n",
       "\n",
       "    .dataframe thead th {\n",
       "        text-align: right;\n",
       "    }\n",
       "</style>\n",
       "<table border=\"1\" class=\"dataframe\">\n",
       "  <thead>\n",
       "    <tr style=\"text-align: right;\">\n",
       "      <th></th>\n",
       "      <th>title</th>\n",
       "      <th>runtime</th>\n",
       "      <th>des</th>\n",
       "      <th>date</th>\n",
       "      <th>genre</th>\n",
       "      <th>cast</th>\n",
       "      <th>director</th>\n",
       "      <th>vote</th>\n",
       "      <th>gross</th>\n",
       "      <th>sum_genre</th>\n",
       "    </tr>\n",
       "  </thead>\n",
       "  <tbody>\n",
       "    <tr>\n",
       "      <td>32044</td>\n",
       "      <td>Nasseredin Shah and His 84 Wives</td>\n",
       "      <td>59</td>\n",
       "      <td>In 1842 the 11 year-old heir to the Persian th...</td>\n",
       "      <td>2011</td>\n",
       "      <td>Documentary, Animation, Biography</td>\n",
       "      <td>Kate Pendry</td>\n",
       "      <td>Beate Petersen</td>\n",
       "      <td>122</td>\n",
       "      <td>NaN</td>\n",
       "      <td>1.717565</td>\n",
       "    </tr>\n",
       "    <tr>\n",
       "      <td>53034</td>\n",
       "      <td>The Pusher</td>\n",
       "      <td>0</td>\n",
       "      <td>The Pusher is a coming of age crime drama,...</td>\n",
       "      <td>2013</td>\n",
       "      <td>Short, Action, Crime</td>\n",
       "      <td>Aren Galuppo, Victor Boneva, Jeffrey Quinn</td>\n",
       "      <td>Justin Cunningham</td>\n",
       "      <td>5</td>\n",
       "      <td>NaN</td>\n",
       "      <td>1.726254</td>\n",
       "    </tr>\n",
       "    <tr>\n",
       "      <td>62086</td>\n",
       "      <td>Don't Blink - Robert Frank</td>\n",
       "      <td>82</td>\n",
       "      <td>Robert Frank revolutionized photography and in...</td>\n",
       "      <td>2015</td>\n",
       "      <td>Documentary, Biography, History</td>\n",
       "      <td>Robert Frank, Sid Kaplan, June Leaf, William S...</td>\n",
       "      <td>Laura Israel</td>\n",
       "      <td>268</td>\n",
       "      <td>NaN</td>\n",
       "      <td>1.681546</td>\n",
       "    </tr>\n",
       "    <tr>\n",
       "      <td>49471</td>\n",
       "      <td>Rustom</td>\n",
       "      <td>148</td>\n",
       "      <td>A naval officer returns home to find out a...</td>\n",
       "      <td>2016</td>\n",
       "      <td>Crime, Drama, Thriller</td>\n",
       "      <td>Akshay Kumar, Ileana D'Cruz, Esha Gupta, Manoj...</td>\n",
       "      <td>Dharmendra Suresh Desai</td>\n",
       "      <td>21066</td>\n",
       "      <td>$1.09M</td>\n",
       "      <td>1.686391</td>\n",
       "    </tr>\n",
       "    <tr>\n",
       "      <td>3999</td>\n",
       "      <td>Badass Monster Killer</td>\n",
       "      <td>96</td>\n",
       "      <td>On the trashy side of Camaroville, there's a m...</td>\n",
       "      <td>2015</td>\n",
       "      <td>Action, Comedy, Horror</td>\n",
       "      <td>Jawara Duncan, Amelia Belle, Ryan Cicak, Steph...</td>\n",
       "      <td>Darin Wood</td>\n",
       "      <td>81</td>\n",
       "      <td>NaN</td>\n",
       "      <td>1.643724</td>\n",
       "    </tr>\n",
       "  </tbody>\n",
       "</table>\n",
       "</div>"
      ],
      "text/plain": [
       "                                  title runtime  \\\n",
       "32044  Nasseredin Shah and His 84 Wives      59   \n",
       "53034                        The Pusher       0   \n",
       "62086        Don't Blink - Robert Frank      82   \n",
       "49471                            Rustom     148   \n",
       "3999              Badass Monster Killer      96   \n",
       "\n",
       "                                                     des  date  \\\n",
       "32044  In 1842 the 11 year-old heir to the Persian th...  2011   \n",
       "53034      The Pusher is a coming of age crime drama,...  2013   \n",
       "62086  Robert Frank revolutionized photography and in...  2015   \n",
       "49471      A naval officer returns home to find out a...  2016   \n",
       "3999   On the trashy side of Camaroville, there's a m...  2015   \n",
       "\n",
       "                                               genre  \\\n",
       "32044  Documentary, Animation, Biography               \n",
       "53034               Short, Action, Crime               \n",
       "62086    Documentary, Biography, History               \n",
       "49471             Crime, Drama, Thriller               \n",
       "3999              Action, Comedy, Horror               \n",
       "\n",
       "                                                    cast  \\\n",
       "32044                                        Kate Pendry   \n",
       "53034         Aren Galuppo, Victor Boneva, Jeffrey Quinn   \n",
       "62086  Robert Frank, Sid Kaplan, June Leaf, William S...   \n",
       "49471  Akshay Kumar, Ileana D'Cruz, Esha Gupta, Manoj...   \n",
       "3999   Jawara Duncan, Amelia Belle, Ryan Cicak, Steph...   \n",
       "\n",
       "                      director   vote   gross  sum_genre  \n",
       "32044           Beate Petersen    122     NaN   1.717565  \n",
       "53034        Justin Cunningham      5     NaN   1.726254  \n",
       "62086             Laura Israel    268     NaN   1.681546  \n",
       "49471  Dharmendra Suresh Desai  21066  $1.09M   1.686391  \n",
       "3999                Darin Wood     81     NaN   1.643724  "
      ]
     },
     "execution_count": 320,
     "metadata": {},
     "output_type": "execute_result"
    }
   ],
   "source": [
    "val_X_df.head()"
   ]
  },
  {
   "cell_type": "markdown",
   "metadata": {},
   "source": [
    "- CAST to number"
   ]
  },
  {
   "cell_type": "code",
   "execution_count": 321,
   "metadata": {},
   "outputs": [
    {
     "name": "stderr",
     "output_type": "stream",
     "text": [
      "D:\\app\\anaconda\\run\\lib\\site-packages\\ipykernel_launcher.py:2: SettingWithCopyWarning: \n",
      "A value is trying to be set on a copy of a slice from a DataFrame.\n",
      "Try using .loc[row_indexer,col_indexer] = value instead\n",
      "\n",
      "See the caveats in the documentation: http://pandas.pydata.org/pandas-docs/stable/user_guide/indexing.html#returning-a-view-versus-a-copy\n",
      "  \n"
     ]
    }
   ],
   "source": [
    "#replace NaN element in cast to \"other\"\n",
    "val_X_df[\"cast\"] = val_X_df[\"cast\"].fillna(\"other_cast\");"
   ]
  },
  {
   "cell_type": "code",
   "execution_count": 322,
   "metadata": {},
   "outputs": [
    {
     "name": "stdout",
     "output_type": "stream",
     "text": [
      "len =  36110\n"
     ]
    }
   ],
   "source": [
    "\n",
    "cast_rating_df = val_X_df[\"cast\"].to_frame().join(val_y_sr)\n",
    "\n",
    "from collections import Counter\n",
    "\n",
    "list_cast = list(cast_rating_df.cast)\n",
    "unique_cast = []\n",
    "for g in list_cast:\n",
    "    if(pd.isna(g) ==False):\n",
    "        unique_cast += g.strip().split(\", \")\n",
    "dict_cast = Counter(unique_cast)\n",
    "\n",
    "print(\"len = \",len(dict_cast))\n"
   ]
  },
  {
   "cell_type": "code",
   "execution_count": 323,
   "metadata": {},
   "outputs": [
    {
     "data": {
      "text/plain": [
       "{1: 28292,\n",
       " 2: 4811,\n",
       " 3: 1382,\n",
       " 4: 627,\n",
       " 5: 367,\n",
       " 6: 214,\n",
       " 7: 126,\n",
       " 8: 85,\n",
       " 9: 62,\n",
       " 10: 35}"
      ]
     },
     "execution_count": 323,
     "metadata": {},
     "output_type": "execute_result"
    }
   ],
   "source": [
    "occur_cast = Counter(dict_cast.values())  #Số lần xuất hiện - Số diễn viên\n",
    "\n",
    "occur_cast = {k: v for k, v in sorted(occur_cast.items(), key=lambda item: item[1], reverse = True)}\n",
    "\n",
    "dict(list(occur_cast.items())[:10])"
   ]
  },
  {
   "cell_type": "code",
   "execution_count": 324,
   "metadata": {},
   "outputs": [
    {
     "data": {
      "text/plain": [
       "[('other_cast', 144),\n",
       " ('Grey Griffin', 52),\n",
       " ('Troy Baker', 43),\n",
       " ('Laura Bailey', 38),\n",
       " ('Eric Bauza', 30),\n",
       " ('Fred Tatasciore', 27),\n",
       " ('John DiMaggio', 26),\n",
       " ('Jeff Bennett', 26),\n",
       " ('Sean Astin', 26),\n",
       " ('Tom Kenny', 26)]"
      ]
     },
     "execution_count": 324,
     "metadata": {},
     "output_type": "execute_result"
    }
   ],
   "source": [
    "cast_info = dict_cast.items()\n",
    "cast_info = sorted(cast_info, key=lambda tup: tup[1], reverse=True)\n",
    "cast_info[:10] #Từng diễn viên tương ứng với số lần đóng phim\n"
   ]
  },
  {
   "cell_type": "markdown",
   "metadata": {},
   "source": [
    "# Nhận xét: Những diễn viên xuất hiện nhiều lần, thông thường được mọi người xem là hay. Những diễn viên xuất hiện ít, thường là những người mới hoặc diễn tệ.\n"
   ]
  },
  {
   "cell_type": "code",
   "execution_count": 325,
   "metadata": {},
   "outputs": [],
   "source": [
    "#TF-IDF \n",
    "\n",
    "corpus = cast_rating_df.loc[cast_rating_df.cast.isnull() == False].cast.tolist()\n",
    "vectorizer = TfidfVectorizer()\n",
    "tfidf = vectorizer.fit_transform(corpus)\n",
    "\n",
    "\n",
    "list_sum_cast = cast_rating_df.cast.copy()\n",
    "\n",
    "list_sum = []\n",
    "for i in range(len(cast_rating_df.loc[cast_rating_df.cast.isnull() == False])):\n",
    "    list_sum.append(tfidf[i].sum())\n",
    "\n",
    "list_sum_cast[list_sum_cast.isnull() == False] = list_sum\n",
    "list_sum_cast[list_sum_cast.isnull() != False] = 0"
   ]
  },
  {
   "cell_type": "code",
   "execution_count": 326,
   "metadata": {},
   "outputs": [
    {
     "data": {
      "text/plain": [
       "False"
      ]
     },
     "execution_count": 326,
     "metadata": {},
     "output_type": "execute_result"
    }
   ],
   "source": [
    "sum_cast = pd.DataFrame(list_sum_cast)\n",
    "sum_cast.isnull().values.any()\n"
   ]
  },
  {
   "cell_type": "code",
   "execution_count": 327,
   "metadata": {},
   "outputs": [
    {
     "name": "stderr",
     "output_type": "stream",
     "text": [
      "D:\\app\\anaconda\\run\\lib\\site-packages\\ipykernel_launcher.py:2: SettingWithCopyWarning: \n",
      "A value is trying to be set on a copy of a slice from a DataFrame.\n",
      "Try using .loc[row_indexer,col_indexer] = value instead\n",
      "\n",
      "See the caveats in the documentation: http://pandas.pydata.org/pandas-docs/stable/user_guide/indexing.html#returning-a-view-versus-a-copy\n",
      "  \n"
     ]
    }
   ],
   "source": [
    "#add column into df\n",
    "val_X_df[\"sum_cast\"] = pd.Series(list_sum_cast).values"
   ]
  },
  {
   "cell_type": "code",
   "execution_count": 328,
   "metadata": {},
   "outputs": [
    {
     "data": {
      "text/html": [
       "<div>\n",
       "<style scoped>\n",
       "    .dataframe tbody tr th:only-of-type {\n",
       "        vertical-align: middle;\n",
       "    }\n",
       "\n",
       "    .dataframe tbody tr th {\n",
       "        vertical-align: top;\n",
       "    }\n",
       "\n",
       "    .dataframe thead th {\n",
       "        text-align: right;\n",
       "    }\n",
       "</style>\n",
       "<table border=\"1\" class=\"dataframe\">\n",
       "  <thead>\n",
       "    <tr style=\"text-align: right;\">\n",
       "      <th></th>\n",
       "      <th>title</th>\n",
       "      <th>runtime</th>\n",
       "      <th>des</th>\n",
       "      <th>date</th>\n",
       "      <th>genre</th>\n",
       "      <th>cast</th>\n",
       "      <th>director</th>\n",
       "      <th>vote</th>\n",
       "      <th>gross</th>\n",
       "      <th>sum_genre</th>\n",
       "      <th>sum_cast</th>\n",
       "    </tr>\n",
       "  </thead>\n",
       "  <tbody>\n",
       "    <tr>\n",
       "      <td>32044</td>\n",
       "      <td>Nasseredin Shah and His 84 Wives</td>\n",
       "      <td>59</td>\n",
       "      <td>In 1842 the 11 year-old heir to the Persian th...</td>\n",
       "      <td>2011</td>\n",
       "      <td>Documentary, Animation, Biography</td>\n",
       "      <td>Kate Pendry</td>\n",
       "      <td>Beate Petersen</td>\n",
       "      <td>122</td>\n",
       "      <td>NaN</td>\n",
       "      <td>1.717565</td>\n",
       "      <td>1.36089</td>\n",
       "    </tr>\n",
       "    <tr>\n",
       "      <td>53034</td>\n",
       "      <td>The Pusher</td>\n",
       "      <td>0</td>\n",
       "      <td>The Pusher is a coming of age crime drama,...</td>\n",
       "      <td>2013</td>\n",
       "      <td>Short, Action, Crime</td>\n",
       "      <td>Aren Galuppo, Victor Boneva, Jeffrey Quinn</td>\n",
       "      <td>Justin Cunningham</td>\n",
       "      <td>5</td>\n",
       "      <td>NaN</td>\n",
       "      <td>1.726254</td>\n",
       "      <td>2.41278</td>\n",
       "    </tr>\n",
       "    <tr>\n",
       "      <td>62086</td>\n",
       "      <td>Don't Blink - Robert Frank</td>\n",
       "      <td>82</td>\n",
       "      <td>Robert Frank revolutionized photography and in...</td>\n",
       "      <td>2015</td>\n",
       "      <td>Documentary, Biography, History</td>\n",
       "      <td>Robert Frank, Sid Kaplan, June Leaf, William S...</td>\n",
       "      <td>Laura Israel</td>\n",
       "      <td>268</td>\n",
       "      <td>NaN</td>\n",
       "      <td>1.681546</td>\n",
       "      <td>2.74679</td>\n",
       "    </tr>\n",
       "    <tr>\n",
       "      <td>49471</td>\n",
       "      <td>Rustom</td>\n",
       "      <td>148</td>\n",
       "      <td>A naval officer returns home to find out a...</td>\n",
       "      <td>2016</td>\n",
       "      <td>Crime, Drama, Thriller</td>\n",
       "      <td>Akshay Kumar, Ileana D'Cruz, Esha Gupta, Manoj...</td>\n",
       "      <td>Dharmendra Suresh Desai</td>\n",
       "      <td>21066</td>\n",
       "      <td>$1.09M</td>\n",
       "      <td>1.686391</td>\n",
       "      <td>2.81636</td>\n",
       "    </tr>\n",
       "    <tr>\n",
       "      <td>3999</td>\n",
       "      <td>Badass Monster Killer</td>\n",
       "      <td>96</td>\n",
       "      <td>On the trashy side of Camaroville, there's a m...</td>\n",
       "      <td>2015</td>\n",
       "      <td>Action, Comedy, Horror</td>\n",
       "      <td>Jawara Duncan, Amelia Belle, Ryan Cicak, Steph...</td>\n",
       "      <td>Darin Wood</td>\n",
       "      <td>81</td>\n",
       "      <td>NaN</td>\n",
       "      <td>1.643724</td>\n",
       "      <td>2.76694</td>\n",
       "    </tr>\n",
       "  </tbody>\n",
       "</table>\n",
       "</div>"
      ],
      "text/plain": [
       "                                  title runtime  \\\n",
       "32044  Nasseredin Shah and His 84 Wives      59   \n",
       "53034                        The Pusher       0   \n",
       "62086        Don't Blink - Robert Frank      82   \n",
       "49471                            Rustom     148   \n",
       "3999              Badass Monster Killer      96   \n",
       "\n",
       "                                                     des  date  \\\n",
       "32044  In 1842 the 11 year-old heir to the Persian th...  2011   \n",
       "53034      The Pusher is a coming of age crime drama,...  2013   \n",
       "62086  Robert Frank revolutionized photography and in...  2015   \n",
       "49471      A naval officer returns home to find out a...  2016   \n",
       "3999   On the trashy side of Camaroville, there's a m...  2015   \n",
       "\n",
       "                                               genre  \\\n",
       "32044  Documentary, Animation, Biography               \n",
       "53034               Short, Action, Crime               \n",
       "62086    Documentary, Biography, History               \n",
       "49471             Crime, Drama, Thriller               \n",
       "3999              Action, Comedy, Horror               \n",
       "\n",
       "                                                    cast  \\\n",
       "32044                                        Kate Pendry   \n",
       "53034         Aren Galuppo, Victor Boneva, Jeffrey Quinn   \n",
       "62086  Robert Frank, Sid Kaplan, June Leaf, William S...   \n",
       "49471  Akshay Kumar, Ileana D'Cruz, Esha Gupta, Manoj...   \n",
       "3999   Jawara Duncan, Amelia Belle, Ryan Cicak, Steph...   \n",
       "\n",
       "                      director   vote   gross  sum_genre sum_cast  \n",
       "32044           Beate Petersen    122     NaN   1.717565  1.36089  \n",
       "53034        Justin Cunningham      5     NaN   1.726254  2.41278  \n",
       "62086             Laura Israel    268     NaN   1.681546  2.74679  \n",
       "49471  Dharmendra Suresh Desai  21066  $1.09M   1.686391  2.81636  \n",
       "3999                Darin Wood     81     NaN   1.643724  2.76694  "
      ]
     },
     "execution_count": 328,
     "metadata": {},
     "output_type": "execute_result"
    }
   ],
   "source": [
    "val_X_df.head()"
   ]
  },
  {
   "cell_type": "markdown",
   "metadata": {},
   "source": [
    "- DIRECTOR to number"
   ]
  },
  {
   "cell_type": "code",
   "execution_count": 329,
   "metadata": {},
   "outputs": [
    {
     "name": "stderr",
     "output_type": "stream",
     "text": [
      "D:\\app\\anaconda\\run\\lib\\site-packages\\ipykernel_launcher.py:2: SettingWithCopyWarning: \n",
      "A value is trying to be set on a copy of a slice from a DataFrame.\n",
      "Try using .loc[row_indexer,col_indexer] = value instead\n",
      "\n",
      "See the caveats in the documentation: http://pandas.pydata.org/pandas-docs/stable/user_guide/indexing.html#returning-a-view-versus-a-copy\n",
      "  \n"
     ]
    }
   ],
   "source": [
    "#replace NaN element in cast to \"other\"\n",
    "val_X_df[\"director\"] = val_X_df[\"director\"].fillna(\"other_director\");"
   ]
  },
  {
   "cell_type": "code",
   "execution_count": 330,
   "metadata": {},
   "outputs": [
    {
     "name": "stdout",
     "output_type": "stream",
     "text": [
      "len =  36110\n"
     ]
    }
   ],
   "source": [
    "\n",
    "director_rating_df = val_X_df[\"director\"].to_frame().join(val_y_sr)\n",
    "\n",
    "from collections import Counter\n",
    "\n",
    "list_director = list(director_rating_df.director)\n",
    "unique_director = []\n",
    "for g in list_cast:\n",
    "    if(pd.isna(g) ==False):\n",
    "        unique_director += g.strip().split(\", \")\n",
    "dict_director = Counter(unique_director)\n",
    "\n",
    "print(\"len = \",len(dict_director))"
   ]
  },
  {
   "cell_type": "code",
   "execution_count": 331,
   "metadata": {},
   "outputs": [],
   "source": [
    "#TF-IDF \n",
    "\n",
    "corpus =director_rating_df.loc[director_rating_df.director.isnull() == False].director.tolist()\n",
    "vectorizer = TfidfVectorizer()\n",
    "tfidf = vectorizer.fit_transform(corpus)\n",
    "\n",
    "\n",
    "list_sum_director = director_rating_df.director.copy()\n",
    "list_sum = []\n",
    "for i in range(len(director_rating_df.loc[director_rating_df.director.isnull() == False])):\n",
    "    list_sum.append(tfidf[i].sum())\n",
    "list_sum_director[list_sum_director.isnull() == False] = list_sum\n",
    "list_sum_director[list_sum_director.isnull() != False] = 0"
   ]
  },
  {
   "cell_type": "code",
   "execution_count": 332,
   "metadata": {},
   "outputs": [
    {
     "data": {
      "text/plain": [
       "False"
      ]
     },
     "execution_count": 332,
     "metadata": {},
     "output_type": "execute_result"
    }
   ],
   "source": [
    "sum_director = pd.DataFrame(list_sum_director)\n",
    "sum_director.isnull().values.any()\n"
   ]
  },
  {
   "cell_type": "code",
   "execution_count": 333,
   "metadata": {},
   "outputs": [
    {
     "name": "stderr",
     "output_type": "stream",
     "text": [
      "D:\\app\\anaconda\\run\\lib\\site-packages\\ipykernel_launcher.py:2: SettingWithCopyWarning: \n",
      "A value is trying to be set on a copy of a slice from a DataFrame.\n",
      "Try using .loc[row_indexer,col_indexer] = value instead\n",
      "\n",
      "See the caveats in the documentation: http://pandas.pydata.org/pandas-docs/stable/user_guide/indexing.html#returning-a-view-versus-a-copy\n",
      "  \n"
     ]
    }
   ],
   "source": [
    "#add column into df\n",
    "val_X_df[\"sum_director\"] = pd.Series(list_sum_director).values"
   ]
  },
  {
   "cell_type": "code",
   "execution_count": 334,
   "metadata": {},
   "outputs": [
    {
     "data": {
      "text/html": [
       "<div>\n",
       "<style scoped>\n",
       "    .dataframe tbody tr th:only-of-type {\n",
       "        vertical-align: middle;\n",
       "    }\n",
       "\n",
       "    .dataframe tbody tr th {\n",
       "        vertical-align: top;\n",
       "    }\n",
       "\n",
       "    .dataframe thead th {\n",
       "        text-align: right;\n",
       "    }\n",
       "</style>\n",
       "<table border=\"1\" class=\"dataframe\">\n",
       "  <thead>\n",
       "    <tr style=\"text-align: right;\">\n",
       "      <th></th>\n",
       "      <th>title</th>\n",
       "      <th>runtime</th>\n",
       "      <th>des</th>\n",
       "      <th>date</th>\n",
       "      <th>genre</th>\n",
       "      <th>cast</th>\n",
       "      <th>director</th>\n",
       "      <th>vote</th>\n",
       "      <th>gross</th>\n",
       "      <th>sum_genre</th>\n",
       "      <th>sum_cast</th>\n",
       "      <th>sum_director</th>\n",
       "    </tr>\n",
       "  </thead>\n",
       "  <tbody>\n",
       "    <tr>\n",
       "      <td>32044</td>\n",
       "      <td>Nasseredin Shah and His 84 Wives</td>\n",
       "      <td>59</td>\n",
       "      <td>In 1842 the 11 year-old heir to the Persian th...</td>\n",
       "      <td>2011</td>\n",
       "      <td>Documentary, Animation, Biography</td>\n",
       "      <td>Kate Pendry</td>\n",
       "      <td>Beate Petersen</td>\n",
       "      <td>122</td>\n",
       "      <td>NaN</td>\n",
       "      <td>1.717565</td>\n",
       "      <td>1.36089</td>\n",
       "      <td>1.41178</td>\n",
       "    </tr>\n",
       "    <tr>\n",
       "      <td>53034</td>\n",
       "      <td>The Pusher</td>\n",
       "      <td>0</td>\n",
       "      <td>The Pusher is a coming of age crime drama,...</td>\n",
       "      <td>2013</td>\n",
       "      <td>Short, Action, Crime</td>\n",
       "      <td>Aren Galuppo, Victor Boneva, Jeffrey Quinn</td>\n",
       "      <td>Justin Cunningham</td>\n",
       "      <td>5</td>\n",
       "      <td>NaN</td>\n",
       "      <td>1.726254</td>\n",
       "      <td>2.41278</td>\n",
       "      <td>1.40757</td>\n",
       "    </tr>\n",
       "    <tr>\n",
       "      <td>62086</td>\n",
       "      <td>Don't Blink - Robert Frank</td>\n",
       "      <td>82</td>\n",
       "      <td>Robert Frank revolutionized photography and in...</td>\n",
       "      <td>2015</td>\n",
       "      <td>Documentary, Biography, History</td>\n",
       "      <td>Robert Frank, Sid Kaplan, June Leaf, William S...</td>\n",
       "      <td>Laura Israel</td>\n",
       "      <td>268</td>\n",
       "      <td>NaN</td>\n",
       "      <td>1.681546</td>\n",
       "      <td>2.74679</td>\n",
       "      <td>1.41142</td>\n",
       "    </tr>\n",
       "    <tr>\n",
       "      <td>49471</td>\n",
       "      <td>Rustom</td>\n",
       "      <td>148</td>\n",
       "      <td>A naval officer returns home to find out a...</td>\n",
       "      <td>2016</td>\n",
       "      <td>Crime, Drama, Thriller</td>\n",
       "      <td>Akshay Kumar, Ileana D'Cruz, Esha Gupta, Manoj...</td>\n",
       "      <td>Dharmendra Suresh Desai</td>\n",
       "      <td>21066</td>\n",
       "      <td>$1.09M</td>\n",
       "      <td>1.686391</td>\n",
       "      <td>2.81636</td>\n",
       "      <td>1.73205</td>\n",
       "    </tr>\n",
       "    <tr>\n",
       "      <td>3999</td>\n",
       "      <td>Badass Monster Killer</td>\n",
       "      <td>96</td>\n",
       "      <td>On the trashy side of Camaroville, there's a m...</td>\n",
       "      <td>2015</td>\n",
       "      <td>Action, Comedy, Horror</td>\n",
       "      <td>Jawara Duncan, Amelia Belle, Ryan Cicak, Steph...</td>\n",
       "      <td>Darin Wood</td>\n",
       "      <td>81</td>\n",
       "      <td>NaN</td>\n",
       "      <td>1.643724</td>\n",
       "      <td>2.76694</td>\n",
       "      <td>1.41199</td>\n",
       "    </tr>\n",
       "  </tbody>\n",
       "</table>\n",
       "</div>"
      ],
      "text/plain": [
       "                                  title runtime  \\\n",
       "32044  Nasseredin Shah and His 84 Wives      59   \n",
       "53034                        The Pusher       0   \n",
       "62086        Don't Blink - Robert Frank      82   \n",
       "49471                            Rustom     148   \n",
       "3999              Badass Monster Killer      96   \n",
       "\n",
       "                                                     des  date  \\\n",
       "32044  In 1842 the 11 year-old heir to the Persian th...  2011   \n",
       "53034      The Pusher is a coming of age crime drama,...  2013   \n",
       "62086  Robert Frank revolutionized photography and in...  2015   \n",
       "49471      A naval officer returns home to find out a...  2016   \n",
       "3999   On the trashy side of Camaroville, there's a m...  2015   \n",
       "\n",
       "                                               genre  \\\n",
       "32044  Documentary, Animation, Biography               \n",
       "53034               Short, Action, Crime               \n",
       "62086    Documentary, Biography, History               \n",
       "49471             Crime, Drama, Thriller               \n",
       "3999              Action, Comedy, Horror               \n",
       "\n",
       "                                                    cast  \\\n",
       "32044                                        Kate Pendry   \n",
       "53034         Aren Galuppo, Victor Boneva, Jeffrey Quinn   \n",
       "62086  Robert Frank, Sid Kaplan, June Leaf, William S...   \n",
       "49471  Akshay Kumar, Ileana D'Cruz, Esha Gupta, Manoj...   \n",
       "3999   Jawara Duncan, Amelia Belle, Ryan Cicak, Steph...   \n",
       "\n",
       "                      director   vote   gross  sum_genre sum_cast sum_director  \n",
       "32044           Beate Petersen    122     NaN   1.717565  1.36089      1.41178  \n",
       "53034        Justin Cunningham      5     NaN   1.726254  2.41278      1.40757  \n",
       "62086             Laura Israel    268     NaN   1.681546  2.74679      1.41142  \n",
       "49471  Dharmendra Suresh Desai  21066  $1.09M   1.686391  2.81636      1.73205  \n",
       "3999                Darin Wood     81     NaN   1.643724  2.76694      1.41199  "
      ]
     },
     "execution_count": 334,
     "metadata": {},
     "output_type": "execute_result"
    }
   ],
   "source": [
    "val_X_df.head()"
   ]
  },
  {
   "cell_type": "markdown",
   "metadata": {},
   "source": [
    "- GROSS to number"
   ]
  },
  {
   "cell_type": "code",
   "execution_count": 335,
   "metadata": {},
   "outputs": [
    {
     "name": "stderr",
     "output_type": "stream",
     "text": [
      "D:\\app\\anaconda\\run\\lib\\site-packages\\ipykernel_launcher.py:2: SettingWithCopyWarning: \n",
      "A value is trying to be set on a copy of a slice from a DataFrame.\n",
      "Try using .loc[row_indexer,col_indexer] = value instead\n",
      "\n",
      "See the caveats in the documentation: http://pandas.pydata.org/pandas-docs/stable/user_guide/indexing.html#returning-a-view-versus-a-copy\n",
      "  \n"
     ]
    }
   ],
   "source": [
    "#replace NaN element in cast to \"other\"\n",
    "val_X_df[\"gross\"] = val_X_df[\"gross\"].fillna(\"0.0\");"
   ]
  },
  {
   "cell_type": "code",
   "execution_count": 336,
   "metadata": {},
   "outputs": [
    {
     "name": "stderr",
     "output_type": "stream",
     "text": [
      "D:\\app\\anaconda\\run\\lib\\site-packages\\pandas\\core\\indexing.py:205: SettingWithCopyWarning: \n",
      "A value is trying to be set on a copy of a slice from a DataFrame\n",
      "\n",
      "See the caveats in the documentation: http://pandas.pydata.org/pandas-docs/stable/user_guide/indexing.html#returning-a-view-versus-a-copy\n",
      "  self._setitem_with_indexer(indexer, value)\n",
      "D:\\app\\anaconda\\run\\lib\\site-packages\\ipykernel_launcher.py:5: SettingWithCopyWarning: \n",
      "A value is trying to be set on a copy of a slice from a DataFrame\n",
      "\n",
      "See the caveats in the documentation: http://pandas.pydata.org/pandas-docs/stable/user_guide/indexing.html#returning-a-view-versus-a-copy\n",
      "  \"\"\"\n"
     ]
    }
   ],
   "source": [
    "\n",
    "#define money\n",
    "money = {\"M\": 10**6, \"B\": 10**12, \"G\": 10**9, \"P\": 10**15, \"K\": 10**3, \"0\": 0}\n",
    "for i in range(len(val_X_df)):\n",
    "    \n",
    "    val_X_df.gross.iloc[i] = float(re.findall(\"\\d+\\.\\d+\", val_X_df.gross.iloc[i])[0]) * money[val_X_df.gross.iloc[i][-1]]"
   ]
  },
  {
   "cell_type": "code",
   "execution_count": 337,
   "metadata": {},
   "outputs": [
    {
     "data": {
      "text/plain": [
       "{0.0: 13333,\n",
       " 10000.0: 97,\n",
       " 20000.0: 68,\n",
       " 30000.0: 45,\n",
       " 40000.0: 41,\n",
       " 120000.0: 24,\n",
       " 60000.0: 24,\n",
       " 90000.0: 23,\n",
       " 70000.0: 20,\n",
       " 50000.0: 17,\n",
       " 110000.0: 15,\n",
       " 80000.0: 14,\n",
       " 100000.0: 14,\n",
       " 160000.0: 10,\n",
       " 150000.0: 10,\n",
       " 130000.0: 9,\n",
       " 170000.0: 8,\n",
       " 200000.0: 7,\n",
       " 310000.0: 7,\n",
       " 210000.0: 7}"
      ]
     },
     "execution_count": 337,
     "metadata": {},
     "output_type": "execute_result"
    }
   ],
   "source": [
    "\n",
    "dict_gross = Counter(val_X_df.gross)\n",
    "dict_gross = {k: v for k, v in sorted(dict_gross.items(), key=lambda item: item[1], reverse = True)} #sort\n",
    "\n",
    "dict(list(dict_gross.items())[:20])"
   ]
  },
  {
   "cell_type": "markdown",
   "metadata": {},
   "source": [
    "# Nhận thấy: số lượng \"0.0\" chiếm quá nhiều, gây chênh lệnh lớn. Sử dụng median để thay thế"
   ]
  },
  {
   "cell_type": "code",
   "execution_count": 338,
   "metadata": {},
   "outputs": [
    {
     "name": "stderr",
     "output_type": "stream",
     "text": [
      "D:\\app\\anaconda\\run\\lib\\site-packages\\ipykernel_launcher.py:2: SettingWithCopyWarning: \n",
      "A value is trying to be set on a copy of a slice from a DataFrame.\n",
      "Try using .loc[row_indexer,col_indexer] = value instead\n",
      "\n",
      "See the caveats in the documentation: http://pandas.pydata.org/pandas-docs/stable/user_guide/indexing.html#returning-a-view-versus-a-copy\n",
      "  \n"
     ]
    },
    {
     "data": {
      "text/plain": [
       "{1495000.0: 13333,\n",
       " 10000.0: 97,\n",
       " 20000.0: 68,\n",
       " 30000.0: 45,\n",
       " 40000.0: 41,\n",
       " 120000.0: 24,\n",
       " 60000.0: 24,\n",
       " 90000.0: 23,\n",
       " 70000.0: 20,\n",
       " 50000.0: 17,\n",
       " 110000.0: 15,\n",
       " 80000.0: 14,\n",
       " 100000.0: 14,\n",
       " 160000.0: 10,\n",
       " 150000.0: 10,\n",
       " 130000.0: 9,\n",
       " 170000.0: 8,\n",
       " 200000.0: 7,\n",
       " 310000.0: 7,\n",
       " 210000.0: 7}"
      ]
     },
     "execution_count": 338,
     "metadata": {},
     "output_type": "execute_result"
    }
   ],
   "source": [
    "imp = SimpleImputer(missing_values = 0, strategy='median')\n",
    "val_X_df[\"gross\"] = imp.fit_transform(val_X_df[[\"gross\"]]).ravel()\n",
    "\n",
    "\n",
    "dict_gross = Counter(val_X_df.gross)\n",
    "dict_gross = {k: v for k, v in sorted(dict_gross.items(), key=lambda item: item[1], reverse = True)} #sort\n",
    "\n",
    "dict(list(dict_gross.items())[:20])"
   ]
  },
  {
   "cell_type": "code",
   "execution_count": null,
   "metadata": {},
   "outputs": [],
   "source": []
  },
  {
   "cell_type": "code",
   "execution_count": 339,
   "metadata": {},
   "outputs": [
    {
     "data": {
      "text/html": [
       "<div>\n",
       "<style scoped>\n",
       "    .dataframe tbody tr th:only-of-type {\n",
       "        vertical-align: middle;\n",
       "    }\n",
       "\n",
       "    .dataframe tbody tr th {\n",
       "        vertical-align: top;\n",
       "    }\n",
       "\n",
       "    .dataframe thead th {\n",
       "        text-align: right;\n",
       "    }\n",
       "</style>\n",
       "<table border=\"1\" class=\"dataframe\">\n",
       "  <thead>\n",
       "    <tr style=\"text-align: right;\">\n",
       "      <th></th>\n",
       "      <th>title</th>\n",
       "      <th>runtime</th>\n",
       "      <th>des</th>\n",
       "      <th>vote</th>\n",
       "      <th>gross</th>\n",
       "      <th>sum_genre</th>\n",
       "      <th>sum_cast</th>\n",
       "      <th>sum_director</th>\n",
       "    </tr>\n",
       "  </thead>\n",
       "  <tbody>\n",
       "    <tr>\n",
       "      <td>32044</td>\n",
       "      <td>Nasseredin Shah and His 84 Wives</td>\n",
       "      <td>59</td>\n",
       "      <td>In 1842 the 11 year-old heir to the Persian th...</td>\n",
       "      <td>122</td>\n",
       "      <td>1495000.0</td>\n",
       "      <td>1.717565</td>\n",
       "      <td>1.36089</td>\n",
       "      <td>1.41178</td>\n",
       "    </tr>\n",
       "    <tr>\n",
       "      <td>53034</td>\n",
       "      <td>The Pusher</td>\n",
       "      <td>0</td>\n",
       "      <td>The Pusher is a coming of age crime drama,...</td>\n",
       "      <td>5</td>\n",
       "      <td>1495000.0</td>\n",
       "      <td>1.726254</td>\n",
       "      <td>2.41278</td>\n",
       "      <td>1.40757</td>\n",
       "    </tr>\n",
       "    <tr>\n",
       "      <td>62086</td>\n",
       "      <td>Don't Blink - Robert Frank</td>\n",
       "      <td>82</td>\n",
       "      <td>Robert Frank revolutionized photography and in...</td>\n",
       "      <td>268</td>\n",
       "      <td>1495000.0</td>\n",
       "      <td>1.681546</td>\n",
       "      <td>2.74679</td>\n",
       "      <td>1.41142</td>\n",
       "    </tr>\n",
       "    <tr>\n",
       "      <td>49471</td>\n",
       "      <td>Rustom</td>\n",
       "      <td>148</td>\n",
       "      <td>A naval officer returns home to find out a...</td>\n",
       "      <td>21066</td>\n",
       "      <td>1090000.0</td>\n",
       "      <td>1.686391</td>\n",
       "      <td>2.81636</td>\n",
       "      <td>1.73205</td>\n",
       "    </tr>\n",
       "    <tr>\n",
       "      <td>3999</td>\n",
       "      <td>Badass Monster Killer</td>\n",
       "      <td>96</td>\n",
       "      <td>On the trashy side of Camaroville, there's a m...</td>\n",
       "      <td>81</td>\n",
       "      <td>1495000.0</td>\n",
       "      <td>1.643724</td>\n",
       "      <td>2.76694</td>\n",
       "      <td>1.41199</td>\n",
       "    </tr>\n",
       "  </tbody>\n",
       "</table>\n",
       "</div>"
      ],
      "text/plain": [
       "                                  title runtime  \\\n",
       "32044  Nasseredin Shah and His 84 Wives      59   \n",
       "53034                        The Pusher       0   \n",
       "62086        Don't Blink - Robert Frank      82   \n",
       "49471                            Rustom     148   \n",
       "3999              Badass Monster Killer      96   \n",
       "\n",
       "                                                     des   vote      gross  \\\n",
       "32044  In 1842 the 11 year-old heir to the Persian th...    122  1495000.0   \n",
       "53034      The Pusher is a coming of age crime drama,...      5  1495000.0   \n",
       "62086  Robert Frank revolutionized photography and in...    268  1495000.0   \n",
       "49471      A naval officer returns home to find out a...  21066  1090000.0   \n",
       "3999   On the trashy side of Camaroville, there's a m...     81  1495000.0   \n",
       "\n",
       "       sum_genre sum_cast sum_director  \n",
       "32044   1.717565  1.36089      1.41178  \n",
       "53034   1.726254  2.41278      1.40757  \n",
       "62086   1.681546  2.74679      1.41142  \n",
       "49471   1.686391  2.81636      1.73205  \n",
       "3999    1.643724  2.76694      1.41199  "
      ]
     },
     "execution_count": 339,
     "metadata": {},
     "output_type": "execute_result"
    }
   ],
   "source": [
    "val_X_df = val_X_df.drop(['cast',\"genre\",\"director\",\"date\"], axis = 1)\n",
    "val_X_df.head()"
   ]
  },
  {
   "cell_type": "markdown",
   "metadata": {},
   "source": [
    "# scaling"
   ]
  },
  {
   "cell_type": "code",
   "execution_count": 340,
   "metadata": {},
   "outputs": [
    {
     "data": {
      "text/html": [
       "<div>\n",
       "<style scoped>\n",
       "    .dataframe tbody tr th:only-of-type {\n",
       "        vertical-align: middle;\n",
       "    }\n",
       "\n",
       "    .dataframe tbody tr th {\n",
       "        vertical-align: top;\n",
       "    }\n",
       "\n",
       "    .dataframe thead th {\n",
       "        text-align: right;\n",
       "    }\n",
       "</style>\n",
       "<table border=\"1\" class=\"dataframe\">\n",
       "  <thead>\n",
       "    <tr style=\"text-align: right;\">\n",
       "      <th></th>\n",
       "      <th>title</th>\n",
       "      <th>runtime</th>\n",
       "      <th>des</th>\n",
       "      <th>vote</th>\n",
       "      <th>gross</th>\n",
       "      <th>sum_genre</th>\n",
       "      <th>sum_cast</th>\n",
       "      <th>sum_director</th>\n",
       "    </tr>\n",
       "  </thead>\n",
       "  <tbody>\n",
       "    <tr>\n",
       "      <td>32044</td>\n",
       "      <td>Nasseredin Shah and His 84 Wives</td>\n",
       "      <td>59</td>\n",
       "      <td>In 1842 the 11 year-old heir to the Persian th...</td>\n",
       "      <td>122</td>\n",
       "      <td>1495000.0</td>\n",
       "      <td>1.717565</td>\n",
       "      <td>1.36089</td>\n",
       "      <td>1.41178</td>\n",
       "    </tr>\n",
       "    <tr>\n",
       "      <td>53034</td>\n",
       "      <td>The Pusher</td>\n",
       "      <td>0</td>\n",
       "      <td>The Pusher is a coming of age crime drama,...</td>\n",
       "      <td>5</td>\n",
       "      <td>1495000.0</td>\n",
       "      <td>1.726254</td>\n",
       "      <td>2.41278</td>\n",
       "      <td>1.40757</td>\n",
       "    </tr>\n",
       "    <tr>\n",
       "      <td>62086</td>\n",
       "      <td>Don't Blink - Robert Frank</td>\n",
       "      <td>82</td>\n",
       "      <td>Robert Frank revolutionized photography and in...</td>\n",
       "      <td>268</td>\n",
       "      <td>1495000.0</td>\n",
       "      <td>1.681546</td>\n",
       "      <td>2.74679</td>\n",
       "      <td>1.41142</td>\n",
       "    </tr>\n",
       "    <tr>\n",
       "      <td>49471</td>\n",
       "      <td>Rustom</td>\n",
       "      <td>148</td>\n",
       "      <td>A naval officer returns home to find out a...</td>\n",
       "      <td>21066</td>\n",
       "      <td>1090000.0</td>\n",
       "      <td>1.686391</td>\n",
       "      <td>2.81636</td>\n",
       "      <td>1.73205</td>\n",
       "    </tr>\n",
       "    <tr>\n",
       "      <td>3999</td>\n",
       "      <td>Badass Monster Killer</td>\n",
       "      <td>96</td>\n",
       "      <td>On the trashy side of Camaroville, there's a m...</td>\n",
       "      <td>81</td>\n",
       "      <td>1495000.0</td>\n",
       "      <td>1.643724</td>\n",
       "      <td>2.76694</td>\n",
       "      <td>1.41199</td>\n",
       "    </tr>\n",
       "  </tbody>\n",
       "</table>\n",
       "</div>"
      ],
      "text/plain": [
       "                                  title runtime  \\\n",
       "32044  Nasseredin Shah and His 84 Wives      59   \n",
       "53034                        The Pusher       0   \n",
       "62086        Don't Blink - Robert Frank      82   \n",
       "49471                            Rustom     148   \n",
       "3999              Badass Monster Killer      96   \n",
       "\n",
       "                                                     des   vote      gross  \\\n",
       "32044  In 1842 the 11 year-old heir to the Persian th...    122  1495000.0   \n",
       "53034      The Pusher is a coming of age crime drama,...      5  1495000.0   \n",
       "62086  Robert Frank revolutionized photography and in...    268  1495000.0   \n",
       "49471      A naval officer returns home to find out a...  21066  1090000.0   \n",
       "3999   On the trashy side of Camaroville, there's a m...     81  1495000.0   \n",
       "\n",
       "       sum_genre sum_cast sum_director  \n",
       "32044   1.717565  1.36089      1.41178  \n",
       "53034   1.726254  2.41278      1.40757  \n",
       "62086   1.681546  2.74679      1.41142  \n",
       "49471   1.686391  2.81636      1.73205  \n",
       "3999    1.643724  2.76694      1.41199  "
      ]
     },
     "execution_count": 340,
     "metadata": {},
     "output_type": "execute_result"
    }
   ],
   "source": [
    "val_X_df.head()"
   ]
  },
  {
   "cell_type": "code",
   "execution_count": 341,
   "metadata": {},
   "outputs": [],
   "source": [
    "scl = StandardScaler()\n",
    "val_X_df[[\"runtime\",\"vote\", \"gross\", \"sum_genre\", \"sum_cast\", \"sum_director\"]]=scl.fit_transform(val_X_df[[\"runtime\",\"vote\", \"gross\", \"sum_genre\", \"sum_cast\", \"sum_director\"]])"
   ]
  },
  {
   "cell_type": "code",
   "execution_count": 342,
   "metadata": {},
   "outputs": [
    {
     "data": {
      "text/html": [
       "<div>\n",
       "<style scoped>\n",
       "    .dataframe tbody tr th:only-of-type {\n",
       "        vertical-align: middle;\n",
       "    }\n",
       "\n",
       "    .dataframe tbody tr th {\n",
       "        vertical-align: top;\n",
       "    }\n",
       "\n",
       "    .dataframe thead th {\n",
       "        text-align: right;\n",
       "    }\n",
       "</style>\n",
       "<table border=\"1\" class=\"dataframe\">\n",
       "  <thead>\n",
       "    <tr style=\"text-align: right;\">\n",
       "      <th></th>\n",
       "      <th>title</th>\n",
       "      <th>runtime</th>\n",
       "      <th>des</th>\n",
       "      <th>vote</th>\n",
       "      <th>gross</th>\n",
       "      <th>sum_genre</th>\n",
       "      <th>sum_cast</th>\n",
       "      <th>sum_director</th>\n",
       "    </tr>\n",
       "  </thead>\n",
       "  <tbody>\n",
       "    <tr>\n",
       "      <td>32044</td>\n",
       "      <td>Nasseredin Shah and His 84 Wives</td>\n",
       "      <td>0.011945</td>\n",
       "      <td>In 1842 the 11 year-old heir to the Persian th...</td>\n",
       "      <td>-0.160407</td>\n",
       "      <td>-0.119147</td>\n",
       "      <td>0.774241</td>\n",
       "      <td>-2.540589</td>\n",
       "      <td>0.075976</td>\n",
       "    </tr>\n",
       "    <tr>\n",
       "      <td>53034</td>\n",
       "      <td>The Pusher</td>\n",
       "      <td>-1.222821</td>\n",
       "      <td>The Pusher is a coming of age crime drama,...</td>\n",
       "      <td>-0.162821</td>\n",
       "      <td>-0.119147</td>\n",
       "      <td>0.804877</td>\n",
       "      <td>-0.364364</td>\n",
       "      <td>0.064827</td>\n",
       "    </tr>\n",
       "    <tr>\n",
       "      <td>62086</td>\n",
       "      <td>Don't Blink - Robert Frank</td>\n",
       "      <td>0.493294</td>\n",
       "      <td>Robert Frank revolutionized photography and in...</td>\n",
       "      <td>-0.157394</td>\n",
       "      <td>-0.119147</td>\n",
       "      <td>0.647230</td>\n",
       "      <td>0.326662</td>\n",
       "      <td>0.075038</td>\n",
       "    </tr>\n",
       "    <tr>\n",
       "      <td>49471</td>\n",
       "      <td>Rustom</td>\n",
       "      <td>1.874558</td>\n",
       "      <td>A naval officer returns home to find out a...</td>\n",
       "      <td>0.271757</td>\n",
       "      <td>-0.135058</td>\n",
       "      <td>0.664316</td>\n",
       "      <td>0.470597</td>\n",
       "      <td>0.924567</td>\n",
       "    </tr>\n",
       "    <tr>\n",
       "      <td>3999</td>\n",
       "      <td>Badass Monster Killer</td>\n",
       "      <td>0.786290</td>\n",
       "      <td>On the trashy side of Camaroville, there's a m...</td>\n",
       "      <td>-0.161253</td>\n",
       "      <td>-0.119147</td>\n",
       "      <td>0.513864</td>\n",
       "      <td>0.368341</td>\n",
       "      <td>0.076529</td>\n",
       "    </tr>\n",
       "  </tbody>\n",
       "</table>\n",
       "</div>"
      ],
      "text/plain": [
       "                                  title   runtime  \\\n",
       "32044  Nasseredin Shah and His 84 Wives  0.011945   \n",
       "53034                        The Pusher -1.222821   \n",
       "62086        Don't Blink - Robert Frank  0.493294   \n",
       "49471                            Rustom  1.874558   \n",
       "3999              Badass Monster Killer  0.786290   \n",
       "\n",
       "                                                     des      vote     gross  \\\n",
       "32044  In 1842 the 11 year-old heir to the Persian th... -0.160407 -0.119147   \n",
       "53034      The Pusher is a coming of age crime drama,... -0.162821 -0.119147   \n",
       "62086  Robert Frank revolutionized photography and in... -0.157394 -0.119147   \n",
       "49471      A naval officer returns home to find out a...  0.271757 -0.135058   \n",
       "3999   On the trashy side of Camaroville, there's a m... -0.161253 -0.119147   \n",
       "\n",
       "       sum_genre  sum_cast  sum_director  \n",
       "32044   0.774241 -2.540589      0.075976  \n",
       "53034   0.804877 -0.364364      0.064827  \n",
       "62086   0.647230  0.326662      0.075038  \n",
       "49471   0.664316  0.470597      0.924567  \n",
       "3999    0.513864  0.368341      0.076529  "
      ]
     },
     "execution_count": 342,
     "metadata": {},
     "output_type": "execute_result"
    }
   ],
   "source": [
    "val_X_df.head()"
   ]
  },
  {
   "cell_type": "markdown",
   "metadata": {},
   "source": [
    "# To CSV"
   ]
  },
  {
   "cell_type": "code",
   "execution_count": 343,
   "metadata": {},
   "outputs": [],
   "source": [
    "train_X_df.to_csv(\"./processed_data/train_X_df.csv\",index = False, header = True)\n",
    "train_y_sr.to_csv(\"./processed_data/train_y_sr.csv\",index = False, header = True)\n",
    "val_X_df.to_csv(\"./processed_data/val_X_df.csv\",index = False, header = True)\n",
    "val_y_sr.to_csv(\"./processed_data/val_y_sr.csv\",index = False, header = True)"
   ]
  },
  {
   "cell_type": "markdown",
   "metadata": {},
   "source": []
  },
  {
   "cell_type": "code",
   "execution_count": 344,
   "metadata": {},
   "outputs": [],
   "source": [
    "train_X_df = pd.read_csv(\"./processed_data/train_X_df.csv\")\n",
    "train_y_sr = pd.read_csv(\"./processed_data/train_y_sr.csv\")\n"
   ]
  },
  {
   "cell_type": "code",
   "execution_count": 345,
   "metadata": {},
   "outputs": [
    {
     "data": {
      "text/html": [
       "<div>\n",
       "<style scoped>\n",
       "    .dataframe tbody tr th:only-of-type {\n",
       "        vertical-align: middle;\n",
       "    }\n",
       "\n",
       "    .dataframe tbody tr th {\n",
       "        vertical-align: top;\n",
       "    }\n",
       "\n",
       "    .dataframe thead th {\n",
       "        text-align: right;\n",
       "    }\n",
       "</style>\n",
       "<table border=\"1\" class=\"dataframe\">\n",
       "  <thead>\n",
       "    <tr style=\"text-align: right;\">\n",
       "      <th></th>\n",
       "      <th>title</th>\n",
       "      <th>runtime</th>\n",
       "      <th>des</th>\n",
       "      <th>vote</th>\n",
       "      <th>gross</th>\n",
       "      <th>sum_genre</th>\n",
       "      <th>sum_cast</th>\n",
       "      <th>sum_director</th>\n",
       "    </tr>\n",
       "  </thead>\n",
       "  <tbody>\n",
       "    <tr>\n",
       "      <td>0</td>\n",
       "      <td>Lint the Movie</td>\n",
       "      <td>0.899029</td>\n",
       "      <td>Documents the life and work of cult SF author ...</td>\n",
       "      <td>-0.165576</td>\n",
       "      <td>-0.117640</td>\n",
       "      <td>1.496379</td>\n",
       "      <td>0.317929</td>\n",
       "      <td>0.334017</td>\n",
       "    </tr>\n",
       "    <tr>\n",
       "      <td>1</td>\n",
       "      <td>Broken Chains</td>\n",
       "      <td>-1.237446</td>\n",
       "      <td>Brianna married a man she thought would pr...</td>\n",
       "      <td>-0.165576</td>\n",
       "      <td>-0.117640</td>\n",
       "      <td>0.760571</td>\n",
       "      <td>0.321192</td>\n",
       "      <td>0.394587</td>\n",
       "    </tr>\n",
       "    <tr>\n",
       "      <td>2</td>\n",
       "      <td>The Tattooist</td>\n",
       "      <td>-0.243244</td>\n",
       "      <td>In \"The Tattooist,\" Rooster Teeth's Geoff Rams...</td>\n",
       "      <td>-0.165490</td>\n",
       "      <td>-0.117640</td>\n",
       "      <td>-1.778006</td>\n",
       "      <td>-0.814768</td>\n",
       "      <td>0.397553</td>\n",
       "    </tr>\n",
       "    <tr>\n",
       "      <td>3</td>\n",
       "      <td>Fairy Fencer F: Advent Dark Force</td>\n",
       "      <td>-1.237446</td>\n",
       "      <td>A long time ago there was a conflict between a...</td>\n",
       "      <td>-0.164480</td>\n",
       "      <td>-0.117640</td>\n",
       "      <td>0.600956</td>\n",
       "      <td>0.485044</td>\n",
       "      <td>-1.521668</td>\n",
       "    </tr>\n",
       "    <tr>\n",
       "      <td>4</td>\n",
       "      <td>Wild Oats</td>\n",
       "      <td>0.581731</td>\n",
       "      <td>Everything changes for Eva when she receiv...</td>\n",
       "      <td>-0.100232</td>\n",
       "      <td>-0.180534</td>\n",
       "      <td>0.786334</td>\n",
       "      <td>0.416285</td>\n",
       "      <td>0.330136</td>\n",
       "    </tr>\n",
       "  </tbody>\n",
       "</table>\n",
       "</div>"
      ],
      "text/plain": [
       "                               title   runtime  \\\n",
       "0                     Lint the Movie  0.899029   \n",
       "1                      Broken Chains -1.237446   \n",
       "2                      The Tattooist -0.243244   \n",
       "3  Fairy Fencer F: Advent Dark Force -1.237446   \n",
       "4                          Wild Oats  0.581731   \n",
       "\n",
       "                                                 des      vote     gross  \\\n",
       "0  Documents the life and work of cult SF author ... -0.165576 -0.117640   \n",
       "1      Brianna married a man she thought would pr... -0.165576 -0.117640   \n",
       "2  In \"The Tattooist,\" Rooster Teeth's Geoff Rams... -0.165490 -0.117640   \n",
       "3  A long time ago there was a conflict between a... -0.164480 -0.117640   \n",
       "4      Everything changes for Eva when she receiv... -0.100232 -0.180534   \n",
       "\n",
       "   sum_genre  sum_cast  sum_director  \n",
       "0   1.496379  0.317929      0.334017  \n",
       "1   0.760571  0.321192      0.394587  \n",
       "2  -1.778006 -0.814768      0.397553  \n",
       "3   0.600956  0.485044     -1.521668  \n",
       "4   0.786334  0.416285      0.330136  "
      ]
     },
     "execution_count": 345,
     "metadata": {},
     "output_type": "execute_result"
    }
   ],
   "source": [
    "train_X_df.head()"
   ]
  },
  {
   "cell_type": "code",
   "execution_count": null,
   "metadata": {},
   "outputs": [],
   "source": []
  }
 ],
 "metadata": {
  "colab": {
   "include_colab_link": true,
   "name": "Process_data.ipynb",
   "provenance": []
  },
  "kernelspec": {
   "display_name": "Python 3",
   "language": "python",
   "name": "python3"
  },
  "language_info": {
   "codemirror_mode": {
    "name": "ipython",
    "version": 3
   },
   "file_extension": ".py",
   "mimetype": "text/x-python",
   "name": "python",
   "nbconvert_exporter": "python",
   "pygments_lexer": "ipython3",
   "version": "3.7.4"
  }
 },
 "nbformat": 4,
 "nbformat_minor": 4
}
