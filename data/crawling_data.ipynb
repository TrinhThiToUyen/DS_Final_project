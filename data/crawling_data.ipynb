{
 "cells": [
  {
   "cell_type": "code",
   "execution_count": null,
   "metadata": {},
   "outputs": [],
   "source": [
    "# ONLY RUN THIS CELL WHEN Selenium HASN'T ALREADY BEEN INSTALLED IN YOUR COMPUTER\n",
    "!pip install selenium "
   ]
  },
  {
   "cell_type": "code",
   "execution_count": 1,
   "metadata": {},
   "outputs": [],
   "source": [
    "from selenium import webdriver\n",
    "import pandas as pd\n",
    "from selenium.webdriver.support.ui import WebDriverWait\n",
    "from selenium.webdriver.support import expected_conditions as EC\n",
    "from selenium.webdriver.common.keys import Keys\n",
    "from selenium.webdriver.common.by import By\n",
    "import time"
   ]
  },
  {
   "cell_type": "code",
   "execution_count": 2,
   "metadata": {},
   "outputs": [],
   "source": [
    "url = \"https://www.youtube.com/results?search_query=\"\n",
    "categories = ['travel','science','food','history','education']"
   ]
  },
  {
   "cell_type": "code",
   "execution_count": 12,
   "metadata": {},
   "outputs": [],
   "source": [
    "def crawling(url:str, categories:list, num_of_pages:int = 0) -> pd.DataFrame:\n",
    "    try:\n",
    "        df = pd.DataFrame(columns = ['link','title','description','category'])\n",
    "    \n",
    "        for category in categories:\n",
    "            print(\"crawling: \" + category)\n",
    "            crawling_url = url + category\n",
    "            driver = webdriver.Chrome()\n",
    "            driver.get(crawling_url)\n",
    "            elements = driver.find_element_by_tag_name('body')\n",
    "            while num_of_pages:\n",
    "                elements.send_keys(Keys.PAGE_DOWN)  # scoll down to next pages\n",
    "                time.sleep(0.5)\n",
    "                num_of_pages -= 1\n",
    "            \n",
    "            #fetching all the link\n",
    "            data = driver.find_elements_by_xpath('//*[@id=\"video-title\"]')\n",
    "            links = []\n",
    "            for item in data:\n",
    "                links.append(item.get_attribute('href'))\n",
    "            \n",
    "            # getting information\n",
    "            wait = WebDriverWait(driver,10)\n",
    "            count = 0\n",
    "            for link in links:\n",
    "                if not isinstance(link,str):\n",
    "                    continue\n",
    "                driver.get(link)\n",
    "                id = link.strip('https://www.youtube.com/watch?v=')\n",
    "                title = wait.until(EC.presence_of_element_located((By.CSS_SELECTOR,\"h1.title yt-formatted-string\"))).text\n",
    "                des = wait.until(EC.presence_of_element_located((By.CSS_SELECTOR,\"div#description yt-formatted-string\"))).text\n",
    "                df.loc[len(df)] = [id, title,des,category]\n",
    "                \n",
    "                ###### for testing purposes\n",
    "                count += 1\n",
    "                if count > 0:\n",
    "                    break\n",
    "                ######\n",
    "            time.sleep(1)\n",
    "            driver.close()  # close tab automatically\n",
    "            print(\"crawled totally {} link(s)\".format(count))\n",
    "\n",
    "        return df\n",
    "    except Exception as ex:\n",
    "        template = \"An exception of type {0} occurred. Arguments:\\n{1!r}\"\n",
    "        message = template.format(type(ex).__name__, ex.args)\n",
    "        print(message)\n",
    "        print(ex)"
   ]
  },
  {
   "cell_type": "code",
   "execution_count": 13,
   "metadata": {},
   "outputs": [
    {
     "name": "stdout",
     "output_type": "stream",
     "text": [
      "crawling: science\n",
      "crawled totally 1 links\n"
     ]
    }
   ],
   "source": [
    "df = crawling(url,[categories[1]])"
   ]
  },
  {
   "cell_type": "code",
   "execution_count": 7,
   "metadata": {},
   "outputs": [],
   "source": [
    "df.to_csv(\"./sample.csv\",encoding = 'utf-8')"
   ]
  },
  {
   "cell_type": "code",
   "execution_count": 8,
   "metadata": {},
   "outputs": [],
   "source": [
    "d = pd.read_csv(\"./sample.csv\",index_col = 0)"
   ]
  },
  {
   "cell_type": "code",
   "execution_count": 9,
   "metadata": {},
   "outputs": [
    {
     "data": {
      "text/html": [
       "<div>\n",
       "<style scoped>\n",
       "    .dataframe tbody tr th:only-of-type {\n",
       "        vertical-align: middle;\n",
       "    }\n",
       "\n",
       "    .dataframe tbody tr th {\n",
       "        vertical-align: top;\n",
       "    }\n",
       "\n",
       "    .dataframe thead th {\n",
       "        text-align: right;\n",
       "    }\n",
       "</style>\n",
       "<table border=\"1\" class=\"dataframe\">\n",
       "  <thead>\n",
       "    <tr style=\"text-align: right;\">\n",
       "      <th></th>\n",
       "      <th>link</th>\n",
       "      <th>title</th>\n",
       "      <th>description</th>\n",
       "      <th>category</th>\n",
       "    </tr>\n",
       "  </thead>\n",
       "  <tbody>\n",
       "    <tr>\n",
       "      <td>0</td>\n",
       "      <td>6LV3JdR5aZ</td>\n",
       "      <td>NaN</td>\n",
       "      <td>Our Social Media:\\n\\n5-Minute Crafts: https://...</td>\n",
       "      <td>science</td>\n",
       "    </tr>\n",
       "  </tbody>\n",
       "</table>\n",
       "</div>"
      ],
      "text/plain": [
       "         link  title                                        description  \\\n",
       "0  6LV3JdR5aZ    NaN  Our Social Media:\\n\\n5-Minute Crafts: https://...   \n",
       "\n",
       "  category  \n",
       "0  science  "
      ]
     },
     "execution_count": 9,
     "metadata": {},
     "output_type": "execute_result"
    }
   ],
   "source": [
    "d.head(10)"
   ]
  },
  {
   "cell_type": "code",
   "execution_count": null,
   "metadata": {},
   "outputs": [],
   "source": []
  }
 ],
 "metadata": {
  "kernelspec": {
   "display_name": "Python 3",
   "language": "python",
   "name": "python3"
  },
  "language_info": {
   "codemirror_mode": {
    "name": "ipython",
    "version": 3
   },
   "file_extension": ".py",
   "mimetype": "text/x-python",
   "name": "python",
   "nbconvert_exporter": "python",
   "pygments_lexer": "ipython3",
   "version": "3.7.4"
  }
 },
 "nbformat": 4,
 "nbformat_minor": 4
}
