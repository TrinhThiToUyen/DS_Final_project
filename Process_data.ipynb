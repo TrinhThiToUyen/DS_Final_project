{
 "cells": [
  {
   "cell_type": "markdown",
   "metadata": {
    "colab_type": "text",
    "id": "view-in-github"
   },
   "source": [
    "<a href=\"https://colab.research.google.com/github/hungviet0304/DS_Final_project/blob/master/Process_data.ipynb\" target=\"_parent\"><img src=\"https://colab.research.google.com/assets/colab-badge.svg\" alt=\"Open In Colab\"/></a>"
   ]
  },
  {
   "cell_type": "markdown",
   "metadata": {
    "colab_type": "text",
    "id": "M6g-TvS1Qmmh"
   },
   "source": [
    "Import Section\n",
    "==="
   ]
  },
  {
   "cell_type": "code",
   "execution_count": 1,
   "metadata": {
    "colab": {},
    "colab_type": "code",
    "id": "TmvHT3tAgeFe"
   },
   "outputs": [],
   "source": [
    "import pandas as pd\n",
    "import numpy as np\n",
    "import os\n",
    "import copy\n",
    "import math\n",
    "from sklearn.feature_extraction.text import TfidfVectorizer\n",
    "%matplotlib inline"
   ]
  },
  {
   "cell_type": "code",
   "execution_count": 2,
   "metadata": {
    "colab": {},
    "colab_type": "code",
    "id": "ZFGvEpk_TZH0"
   },
   "outputs": [],
   "source": [
    "from sklearn.linear_model import LinearRegression\n",
    "from sklearn.ensemble import RandomForestRegressor"
   ]
  },
  {
   "cell_type": "code",
   "execution_count": 3,
   "metadata": {
    "colab": {},
    "colab_type": "code",
    "id": "UzGXdG_qQBUm"
   },
   "outputs": [],
   "source": [
    "%matplotlib inline\n",
    "import matplotlib.pyplot as plt\n",
    "import seaborn as sns # seaborn là thư viện được xây trên matplotlib, giúp việc visualization đỡ khổ hơn\n",
    "import pandas as pd\n",
    "import numpy as np\n",
    "\n",
    "from sklearn.model_selection import train_test_split\n",
    "from sklearn.preprocessing import OneHotEncoder, StandardScaler\n",
    "from sklearn.impute import SimpleImputer\n",
    "from sklearn.base import BaseEstimator, TransformerMixin\n",
    "from sklearn.pipeline import Pipeline, make_pipeline\n",
    "from sklearn.compose import ColumnTransformer, make_column_transformer\n",
    "from sklearn.neural_network import MLPClassifier\n",
    "\n",
    "# You can also import other things ...\n",
    "# YOUR CODE HERE (OPTION)\n",
    "import re\n",
    "from sklearn import preprocessing"
   ]
  },
  {
   "cell_type": "markdown",
   "metadata": {
    "colab_type": "text",
    "id": "jzj-RHoqQs6s"
   },
   "source": [
    "Load and split\n",
    "==="
   ]
  },
  {
   "cell_type": "code",
   "execution_count": 4,
   "metadata": {
    "colab": {
     "base_uri": "https://localhost:8080/",
     "height": 34
    },
    "colab_type": "code",
    "id": "T8gWEy6wRTtk",
    "outputId": "73f0bbbf-29cf-416f-c845-4c851ee77759"
   },
   "outputs": [],
   "source": [
    "#from google.colab import drive\n",
    "#drive.mount('/content/drive')"
   ]
  },
  {
   "cell_type": "code",
   "execution_count": 5,
   "metadata": {
    "colab": {
     "base_uri": "https://localhost:8080/",
     "height": 34
    },
    "colab_type": "code",
    "id": "1-7a_oL9RZ0M",
    "outputId": "f527e44d-3547-4fc9-92f2-db49512e939a"
   },
   "outputs": [],
   "source": [
    "#cd \"drive/My Drive/Colab Notebooks/DS/Project/Data\""
   ]
  },
  {
   "cell_type": "code",
   "execution_count": 6,
   "metadata": {
    "colab": {},
    "colab_type": "code",
    "id": "gp7ZYWZHK0Oh",
    "outputId": "8122b43a-1a2e-4472-d78f-8f42b3d19a3d"
   },
   "outputs": [],
   "source": [
    "#pwd = %pwd\n",
    "#if pwd != 'C:\\\\Users\\\\Admin\\\\Documents\\\\GitHub\\\\DS_Final_project\\\\data':\n",
    "#    %cd ./data"
   ]
  },
  {
   "cell_type": "code",
   "execution_count": 7,
   "metadata": {
    "colab": {},
    "colab_type": "code",
    "id": "u_XKai6DQBUx"
   },
   "outputs": [],
   "source": [
    "# load data\n",
    "path = \"./data\"\n",
    "file_list = os.listdir(path)\n",
    "data_tmp = []\n",
    "for file in file_list:\n",
    "    df = pd.read_csv(os.path.join(path,file))\n",
    "    data_tmp.append(df)\n",
    "final_df = pd.concat(data_tmp, axis = 0, ignore_index=True)"
   ]
  },
  {
   "cell_type": "code",
   "execution_count": 8,
   "metadata": {
    "colab": {
     "base_uri": "https://localhost:8080/",
     "height": 373
    },
    "colab_type": "code",
    "id": "xlhGggFgQBU5",
    "outputId": "9d019bb2-9c8f-42c2-92b2-e2640f4ff350"
   },
   "outputs": [
    {
     "data": {
      "text/html": [
       "<div>\n",
       "<style scoped>\n",
       "    .dataframe tbody tr th:only-of-type {\n",
       "        vertical-align: middle;\n",
       "    }\n",
       "\n",
       "    .dataframe tbody tr th {\n",
       "        vertical-align: top;\n",
       "    }\n",
       "\n",
       "    .dataframe thead th {\n",
       "        text-align: right;\n",
       "    }\n",
       "</style>\n",
       "<table border=\"1\" class=\"dataframe\">\n",
       "  <thead>\n",
       "    <tr style=\"text-align: right;\">\n",
       "      <th></th>\n",
       "      <th>title</th>\n",
       "      <th>runtime</th>\n",
       "      <th>des</th>\n",
       "      <th>date</th>\n",
       "      <th>genre</th>\n",
       "      <th>cast</th>\n",
       "      <th>director</th>\n",
       "      <th>vote</th>\n",
       "      <th>gross</th>\n",
       "      <th>rating</th>\n",
       "    </tr>\n",
       "  </thead>\n",
       "  <tbody>\n",
       "    <tr>\n",
       "      <td>count</td>\n",
       "      <td>80000</td>\n",
       "      <td>80000</td>\n",
       "      <td>79998</td>\n",
       "      <td>80000.000000</td>\n",
       "      <td>80000</td>\n",
       "      <td>78548</td>\n",
       "      <td>56976</td>\n",
       "      <td>8.000000e+04</td>\n",
       "      <td>4535</td>\n",
       "      <td>80000.000000</td>\n",
       "    </tr>\n",
       "    <tr>\n",
       "      <td>unique</td>\n",
       "      <td>61910</td>\n",
       "      <td>559</td>\n",
       "      <td>58362</td>\n",
       "      <td>NaN</td>\n",
       "      <td>1019</td>\n",
       "      <td>63173</td>\n",
       "      <td>36757</td>\n",
       "      <td>NaN</td>\n",
       "      <td>1279</td>\n",
       "      <td>NaN</td>\n",
       "    </tr>\n",
       "    <tr>\n",
       "      <td>top</td>\n",
       "      <td>Run</td>\n",
       "      <td>0</td>\n",
       "      <td>Add a Plot</td>\n",
       "      <td>NaN</td>\n",
       "      <td>Documentary</td>\n",
       "      <td>Josh Oreck</td>\n",
       "      <td>Kevin Dunn</td>\n",
       "      <td>NaN</td>\n",
       "      <td>$0.01M</td>\n",
       "      <td>NaN</td>\n",
       "    </tr>\n",
       "    <tr>\n",
       "      <td>freq</td>\n",
       "      <td>14</td>\n",
       "      <td>7366</td>\n",
       "      <td>8320</td>\n",
       "      <td>NaN</td>\n",
       "      <td>5452</td>\n",
       "      <td>26</td>\n",
       "      <td>100</td>\n",
       "      <td>NaN</td>\n",
       "      <td>346</td>\n",
       "      <td>NaN</td>\n",
       "    </tr>\n",
       "    <tr>\n",
       "      <td>mean</td>\n",
       "      <td>NaN</td>\n",
       "      <td>NaN</td>\n",
       "      <td>NaN</td>\n",
       "      <td>2014.018125</td>\n",
       "      <td>NaN</td>\n",
       "      <td>NaN</td>\n",
       "      <td>NaN</td>\n",
       "      <td>4.747766e+03</td>\n",
       "      <td>NaN</td>\n",
       "      <td>4.123375</td>\n",
       "    </tr>\n",
       "    <tr>\n",
       "      <td>std</td>\n",
       "      <td>NaN</td>\n",
       "      <td>NaN</td>\n",
       "      <td>NaN</td>\n",
       "      <td>24.784088</td>\n",
       "      <td>NaN</td>\n",
       "      <td>NaN</td>\n",
       "      <td>NaN</td>\n",
       "      <td>3.702567e+04</td>\n",
       "      <td>NaN</td>\n",
       "      <td>3.429486</td>\n",
       "    </tr>\n",
       "    <tr>\n",
       "      <td>min</td>\n",
       "      <td>NaN</td>\n",
       "      <td>NaN</td>\n",
       "      <td>NaN</td>\n",
       "      <td>0.000000</td>\n",
       "      <td>NaN</td>\n",
       "      <td>NaN</td>\n",
       "      <td>NaN</td>\n",
       "      <td>0.000000e+00</td>\n",
       "      <td>NaN</td>\n",
       "      <td>0.000000</td>\n",
       "    </tr>\n",
       "    <tr>\n",
       "      <td>25%</td>\n",
       "      <td>NaN</td>\n",
       "      <td>NaN</td>\n",
       "      <td>NaN</td>\n",
       "      <td>2012.000000</td>\n",
       "      <td>NaN</td>\n",
       "      <td>NaN</td>\n",
       "      <td>NaN</td>\n",
       "      <td>0.000000e+00</td>\n",
       "      <td>NaN</td>\n",
       "      <td>0.000000</td>\n",
       "    </tr>\n",
       "    <tr>\n",
       "      <td>50%</td>\n",
       "      <td>NaN</td>\n",
       "      <td>NaN</td>\n",
       "      <td>NaN</td>\n",
       "      <td>2014.000000</td>\n",
       "      <td>NaN</td>\n",
       "      <td>NaN</td>\n",
       "      <td>NaN</td>\n",
       "      <td>1.300000e+01</td>\n",
       "      <td>NaN</td>\n",
       "      <td>5.500000</td>\n",
       "    </tr>\n",
       "    <tr>\n",
       "      <td>75%</td>\n",
       "      <td>NaN</td>\n",
       "      <td>NaN</td>\n",
       "      <td>NaN</td>\n",
       "      <td>2016.000000</td>\n",
       "      <td>NaN</td>\n",
       "      <td>NaN</td>\n",
       "      <td>NaN</td>\n",
       "      <td>1.900000e+02</td>\n",
       "      <td>NaN</td>\n",
       "      <td>7.200000</td>\n",
       "    </tr>\n",
       "    <tr>\n",
       "      <td>max</td>\n",
       "      <td>NaN</td>\n",
       "      <td>NaN</td>\n",
       "      <td>NaN</td>\n",
       "      <td>2020.000000</td>\n",
       "      <td>NaN</td>\n",
       "      <td>NaN</td>\n",
       "      <td>NaN</td>\n",
       "      <td>1.625384e+06</td>\n",
       "      <td>NaN</td>\n",
       "      <td>10.000000</td>\n",
       "    </tr>\n",
       "  </tbody>\n",
       "</table>\n",
       "</div>"
      ],
      "text/plain": [
       "        title runtime         des          date                    genre  \\\n",
       "count   80000   80000       79998  80000.000000                    80000   \n",
       "unique  61910     559       58362           NaN                     1019   \n",
       "top       Run       0  Add a Plot           NaN  Documentary               \n",
       "freq       14    7366        8320           NaN                     5452   \n",
       "mean      NaN     NaN         NaN   2014.018125                      NaN   \n",
       "std       NaN     NaN         NaN     24.784088                      NaN   \n",
       "min       NaN     NaN         NaN      0.000000                      NaN   \n",
       "25%       NaN     NaN         NaN   2012.000000                      NaN   \n",
       "50%       NaN     NaN         NaN   2014.000000                      NaN   \n",
       "75%       NaN     NaN         NaN   2016.000000                      NaN   \n",
       "max       NaN     NaN         NaN   2020.000000                      NaN   \n",
       "\n",
       "              cast    director          vote   gross        rating  \n",
       "count        78548       56976  8.000000e+04    4535  80000.000000  \n",
       "unique       63173       36757           NaN    1279           NaN  \n",
       "top     Josh Oreck  Kevin Dunn           NaN  $0.01M           NaN  \n",
       "freq            26         100           NaN     346           NaN  \n",
       "mean           NaN         NaN  4.747766e+03     NaN      4.123375  \n",
       "std            NaN         NaN  3.702567e+04     NaN      3.429486  \n",
       "min            NaN         NaN  0.000000e+00     NaN      0.000000  \n",
       "25%            NaN         NaN  0.000000e+00     NaN      0.000000  \n",
       "50%            NaN         NaN  1.300000e+01     NaN      5.500000  \n",
       "75%            NaN         NaN  1.900000e+02     NaN      7.200000  \n",
       "max            NaN         NaN  1.625384e+06     NaN     10.000000  "
      ]
     },
     "execution_count": 8,
     "metadata": {},
     "output_type": "execute_result"
    }
   ],
   "source": [
    "final_df.describe(include=\"all\")"
   ]
  },
  {
   "cell_type": "code",
   "execution_count": 9,
   "metadata": {
    "colab": {
     "base_uri": "https://localhost:8080/",
     "height": 363
    },
    "colab_type": "code",
    "id": "6ZXAlZ5VQBU8",
    "outputId": "8654c752-e6ee-4b92-e814-e3506743c422"
   },
   "outputs": [
    {
     "data": {
      "text/html": [
       "<div>\n",
       "<style scoped>\n",
       "    .dataframe tbody tr th:only-of-type {\n",
       "        vertical-align: middle;\n",
       "    }\n",
       "\n",
       "    .dataframe tbody tr th {\n",
       "        vertical-align: top;\n",
       "    }\n",
       "\n",
       "    .dataframe thead th {\n",
       "        text-align: right;\n",
       "    }\n",
       "</style>\n",
       "<table border=\"1\" class=\"dataframe\">\n",
       "  <thead>\n",
       "    <tr style=\"text-align: right;\">\n",
       "      <th></th>\n",
       "      <th>title</th>\n",
       "      <th>runtime</th>\n",
       "      <th>des</th>\n",
       "      <th>date</th>\n",
       "      <th>genre</th>\n",
       "      <th>cast</th>\n",
       "      <th>director</th>\n",
       "      <th>vote</th>\n",
       "      <th>gross</th>\n",
       "      <th>rating</th>\n",
       "    </tr>\n",
       "  </thead>\n",
       "  <tbody>\n",
       "    <tr>\n",
       "      <td>0</td>\n",
       "      <td>Vikings</td>\n",
       "      <td>44</td>\n",
       "      <td>Vikings transports us to the brutal and my...</td>\n",
       "      <td>2013</td>\n",
       "      <td>Action, Adventure, Drama</td>\n",
       "      <td>Katheryn Winnick, Gustaf Skarsgård, Alexander ...</td>\n",
       "      <td>NaN</td>\n",
       "      <td>367705</td>\n",
       "      <td>NaN</td>\n",
       "      <td>8.6</td>\n",
       "    </tr>\n",
       "    <tr>\n",
       "      <td>1</td>\n",
       "      <td>Game of Thrones</td>\n",
       "      <td>57</td>\n",
       "      <td>Nine noble families fight for control over...</td>\n",
       "      <td>2019</td>\n",
       "      <td>Action, Adventure, Drama</td>\n",
       "      <td>Emilia Clarke, Peter Dinklage, Kit Harington, ...</td>\n",
       "      <td>NaN</td>\n",
       "      <td>1625366</td>\n",
       "      <td>NaN</td>\n",
       "      <td>9.3</td>\n",
       "    </tr>\n",
       "    <tr>\n",
       "      <td>2</td>\n",
       "      <td>Star Wars: Episode VIII - The Last Jedi</td>\n",
       "      <td>151</td>\n",
       "      <td>Rey develops her newly discovered abilitie...</td>\n",
       "      <td>2017</td>\n",
       "      <td>Action, Adventure, Fantasy</td>\n",
       "      <td>Daisy Ridley, John Boyega, Mark Hamill, Carrie...</td>\n",
       "      <td>Rian Johnson</td>\n",
       "      <td>513501</td>\n",
       "      <td>$620.18M</td>\n",
       "      <td>7.0</td>\n",
       "    </tr>\n",
       "    <tr>\n",
       "      <td>3</td>\n",
       "      <td>Captain America: The First Avenger</td>\n",
       "      <td>124</td>\n",
       "      <td>Steve Rogers, a rejected military soldier ...</td>\n",
       "      <td>2011</td>\n",
       "      <td>Action, Adventure, Sci-Fi</td>\n",
       "      <td>Chris Evans, Hugo Weaving, Samuel L. Jackson, ...</td>\n",
       "      <td>Joe Johnston</td>\n",
       "      <td>695269</td>\n",
       "      <td>$176.65M</td>\n",
       "      <td>6.9</td>\n",
       "    </tr>\n",
       "    <tr>\n",
       "      <td>4</td>\n",
       "      <td>Jack Ryan</td>\n",
       "      <td>60</td>\n",
       "      <td>An up-and-coming CIA analyst, Jack Ryan, i...</td>\n",
       "      <td>2018</td>\n",
       "      <td>Action, Drama, Thriller</td>\n",
       "      <td>John Krasinski, Wendell Pierce, John Hoogenakk...</td>\n",
       "      <td>NaN</td>\n",
       "      <td>72098</td>\n",
       "      <td>NaN</td>\n",
       "      <td>8.1</td>\n",
       "    </tr>\n",
       "  </tbody>\n",
       "</table>\n",
       "</div>"
      ],
      "text/plain": [
       "                                     title runtime  \\\n",
       "0                                  Vikings      44   \n",
       "1                          Game of Thrones      57   \n",
       "2  Star Wars: Episode VIII - The Last Jedi     151   \n",
       "3       Captain America: The First Avenger     124   \n",
       "4                                Jack Ryan      60   \n",
       "\n",
       "                                                 des  date  \\\n",
       "0      Vikings transports us to the brutal and my...  2013   \n",
       "1      Nine noble families fight for control over...  2019   \n",
       "2      Rey develops her newly discovered abilitie...  2017   \n",
       "3      Steve Rogers, a rejected military soldier ...  2011   \n",
       "4      An up-and-coming CIA analyst, Jack Ryan, i...  2018   \n",
       "\n",
       "                                    genre  \\\n",
       "0    Action, Adventure, Drama               \n",
       "1    Action, Adventure, Drama               \n",
       "2  Action, Adventure, Fantasy               \n",
       "3   Action, Adventure, Sci-Fi               \n",
       "4     Action, Drama, Thriller               \n",
       "\n",
       "                                                cast      director     vote  \\\n",
       "0  Katheryn Winnick, Gustaf Skarsgård, Alexander ...           NaN   367705   \n",
       "1  Emilia Clarke, Peter Dinklage, Kit Harington, ...           NaN  1625366   \n",
       "2  Daisy Ridley, John Boyega, Mark Hamill, Carrie...  Rian Johnson   513501   \n",
       "3  Chris Evans, Hugo Weaving, Samuel L. Jackson, ...  Joe Johnston   695269   \n",
       "4  John Krasinski, Wendell Pierce, John Hoogenakk...           NaN    72098   \n",
       "\n",
       "      gross  rating  \n",
       "0       NaN     8.6  \n",
       "1       NaN     9.3  \n",
       "2  $620.18M     7.0  \n",
       "3  $176.65M     6.9  \n",
       "4       NaN     8.1  "
      ]
     },
     "execution_count": 9,
     "metadata": {},
     "output_type": "execute_result"
    }
   ],
   "source": [
    "df = final_df.copy()\n",
    "df = df[df.rating != 0]\n",
    "df = df.drop_duplicates(subset=None,keep=\"first\")\n",
    "df.head()"
   ]
  },
  {
   "cell_type": "code",
   "execution_count": 10,
   "metadata": {
    "colab": {},
    "colab_type": "code",
    "id": "pwZIznGcQBU_"
   },
   "outputs": [],
   "source": [
    "# Tách X và y\n",
    "y_sr = df[\"rating\"] # sr là viết tắt của series\n",
    "X_df = df.drop(\"rating\", axis=1)"
   ]
  },
  {
   "cell_type": "code",
   "execution_count": 11,
   "metadata": {
    "colab": {},
    "colab_type": "code",
    "id": "kf_mZ49jQBVB"
   },
   "outputs": [],
   "source": [
    "# Tách tập train chiếm 60%\n",
    "#  Tập val chiếm 20%, tập test chiếm 20%\n",
    "train_X_df, val_X_df, train_y_sr, val_y_sr = train_test_split(X_df, y_sr, test_size=0.4, \n",
    "                                                              stratify=y_sr, random_state=0)\n",
    "\n",
    "val_X_df, test_X_df, val_y_sr, test_y_sr = train_test_split(val_X_df, val_y_sr, test_size=0.5, \n",
    "                                                              stratify=val_y_sr, random_state=0)"
   ]
  },
  {
   "cell_type": "code",
   "execution_count": 12,
   "metadata": {
    "colab": {
     "base_uri": "https://localhost:8080/",
     "height": 252
    },
    "colab_type": "code",
    "id": "krTm1GmOQBVD",
    "outputId": "e95b56e3-3dfb-4cf6-c5ea-de93078a36a1"
   },
   "outputs": [
    {
     "name": "stdout",
     "output_type": "stream",
     "text": [
      "<class 'pandas.core.frame.DataFrame'>\n",
      "Int64Index: 26072 entries, 57326 to 9642\n",
      "Data columns (total 9 columns):\n",
      "title       26072 non-null object\n",
      "runtime     26072 non-null object\n",
      "des         26072 non-null object\n",
      "date        26072 non-null int64\n",
      "genre       26072 non-null object\n",
      "cast        25803 non-null object\n",
      "director    19165 non-null object\n",
      "vote        26072 non-null int64\n",
      "gross       2428 non-null object\n",
      "dtypes: int64(2), object(7)\n",
      "memory usage: 2.0+ MB\n"
     ]
    }
   ],
   "source": [
    "train_X_df.info()"
   ]
  },
  {
   "cell_type": "code",
   "execution_count": 13,
   "metadata": {
    "colab": {
     "base_uri": "https://localhost:8080/",
     "height": 252
    },
    "colab_type": "code",
    "id": "4d5eOsV-QBVH",
    "outputId": "10c6d352-d7d3-485e-9cd6-8120ac1577e8"
   },
   "outputs": [
    {
     "name": "stdout",
     "output_type": "stream",
     "text": [
      "<class 'pandas.core.frame.DataFrame'>\n",
      "Int64Index: 8691 entries, 23974 to 46310\n",
      "Data columns (total 9 columns):\n",
      "title       8691 non-null object\n",
      "runtime     8691 non-null object\n",
      "des         8691 non-null object\n",
      "date        8691 non-null int64\n",
      "genre       8691 non-null object\n",
      "cast        8603 non-null object\n",
      "director    6390 non-null object\n",
      "vote        8691 non-null int64\n",
      "gross       750 non-null object\n",
      "dtypes: int64(2), object(7)\n",
      "memory usage: 679.0+ KB\n"
     ]
    }
   ],
   "source": [
    "val_X_df.info()"
   ]
  },
  {
   "cell_type": "code",
   "execution_count": 14,
   "metadata": {
    "colab": {
     "base_uri": "https://localhost:8080/",
     "height": 346
    },
    "colab_type": "code",
    "id": "JNW2PQ8GQBVL",
    "outputId": "bd5f61f0-883c-4f83-ac31-d68ff18b7598"
   },
   "outputs": [
    {
     "data": {
      "text/html": [
       "<div>\n",
       "<style scoped>\n",
       "    .dataframe tbody tr th:only-of-type {\n",
       "        vertical-align: middle;\n",
       "    }\n",
       "\n",
       "    .dataframe tbody tr th {\n",
       "        vertical-align: top;\n",
       "    }\n",
       "\n",
       "    .dataframe thead th {\n",
       "        text-align: right;\n",
       "    }\n",
       "</style>\n",
       "<table border=\"1\" class=\"dataframe\">\n",
       "  <thead>\n",
       "    <tr style=\"text-align: right;\">\n",
       "      <th></th>\n",
       "      <th>title</th>\n",
       "      <th>runtime</th>\n",
       "      <th>des</th>\n",
       "      <th>date</th>\n",
       "      <th>genre</th>\n",
       "      <th>cast</th>\n",
       "      <th>director</th>\n",
       "      <th>vote</th>\n",
       "      <th>gross</th>\n",
       "    </tr>\n",
       "  </thead>\n",
       "  <tbody>\n",
       "    <tr>\n",
       "      <td>57326</td>\n",
       "      <td>Breathin': The Eddy Zheng Story</td>\n",
       "      <td>61</td>\n",
       "      <td>Arrested at 16 and tried as an adult for kidna...</td>\n",
       "      <td>2016</td>\n",
       "      <td>Documentary, Crime</td>\n",
       "      <td>Ben Wang</td>\n",
       "      <td>NaN</td>\n",
       "      <td>5</td>\n",
       "      <td>NaN</td>\n",
       "    </tr>\n",
       "    <tr>\n",
       "      <td>64206</td>\n",
       "      <td>Engineering Disasters</td>\n",
       "      <td>43</td>\n",
       "      <td>Spun off from Modern Marvels, Engineering ...</td>\n",
       "      <td>2015</td>\n",
       "      <td>Documentary, History</td>\n",
       "      <td>Phil Derner</td>\n",
       "      <td>NaN</td>\n",
       "      <td>40</td>\n",
       "      <td>NaN</td>\n",
       "    </tr>\n",
       "    <tr>\n",
       "      <td>14274</td>\n",
       "      <td>Train to Stockholm</td>\n",
       "      <td>69</td>\n",
       "      <td>A peculiar young man returns to his birthp...</td>\n",
       "      <td>2011</td>\n",
       "      <td>Adventure, Drama, Romance</td>\n",
       "      <td>Mikael Ayele, Sonja Ghaderi, Anders Hörbo, Any...</td>\n",
       "      <td>Erik Reese</td>\n",
       "      <td>27</td>\n",
       "      <td>NaN</td>\n",
       "    </tr>\n",
       "    <tr>\n",
       "      <td>48317</td>\n",
       "      <td>Mad</td>\n",
       "      <td>84</td>\n",
       "      <td>A matriarch past the point of a nervous br...</td>\n",
       "      <td>2016</td>\n",
       "      <td>Comedy, Drama</td>\n",
       "      <td>Jennifer Lafleur, Maryann Plunkett, Eilis Cahi...</td>\n",
       "      <td>Robert G. Putka</td>\n",
       "      <td>129</td>\n",
       "      <td>NaN</td>\n",
       "    </tr>\n",
       "    <tr>\n",
       "      <td>71490</td>\n",
       "      <td>Bang Bang Baby</td>\n",
       "      <td>90</td>\n",
       "      <td>A small town teenager in the 1960s believe...</td>\n",
       "      <td>2014</td>\n",
       "      <td>Drama, Fantasy, Musical</td>\n",
       "      <td>Jane Levy, Justin Chatwin, David Reale, Peter ...</td>\n",
       "      <td>Jeffrey St. Jules</td>\n",
       "      <td>493</td>\n",
       "      <td>NaN</td>\n",
       "    </tr>\n",
       "  </tbody>\n",
       "</table>\n",
       "</div>"
      ],
      "text/plain": [
       "                                 title runtime  \\\n",
       "57326  Breathin': The Eddy Zheng Story      61   \n",
       "64206            Engineering Disasters      43   \n",
       "14274               Train to Stockholm      69   \n",
       "48317                              Mad      84   \n",
       "71490                   Bang Bang Baby      90   \n",
       "\n",
       "                                                     des  date  \\\n",
       "57326  Arrested at 16 and tried as an adult for kidna...  2016   \n",
       "64206      Spun off from Modern Marvels, Engineering ...  2015   \n",
       "14274      A peculiar young man returns to his birthp...  2011   \n",
       "48317      A matriarch past the point of a nervous br...  2016   \n",
       "71490      A small town teenager in the 1960s believe...  2014   \n",
       "\n",
       "                                       genre  \\\n",
       "57326         Documentary, Crime               \n",
       "64206       Documentary, History               \n",
       "14274  Adventure, Drama, Romance               \n",
       "48317              Comedy, Drama               \n",
       "71490    Drama, Fantasy, Musical               \n",
       "\n",
       "                                                    cast           director  \\\n",
       "57326                                           Ben Wang                NaN   \n",
       "64206                                        Phil Derner                NaN   \n",
       "14274  Mikael Ayele, Sonja Ghaderi, Anders Hörbo, Any...         Erik Reese   \n",
       "48317  Jennifer Lafleur, Maryann Plunkett, Eilis Cahi...    Robert G. Putka   \n",
       "71490  Jane Levy, Justin Chatwin, David Reale, Peter ...  Jeffrey St. Jules   \n",
       "\n",
       "       vote gross  \n",
       "57326     5   NaN  \n",
       "64206    40   NaN  \n",
       "14274    27   NaN  \n",
       "48317   129   NaN  \n",
       "71490   493   NaN  "
      ]
     },
     "execution_count": 14,
     "metadata": {},
     "output_type": "execute_result"
    }
   ],
   "source": [
    "train_X_df.head()"
   ]
  },
  {
   "cell_type": "code",
   "execution_count": 15,
   "metadata": {
    "colab": {},
    "colab_type": "code",
    "id": "DPKhwTRyQBVU"
   },
   "outputs": [],
   "source": [
    "genre_rating_df = train_X_df[\"genre\"].to_frame().join(train_y_sr)"
   ]
  },
  {
   "cell_type": "code",
   "execution_count": 16,
   "metadata": {
    "colab": {
     "base_uri": "https://localhost:8080/",
     "height": 195
    },
    "colab_type": "code",
    "id": "ZWU9v1N8QBVX",
    "outputId": "5af03e7c-5626-4142-d35a-c1201ce5fcd1"
   },
   "outputs": [
    {
     "data": {
      "text/html": [
       "<div>\n",
       "<style scoped>\n",
       "    .dataframe tbody tr th:only-of-type {\n",
       "        vertical-align: middle;\n",
       "    }\n",
       "\n",
       "    .dataframe tbody tr th {\n",
       "        vertical-align: top;\n",
       "    }\n",
       "\n",
       "    .dataframe thead th {\n",
       "        text-align: right;\n",
       "    }\n",
       "</style>\n",
       "<table border=\"1\" class=\"dataframe\">\n",
       "  <thead>\n",
       "    <tr style=\"text-align: right;\">\n",
       "      <th></th>\n",
       "      <th>genre</th>\n",
       "      <th>rating</th>\n",
       "    </tr>\n",
       "  </thead>\n",
       "  <tbody>\n",
       "    <tr>\n",
       "      <td>57326</td>\n",
       "      <td>Documentary, Crime</td>\n",
       "      <td>8.0</td>\n",
       "    </tr>\n",
       "    <tr>\n",
       "      <td>64206</td>\n",
       "      <td>Documentary, History</td>\n",
       "      <td>6.8</td>\n",
       "    </tr>\n",
       "    <tr>\n",
       "      <td>14274</td>\n",
       "      <td>Adventure, Drama, Romance</td>\n",
       "      <td>7.4</td>\n",
       "    </tr>\n",
       "    <tr>\n",
       "      <td>48317</td>\n",
       "      <td>Comedy, Drama</td>\n",
       "      <td>6.5</td>\n",
       "    </tr>\n",
       "    <tr>\n",
       "      <td>71490</td>\n",
       "      <td>Drama, Fantasy, Musical</td>\n",
       "      <td>5.0</td>\n",
       "    </tr>\n",
       "  </tbody>\n",
       "</table>\n",
       "</div>"
      ],
      "text/plain": [
       "                                       genre  rating\n",
       "57326         Documentary, Crime                 8.0\n",
       "64206       Documentary, History                 6.8\n",
       "14274  Adventure, Drama, Romance                 7.4\n",
       "48317              Comedy, Drama                 6.5\n",
       "71490    Drama, Fantasy, Musical                 5.0"
      ]
     },
     "execution_count": 16,
     "metadata": {},
     "output_type": "execute_result"
    }
   ],
   "source": [
    "genre_rating_df.head()"
   ]
  },
  {
   "cell_type": "markdown",
   "metadata": {
    "colab_type": "text",
    "id": "ZETw6DRZQ3sa"
   },
   "source": [
    "Investigating the influence of some features into ratings\n",
    "==="
   ]
  },
  {
   "cell_type": "code",
   "execution_count": 17,
   "metadata": {
    "colab": {
     "base_uri": "https://localhost:8080/",
     "height": 318
    },
    "colab_type": "code",
    "id": "qAWnzp4PQBVb",
    "outputId": "b49db963-05e8-4296-f05a-42ad295856aa"
   },
   "outputs": [
    {
     "name": "stdout",
     "output_type": "stream",
     "text": [
      "Counter({'Comedy': 8509, 'Documentary': 7434, 'Drama': 6813, 'Action': 5750, 'Short': 5488, 'Adventure': 4313, 'Crime': 3634, 'Animation': 3539, 'Romance': 2914, 'Biography': 2902, 'Thriller': 1170, 'Horror': 1139, 'Family': 1105, 'History': 1101, 'Fantasy': 970, 'Sci-Fi': 812, 'Music': 796, 'Mystery': 694, 'Sport': 471, 'Musical': 174, 'Reality-TV': 170, 'War': 168, 'News': 168, 'Talk-Show': 79, 'Western': 67, 'Game-Show': 40})\n",
      "len =  26\n"
     ]
    },
    {
     "data": {
      "image/png": "[encoded data removed]",
      "text/plain": [
       "<Figure size 1872x288 with 1 Axes>"
      ]
     },
     "metadata": {
      "needs_background": "light"
     },
     "output_type": "display_data"
    }
   ],
   "source": [
    "from collections import Counter\n",
    "\n",
    "list_gens = list(genre_rating_df.genre)\n",
    "unique_gen = []\n",
    "for g in list_gens:\n",
    "    unique_gen += g.strip().split(\", \")\n",
    "dict_gens = Counter(unique_gen)\n",
    "print(dict_gens)\n",
    "print(\"len = \",len(dict_gens))\n",
    "plt.figure(figsize=(26,4))\n",
    "plt.bar(dict_gens.keys(),dict_gens.values(), width = 0.5, color=plt.cm.Paired(np.arange(len(dict_gens))))\n",
    "plt.show()"
   ]
  },
  {
   "cell_type": "markdown",
   "metadata": {
    "colab_type": "text",
    "id": "XmSS5m2qQBVd"
   },
   "source": [
    "**The impact of genres on rating**"
   ]
  },
  {
   "cell_type": "code",
   "execution_count": 18,
   "metadata": {
    "colab": {
     "base_uri": "https://localhost:8080/",
     "height": 285
    },
    "colab_type": "code",
    "id": "AFqke6B9QBVe",
    "outputId": "edac5279-e81f-4db0-bb0e-5f83eca8a325"
   },
   "outputs": [
    {
     "data": {
      "text/plain": [
       "<matplotlib.axes._subplots.AxesSubplot at 0x1d5a540ac88>"
      ]
     },
     "execution_count": 18,
     "metadata": {},
     "output_type": "execute_result"
    },
    {
     "data": {
      "image/png": "[encoded data removed]",
      "text/plain": [
       "<Figure size 432x288 with 1 Axes>"
      ]
     },
     "metadata": {
      "needs_background": "light"
     },
     "output_type": "display_data"
    }
   ],
   "source": [
    "hist = {}\n",
    "for i in range(genre_rating_df.shape[0]):\n",
    "  genres = genre_rating_df.iloc[i].genre.strip().split(\", \")\n",
    "  rating  = genre_rating_df.iloc[i].rating\n",
    "  for g in genres:\n",
    "    if g not in hist:\n",
    "      hist[g] = [rating]\n",
    "    else:\n",
    "      hist[g].append(rating)\n",
    "keys = list(hist.keys())\n",
    "vals = list(hist.values())\n",
    "vals = [np.mean(x) for x in vals]\n",
    "\n",
    "assert len(keys) == len(vals)\n",
    "hist_df = pd.DataFrame(columns=[\"genre\",\"avg_score\"])\n",
    "hist_df.genre = keys\n",
    "hist_df.avg_score = vals\n",
    "hist_df = hist_df.sort_values(by = [\"avg_score\"],ascending=False)\n",
    "hist_df.plot.bar()\n"
   ]
  },
  {
   "cell_type": "code",
   "execution_count": 19,
   "metadata": {
    "colab": {
     "base_uri": "https://localhost:8080/",
     "height": 470
    },
    "colab_type": "code",
    "id": "5qOxLvloQBVg",
    "outputId": "94ae7b92-b819-4ff2-fc33-ea1421fff05f"
   },
   "outputs": [
    {
     "name": "stdout",
     "output_type": "stream",
     "text": [
      "          genre  avg_score\n",
      "0   Documentary   7.283535\n",
      "10    Biography   7.215851\n",
      "2       History   7.186649\n",
      "12        Sport   7.168365\n",
      "13        Short   7.146283\n",
      "25         News   7.137500\n",
      "21    Talk-Show   7.084810\n",
      "19        Music   7.028141\n",
      "15   Reality-TV   7.022353\n",
      "16    Animation   6.730630\n",
      "4         Drama   6.634860\n",
      "23          War   6.613095\n",
      "1         Crime   6.611035\n",
      "8       Musical   6.609195\n",
      "3     Adventure   6.591537\n",
      "22      Mystery   6.538184\n",
      "7       Fantasy   6.493505\n",
      "5       Romance   6.429959\n",
      "20       Family   6.406244\n",
      "6        Comedy   6.389329\n",
      "24    Game-Show   6.367500\n",
      "11       Action   6.330991\n",
      "18      Western   6.164179\n",
      "17       Sci-Fi   6.074261\n",
      "14     Thriller   5.728974\n",
      "9        Horror   5.449166\n"
     ]
    }
   ],
   "source": [
    "print(hist_df)"
   ]
  },
  {
   "cell_type": "markdown",
   "metadata": {},
   "source": [
    "- Nhận xét: \n",
    "\n",
    "Những thể loại có số lượng ít như Talk show, News, ... lại có trung bình rating cao. Nên thật khó để gom những thể loại ít thành 1 thể loại chung."
   ]
  },
  {
   "cell_type": "markdown",
   "metadata": {
    "colab_type": "text",
    "id": "6lRGuyghRAwj"
   },
   "source": [
    "Feature Engineering\n",
    "==="
   ]
  },
  {
   "cell_type": "markdown",
   "metadata": {
    "colab_type": "text",
    "id": "kB_uHjbSMJYg"
   },
   "source": [
    "Compute IF-IDF of specific columns"
   ]
  },
  {
   "cell_type": "code",
   "execution_count": 20,
   "metadata": {
    "colab": {},
    "colab_type": "code",
    "id": "v4nhvGDG2sGC"
   },
   "outputs": [],
   "source": [
    "class tf_idf(BaseEstimator, TransformerMixin):\n",
    "  def __init__(self, columns):\n",
    "    self.columns = columns\n",
    "  def fit(self, X_df, y=None):\n",
    "    self.vectorizer = []\n",
    "    for column in self.columns:\n",
    "      tf = TfidfVectorizer()\n",
    "      self.vectorizer.append(tf.fit(X_df[column]))\n",
    "    return self\n",
    "  def transform(self, X_df, y=None):\n",
    "    new_X_df = X_df.copy()\n",
    "    for i, column in enumerate(self.columns):\n",
    "      transformed = self.vectorizer[i].transform(new_X_df[column])\n",
    "      new_X_df[column] = [transformed[j].sum() for j in range(len(new_X_df))]\n",
    "    return new_X_df"
   ]
  },
  {
   "cell_type": "markdown",
   "metadata": {
    "colab_type": "text",
    "id": "8KPSe5x3MS4d"
   },
   "source": [
    "Preprocessing pipeline:\n",
    "  - Compute IF-IDF of text features (genre, cast, director).\n",
    "  - Filling missing values by median of its columns.\n",
    "  - Standard Scaling in order to help SGD, ... converging more easily."
   ]
  },
  {
   "cell_type": "code",
   "execution_count": 21,
   "metadata": {
    "colab": {},
    "colab_type": "code",
    "id": "BpLc2j7SQBWq"
   },
   "outputs": [],
   "source": [
    "columns = ['genre','cast','director']\n",
    "preprocess_pipeline= Pipeline(steps=[('compute_tfidf', tf_idf(columns)),\n",
    "                                     ('imputing',SimpleImputer(missing_values = 0, strategy='median')),\n",
    "                                     (\"scaling\",StandardScaler())])"
   ]
  },
  {
   "cell_type": "code",
   "execution_count": 22,
   "metadata": {
    "colab": {},
    "colab_type": "code",
    "id": "y2whE3TFL2C1"
   },
   "outputs": [],
   "source": [
    "#replace NaN element in cast to \"other\"\n",
    "def fill_na(df):\n",
    "  df = df.drop(columns=['title','des','vote']) # not necessary for predicting\n",
    "  df[\"director\"] = df[\"director\"].fillna(\"other_director\");\n",
    "  df[\"cast\"] = df[\"cast\"].fillna(\"other_cast\");\n",
    "  df[\"gross\"] = df[\"gross\"].fillna(\"0.0\");\n",
    "  #define money\n",
    "  money = {\"M\": 10**6, \"B\": 10**12, \"G\": 10**9, \"P\": 10**15, \"K\": 10**3, \"0\": 0}\n",
    "  for i in range(len(df)):\n",
    "      \n",
    "      df.gross.iloc[i] = float(re.findall(\"\\d+\\.\\d+\", df.gross.iloc[i])[0]) * money[df.gross.iloc[i][-1]]\n",
    "  return df"
   ]
  },
  {
   "cell_type": "code",
   "execution_count": 23,
   "metadata": {
    "colab": {},
    "colab_type": "code",
    "id": "dZoF59O4QJUY"
   },
   "outputs": [],
   "source": [
    "# pipeline for RandomForest\n",
    "full_pipeline = Pipeline(steps=[('preprocess',preprocess_pipeline),\n",
    "                                (\"regress\", RandomForestRegressor(max_depth=10))])"
   ]
  },
  {
   "cell_type": "code",
   "execution_count": 24,
   "metadata": {
    "colab": {},
    "colab_type": "code",
    "id": "Z0ApWFSbZZ5N"
   },
   "outputs": [],
   "source": [
    "#pipeline for linear regression\n",
    "linear_regress_pipeline = Pipeline(steps=[('preprocess',preprocess_pipeline),\n",
    "                                (\"regress\", LinearRegression())])"
   ]
  },
  {
   "cell_type": "markdown",
   "metadata": {
    "colab_type": "text",
    "id": "hPjPpeVkTWed"
   },
   "source": [
    "Predict\n",
    "==="
   ]
  },
  {
   "cell_type": "markdown",
   "metadata": {
    "colab_type": "text",
    "id": "DBSIjgQ5cTvC"
   },
   "source": [
    "##**Experiment with Linear Regression Model**"
   ]
  },
  {
   "cell_type": "code",
   "execution_count": 25,
   "metadata": {
    "colab": {
     "base_uri": "https://localhost:8080/",
     "height": 101
    },
    "colab_type": "code",
    "id": "blOFURFhZyto",
    "outputId": "971e639f-bfe9-481d-e2d4-a4c207966b7e"
   },
   "outputs": [
    {
     "name": "stderr",
     "output_type": "stream",
     "text": [
      "D:\\app\\anaconda\\run\\lib\\site-packages\\pandas\\core\\indexing.py:205: SettingWithCopyWarning: \n",
      "A value is trying to be set on a copy of a slice from a DataFrame\n",
      "\n",
      "See the caveats in the documentation: http://pandas.pydata.org/pandas-docs/stable/user_guide/indexing.html#returning-a-view-versus-a-copy\n",
      "  self._setitem_with_indexer(indexer, value)\n"
     ]
    },
    {
     "name": "stdout",
     "output_type": "stream",
     "text": [
      "Wall time: 54.2 s\n"
     ]
    }
   ],
   "source": [
    "%%time\n",
    "filled_train_X_df = fill_na(train_X_df)\n",
    "filled_val_X_df = fill_na(val_X_df)\n",
    "linear_regress_pipeline.fit(filled_train_X_df, train_y_sr)\n",
    "val_scr = (1- linear_regress_pipeline.score(filled_val_X_df, val_y_sr))*100\n",
    "train_scr = (1 -  linear_regress_pipeline.score(filled_train_X_df, train_y_sr)) * 100"
   ]
  },
  {
   "cell_type": "code",
   "execution_count": 26,
   "metadata": {
    "colab": {
     "base_uri": "https://localhost:8080/",
     "height": 50
    },
    "colab_type": "code",
    "id": "sT1MHcGncgoq",
    "outputId": "52a1764a-18bd-4b82-a410-f4111a4d697a"
   },
   "outputs": [
    {
     "name": "stdout",
     "output_type": "stream",
     "text": [
      "Score on train set: 95.2751027403954\n",
      "Score on val set: 95.83427569364996\n"
     ]
    }
   ],
   "source": [
    "print(\"Score on train set: {}\".format(train_scr))\n",
    "print(\"Score on val set: {}\".format(val_scr))"
   ]
  },
  {
   "cell_type": "code",
   "execution_count": 27,
   "metadata": {
    "colab": {},
    "colab_type": "code",
    "id": "UNQTvb7FaqJ0"
   },
   "outputs": [],
   "source": [
    "# get predictions\n",
    "linear_preds = linear_regress_pipeline.predict(filled_val_X_df)"
   ]
  },
  {
   "cell_type": "markdown",
   "metadata": {
    "colab_type": "text",
    "id": "BEsdvDhWQZlW"
   },
   "source": [
    "Visualize True and Pred values"
   ]
  },
  {
   "cell_type": "code",
   "execution_count": 28,
   "metadata": {
    "colab": {
     "base_uri": "https://localhost:8080/",
     "height": 301
    },
    "colab_type": "code",
    "id": "kO2j_7c3ZF34",
    "outputId": "ebbc37c1-ce3c-4009-b09d-05d36b55a1a9"
   },
   "outputs": [
    {
     "data": {
      "text/plain": [
       "Text(0.5, 1.0, 'Result of the first 30 entries of val set')"
      ]
     },
     "execution_count": 28,
     "metadata": {},
     "output_type": "execute_result"
    },
    {
     "data": {
      "image/png": "[encoded data removed]",
      "text/plain": [
       "<Figure size 432x288 with 1 Axes>"
      ]
     },
     "metadata": {
      "needs_background": "light"
     },
     "output_type": "display_data"
    }
   ],
   "source": [
    "linear_pred_df = pd.DataFrame(columns =['pred','true'])\n",
    "linear_pred_df['pred'] = linear_preds[:30]\n",
    "linear_pred_df['true'] = list(val_y_sr[:30])\n",
    "linear_pred_df.plot.bar()\n",
    "plt.title(\"Result of the first 30 entries of val set\")"
   ]
  },
  {
   "cell_type": "markdown",
   "metadata": {
    "colab_type": "text",
    "id": "VuBCplG8cRVK"
   },
   "source": [
    "##**Experiment RandomForest Model** (about 17mins to run)\n",
    "  - Choose the best model by tuning the depth and number of tree in forest.\n",
    "  - There are four choices of depth: 10, 20, 30, 40.\n",
    "  - Number of trees: 40, 50, 60.\n",
    "  - We decided these values because of the computational cost."
   ]
  },
  {
   "cell_type": "code",
   "execution_count": 29,
   "metadata": {
    "colab": {
     "base_uri": "https://localhost:8080/",
     "height": 386
    },
    "colab_type": "code",
    "id": "XvPxyei9UVdo",
    "outputId": "0b839251-e2f8-476a-a878-a13866297553"
   },
   "outputs": [
    {
     "name": "stderr",
     "output_type": "stream",
     "text": [
      "D:\\app\\anaconda\\run\\lib\\site-packages\\pandas\\core\\indexing.py:205: SettingWithCopyWarning: \n",
      "A value is trying to be set on a copy of a slice from a DataFrame\n",
      "\n",
      "See the caveats in the documentation: http://pandas.pydata.org/pandas-docs/stable/user_guide/indexing.html#returning-a-view-versus-a-copy\n",
      "  self._setitem_with_indexer(indexer, value)\n"
     ]
    },
    {
     "name": "stdout",
     "output_type": "stream",
     "text": [
      "estimator: 40\n",
      "depth: 10\n",
      "depth: 20\n",
      "depth: 30\n",
      "depth: 40\n",
      "estimator: 50\n",
      "depth: 10\n",
      "depth: 20\n",
      "depth: 30\n",
      "depth: 40\n",
      "estimator: 60\n",
      "depth: 10\n",
      "depth: 20\n",
      "depth: 30\n",
      "depth: 40\n",
      "Wall time: 6min 41s\n"
     ]
    }
   ],
   "source": [
    "%%time\n",
    "max_depth = [10,20,30,40]\n",
    "n_estimators = [40, 50, 60]\n",
    "best_depth = 0\n",
    "val_scr = []\n",
    "train_scr = []\n",
    "best_val_scr = float('inf')\n",
    "best_train_scr = float('inf')\n",
    "best_estimator = 0\n",
    "filled_train_X_df = fill_na(train_X_df)\n",
    "filled_val_X_df = fill_na(val_X_df)\n",
    "for estimator in n_estimators:\n",
    "  print(\"estimator: {}\".format(estimator))\n",
    "  for depth in max_depth:\n",
    "    print(\"depth: {}\".format(depth))\n",
    "    full_pipeline.set_params(regress__n_estimators=estimator, regress__max_depth=depth)\n",
    "    full_pipeline.fit(filled_train_X_df,train_y_sr)\n",
    "    cur_train_scr = (full_pipeline.score(filled_train_X_df, train_y_sr))\n",
    "    train_scr.append(cur_train_scr)\n",
    "    cur_val_scr = (full_pipeline.score(filled_val_X_df, val_y_sr))\n",
    "    if cur_train_scr < best_train_scr:\n",
    "      best_train_scr = cur_train_scr\n",
    "    val_scr.append(cur_val_scr)\n",
    "    if cur_val_scr < best_val_scr:\n",
    "      best_val_scr = cur_val_scr\n",
    "      best_estimator = estimator\n",
    "      best_depth = depth\n"
   ]
  },
  {
   "cell_type": "code",
   "execution_count": 30,
   "metadata": {
    "colab": {
     "base_uri": "https://localhost:8080/",
     "height": 118
    },
    "colab_type": "code",
    "id": "NSV3JvHvYeKU",
    "outputId": "f5e53f93-96c6-4cc9-8571-55deefa3f765"
   },
   "outputs": [
    {
     "name": "stdout",
     "output_type": "stream",
     "text": [
      "best depth: 10\n",
      "best estimator: 50\n",
      "Score on train set: 0.3165178699301192\n",
      "Score on val set: 0.15606526996484427\n"
     ]
    }
   ],
   "source": [
    "print(\"best depth: {}\".format(best_depth))\n",
    "print(\"best estimator: {}\".format(best_estimator))\n",
    "print(\"Score on train set: {}\".format(best_train_scr))\n",
    "print(\"Score on val set: {}\".format(best_val_scr))"
   ]
  },
  {
   "cell_type": "code",
   "execution_count": 31,
   "metadata": {
    "colab": {},
    "colab_type": "code",
    "id": "-f47cpz2Zihb"
   },
   "outputs": [],
   "source": [
    "# train again with best_depth and best_estimator\n",
    "full_pipeline.set_params(regress__n_estimators=best_estimator, regress__max_depth=best_depth)\n",
    "full_pipeline.fit(filled_train_X_df,train_y_sr)\n",
    "forest_preds = full_pipeline.predict(filled_val_X_df)"
   ]
  },
  {
   "cell_type": "markdown",
   "metadata": {
    "colab_type": "text",
    "id": "r5pFiAPNQHpD"
   },
   "source": [
    "Visualize True and Pred values"
   ]
  },
  {
   "cell_type": "code",
   "execution_count": 32,
   "metadata": {
    "colab": {
     "base_uri": "https://localhost:8080/",
     "height": 301
    },
    "colab_type": "code",
    "id": "yxxzS4mpZ-iF",
    "outputId": "d7ed7cd5-1554-403b-9fc2-f1e6eafca143"
   },
   "outputs": [
    {
     "data": {
      "text/plain": [
       "Text(0.5, 1.0, 'Result of the first 30 entries of val set')"
      ]
     },
     "execution_count": 32,
     "metadata": {},
     "output_type": "execute_result"
    },
    {
     "data": {
      "image/png": "[encoded data removed]",
      "text/plain": [
       "<Figure size 432x288 with 1 Axes>"
      ]
     },
     "metadata": {
      "needs_background": "light"
     },
     "output_type": "display_data"
    }
   ],
   "source": [
    "randomforest_df = pd.DataFrame(columns =['pred','true'])\n",
    "randomforest_df['pred'] = forest_preds[:30]\n",
    "randomforest_df['true'] = list(val_y_sr[:30])\n",
    "randomforest_df.plot.bar()\n",
    "plt.title(\"Result of the first 30 entries of val set\")"
   ]
  },
  {
   "cell_type": "markdown",
   "metadata": {
    "colab_type": "text",
    "id": "wkzZD7DaHyU_"
   },
   "source": [
    "Plot results of both linear regression and Randomforest in validation set"
   ]
  },
  {
   "cell_type": "code",
   "execution_count": 33,
   "metadata": {
    "colab": {
     "base_uri": "https://localhost:8080/",
     "height": 719
    },
    "colab_type": "code",
    "id": "hn-N7VV0uCRT",
    "outputId": "3d525e97-889f-422e-8ecb-45fba1598fd2"
   },
   "outputs": [
    {
     "data": {
      "image/png": "[encoded data removed]",
      "text/plain": [
       "<Figure size 864x864 with 2 Axes>"
      ]
     },
     "metadata": {
      "needs_background": "light"
     },
     "output_type": "display_data"
    }
   ],
   "source": [
    "fig, axes = plt.subplots(nrows=2, ncols=1)\n",
    "linear_pred_df[[\"pred\",\"true\"]].plot(ax=axes[0],kind='bar', title=\"Linear Regression\",figsize=(12,12))\n",
    "randomforest_df[[\"pred\", \"true\"]].plot(ax=axes[1], kind='bar', title='Random Forest');"
   ]
  },
  {
   "cell_type": "markdown",
   "metadata": {
    "colab_type": "text",
    "id": "ZsGzhRqgzC6c"
   },
   "source": [
    "Nhận xét: Với Random Forest mô hình cho kết quả tốt nhất."
   ]
  },
  {
   "cell_type": "markdown",
   "metadata": {},
   "source": [
    "Train Random Forest trên tập dữ liệu (train + val)\n",
    "\n",
    "Sau đó test trên tập test"
   ]
  },
  {
   "cell_type": "code",
   "execution_count": 34,
   "metadata": {},
   "outputs": [
    {
     "name": "stderr",
     "output_type": "stream",
     "text": [
      "D:\\app\\anaconda\\run\\lib\\site-packages\\pandas\\core\\indexing.py:205: SettingWithCopyWarning: \n",
      "A value is trying to be set on a copy of a slice from a DataFrame\n",
      "\n",
      "See the caveats in the documentation: http://pandas.pydata.org/pandas-docs/stable/user_guide/indexing.html#returning-a-view-versus-a-copy\n",
      "  self._setitem_with_indexer(indexer, value)\n",
      "D:\\app\\anaconda\\run\\lib\\site-packages\\pandas\\core\\indexing.py:205: SettingWithCopyWarning: \n",
      "A value is trying to be set on a copy of a slice from a DataFrame\n",
      "\n",
      "See the caveats in the documentation: http://pandas.pydata.org/pandas-docs/stable/user_guide/indexing.html#returning-a-view-versus-a-copy\n",
      "  self._setitem_with_indexer(indexer, value)\n",
      "D:\\app\\anaconda\\run\\lib\\site-packages\\pandas\\core\\indexing.py:205: SettingWithCopyWarning: \n",
      "A value is trying to be set on a copy of a slice from a DataFrame\n",
      "\n",
      "See the caveats in the documentation: http://pandas.pydata.org/pandas-docs/stable/user_guide/indexing.html#returning-a-view-versus-a-copy\n",
      "  self._setitem_with_indexer(indexer, value)\n"
     ]
    },
    {
     "name": "stdout",
     "output_type": "stream",
     "text": [
      "Score on test set: 0.17524879592118114\n"
     ]
    },
    {
     "data": {
      "image/png": "[encoded data removed]",
      "text/plain": [
       "<Figure size 432x288 with 1 Axes>"
      ]
     },
     "metadata": {
      "needs_background": "light"
     },
     "output_type": "display_data"
    }
   ],
   "source": [
    "# train with best_depth and best_estimator\n",
    "full_pipeline.set_params(regress__n_estimators=best_estimator, regress__max_depth=best_depth)\n",
    "#join train+val dataset\n",
    "join_X_df = train_X_df.append(val_X_df)\n",
    "filled_join_X_df = fill_na(join_X_df)\n",
    "join_y_sr = train_y_sr.append(val_y_sr)\n",
    "\n",
    "full_pipeline.fit(filled_join_X_df,join_y_sr)\n",
    "#predict on test dataset\n",
    "forest_preds = full_pipeline.predict(fill_na(test_X_df))\n",
    "#visualize\n",
    "randomforest_df = pd.DataFrame(columns =['pred','true'])\n",
    "randomforest_df['pred'] = forest_preds[:30]\n",
    "randomforest_df['true'] = list(test_y_sr[:30])\n",
    "randomforest_df.plot.bar()\n",
    "plt.title(\"Result of the first 30 entries of test set\")\n",
    "\n",
    "test_scr = full_pipeline.score(fill_na(test_X_df), test_y_sr)\n",
    "print(\"Score on test set: {}\".format(test_scr))\n"
   ]
  },
  {
   "cell_type": "markdown",
   "metadata": {
    "colab_type": "text",
    "id": "Hz192ABZzRlD"
   },
   "source": [
    "# Working with test set in future (unlabeled)"
   ]
  },
  {
   "cell_type": "code",
   "execution_count": 35,
   "metadata": {
    "colab": {},
    "colab_type": "code",
    "id": "L2ofwqejvFTV"
   },
   "outputs": [],
   "source": [
    "\n",
    "path = \"./test\"\n",
    "#file_list = os.listdir(\"../testdata\")\n",
    "file_list = os.listdir(path)\n",
    "data_tmp = []\n",
    "for file in file_list:\n",
    "    \n",
    "    df = pd.read_csv(os.path.join(path,file))\n",
    "    data_tmp.append(df)\n",
    "test_X_df = pd.concat(data_tmp, axis = 0, ignore_index=True)\n"
   ]
  },
  {
   "cell_type": "code",
   "execution_count": 36,
   "metadata": {
    "colab": {
     "base_uri": "https://localhost:8080/",
     "height": 195
    },
    "colab_type": "code",
    "id": "ilzrT11W1tFr",
    "outputId": "bea2be61-a2c7-4524-e11f-912832b4562e"
   },
   "outputs": [
    {
     "data": {
      "text/html": [
       "<div>\n",
       "<style scoped>\n",
       "    .dataframe tbody tr th:only-of-type {\n",
       "        vertical-align: middle;\n",
       "    }\n",
       "\n",
       "    .dataframe tbody tr th {\n",
       "        vertical-align: top;\n",
       "    }\n",
       "\n",
       "    .dataframe thead th {\n",
       "        text-align: right;\n",
       "    }\n",
       "</style>\n",
       "<table border=\"1\" class=\"dataframe\">\n",
       "  <thead>\n",
       "    <tr style=\"text-align: right;\">\n",
       "      <th></th>\n",
       "      <th>title</th>\n",
       "      <th>runtime</th>\n",
       "      <th>des</th>\n",
       "      <th>date</th>\n",
       "      <th>genre</th>\n",
       "      <th>cast</th>\n",
       "      <th>director</th>\n",
       "      <th>vote</th>\n",
       "      <th>gross</th>\n",
       "    </tr>\n",
       "  </thead>\n",
       "  <tbody>\n",
       "    <tr>\n",
       "      <td>0</td>\n",
       "      <td>Tenet</td>\n",
       "      <td>0</td>\n",
       "      <td>An action epic revolving around internatio...</td>\n",
       "      <td>2020</td>\n",
       "      <td>Action, Drama, Thriller</td>\n",
       "      <td>Elizabeth Debicki, Robert Pattinson, Aaron Tay...</td>\n",
       "      <td>Christopher Nolan</td>\n",
       "      <td>0</td>\n",
       "      <td>NaN</td>\n",
       "    </tr>\n",
       "    <tr>\n",
       "      <td>1</td>\n",
       "      <td>No Time to Die</td>\n",
       "      <td>0</td>\n",
       "      <td>Bond has left active service. His peace is...</td>\n",
       "      <td>2020</td>\n",
       "      <td>Action, Adventure, Thriller</td>\n",
       "      <td>Ana de Armas, Daniel Craig, Léa Seydoux, Rami ...</td>\n",
       "      <td>Cary Joji Fukunaga</td>\n",
       "      <td>0</td>\n",
       "      <td>NaN</td>\n",
       "    </tr>\n",
       "    <tr>\n",
       "      <td>2</td>\n",
       "      <td>Birds of Prey: And the Fantabulous Emancipatio...</td>\n",
       "      <td>0</td>\n",
       "      <td>After splitting with the Joker, Harley Qui...</td>\n",
       "      <td>2020</td>\n",
       "      <td>Action, Adventure, Crime</td>\n",
       "      <td>Margot Robbie, Mary Elizabeth Winstead, Ewan M...</td>\n",
       "      <td>Cathy Yan</td>\n",
       "      <td>0</td>\n",
       "      <td>NaN</td>\n",
       "    </tr>\n",
       "    <tr>\n",
       "      <td>3</td>\n",
       "      <td>Black Widow</td>\n",
       "      <td>0</td>\n",
       "      <td>A film about Natasha Romanoff in her quest...</td>\n",
       "      <td>2020</td>\n",
       "      <td>Action, Adventure, Sci-Fi</td>\n",
       "      <td>Florence Pugh, Scarlett Johansson, Robert Down...</td>\n",
       "      <td>Cate Shortland</td>\n",
       "      <td>0</td>\n",
       "      <td>NaN</td>\n",
       "    </tr>\n",
       "    <tr>\n",
       "      <td>4</td>\n",
       "      <td>Top Gun: Maverick</td>\n",
       "      <td>0</td>\n",
       "      <td>After more than thirty years of service as...</td>\n",
       "      <td>2020</td>\n",
       "      <td>Action, Drama</td>\n",
       "      <td>Tom Cruise, Jennifer Connelly, Val Kilmer, Jea...</td>\n",
       "      <td>Joseph Kosinski</td>\n",
       "      <td>0</td>\n",
       "      <td>NaN</td>\n",
       "    </tr>\n",
       "  </tbody>\n",
       "</table>\n",
       "</div>"
      ],
      "text/plain": [
       "                                               title  runtime  \\\n",
       "0                                              Tenet        0   \n",
       "1                                     No Time to Die        0   \n",
       "2  Birds of Prey: And the Fantabulous Emancipatio...        0   \n",
       "3                                        Black Widow        0   \n",
       "4                                  Top Gun: Maverick        0   \n",
       "\n",
       "                                                 des  date  \\\n",
       "0      An action epic revolving around internatio...  2020   \n",
       "1      Bond has left active service. His peace is...  2020   \n",
       "2      After splitting with the Joker, Harley Qui...  2020   \n",
       "3      A film about Natasha Romanoff in her quest...  2020   \n",
       "4      After more than thirty years of service as...  2020   \n",
       "\n",
       "                                     genre  \\\n",
       "0      Action, Drama, Thriller               \n",
       "1  Action, Adventure, Thriller               \n",
       "2     Action, Adventure, Crime               \n",
       "3    Action, Adventure, Sci-Fi               \n",
       "4                Action, Drama               \n",
       "\n",
       "                                                cast            director  \\\n",
       "0  Elizabeth Debicki, Robert Pattinson, Aaron Tay...   Christopher Nolan   \n",
       "1  Ana de Armas, Daniel Craig, Léa Seydoux, Rami ...  Cary Joji Fukunaga   \n",
       "2  Margot Robbie, Mary Elizabeth Winstead, Ewan M...           Cathy Yan   \n",
       "3  Florence Pugh, Scarlett Johansson, Robert Down...      Cate Shortland   \n",
       "4  Tom Cruise, Jennifer Connelly, Val Kilmer, Jea...     Joseph Kosinski   \n",
       "\n",
       "   vote  gross  \n",
       "0     0    NaN  \n",
       "1     0    NaN  \n",
       "2     0    NaN  \n",
       "3     0    NaN  \n",
       "4     0    NaN  "
      ]
     },
     "execution_count": 36,
     "metadata": {},
     "output_type": "execute_result"
    }
   ],
   "source": [
    "test_X_df.head()"
   ]
  },
  {
   "cell_type": "code",
   "execution_count": 37,
   "metadata": {
    "colab": {
     "base_uri": "https://localhost:8080/",
     "height": 101
    },
    "colab_type": "code",
    "id": "iWrtBlHn1r6H",
    "outputId": "cb379181-2d16-4a3a-e03b-58738ff5e800"
   },
   "outputs": [
    {
     "name": "stderr",
     "output_type": "stream",
     "text": [
      "D:\\app\\anaconda\\run\\lib\\site-packages\\pandas\\core\\indexing.py:205: SettingWithCopyWarning: \n",
      "A value is trying to be set on a copy of a slice from a DataFrame\n",
      "\n",
      "See the caveats in the documentation: http://pandas.pydata.org/pandas-docs/stable/user_guide/indexing.html#returning-a-view-versus-a-copy\n",
      "  self._setitem_with_indexer(indexer, value)\n"
     ]
    }
   ],
   "source": [
    "test_pred =full_pipeline.predict(fill_na(test_X_df))"
   ]
  },
  {
   "cell_type": "markdown",
   "metadata": {
    "colab_type": "text",
    "id": "vWOX4g75Rq6l"
   },
   "source": [
    "Visualize result of test set"
   ]
  },
  {
   "cell_type": "code",
   "execution_count": 38,
   "metadata": {
    "colab": {
     "base_uri": "https://localhost:8080/",
     "height": 301
    },
    "colab_type": "code",
    "id": "XpHzdgS6z6Mg",
    "outputId": "e4bfe45f-06ff-4a48-c92f-616e3a633de5"
   },
   "outputs": [
    {
     "data": {
      "text/plain": [
       "<matplotlib.axes._subplots.AxesSubplot at 0x1d5a773b748>"
      ]
     },
     "execution_count": 38,
     "metadata": {},
     "output_type": "execute_result"
    },
    {
     "data": {
      "image/png": "[encoded data removed]",
      "text/plain": [
       "<Figure size 432x288 with 1 Axes>"
      ]
     },
     "metadata": {
      "needs_background": "light"
     },
     "output_type": "display_data"
    }
   ],
   "source": [
    "test_pred_df = pd.DataFrame(test_pred, columns=[\"pred\"])\n",
    "test_pred_df[:30].plot(kind = 'bar', title ='First 30 entries')"
   ]
  },
  {
   "cell_type": "code",
   "execution_count": 39,
   "metadata": {
    "colab": {},
    "colab_type": "code",
    "id": "4jKaqniGK0RQ"
   },
   "outputs": [],
   "source": [
    "test_pred_df.to_csv(\"result.csv\",header = True)"
   ]
  }
 ],
 "metadata": {
  "colab": {
   "collapsed_sections": [],
   "include_colab_link": true,
   "name": "Copy of Copy of Process_data.ipynb",
   "provenance": []
  },
  "kernelspec": {
   "display_name": "Python 3",
   "language": "python",
   "name": "python3"
  },
  "language_info": {
   "codemirror_mode": {
    "name": "ipython",
    "version": 3
   },
   "file_extension": ".py",
   "mimetype": "text/x-python",
   "name": "python",
   "nbconvert_exporter": "python",
   "pygments_lexer": "ipython3",
   "version": "3.7.4"
  }
 },
 "nbformat": 4,
 "nbformat_minor": 4
}
