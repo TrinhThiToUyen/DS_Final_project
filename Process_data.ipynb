{
  "nbformat": 4,
  "nbformat_minor": 0,
  "metadata": {
    "colab": {
      "name": "Process_data.ipynb",
      "provenance": [],
      "include_colab_link": true
    },
    "kernelspec": {
      "name": "python3",
      "display_name": "Python 3"
    }
  },
  "cells": [
    {
      "cell_type": "markdown",
      "metadata": {
        "id": "view-in-github",
        "colab_type": "text"
      },
      "source": [
        "<a href=\"https://colab.research.google.com/github/hungviet0304/DS_Final_project/blob/master/Process_data.ipynb\" target=\"_parent\"><img src=\"https://colab.research.google.com/assets/colab-badge.svg\" alt=\"Open In Colab\"/></a>"
      ]
    },
    {
      "cell_type": "markdown",
      "metadata": {
        "id": "eo-TEI6FxmG6",
        "colab_type": "text"
      },
      "source": [
        "Load data\n",
        "==="
      ]
    },
    {
      "cell_type": "code",
      "metadata": {
        "id": "S2TpmTuhhqr6",
        "colab_type": "code",
        "colab": {
          "base_uri": "https://localhost:8080/",
          "height": 128
        },
        "outputId": "9e51fa4e-74a2-4067-9702-654d8637c86d"
      },
      "source": [
        "from google.colab import drive\n",
        "drive.mount('/content/drive')"
      ],
      "execution_count": 1,
      "outputs": [
        {
          "output_type": "stream",
          "text": [
            "Go to this URL in a browser: https://accounts.google.com/o/oauth2/auth?client_id=947318989803-6bn6qk8qdgf4n4g3pfee6491hc0brc4i.apps.googleusercontent.com&redirect_uri=urn%3aietf%3awg%3aoauth%3a2.0%3aoob&response_type=code&scope=email%20https%3a%2f%2fwww.googleapis.com%2fauth%2fdocs.test%20https%3a%2f%2fwww.googleapis.com%2fauth%2fdrive%20https%3a%2f%2fwww.googleapis.com%2fauth%2fdrive.photos.readonly%20https%3a%2f%2fwww.googleapis.com%2fauth%2fpeopleapi.readonly\n",
            "\n",
            "Enter your authorization code:\n",
            "··········\n",
            "Mounted at /content/drive\n"
          ],
          "name": "stdout"
        }
      ]
    },
    {
      "cell_type": "code",
      "metadata": {
        "id": "zI0YOjCihv2L",
        "colab_type": "code",
        "colab": {
          "base_uri": "https://localhost:8080/",
          "height": 35
        },
        "outputId": "25d82fce-3479-4d7a-e9ec-e2b0feb687ff"
      },
      "source": [
        "cd \"drive/My Drive/Colab Notebooks/DS\"\n",
        "cd \"Project/Data\""
      ],
      "execution_count": 2,
      "outputs": [
        {
          "output_type": "stream",
          "text": [
            "/content/drive/My Drive/Colab Notebooks/DS\n"
          ],
          "name": "stdout"
        }
      ]
    },
    {
      "cell_type": "code",
      "metadata": {
        "id": "p3KS4SOth09G",
        "colab_type": "code",
        "colab": {}
      },
      "source": [
        "import pandas as pd\n",
        "import numpy as np\n",
        "import os"
      ],
      "execution_count": 0,
      "outputs": []
    },
    {
      "cell_type": "code",
      "metadata": {
        "id": "S2mVVWpslocV",
        "colab_type": "code",
        "colab": {}
      },
      "source": [
        "file_list = os.listdir()\n",
        "data_tmp = []\n",
        "for file in file_list:\n",
        "  df = pd.read_csv(file)\n",
        "  data_tmp.append(df)\n",
        "final_df = pd.concat(data_tmp, axis = 0, ignore_index=True)\n",
        "assert len(final_df) == 79500"
      ],
      "execution_count": 0,
      "outputs": []
    },
    {
      "cell_type": "code",
      "metadata": {
        "id": "05L8VwEXmKey",
        "colab_type": "code",
        "colab": {
          "base_uri": "https://localhost:8080/",
          "height": 285
        },
        "outputId": "d973df87-dc2e-4d89-a9ab-52554befe366"
      },
      "source": [
        "final_df.head()"
      ],
      "execution_count": 33,
      "outputs": [
        {
          "output_type": "execute_result",
          "data": {
            "text/html": [
              "<div>\n",
              "<style scoped>\n",
              "    .dataframe tbody tr th:only-of-type {\n",
              "        vertical-align: middle;\n",
              "    }\n",
              "\n",
              "    .dataframe tbody tr th {\n",
              "        vertical-align: top;\n",
              "    }\n",
              "\n",
              "    .dataframe thead th {\n",
              "        text-align: right;\n",
              "    }\n",
              "</style>\n",
              "<table border=\"1\" class=\"dataframe\">\n",
              "  <thead>\n",
              "    <tr style=\"text-align: right;\">\n",
              "      <th></th>\n",
              "      <th>title</th>\n",
              "      <th>runtime</th>\n",
              "      <th>des</th>\n",
              "      <th>date</th>\n",
              "      <th>genre</th>\n",
              "      <th>cast</th>\n",
              "      <th>director</th>\n",
              "      <th>vote</th>\n",
              "      <th>gross</th>\n",
              "      <th>rating</th>\n",
              "    </tr>\n",
              "  </thead>\n",
              "  <tbody>\n",
              "    <tr>\n",
              "      <th>0</th>\n",
              "      <td>Rick and Morty</td>\n",
              "      <td>23</td>\n",
              "      <td>An animated series that follows the exploi...</td>\n",
              "      <td>2013</td>\n",
              "      <td>Animation, Adventure, Comedy</td>\n",
              "      <td>Justin Roiland, Chris Parnell, Spencer Grammer...</td>\n",
              "      <td>NaN</td>\n",
              "      <td>308799</td>\n",
              "      <td>NaN</td>\n",
              "      <td>9.3</td>\n",
              "    </tr>\n",
              "    <tr>\n",
              "      <th>1</th>\n",
              "      <td>Frozen</td>\n",
              "      <td>102</td>\n",
              "      <td>When the newly crowned Queen Elsa accident...</td>\n",
              "      <td>2013</td>\n",
              "      <td>Animation, Adventure, Comedy</td>\n",
              "      <td>Kristen Bell, Idina Menzel, Jonathan Groff, Jo...</td>\n",
              "      <td>Directors:Chris Buck, Jennifer Lee</td>\n",
              "      <td>537789</td>\n",
              "      <td>$400.74M</td>\n",
              "      <td>7.5</td>\n",
              "    </tr>\n",
              "    <tr>\n",
              "      <th>2</th>\n",
              "      <td>BoJack Horseman</td>\n",
              "      <td>25</td>\n",
              "      <td>BoJack Horseman was the star of the hit te...</td>\n",
              "      <td>2014</td>\n",
              "      <td>Animation, Comedy, Drama</td>\n",
              "      <td>Will Arnett, Amy Sedaris, Alison Brie, Aaron Paul</td>\n",
              "      <td>NaN</td>\n",
              "      <td>80475</td>\n",
              "      <td>NaN</td>\n",
              "      <td>8.6</td>\n",
              "    </tr>\n",
              "    <tr>\n",
              "      <th>3</th>\n",
              "      <td>Star Wars Rebels</td>\n",
              "      <td>22</td>\n",
              "      <td>A brave and clever ragtag starship crew st...</td>\n",
              "      <td>2018</td>\n",
              "      <td>Animation, Action, Adventure</td>\n",
              "      <td>Taylor Gray, Dave Filoni, Vanessa Marshall, Fr...</td>\n",
              "      <td>NaN</td>\n",
              "      <td>23428</td>\n",
              "      <td>NaN</td>\n",
              "      <td>8.0</td>\n",
              "    </tr>\n",
              "    <tr>\n",
              "      <th>4</th>\n",
              "      <td>Big Mouth</td>\n",
              "      <td>30</td>\n",
              "      <td>Teenage friends find their lives upended b...</td>\n",
              "      <td>2017</td>\n",
              "      <td>Animation, Comedy, Romance</td>\n",
              "      <td>Nick Kroll, John Mulaney, Jessi Klein, Jenny S...</td>\n",
              "      <td>NaN</td>\n",
              "      <td>44590</td>\n",
              "      <td>NaN</td>\n",
              "      <td>8.0</td>\n",
              "    </tr>\n",
              "  </tbody>\n",
              "</table>\n",
              "</div>"
            ],
            "text/plain": [
              "              title runtime  ...     gross  rating\n",
              "0    Rick and Morty      23  ...       NaN     9.3\n",
              "1            Frozen     102  ...  $400.74M     7.5\n",
              "2   BoJack Horseman      25  ...       NaN     8.6\n",
              "3  Star Wars Rebels      22  ...       NaN     8.0\n",
              "4         Big Mouth      30  ...       NaN     8.0\n",
              "\n",
              "[5 rows x 10 columns]"
            ]
          },
          "metadata": {
            "tags": []
          },
          "execution_count": 33
        }
      ]
    },
    {
      "cell_type": "code",
      "metadata": {
        "id": "mwEN-pDSnRhW",
        "colab_type": "code",
        "colab": {}
      },
      "source": [
        "df = final_df.copy()"
      ],
      "execution_count": 0,
      "outputs": []
    },
    {
      "cell_type": "code",
      "metadata": {
        "id": "4p4JpXdrmNG0",
        "colab_type": "code",
        "colab": {}
      },
      "source": [
        "df = df.dropna(axis=0)\n",
        "df = df.drop_duplicates()"
      ],
      "execution_count": 0,
      "outputs": []
    },
    {
      "cell_type": "code",
      "metadata": {
        "id": "CsOsR7Utmsm7",
        "colab_type": "code",
        "colab": {
          "base_uri": "https://localhost:8080/",
          "height": 580
        },
        "outputId": "f3726b2a-0aa1-45c1-a2bd-3121acd6c367"
      },
      "source": [
        "df"
      ],
      "execution_count": 40,
      "outputs": [
        {
          "output_type": "execute_result",
          "data": {
            "text/html": [
              "<div>\n",
              "<style scoped>\n",
              "    .dataframe tbody tr th:only-of-type {\n",
              "        vertical-align: middle;\n",
              "    }\n",
              "\n",
              "    .dataframe tbody tr th {\n",
              "        vertical-align: top;\n",
              "    }\n",
              "\n",
              "    .dataframe thead th {\n",
              "        text-align: right;\n",
              "    }\n",
              "</style>\n",
              "<table border=\"1\" class=\"dataframe\">\n",
              "  <thead>\n",
              "    <tr style=\"text-align: right;\">\n",
              "      <th></th>\n",
              "      <th>title</th>\n",
              "      <th>runtime</th>\n",
              "      <th>des</th>\n",
              "      <th>date</th>\n",
              "      <th>genre</th>\n",
              "      <th>cast</th>\n",
              "      <th>director</th>\n",
              "      <th>vote</th>\n",
              "      <th>gross</th>\n",
              "      <th>rating</th>\n",
              "    </tr>\n",
              "  </thead>\n",
              "  <tbody>\n",
              "    <tr>\n",
              "      <th>1</th>\n",
              "      <td>Frozen</td>\n",
              "      <td>102</td>\n",
              "      <td>When the newly crowned Queen Elsa accident...</td>\n",
              "      <td>2013</td>\n",
              "      <td>Animation, Adventure, Comedy</td>\n",
              "      <td>Kristen Bell, Idina Menzel, Jonathan Groff, Jo...</td>\n",
              "      <td>Directors:Chris Buck, Jennifer Lee</td>\n",
              "      <td>537789</td>\n",
              "      <td>$400.74M</td>\n",
              "      <td>7.5</td>\n",
              "    </tr>\n",
              "    <tr>\n",
              "      <th>9</th>\n",
              "      <td>Arthur Christmas</td>\n",
              "      <td>97</td>\n",
              "      <td>Santa's clumsy son Arthur sets out on a mi...</td>\n",
              "      <td>2011</td>\n",
              "      <td>Animation, Adventure, Comedy</td>\n",
              "      <td>James McAvoy, Jim Broadbent, Bill Nighy, Hugh ...</td>\n",
              "      <td>Directors:Sarah Smith, Barry Cook</td>\n",
              "      <td>47318</td>\n",
              "      <td>$46.46M</td>\n",
              "      <td>7.1</td>\n",
              "    </tr>\n",
              "    <tr>\n",
              "      <th>10</th>\n",
              "      <td>Moana</td>\n",
              "      <td>107</td>\n",
              "      <td>In Ancient Polynesia, when a terrible curs...</td>\n",
              "      <td>2016</td>\n",
              "      <td>Animation, Adventure, Comedy</td>\n",
              "      <td>Auli'i Cravalho, Dwayne Johnson, Rachel House,...</td>\n",
              "      <td>Directors:Ron Clements, John Musker, Don Hall,...</td>\n",
              "      <td>238772</td>\n",
              "      <td>$248.76M</td>\n",
              "      <td>7.6</td>\n",
              "    </tr>\n",
              "    <tr>\n",
              "      <th>12</th>\n",
              "      <td>Zootopia</td>\n",
              "      <td>108</td>\n",
              "      <td>In a city of anthropomorphic animals, a ro...</td>\n",
              "      <td>2016</td>\n",
              "      <td>Animation, Adventure, Comedy</td>\n",
              "      <td>Ginnifer Goodwin, Jason Bateman, Idris Elba, J...</td>\n",
              "      <td>Directors:Byron Howard, Rich Moore, Jared Bush</td>\n",
              "      <td>398939</td>\n",
              "      <td>$341.27M</td>\n",
              "      <td>8.0</td>\n",
              "    </tr>\n",
              "    <tr>\n",
              "      <th>14</th>\n",
              "      <td>Coco</td>\n",
              "      <td>105</td>\n",
              "      <td>Aspiring musician Miguel, confronted with ...</td>\n",
              "      <td>2017</td>\n",
              "      <td>Animation, Adventure, Family</td>\n",
              "      <td>Anthony Gonzalez, Gael García Bernal, Benjamin...</td>\n",
              "      <td>Directors:Lee Unkrich, Adrian Molina</td>\n",
              "      <td>311127</td>\n",
              "      <td>$209.73M</td>\n",
              "      <td>8.4</td>\n",
              "    </tr>\n",
              "    <tr>\n",
              "      <th>...</th>\n",
              "      <td>...</td>\n",
              "      <td>...</td>\n",
              "      <td>...</td>\n",
              "      <td>...</td>\n",
              "      <td>...</td>\n",
              "      <td>...</td>\n",
              "      <td>...</td>\n",
              "      <td>...</td>\n",
              "      <td>...</td>\n",
              "      <td>...</td>\n",
              "    </tr>\n",
              "    <tr>\n",
              "      <th>73381</th>\n",
              "      <td>Love Me True</td>\n",
              "      <td>88</td>\n",
              "      <td>Eric feels his life falling apart -- until...</td>\n",
              "      <td>2015</td>\n",
              "      <td>Comedy, Drama, Romance</td>\n",
              "      <td>Andrew Gude, William McGovern, Kaleigh Macchio...</td>\n",
              "      <td>Kirby Voss</td>\n",
              "      <td>30</td>\n",
              "      <td>$0.02M</td>\n",
              "      <td>5.2</td>\n",
              "    </tr>\n",
              "    <tr>\n",
              "      <th>73664</th>\n",
              "      <td>Downtown Express</td>\n",
              "      <td>90</td>\n",
              "      <td>Sasha is a young Russian violinist on a sc...</td>\n",
              "      <td>2011</td>\n",
              "      <td>Drama, Music, Romance</td>\n",
              "      <td>Philippe Quint, Nellie McKay, Michael Cumpsty,...</td>\n",
              "      <td>David Grubin</td>\n",
              "      <td>24</td>\n",
              "      <td>$0.00M</td>\n",
              "      <td>8.1</td>\n",
              "    </tr>\n",
              "    <tr>\n",
              "      <th>73826</th>\n",
              "      <td>A Troubled Mind</td>\n",
              "      <td>120</td>\n",
              "      <td>This is a tragic and suspense movie...the ...</td>\n",
              "      <td>2015</td>\n",
              "      <td>Action, Drama, Mystery</td>\n",
              "      <td>A. Michelle Harleston, Ronrico Albright, Rober...</td>\n",
              "      <td>Robert L. Parker III</td>\n",
              "      <td>23</td>\n",
              "      <td>$0.01M</td>\n",
              "      <td>5.0</td>\n",
              "    </tr>\n",
              "    <tr>\n",
              "      <th>73924</th>\n",
              "      <td>True Love Zombie</td>\n",
              "      <td>86</td>\n",
              "      <td>Rhonda and Paul are a loving married coupl...</td>\n",
              "      <td>2012</td>\n",
              "      <td>Comedy, Horror, Romance</td>\n",
              "      <td>Paul Blevins, Rhonda Blevins, Steve Snyder, Je...</td>\n",
              "      <td>Paul Blevins</td>\n",
              "      <td>29</td>\n",
              "      <td>$0.00M</td>\n",
              "      <td>4.2</td>\n",
              "    </tr>\n",
              "    <tr>\n",
              "      <th>74956</th>\n",
              "      <td>Spices of Liberty</td>\n",
              "      <td>115</td>\n",
              "      <td>The movie is about how the Youth of Americ...</td>\n",
              "      <td>2016</td>\n",
              "      <td>Drama, Family, Romance</td>\n",
              "      <td>Ajay Kumar, Suhasini, Prakash Patil, Scott Bailey</td>\n",
              "      <td>Directors:Gowri Goli, Pothuganti Chandra Adity...</td>\n",
              "      <td>36</td>\n",
              "      <td>$0.01M</td>\n",
              "      <td>5.8</td>\n",
              "    </tr>\n",
              "  </tbody>\n",
              "</table>\n",
              "<p>3709 rows × 10 columns</p>\n",
              "</div>"
            ],
            "text/plain": [
              "                   title runtime  ...     gross  rating\n",
              "1                 Frozen     102  ...  $400.74M     7.5\n",
              "9       Arthur Christmas      97  ...   $46.46M     7.1\n",
              "10                 Moana     107  ...  $248.76M     7.6\n",
              "12              Zootopia     108  ...  $341.27M     8.0\n",
              "14                  Coco     105  ...  $209.73M     8.4\n",
              "...                  ...     ...  ...       ...     ...\n",
              "73381       Love Me True      88  ...    $0.02M     5.2\n",
              "73664   Downtown Express      90  ...    $0.00M     8.1\n",
              "73826    A Troubled Mind     120  ...    $0.01M     5.0\n",
              "73924   True Love Zombie      86  ...    $0.00M     4.2\n",
              "74956  Spices of Liberty     115  ...    $0.01M     5.8\n",
              "\n",
              "[3709 rows x 10 columns]"
            ]
          },
          "metadata": {
            "tags": []
          },
          "execution_count": 40
        }
      ]
    },
    {
      "cell_type": "code",
      "metadata": {
        "id": "29yMCzH1ntUY",
        "colab_type": "code",
        "colab": {}
      },
      "source": [
        "df.to_csv(\"final_data.csv\", index=False)"
      ],
      "execution_count": 0,
      "outputs": []
    },
    {
      "cell_type": "code",
      "metadata": {
        "id": "u6vQNqy-n3Z-",
        "colab_type": "code",
        "colab": {}
      },
      "source": [
        "def build_word_index(df):\n",
        "  pass"
      ],
      "execution_count": 0,
      "outputs": []
    },
    {
      "cell_type": "code",
      "metadata": {
        "id": "PfcWs46ppseS",
        "colab_type": "code",
        "colab": {
          "base_uri": "https://localhost:8080/",
          "height": 283
        },
        "outputId": "45aff850-a467-4903-f98d-01931b7ed591"
      },
      "source": [
        "df.rating.hist(bins=80)"
      ],
      "execution_count": 100,
      "outputs": [
        {
          "output_type": "execute_result",
          "data": {
            "text/plain": [
              "<matplotlib.axes._subplots.AxesSubplot at 0x7f8c2bbdfb70>"
            ]
          },
          "metadata": {
            "tags": []
          },
          "execution_count": 100
        },
        {
          "output_type": "display_data",
          "data": {
            "image/png": "[encoded data removed]",
            "text/plain": [
              "<Figure size 432x288 with 1 Axes>"
            ]
          },
          "metadata": {
            "tags": []
          }
        }
      ]
    },
    {
      "cell_type": "markdown",
      "metadata": {
        "id": "2_tvHh62xpv5",
        "colab_type": "text"
      },
      "source": [
        "Feature Engineering\n",
        "==="
      ]
    },
    {
      "cell_type": "markdown",
      "metadata": {
        "id": "bLp33DSNpg-b",
        "colab_type": "text"
      },
      "source": [
        "##We want to know if a genre is related to the rating.\n"
      ]
    },
    {
      "cell_type": "code",
      "metadata": {
        "id": "lyC22r0ppqxl",
        "colab_type": "code",
        "colab": {
          "base_uri": "https://localhost:8080/",
          "height": 290
        },
        "outputId": "ecf78f96-a7c0-46fd-daa0-31c74b3c8a86"
      },
      "source": [
        "genre_rating_df = df[[\"genre\",'rating']]\n",
        "\n",
        "list_gens = list(genre_rating_df.genre)\n",
        "unique_gen = []\n",
        "for g in list_gens:\n",
        "  unique_gen += g.strip().split(\", \")\n",
        "unique_gen = np.unique(unique_gen)\n",
        "hist = {}\n",
        "for i in range(genre_rating_df.shape[0]):\n",
        "  genres = genre_rating_df.iloc[i].genre.strip().split(\", \")\n",
        "  rating  = genre_rating_df.iloc[i].rating\n",
        "  for g in genres:\n",
        "    if g not in hist:\n",
        "      hist[g] = [rating]\n",
        "    else:\n",
        "      hist[g].append(rating)\n",
        "keys = list(hist.keys())\n",
        "vals = list(hist.values())\n",
        "vals = [np.mean(x) for x in vals]\n",
        "\n",
        "assert len(keys) == len(vals)\n",
        "hist_df = pd.DataFrame(columns=[\"genre\",\"avg_score\"])\n",
        "hist_df.genre = keys\n",
        "hist_df.avg_score = vals\n",
        "hist_df.plot.bar()"
      ],
      "execution_count": 87,
      "outputs": [
        {
          "output_type": "execute_result",
          "data": {
            "text/plain": [
              "<matplotlib.axes._subplots.AxesSubplot at 0x7f8c623d0710>"
            ]
          },
          "metadata": {
            "tags": []
          },
          "execution_count": 87
        },
        {
          "output_type": "display_data",
          "data": {
            "image/png": "[encoded data removed]",
            "text/plain": [
              "<Figure size 432x288 with 1 Axes>"
            ]
          },
          "metadata": {
            "tags": []
          }
        }
      ]
    },
    {
      "cell_type": "markdown",
      "metadata": {
        "id": "KgDAhWOFwz1M",
        "colab_type": "text"
      },
      "source": [
        "At the glimpse of the chart, the average rating of each genre is not much different which is ranging from 6~8. So we can conclude that genres do not affect much to the score."
      ]
    },
    {
      "cell_type": "markdown",
      "metadata": {
        "id": "h8P-_fsgx1b0",
        "colab_type": "text"
      },
      "source": [
        "##The next things: casts\n"
      ]
    },
    {
      "cell_type": "code",
      "metadata": {
        "id": "dvL30Jy6zh91",
        "colab_type": "code",
        "colab": {
          "base_uri": "https://localhost:8080/",
          "height": 355
        },
        "outputId": "7857a885-1bab-46bb-f0e3-d756d8d31836"
      },
      "source": [
        "cast_rating_df = df[[\"director\",'rating']]\n",
        "\n",
        "list_cast = list(cast_rating_df.director)\n",
        "unique_cast = []\n",
        "for g in list_cast:\n",
        "  unique_cast += g.strip().split(\", \")\n",
        "unique_cast = np.unique(unique_cast)\n",
        "print(len(unique_cast))\n",
        "hist = {}\n",
        "for i in range(cast_rating_df.shape[0]):\n",
        "  casts = cast_rating_df.iloc[i].director.strip().split(\", \")\n",
        "  rating  = cast_rating_df.iloc[i].rating\n",
        "  for g in casts:\n",
        "    if g not in hist:\n",
        "      hist[g] = [rating]\n",
        "    else:\n",
        "      hist[g].append(rating)\n",
        "keys = list(hist.keys())\n",
        "vals = list(hist.values())\n",
        "vals = [np.mean(x) for x in vals]\n",
        "\n",
        "assert len(keys) == len(vals)\n",
        "hist_df = pd.DataFrame(columns=[\"director\",\"avg_score\"])\n",
        "hist_df.genre = keys\n",
        "hist_df.avg_score = vals\n",
        "hist_df.plot.bar()"
      ],
      "execution_count": 94,
      "outputs": [
        {
          "output_type": "stream",
          "text": [
            "2687\n"
          ],
          "name": "stdout"
        },
        {
          "output_type": "stream",
          "text": [
            "/usr/local/lib/python3.6/dist-packages/ipykernel_launcher.py:24: UserWarning: Pandas doesn't allow columns to be created via a new attribute name - see https://pandas.pydata.org/pandas-docs/stable/indexing.html#attribute-access\n"
          ],
          "name": "stderr"
        },
        {
          "output_type": "execute_result",
          "data": {
            "text/plain": [
              "<matplotlib.axes._subplots.AxesSubplot at 0x7f8c35e96ac8>"
            ]
          },
          "metadata": {
            "tags": []
          },
          "execution_count": 94
        },
        {
          "output_type": "display_data",
          "data": {
            "image/png": "[encoded data removed]",
            "text/plain": [
              "<Figure size 432x288 with 1 Axes>"
            ]
          },
          "metadata": {
            "tags": []
          }
        }
      ]
    },
    {
      "cell_type": "code",
      "metadata": {
        "id": "-dZGIR0Q2lFO",
        "colab_type": "code",
        "colab": {}
      },
      "source": [
        ""
      ],
      "execution_count": 0,
      "outputs": []
    },
    {
      "cell_type": "markdown",
      "metadata": {
        "id": "QksNjKaUxuYN",
        "colab_type": "text"
      },
      "source": [
        "Prediction\n",
        "==="
      ]
    },
    {
      "cell_type": "code",
      "metadata": {
        "id": "VwlqeHnVxwtr",
        "colab_type": "code",
        "colab": {}
      },
      "source": [
        ""
      ],
      "execution_count": 0,
      "outputs": []
    }
  ]
}