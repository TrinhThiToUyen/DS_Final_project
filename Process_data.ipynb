{
  "nbformat": 4,
  "nbformat_minor": 0,
  "metadata": {
    "colab": {
      "name": "Copy of Process_data.ipynb",
      "provenance": [],
      "collapsed_sections": [],
      "toc_visible": true,
      "include_colab_link": true
    },
    "kernelspec": {
      "display_name": "Python 3",
      "language": "python",
      "name": "python3"
    },
    "language_info": {
      "codemirror_mode": {
        "name": "ipython",
        "version": 3
      },
      "file_extension": ".py",
      "mimetype": "text/x-python",
      "name": "python",
      "nbconvert_exporter": "python",
      "pygments_lexer": "ipython3",
      "version": "3.7.4"
    }
  },
  "cells": [
    {
      "cell_type": "markdown",
      "metadata": {
        "id": "view-in-github",
        "colab_type": "text"
      },
      "source": [
        "<a href=\"https://colab.research.google.com/github/hungviet0304/DS_Final_project/blob/master/Process_data.ipynb\" target=\"_parent\"><img src=\"https://colab.research.google.com/assets/colab-badge.svg\" alt=\"Open In Colab\"/></a>"
      ]
    },
    {
      "cell_type": "code",
      "metadata": {
        "colab_type": "code",
        "id": "TmvHT3tAgeFe",
        "colab": {}
      },
      "source": [
        "import pandas as pd\n",
        "import numpy as np\n",
        "import os\n",
        "import copy\n",
        "import math\n",
        "from sklearn.feature_extraction.text import TfidfVectorizer\n",
        "%matplotlib inline"
      ],
      "execution_count": 0,
      "outputs": []
    },
    {
      "cell_type": "code",
      "metadata": {
        "id": "ZFGvEpk_TZH0",
        "colab_type": "code",
        "colab": {}
      },
      "source": [
        "from sklearn.linear_model import LinearRegression\n",
        "from sklearn.ensemble import RandomForestRegressor"
      ],
      "execution_count": 0,
      "outputs": []
    },
    {
      "cell_type": "code",
      "metadata": {
        "id": "UzGXdG_qQBUm",
        "colab_type": "code",
        "colab": {}
      },
      "source": [
        "%matplotlib inline\n",
        "import matplotlib.pyplot as plt\n",
        "import seaborn as sns # seaborn là thư viện được xây trên matplotlib, giúp việc visualization đỡ khổ hơn\n",
        "import pandas as pd\n",
        "import numpy as np\n",
        "\n",
        "from sklearn.model_selection import train_test_split\n",
        "from sklearn.preprocessing import OneHotEncoder, StandardScaler\n",
        "from sklearn.impute import SimpleImputer\n",
        "from sklearn.base import BaseEstimator, TransformerMixin\n",
        "from sklearn.pipeline import Pipeline, make_pipeline\n",
        "from sklearn.compose import ColumnTransformer, make_column_transformer\n",
        "from sklearn.neural_network import MLPClassifier\n",
        "\n",
        "# You can also import other things ...\n",
        "# YOUR CODE HERE (OPTION)\n",
        "import re\n",
        "from sklearn import preprocessing"
      ],
      "execution_count": 0,
      "outputs": []
    },
    {
      "cell_type": "code",
      "metadata": {
        "id": "T8gWEy6wRTtk",
        "colab_type": "code",
        "outputId": "ade9ba3f-5f79-4e6b-bb41-fe29dec1eefb",
        "colab": {
          "base_uri": "https://localhost:8080/",
          "height": 34
        }
      },
      "source": [
        "from google.colab import drive\n",
        "drive.mount('/content/drive')"
      ],
      "execution_count": 5,
      "outputs": [
        {
          "output_type": "stream",
          "text": [
            "Drive already mounted at /content/drive; to attempt to forcibly remount, call drive.mount(\"/content/drive\", force_remount=True).\n"
          ],
          "name": "stdout"
        }
      ]
    },
    {
      "cell_type": "code",
      "metadata": {
        "id": "1-7a_oL9RZ0M",
        "colab_type": "code",
        "outputId": "24ad630d-776f-4013-ca1c-b28695949298",
        "colab": {
          "base_uri": "https://localhost:8080/",
          "height": 34
        }
      },
      "source": [
        "cd \"drive/My Drive/Colab Notebooks/DS/Project/Data\""
      ],
      "execution_count": 6,
      "outputs": [
        {
          "output_type": "stream",
          "text": [
            "/content/drive/My Drive/Colab Notebooks/DS/Project/Data\n"
          ],
          "name": "stdout"
        }
      ]
    },
    {
      "cell_type": "code",
      "metadata": {
        "id": "u_XKai6DQBUx",
        "colab_type": "code",
        "colab": {}
      },
      "source": [
        "file_list = os.listdir()\n",
        "data_tmp = []\n",
        "for file in file_list:\n",
        "    df = pd.read_csv(file)\n",
        "    data_tmp.append(df)\n",
        "final_df = pd.concat(data_tmp, axis = 0, ignore_index=True)"
      ],
      "execution_count": 0,
      "outputs": []
    },
    {
      "cell_type": "code",
      "metadata": {
        "id": "xlhGggFgQBU5",
        "colab_type": "code",
        "colab": {
          "base_uri": "https://localhost:8080/",
          "height": 373
        },
        "outputId": "cc17ff20-53d3-4f0d-80c8-3622d9fd8902"
      },
      "source": [
        "final_df.describe(include=\"all\")"
      ],
      "execution_count": 8,
      "outputs": [
        {
          "output_type": "execute_result",
          "data": {
            "text/html": [
              "<div>\n",
              "<style scoped>\n",
              "    .dataframe tbody tr th:only-of-type {\n",
              "        vertical-align: middle;\n",
              "    }\n",
              "\n",
              "    .dataframe tbody tr th {\n",
              "        vertical-align: top;\n",
              "    }\n",
              "\n",
              "    .dataframe thead th {\n",
              "        text-align: right;\n",
              "    }\n",
              "</style>\n",
              "<table border=\"1\" class=\"dataframe\">\n",
              "  <thead>\n",
              "    <tr style=\"text-align: right;\">\n",
              "      <th></th>\n",
              "      <th>title</th>\n",
              "      <th>runtime</th>\n",
              "      <th>des</th>\n",
              "      <th>date</th>\n",
              "      <th>genre</th>\n",
              "      <th>cast</th>\n",
              "      <th>director</th>\n",
              "      <th>vote</th>\n",
              "      <th>gross</th>\n",
              "      <th>rating</th>\n",
              "    </tr>\n",
              "  </thead>\n",
              "  <tbody>\n",
              "    <tr>\n",
              "      <th>count</th>\n",
              "      <td>79500</td>\n",
              "      <td>79500</td>\n",
              "      <td>79500</td>\n",
              "      <td>79500.000000</td>\n",
              "      <td>79500</td>\n",
              "      <td>79051</td>\n",
              "      <td>36380</td>\n",
              "      <td>7.950000e+04</td>\n",
              "      <td>4568</td>\n",
              "      <td>79500.000000</td>\n",
              "    </tr>\n",
              "    <tr>\n",
              "      <th>unique</th>\n",
              "      <td>61326</td>\n",
              "      <td>561</td>\n",
              "      <td>58586</td>\n",
              "      <td>NaN</td>\n",
              "      <td>1013</td>\n",
              "      <td>59675</td>\n",
              "      <td>21287</td>\n",
              "      <td>NaN</td>\n",
              "      <td>1278</td>\n",
              "      <td>NaN</td>\n",
              "    </tr>\n",
              "    <tr>\n",
              "      <th>top</th>\n",
              "      <td>The Proposal</td>\n",
              "      <td>0</td>\n",
              "      <td>Add a Plot</td>\n",
              "      <td>NaN</td>\n",
              "      <td>Documentary</td>\n",
              "      <td>Add a Plot</td>\n",
              "      <td>Kevin Dunn</td>\n",
              "      <td>NaN</td>\n",
              "      <td>$0.01M</td>\n",
              "      <td>NaN</td>\n",
              "    </tr>\n",
              "    <tr>\n",
              "      <th>freq</th>\n",
              "      <td>14</td>\n",
              "      <td>6913</td>\n",
              "      <td>7524</td>\n",
              "      <td>NaN</td>\n",
              "      <td>5496</td>\n",
              "      <td>5160</td>\n",
              "      <td>97</td>\n",
              "      <td>NaN</td>\n",
              "      <td>355</td>\n",
              "      <td>NaN</td>\n",
              "    </tr>\n",
              "    <tr>\n",
              "      <th>mean</th>\n",
              "      <td>NaN</td>\n",
              "      <td>NaN</td>\n",
              "      <td>NaN</td>\n",
              "      <td>2014.053296</td>\n",
              "      <td>NaN</td>\n",
              "      <td>NaN</td>\n",
              "      <td>NaN</td>\n",
              "      <td>4.756095e+03</td>\n",
              "      <td>NaN</td>\n",
              "      <td>4.126605</td>\n",
              "    </tr>\n",
              "    <tr>\n",
              "      <th>std</th>\n",
              "      <td>NaN</td>\n",
              "      <td>NaN</td>\n",
              "      <td>NaN</td>\n",
              "      <td>23.798955</td>\n",
              "      <td>NaN</td>\n",
              "      <td>NaN</td>\n",
              "      <td>NaN</td>\n",
              "      <td>3.698933e+04</td>\n",
              "      <td>NaN</td>\n",
              "      <td>3.430359</td>\n",
              "    </tr>\n",
              "    <tr>\n",
              "      <th>min</th>\n",
              "      <td>NaN</td>\n",
              "      <td>NaN</td>\n",
              "      <td>NaN</td>\n",
              "      <td>0.000000</td>\n",
              "      <td>NaN</td>\n",
              "      <td>NaN</td>\n",
              "      <td>NaN</td>\n",
              "      <td>0.000000e+00</td>\n",
              "      <td>NaN</td>\n",
              "      <td>0.000000</td>\n",
              "    </tr>\n",
              "    <tr>\n",
              "      <th>25%</th>\n",
              "      <td>NaN</td>\n",
              "      <td>NaN</td>\n",
              "      <td>NaN</td>\n",
              "      <td>2013.000000</td>\n",
              "      <td>NaN</td>\n",
              "      <td>NaN</td>\n",
              "      <td>NaN</td>\n",
              "      <td>0.000000e+00</td>\n",
              "      <td>NaN</td>\n",
              "      <td>0.000000</td>\n",
              "    </tr>\n",
              "    <tr>\n",
              "      <th>50%</th>\n",
              "      <td>NaN</td>\n",
              "      <td>NaN</td>\n",
              "      <td>NaN</td>\n",
              "      <td>2014.000000</td>\n",
              "      <td>NaN</td>\n",
              "      <td>NaN</td>\n",
              "      <td>NaN</td>\n",
              "      <td>1.400000e+01</td>\n",
              "      <td>NaN</td>\n",
              "      <td>5.500000</td>\n",
              "    </tr>\n",
              "    <tr>\n",
              "      <th>75%</th>\n",
              "      <td>NaN</td>\n",
              "      <td>NaN</td>\n",
              "      <td>NaN</td>\n",
              "      <td>2016.000000</td>\n",
              "      <td>NaN</td>\n",
              "      <td>NaN</td>\n",
              "      <td>NaN</td>\n",
              "      <td>1.930000e+02</td>\n",
              "      <td>NaN</td>\n",
              "      <td>7.200000</td>\n",
              "    </tr>\n",
              "    <tr>\n",
              "      <th>max</th>\n",
              "      <td>NaN</td>\n",
              "      <td>NaN</td>\n",
              "      <td>NaN</td>\n",
              "      <td>2020.000000</td>\n",
              "      <td>NaN</td>\n",
              "      <td>NaN</td>\n",
              "      <td>NaN</td>\n",
              "      <td>1.617134e+06</td>\n",
              "      <td>NaN</td>\n",
              "      <td>10.000000</td>\n",
              "    </tr>\n",
              "  </tbody>\n",
              "</table>\n",
              "</div>"
            ],
            "text/plain": [
              "               title runtime         des  ...          vote   gross        rating\n",
              "count          79500   79500       79500  ...  7.950000e+04    4568  79500.000000\n",
              "unique         61326     561       58586  ...           NaN    1278           NaN\n",
              "top     The Proposal       0  Add a Plot  ...           NaN  $0.01M           NaN\n",
              "freq              14    6913        7524  ...           NaN     355           NaN\n",
              "mean             NaN     NaN         NaN  ...  4.756095e+03     NaN      4.126605\n",
              "std              NaN     NaN         NaN  ...  3.698933e+04     NaN      3.430359\n",
              "min              NaN     NaN         NaN  ...  0.000000e+00     NaN      0.000000\n",
              "25%              NaN     NaN         NaN  ...  0.000000e+00     NaN      0.000000\n",
              "50%              NaN     NaN         NaN  ...  1.400000e+01     NaN      5.500000\n",
              "75%              NaN     NaN         NaN  ...  1.930000e+02     NaN      7.200000\n",
              "max              NaN     NaN         NaN  ...  1.617134e+06     NaN     10.000000\n",
              "\n",
              "[11 rows x 10 columns]"
            ]
          },
          "metadata": {
            "tags": []
          },
          "execution_count": 8
        }
      ]
    },
    {
      "cell_type": "code",
      "metadata": {
        "id": "6ZXAlZ5VQBU8",
        "colab_type": "code",
        "outputId": "549dd623-61b8-45fc-ef5f-a876ea8518f2",
        "colab": {
          "base_uri": "https://localhost:8080/",
          "height": 363
        }
      },
      "source": [
        "df = final_df.copy()\n",
        "df = df[df.rating != 0]\n",
        "df.head()"
      ],
      "execution_count": 9,
      "outputs": [
        {
          "output_type": "execute_result",
          "data": {
            "text/html": [
              "<div>\n",
              "<style scoped>\n",
              "    .dataframe tbody tr th:only-of-type {\n",
              "        vertical-align: middle;\n",
              "    }\n",
              "\n",
              "    .dataframe tbody tr th {\n",
              "        vertical-align: top;\n",
              "    }\n",
              "\n",
              "    .dataframe thead th {\n",
              "        text-align: right;\n",
              "    }\n",
              "</style>\n",
              "<table border=\"1\" class=\"dataframe\">\n",
              "  <thead>\n",
              "    <tr style=\"text-align: right;\">\n",
              "      <th></th>\n",
              "      <th>title</th>\n",
              "      <th>runtime</th>\n",
              "      <th>des</th>\n",
              "      <th>date</th>\n",
              "      <th>genre</th>\n",
              "      <th>cast</th>\n",
              "      <th>director</th>\n",
              "      <th>vote</th>\n",
              "      <th>gross</th>\n",
              "      <th>rating</th>\n",
              "    </tr>\n",
              "  </thead>\n",
              "  <tbody>\n",
              "    <tr>\n",
              "      <th>0</th>\n",
              "      <td>Star Wars: Episode VIII - The Last Jedi</td>\n",
              "      <td>151</td>\n",
              "      <td>Rey develops her newly discovered abilitie...</td>\n",
              "      <td>2017</td>\n",
              "      <td>Action, Adventure, Fantasy</td>\n",
              "      <td>Daisy Ridley, John Boyega, Mark Hamill, Carrie...</td>\n",
              "      <td>Rian Johnson</td>\n",
              "      <td>499477</td>\n",
              "      <td>$620.18M</td>\n",
              "      <td>7.1</td>\n",
              "    </tr>\n",
              "    <tr>\n",
              "      <th>1</th>\n",
              "      <td>Vikings</td>\n",
              "      <td>44</td>\n",
              "      <td>Vikings transports us to the brutal and my...</td>\n",
              "      <td>2013</td>\n",
              "      <td>Action, Adventure, Drama</td>\n",
              "      <td>Katheryn Winnick, Gustaf Skarsgård, Alexander ...</td>\n",
              "      <td>NaN</td>\n",
              "      <td>364162</td>\n",
              "      <td>NaN</td>\n",
              "      <td>8.6</td>\n",
              "    </tr>\n",
              "    <tr>\n",
              "      <th>2</th>\n",
              "      <td>Game of Thrones</td>\n",
              "      <td>57</td>\n",
              "      <td>Nine noble families fight for control over...</td>\n",
              "      <td>2019</td>\n",
              "      <td>Action, Adventure, Drama</td>\n",
              "      <td>Emilia Clarke, Peter Dinklage, Kit Harington, ...</td>\n",
              "      <td>NaN</td>\n",
              "      <td>1617109</td>\n",
              "      <td>NaN</td>\n",
              "      <td>9.3</td>\n",
              "    </tr>\n",
              "    <tr>\n",
              "      <th>3</th>\n",
              "      <td>Star Wars: Episode VII - The Force Awakens</td>\n",
              "      <td>138</td>\n",
              "      <td>Three decades after the Empire's defeat, a...</td>\n",
              "      <td>2015</td>\n",
              "      <td>Action, Adventure, Sci-Fi</td>\n",
              "      <td>Daisy Ridley, John Boyega, Oscar Isaac, Domhna...</td>\n",
              "      <td>J.J. Abrams</td>\n",
              "      <td>809628</td>\n",
              "      <td>$936.66M</td>\n",
              "      <td>7.9</td>\n",
              "    </tr>\n",
              "    <tr>\n",
              "      <th>4</th>\n",
              "      <td>Rogue One: A Star Wars Story</td>\n",
              "      <td>133</td>\n",
              "      <td>The daughter of an Imperial scientist join...</td>\n",
              "      <td>2016</td>\n",
              "      <td>Action, Adventure, Sci-Fi</td>\n",
              "      <td>Felicity Jones, Diego Luna, Alan Tudyk, Donnie...</td>\n",
              "      <td>Gareth Edwards</td>\n",
              "      <td>503361</td>\n",
              "      <td>$532.18M</td>\n",
              "      <td>7.8</td>\n",
              "    </tr>\n",
              "  </tbody>\n",
              "</table>\n",
              "</div>"
            ],
            "text/plain": [
              "                                        title runtime  ...     gross  rating\n",
              "0     Star Wars: Episode VIII - The Last Jedi     151  ...  $620.18M     7.1\n",
              "1                                     Vikings      44  ...       NaN     8.6\n",
              "2                             Game of Thrones      57  ...       NaN     9.3\n",
              "3  Star Wars: Episode VII - The Force Awakens     138  ...  $936.66M     7.9\n",
              "4                Rogue One: A Star Wars Story     133  ...  $532.18M     7.8\n",
              "\n",
              "[5 rows x 10 columns]"
            ]
          },
          "metadata": {
            "tags": []
          },
          "execution_count": 9
        }
      ]
    },
    {
      "cell_type": "code",
      "metadata": {
        "id": "pwZIznGcQBU_",
        "colab_type": "code",
        "colab": {}
      },
      "source": [
        "# Tách X và y\n",
        "y_sr = df[\"rating\"] # sr là viết tắt của series\n",
        "X_df = df.drop(\"rating\", axis=1)"
      ],
      "execution_count": 0,
      "outputs": []
    },
    {
      "cell_type": "code",
      "metadata": {
        "id": "kf_mZ49jQBVB",
        "colab_type": "code",
        "colab": {}
      },
      "source": [
        "# Tách tập train và tập validation theo tỉ lệ 70%:30%\n",
        "train_X_df, val_X_df, train_y_sr, val_y_sr = train_test_split(X_df, y_sr, test_size=0.3, \n",
        "                                                              stratify=y_sr, random_state=0)"
      ],
      "execution_count": 0,
      "outputs": []
    },
    {
      "cell_type": "code",
      "metadata": {
        "id": "krTm1GmOQBVD",
        "colab_type": "code",
        "colab": {
          "base_uri": "https://localhost:8080/",
          "height": 252
        },
        "outputId": "232e6285-f0db-43b8-d49f-4b8a7aa5bbbb"
      },
      "source": [
        "train_X_df.info()"
      ],
      "execution_count": 12,
      "outputs": [
        {
          "output_type": "stream",
          "text": [
            "<class 'pandas.core.frame.DataFrame'>\n",
            "Int64Index: 34436 entries, 16268 to 68875\n",
            "Data columns (total 9 columns):\n",
            "title       34436 non-null object\n",
            "runtime     34436 non-null object\n",
            "des         34436 non-null object\n",
            "date        34436 non-null int64\n",
            "genre       34436 non-null object\n",
            "cast        34129 non-null object\n",
            "director    25407 non-null object\n",
            "vote        34436 non-null int64\n",
            "gross       3202 non-null object\n",
            "dtypes: int64(2), object(7)\n",
            "memory usage: 2.6+ MB\n"
          ],
          "name": "stdout"
        }
      ]
    },
    {
      "cell_type": "code",
      "metadata": {
        "id": "4d5eOsV-QBVH",
        "colab_type": "code",
        "colab": {
          "base_uri": "https://localhost:8080/",
          "height": 252
        },
        "outputId": "99beae1b-c2c5-4a1b-c39a-ad58c78949da"
      },
      "source": [
        "val_X_df.info()"
      ],
      "execution_count": 13,
      "outputs": [
        {
          "output_type": "stream",
          "text": [
            "<class 'pandas.core.frame.DataFrame'>\n",
            "Int64Index: 14759 entries, 51183 to 1438\n",
            "Data columns (total 9 columns):\n",
            "title       14759 non-null object\n",
            "runtime     14759 non-null object\n",
            "des         14759 non-null object\n",
            "date        14759 non-null int64\n",
            "genre       14759 non-null object\n",
            "cast        14617 non-null object\n",
            "director    10950 non-null object\n",
            "vote        14759 non-null int64\n",
            "gross       1366 non-null object\n",
            "dtypes: int64(2), object(7)\n",
            "memory usage: 1.1+ MB\n"
          ],
          "name": "stdout"
        }
      ]
    },
    {
      "cell_type": "code",
      "metadata": {
        "id": "JNW2PQ8GQBVL",
        "colab_type": "code",
        "colab": {
          "base_uri": "https://localhost:8080/",
          "height": 346
        },
        "outputId": "34c0f429-69ee-4ee3-b27a-d0abce1879bc"
      },
      "source": [
        "train_X_df.head()"
      ],
      "execution_count": 14,
      "outputs": [
        {
          "output_type": "execute_result",
          "data": {
            "text/html": [
              "<div>\n",
              "<style scoped>\n",
              "    .dataframe tbody tr th:only-of-type {\n",
              "        vertical-align: middle;\n",
              "    }\n",
              "\n",
              "    .dataframe tbody tr th {\n",
              "        vertical-align: top;\n",
              "    }\n",
              "\n",
              "    .dataframe thead th {\n",
              "        text-align: right;\n",
              "    }\n",
              "</style>\n",
              "<table border=\"1\" class=\"dataframe\">\n",
              "  <thead>\n",
              "    <tr style=\"text-align: right;\">\n",
              "      <th></th>\n",
              "      <th>title</th>\n",
              "      <th>runtime</th>\n",
              "      <th>des</th>\n",
              "      <th>date</th>\n",
              "      <th>genre</th>\n",
              "      <th>cast</th>\n",
              "      <th>director</th>\n",
              "      <th>vote</th>\n",
              "      <th>gross</th>\n",
              "    </tr>\n",
              "  </thead>\n",
              "  <tbody>\n",
              "    <tr>\n",
              "      <th>16268</th>\n",
              "      <td>Broken Souls</td>\n",
              "      <td>7</td>\n",
              "      <td>Darth Revan has long since slain Darth Mal...</td>\n",
              "      <td>2015</td>\n",
              "      <td>Short, Adventure</td>\n",
              "      <td>Jessica Smith, Abram Allred, David LaTomme, As...</td>\n",
              "      <td>Jared Seaich</td>\n",
              "      <td>23</td>\n",
              "      <td>NaN</td>\n",
              "    </tr>\n",
              "    <tr>\n",
              "      <th>2360</th>\n",
              "      <td>Awesome Asian Bad Guys</td>\n",
              "      <td>52</td>\n",
              "      <td>An action/comedy about two offbeat filmmak...</td>\n",
              "      <td>2014</td>\n",
              "      <td>Action, Comedy</td>\n",
              "      <td>Stephen Dypiangco, Patrick Epino, Tamlyn Tomit...</td>\n",
              "      <td>Directors:Stephen Dypiangco, Patrick Epino</td>\n",
              "      <td>52</td>\n",
              "      <td>NaN</td>\n",
              "    </tr>\n",
              "    <tr>\n",
              "      <th>2072</th>\n",
              "      <td>Juba the iraqi sniper the untold story</td>\n",
              "      <td>0</td>\n",
              "      <td>Add a Plot</td>\n",
              "      <td>2018</td>\n",
              "      <td>Short, Action</td>\n",
              "      <td>Mark Krenik, Alessandra DeMartino, Kevin Calib...</td>\n",
              "      <td>Samir Ali</td>\n",
              "      <td>15</td>\n",
              "      <td>NaN</td>\n",
              "    </tr>\n",
              "    <tr>\n",
              "      <th>45013</th>\n",
              "      <td>Addicted to Fame</td>\n",
              "      <td>89</td>\n",
              "      <td>A documentary that goes behind the scenes ...</td>\n",
              "      <td>2012</td>\n",
              "      <td>Documentary, Biography, Comedy</td>\n",
              "      <td>Anna Nicole Smith, David Giancola, John James,...</td>\n",
              "      <td>David Giancola</td>\n",
              "      <td>212</td>\n",
              "      <td>NaN</td>\n",
              "    </tr>\n",
              "    <tr>\n",
              "      <th>10086</th>\n",
              "      <td>Into the Badlands</td>\n",
              "      <td>42</td>\n",
              "      <td>A mighty warrior and a young boy search fo...</td>\n",
              "      <td>2019</td>\n",
              "      <td>Action, Adventure, Drama</td>\n",
              "      <td>Daniel Wu, Orla Brady, Emily Beecham, Aramis K...</td>\n",
              "      <td>NaN</td>\n",
              "      <td>37773</td>\n",
              "      <td>NaN</td>\n",
              "    </tr>\n",
              "  </tbody>\n",
              "</table>\n",
              "</div>"
            ],
            "text/plain": [
              "                                        title runtime  ...   vote  gross\n",
              "16268                            Broken Souls       7  ...     23    NaN\n",
              "2360                   Awesome Asian Bad Guys      52  ...     52    NaN\n",
              "2072   Juba the iraqi sniper the untold story       0  ...     15    NaN\n",
              "45013                        Addicted to Fame      89  ...    212    NaN\n",
              "10086                       Into the Badlands      42  ...  37773    NaN\n",
              "\n",
              "[5 rows x 9 columns]"
            ]
          },
          "metadata": {
            "tags": []
          },
          "execution_count": 14
        }
      ]
    },
    {
      "cell_type": "code",
      "metadata": {
        "id": "DPKhwTRyQBVU",
        "colab_type": "code",
        "colab": {}
      },
      "source": [
        "genre_rating_df = train_X_df[\"genre\"].to_frame().join(train_y_sr)"
      ],
      "execution_count": 0,
      "outputs": []
    },
    {
      "cell_type": "code",
      "metadata": {
        "id": "ZWU9v1N8QBVX",
        "colab_type": "code",
        "outputId": "bba05586-5c9f-4f98-b4f1-3fe31a11a6fc",
        "colab": {
          "base_uri": "https://localhost:8080/",
          "height": 195
        }
      },
      "source": [
        "genre_rating_df.head()"
      ],
      "execution_count": 16,
      "outputs": [
        {
          "output_type": "execute_result",
          "data": {
            "text/html": [
              "<div>\n",
              "<style scoped>\n",
              "    .dataframe tbody tr th:only-of-type {\n",
              "        vertical-align: middle;\n",
              "    }\n",
              "\n",
              "    .dataframe tbody tr th {\n",
              "        vertical-align: top;\n",
              "    }\n",
              "\n",
              "    .dataframe thead th {\n",
              "        text-align: right;\n",
              "    }\n",
              "</style>\n",
              "<table border=\"1\" class=\"dataframe\">\n",
              "  <thead>\n",
              "    <tr style=\"text-align: right;\">\n",
              "      <th></th>\n",
              "      <th>genre</th>\n",
              "      <th>rating</th>\n",
              "    </tr>\n",
              "  </thead>\n",
              "  <tbody>\n",
              "    <tr>\n",
              "      <th>16268</th>\n",
              "      <td>Short, Adventure</td>\n",
              "      <td>6.8</td>\n",
              "    </tr>\n",
              "    <tr>\n",
              "      <th>2360</th>\n",
              "      <td>Action, Comedy</td>\n",
              "      <td>7.2</td>\n",
              "    </tr>\n",
              "    <tr>\n",
              "      <th>2072</th>\n",
              "      <td>Short, Action</td>\n",
              "      <td>9.9</td>\n",
              "    </tr>\n",
              "    <tr>\n",
              "      <th>45013</th>\n",
              "      <td>Documentary, Biography, Comedy</td>\n",
              "      <td>3.7</td>\n",
              "    </tr>\n",
              "    <tr>\n",
              "      <th>10086</th>\n",
              "      <td>Action, Adventure, Drama</td>\n",
              "      <td>8.0</td>\n",
              "    </tr>\n",
              "  </tbody>\n",
              "</table>\n",
              "</div>"
            ],
            "text/plain": [
              "                                            genre  rating\n",
              "16268                Short, Adventure                 6.8\n",
              "2360                   Action, Comedy                 7.2\n",
              "2072                    Short, Action                 9.9\n",
              "45013  Documentary, Biography, Comedy                 3.7\n",
              "10086        Action, Adventure, Drama                 8.0"
            ]
          },
          "metadata": {
            "tags": []
          },
          "execution_count": 16
        }
      ]
    },
    {
      "cell_type": "code",
      "metadata": {
        "id": "qAWnzp4PQBVb",
        "colab_type": "code",
        "outputId": "7a2045b1-6fe2-437c-81f0-934dff3f201a",
        "colab": {
          "base_uri": "https://localhost:8080/",
          "height": 318
        }
      },
      "source": [
        "from collections import Counter\n",
        "\n",
        "list_gens = list(genre_rating_df.genre)\n",
        "unique_gen = []\n",
        "for g in list_gens:\n",
        "    unique_gen += g.strip().split(\", \")\n",
        "dict_gens = Counter(unique_gen)\n",
        "print(dict_gens)\n",
        "print(\"len = \",len(dict_gens))\n",
        "plt.figure(figsize=(26,4))\n",
        "plt.bar(dict_gens.keys(),dict_gens.values(), width = 0.5, color=plt.cm.Paired(np.arange(len(dict_gens))))\n",
        "plt.show()"
      ],
      "execution_count": 17,
      "outputs": [
        {
          "output_type": "stream",
          "text": [
            "Counter({'Comedy': 11900, 'Documentary': 9118, 'Drama': 9056, 'Action': 8800, 'Short': 6953, 'Adventure': 6674, 'Crime': 5169, 'Animation': 5068, 'Romance': 4177, 'Biography': 3726, 'Family': 1528, 'Thriller': 1464, 'Horror': 1393, 'History': 1266, 'Fantasy': 1265, 'Sci-Fi': 1019, 'Music': 971, 'Mystery': 883, 'Sport': 576, 'News': 228, 'Musical': 200, 'War': 200, 'Reality-TV': 192, 'Talk-Show': 87, 'Western': 77, 'Game-Show': 52})\n",
            "len =  26\n"
          ],
          "name": "stdout"
        },
        {
          "output_type": "display_data",
          "data": {
            "image/png": "[encoded data removed]",
            "text/plain": [
              "<Figure size 1872x288 with 1 Axes>"
            ]
          },
          "metadata": {
            "tags": []
          }
        }
      ]
    },
    {
      "cell_type": "markdown",
      "metadata": {
        "id": "XmSS5m2qQBVd",
        "colab_type": "text"
      },
      "source": [
        ""
      ]
    },
    {
      "cell_type": "code",
      "metadata": {
        "id": "AFqke6B9QBVe",
        "colab_type": "code",
        "outputId": "f621d52e-fd7a-456b-e740-6fa246fe7e9c",
        "colab": {
          "base_uri": "https://localhost:8080/",
          "height": 285
        }
      },
      "source": [
        "hist = {}\n",
        "for i in range(genre_rating_df.shape[0]):\n",
        "  genres = genre_rating_df.iloc[i].genre.strip().split(\", \")\n",
        "  rating  = genre_rating_df.iloc[i].rating\n",
        "  for g in genres:\n",
        "    if g not in hist:\n",
        "      hist[g] = [rating]\n",
        "    else:\n",
        "      hist[g].append(rating)\n",
        "keys = list(hist.keys())\n",
        "vals = list(hist.values())\n",
        "vals = [np.mean(x) for x in vals]\n",
        "\n",
        "assert len(keys) == len(vals)\n",
        "hist_df = pd.DataFrame(columns=[\"genre\",\"avg_score\"])\n",
        "hist_df.genre = keys\n",
        "hist_df.avg_score = vals\n",
        "hist_df = hist_df.sort_values(by = [\"avg_score\"],ascending=False)\n",
        "hist_df.plot.bar()\n"
      ],
      "execution_count": 18,
      "outputs": [
        {
          "output_type": "execute_result",
          "data": {
            "text/plain": [
              "<matplotlib.axes._subplots.AxesSubplot at 0x7f185f8cd9e8>"
            ]
          },
          "metadata": {
            "tags": []
          },
          "execution_count": 18
        },
        {
          "output_type": "display_data",
          "data": {
            "image/png": "[encoded data removed]",
            "text/plain": [
              "<Figure size 432x288 with 1 Axes>"
            ]
          },
          "metadata": {
            "tags": []
          }
        }
      ]
    },
    {
      "cell_type": "code",
      "metadata": {
        "id": "5qOxLvloQBVg",
        "colab_type": "code",
        "colab": {
          "base_uri": "https://localhost:8080/",
          "height": 470
        },
        "outputId": "8bf2fef2-5eba-485a-f70b-4d9870551215"
      },
      "source": [
        "print(hist_df)"
      ],
      "execution_count": 19,
      "outputs": [
        {
          "output_type": "stream",
          "text": [
            "          genre  avg_score\n",
            "4   Documentary   7.286598\n",
            "5     Biography   7.206871\n",
            "7       History   7.174961\n",
            "0         Short   7.163944\n",
            "20        Sport   7.160590\n",
            "22         News   7.120614\n",
            "11    Talk-Show   7.091954\n",
            "17        Music   7.053965\n",
            "21   Reality-TV   6.935938\n",
            "8     Animation   6.727802\n",
            "19      Musical   6.691500\n",
            "6         Drama   6.571864\n",
            "1     Adventure   6.546659\n",
            "9         Crime   6.528594\n",
            "23          War   6.521500\n",
            "15      Mystery   6.512797\n",
            "18      Fantasy   6.449091\n",
            "12       Family   6.433377\n",
            "10      Romance   6.405794\n",
            "3        Comedy   6.380025\n",
            "24      Western   6.357143\n",
            "2        Action   6.327705\n",
            "25    Game-Show   6.269231\n",
            "13       Sci-Fi   6.050736\n",
            "14     Thriller   5.726434\n",
            "16       Horror   5.478894\n"
          ],
          "name": "stdout"
        }
      ]
    },
    {
      "cell_type": "code",
      "metadata": {
        "id": "v4nhvGDG2sGC",
        "colab_type": "code",
        "colab": {}
      },
      "source": [
        "class tf_idf(BaseEstimator, TransformerMixin):\n",
        "  def __init__(self, columns):\n",
        "    self.columns = columns\n",
        "  def fit(self, X_df, y=None):\n",
        "    self.vectorizer = []\n",
        "    for column in self.columns:\n",
        "      tf = TfidfVectorizer()\n",
        "      self.vectorizer.append(tf.fit(X_df[column]))\n",
        "    return self\n",
        "  def transform(self, X_df, y=None):\n",
        "    new_X_df = X_df.copy()\n",
        "    for i, column in enumerate(self.columns):\n",
        "      transformed = self.vectorizer[i].transform(new_X_df[column])\n",
        "      new_X_df[column] = [transformed[j].sum() for j in range(len(new_X_df))]\n",
        "    return new_X_df"
      ],
      "execution_count": 0,
      "outputs": []
    },
    {
      "cell_type": "code",
      "metadata": {
        "id": "BpLc2j7SQBWq",
        "colab_type": "code",
        "colab": {}
      },
      "source": [
        "columns = ['genre','cast','director']\n",
        "preprocess_pipeline= Pipeline(steps=[('compute_tfidf', tf_idf(columns)),\n",
        "                                     ('imputing',SimpleImputer(missing_values = 0, strategy='median')),\n",
        "                                     (\"scaling\",StandardScaler())])"
      ],
      "execution_count": 0,
      "outputs": []
    },
    {
      "cell_type": "markdown",
      "metadata": {
        "id": "hPjPpeVkTWed",
        "colab_type": "text"
      },
      "source": [
        "###Predict"
      ]
    },
    {
      "cell_type": "code",
      "metadata": {
        "id": "y2whE3TFL2C1",
        "colab_type": "code",
        "colab": {}
      },
      "source": [
        "#replace NaN element in cast to \"other\"\n",
        "def fill_na(df):\n",
        "  df = df.drop(columns=['title','des']) # not necessary for predicting\n",
        "  df[\"director\"] = df[\"director\"].fillna(\"other_director\");\n",
        "  df[\"cast\"] = df[\"cast\"].fillna(\"other_cast\");\n",
        "  df[\"gross\"] = df[\"gross\"].fillna(\"0.0\");\n",
        "  #define money\n",
        "  money = {\"M\": 10**6, \"B\": 10**12, \"G\": 10**9, \"P\": 10**15, \"K\": 10**3, \"0\": 0}\n",
        "  for i in range(len(df)):\n",
        "      \n",
        "      df.gross.iloc[i] = float(re.findall(\"\\d+\\.\\d+\", df.gross.iloc[i])[0]) * money[df.gross.iloc[i][-1]]\n",
        "  return df"
      ],
      "execution_count": 0,
      "outputs": []
    },
    {
      "cell_type": "code",
      "metadata": {
        "id": "C0oKa2zxUO5l",
        "colab_type": "code",
        "colab": {}
      },
      "source": [
        "from sklearn.metrics import mean_squared_error\n"
      ],
      "execution_count": 0,
      "outputs": []
    },
    {
      "cell_type": "code",
      "metadata": {
        "id": "dZoF59O4QJUY",
        "colab_type": "code",
        "colab": {}
      },
      "source": [
        "full_pipeline = Pipeline(steps=[('preprocess',preprocess_pipeline),\n",
        "                                (\"regress\", RandomForestRegressor(max_depth=10))])"
      ],
      "execution_count": 0,
      "outputs": []
    },
    {
      "cell_type": "code",
      "metadata": {
        "id": "Z0ApWFSbZZ5N",
        "colab_type": "code",
        "colab": {}
      },
      "source": [
        "linear_regress_pipeline = Pipeline(steps=[('preprocess',preprocess_pipeline),\n",
        "                                (\"regress\", LinearRegression())])"
      ],
      "execution_count": 0,
      "outputs": []
    },
    {
      "cell_type": "markdown",
      "metadata": {
        "id": "DBSIjgQ5cTvC",
        "colab_type": "text"
      },
      "source": [
        "Linear Regression Model"
      ]
    },
    {
      "cell_type": "code",
      "metadata": {
        "id": "blOFURFhZyto",
        "colab_type": "code",
        "colab": {
          "base_uri": "https://localhost:8080/",
          "height": 101
        },
        "outputId": "2662c99e-79db-4691-b40d-6e44c09aa3c1"
      },
      "source": [
        "filled_train_X_df = fill_na(train_X_df)\n",
        "filled_val_X_df = fill_na(val_X_df)\n",
        "linear_regress_pipeline.fit(filled_train_X_df, train_y_sr)\n",
        "val_err = (1- linear_regress_pipeline.score(filled_val_X_df, val_y_sr))*100\n",
        "train_err = (1 -  linear_regress_pipeline.score(filled_train_X_df, train_y_sr)) * 100"
      ],
      "execution_count": 26,
      "outputs": [
        {
          "output_type": "stream",
          "text": [
            "/usr/local/lib/python3.6/dist-packages/pandas/core/indexing.py:205: SettingWithCopyWarning: \n",
            "A value is trying to be set on a copy of a slice from a DataFrame\n",
            "\n",
            "See the caveats in the documentation: http://pandas.pydata.org/pandas-docs/stable/user_guide/indexing.html#returning-a-view-versus-a-copy\n",
            "  self._setitem_with_indexer(indexer, value)\n"
          ],
          "name": "stderr"
        }
      ]
    },
    {
      "cell_type": "code",
      "metadata": {
        "id": "sT1MHcGncgoq",
        "colab_type": "code",
        "outputId": "ce05d204-6fcb-4c28-9ca1-dd92f42b5ba0",
        "colab": {
          "base_uri": "https://localhost:8080/",
          "height": 50
        }
      },
      "source": [
        "print(\"Error on train set: {}\".format(train_err))\n",
        "print(\"Error on val set: {}\".format(val_err))"
      ],
      "execution_count": 27,
      "outputs": [
        {
          "output_type": "stream",
          "text": [
            "Error on train set: 94.27973415539606\n",
            "Error on val set: 94.004392909143\n"
          ],
          "name": "stdout"
        }
      ]
    },
    {
      "cell_type": "code",
      "metadata": {
        "id": "UNQTvb7FaqJ0",
        "colab_type": "code",
        "colab": {}
      },
      "source": [
        "linear_preds = linear_regress_pipeline.predict(filled_val_X_df)"
      ],
      "execution_count": 0,
      "outputs": []
    },
    {
      "cell_type": "code",
      "metadata": {
        "id": "kO2j_7c3ZF34",
        "colab_type": "code",
        "outputId": "6a91b58b-292d-4a46-9271-6e6e5e25327a",
        "colab": {
          "base_uri": "https://localhost:8080/",
          "height": 301
        }
      },
      "source": [
        "linear_pred_df = pd.DataFrame(columns =['pred','true'])\n",
        "linear_pred_df['pred'] = linear_preds[:30]\n",
        "linear_pred_df['true'] = list(val_y_sr[:30])\n",
        "linear_pred_df.plot.bar()\n",
        "plt.title(\"Result of the first 30 entries of val set\")"
      ],
      "execution_count": 29,
      "outputs": [
        {
          "output_type": "execute_result",
          "data": {
            "text/plain": [
              "Text(0.5, 1.0, 'Result of the first 30 entries of val set')"
            ]
          },
          "metadata": {
            "tags": []
          },
          "execution_count": 29
        },
        {
          "output_type": "display_data",
          "data": {
            "image/png": "[encoded data removed]",
            "text/plain": [
              "<Figure size 432x288 with 1 Axes>"
            ]
          },
          "metadata": {
            "tags": []
          }
        }
      ]
    },
    {
      "cell_type": "markdown",
      "metadata": {
        "id": "VuBCplG8cRVK",
        "colab_type": "text"
      },
      "source": [
        "RandomForest Model"
      ]
    },
    {
      "cell_type": "code",
      "metadata": {
        "id": "XvPxyei9UVdo",
        "colab_type": "code",
        "outputId": "e43cdeab-0332-40b2-aba6-0d0bffc50aa2",
        "colab": {
          "base_uri": "https://localhost:8080/",
          "height": 386
        }
      },
      "source": [
        "%%time\n",
        "max_depth = [10,20,30,40]\n",
        "n_estimators = [40, 50, 60]\n",
        "best_depth = 0\n",
        "val_errs = []\n",
        "train_errs = []\n",
        "best_val_err = float('inf')\n",
        "best_estimator = 0\n",
        "filled_train_X_df = fill_na(train_X_df)\n",
        "filled_val_X_df = fill_na(val_X_df)\n",
        "for estimator in n_estimators:\n",
        "  print(\"estimator: {}\".format(estimator))\n",
        "  for depth in max_depth:\n",
        "    print(\"depth: {}\".format(depth))\n",
        "    full_pipeline.set_params(regress__n_estimators=estimator, regress__max_depth=depth)\n",
        "    full_pipeline.fit(filled_train_X_df,train_y_sr)\n",
        "    cur_train_err = (1 -  full_pipeline.score(filled_train_X_df, train_y_sr)) * 100\n",
        "    train_errs.append(cur_train_err)\n",
        "    cur_val_err = (1- full_pipeline.score(filled_val_X_df, val_y_sr))*100\n",
        "    val_errs.append(cur_val_err)\n",
        "    if cur_val_err < best_val_err:\n",
        "      best_val_err = cur_val_err\n",
        "      best_estimator = estimator\n",
        "      best_depth = depth\n"
      ],
      "execution_count": 30,
      "outputs": [
        {
          "output_type": "stream",
          "text": [
            "/usr/local/lib/python3.6/dist-packages/pandas/core/indexing.py:205: SettingWithCopyWarning: \n",
            "A value is trying to be set on a copy of a slice from a DataFrame\n",
            "\n",
            "See the caveats in the documentation: http://pandas.pydata.org/pandas-docs/stable/user_guide/indexing.html#returning-a-view-versus-a-copy\n",
            "  self._setitem_with_indexer(indexer, value)\n"
          ],
          "name": "stderr"
        },
        {
          "output_type": "stream",
          "text": [
            "estimator: 40\n",
            "depth: 10\n",
            "depth: 20\n",
            "depth: 30\n",
            "depth: 40\n",
            "estimator: 50\n",
            "depth: 10\n",
            "depth: 20\n",
            "depth: 30\n",
            "depth: 40\n",
            "estimator: 60\n",
            "depth: 10\n",
            "depth: 20\n",
            "depth: 30\n",
            "depth: 40\n",
            "CPU times: user 17min 30s, sys: 11.3 s, total: 17min 41s\n",
            "Wall time: 17min 33s\n"
          ],
          "name": "stdout"
        }
      ]
    },
    {
      "cell_type": "code",
      "metadata": {
        "id": "NSV3JvHvYeKU",
        "colab_type": "code",
        "outputId": "554a5e0d-174e-42be-b212-fdddeef7d8ae",
        "colab": {
          "base_uri": "https://localhost:8080/",
          "height": 84
        }
      },
      "source": [
        "%%time\n",
        "print(\"best depth: {}\".format(best_depth))\n",
        "print(\"best estimator: {}\".format(best_estimator))"
      ],
      "execution_count": 31,
      "outputs": [
        {
          "output_type": "stream",
          "text": [
            "best depth: 30\n",
            "best estimator: 50\n",
            "CPU times: user 944 µs, sys: 0 ns, total: 944 µs\n",
            "Wall time: 834 µs\n"
          ],
          "name": "stdout"
        }
      ]
    },
    {
      "cell_type": "code",
      "metadata": {
        "id": "y8dQNeiSY3fa",
        "colab_type": "code",
        "outputId": "7589a668-4173-47b0-f3b7-105655e75126",
        "colab": {
          "base_uri": "https://localhost:8080/",
          "height": 34
        }
      },
      "source": [
        "best_val_err"
      ],
      "execution_count": 33,
      "outputs": [
        {
          "output_type": "execute_result",
          "data": {
            "text/plain": [
              "59.1436928535506"
            ]
          },
          "metadata": {
            "tags": []
          },
          "execution_count": 33
        }
      ]
    },
    {
      "cell_type": "code",
      "metadata": {
        "id": "-f47cpz2Zihb",
        "colab_type": "code",
        "colab": {}
      },
      "source": [
        "# train again with best_depth and best_estimator\n",
        "full_pipeline.set_params(regress__n_estimators=best_estimator, regress__max_depth=best_depth)\n",
        "full_pipeline.fit(filled_train_X_df,train_y_sr)\n",
        "forest_preds = full_pipeline.predict(filled_val_X_df)"
      ],
      "execution_count": 0,
      "outputs": []
    },
    {
      "cell_type": "code",
      "metadata": {
        "id": "yxxzS4mpZ-iF",
        "colab_type": "code",
        "outputId": "0d144513-b165-4330-989f-ad7c162620e8",
        "colab": {
          "base_uri": "https://localhost:8080/",
          "height": 301
        }
      },
      "source": [
        "randomforest_df = pd.DataFrame(columns =['pred','true'])\n",
        "randomforest_df['pred'] = forest_preds[:30]\n",
        "randomforest_df['true'] = list(val_y_sr[:30])\n",
        "randomforest_df.plot.bar()\n",
        "plt.title(\"Result of the first 30 entries of val set\")"
      ],
      "execution_count": 35,
      "outputs": [
        {
          "output_type": "execute_result",
          "data": {
            "text/plain": [
              "Text(0.5, 1.0, 'Result of the first 30 entries of val set')"
            ]
          },
          "metadata": {
            "tags": []
          },
          "execution_count": 35
        },
        {
          "output_type": "display_data",
          "data": {
            "image/png": "[encoded data removed]",
            "text/plain": [
              "<Figure size 432x288 with 1 Axes>"
            ]
          },
          "metadata": {
            "tags": []
          }
        }
      ]
    },
    {
      "cell_type": "code",
      "metadata": {
        "id": "hn-N7VV0uCRT",
        "colab_type": "code",
        "colab": {}
      },
      "source": [
        ""
      ],
      "execution_count": 0,
      "outputs": []
    }
  ]
}