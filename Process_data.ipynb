{
 "cells": [
  {
   "cell_type": "markdown",
   "metadata": {
    "colab_type": "text",
    "id": "view-in-github"
   },
   "source": [
    "<a href=\"https://colab.research.google.com/github/hungviet0304/DS_Final_project/blob/master/Process_data.ipynb\" target=\"_parent\"><img src=\"https://colab.research.google.com/assets/colab-badge.svg\" alt=\"Open In Colab\"/></a>"
   ]
  },
  {
   "cell_type": "markdown",
   "metadata": {
    "colab_type": "text",
    "id": "M6g-TvS1Qmmh"
   },
   "source": [
    "Import Section\n",
    "==="
   ]
  },
  {
   "cell_type": "code",
   "execution_count": 1,
   "metadata": {
    "colab": {},
    "colab_type": "code",
    "id": "TmvHT3tAgeFe"
   },
   "outputs": [],
   "source": [
    "import pandas as pd\n",
    "import numpy as np\n",
    "import os\n",
    "import copy\n",
    "import math\n",
    "from sklearn.feature_extraction.text import TfidfVectorizer\n",
    "%matplotlib inline"
   ]
  },
  {
   "cell_type": "code",
   "execution_count": 2,
   "metadata": {
    "colab": {},
    "colab_type": "code",
    "id": "C0oKa2zxUO5l"
   },
   "outputs": [],
   "source": [
    "from sklearn.metrics import mean_squared_error\n"
   ]
  },
  {
   "cell_type": "code",
   "execution_count": 3,
   "metadata": {
    "colab": {},
    "colab_type": "code",
    "id": "ZFGvEpk_TZH0"
   },
   "outputs": [],
   "source": [
    "from sklearn.linear_model import LinearRegression\n",
    "from sklearn.ensemble import RandomForestRegressor"
   ]
  },
  {
   "cell_type": "code",
   "execution_count": 4,
   "metadata": {
    "colab": {},
    "colab_type": "code",
    "id": "UzGXdG_qQBUm"
   },
   "outputs": [],
   "source": [
    "%matplotlib inline\n",
    "import matplotlib.pyplot as plt\n",
    "import seaborn as sns # seaborn là thư viện được xây trên matplotlib, giúp việc visualization đỡ khổ hơn\n",
    "import pandas as pd\n",
    "import numpy as np\n",
    "\n",
    "from sklearn.model_selection import train_test_split\n",
    "from sklearn.preprocessing import OneHotEncoder, StandardScaler\n",
    "from sklearn.impute import SimpleImputer\n",
    "from sklearn.base import BaseEstimator, TransformerMixin\n",
    "from sklearn.pipeline import Pipeline, make_pipeline\n",
    "from sklearn.compose import ColumnTransformer, make_column_transformer\n",
    "from sklearn.neural_network import MLPClassifier\n",
    "\n",
    "# You can also import other things ...\n",
    "# YOUR CODE HERE (OPTION)\n",
    "import re\n",
    "from sklearn import preprocessing"
   ]
  },
  {
   "cell_type": "markdown",
   "metadata": {
    "colab_type": "text",
    "id": "jzj-RHoqQs6s"
   },
   "source": [
    "Load and split\n",
    "==="
   ]
  },
  {
   "cell_type": "code",
   "execution_count": 5,
   "metadata": {
    "colab": {
     "base_uri": "https://localhost:8080/",
     "height": 34
    },
    "colab_type": "code",
    "id": "T8gWEy6wRTtk",
    "outputId": "73f0bbbf-29cf-416f-c845-4c851ee77759"
   },
   "outputs": [
    {
     "name": "stdout",
     "output_type": "stream",
     "text": [
      "Drive already mounted at /content/drive; to attempt to forcibly remount, call drive.mount(\"/content/drive\", force_remount=True).\n"
     ]
    }
   ],
   "source": [
    "from google.colab import drive\n",
    "drive.mount('/content/drive')"
   ]
  },
  {
   "cell_type": "code",
   "execution_count": 6,
   "metadata": {
    "colab": {
     "base_uri": "https://localhost:8080/",
     "height": 34
    },
    "colab_type": "code",
    "id": "1-7a_oL9RZ0M",
    "outputId": "f527e44d-3547-4fc9-92f2-db49512e939a"
   },
   "outputs": [
    {
     "name": "stdout",
     "output_type": "stream",
     "text": [
      "/content/drive/My Drive/Colab Notebooks/DS/Project/Data\n"
     ]
    }
   ],
   "source": [
    "cd \"drive/My Drive/Colab Notebooks/DS/Project/Data\""
   ]
  },
  {
   "cell_type": "code",
   "execution_count": 11,
   "metadata": {},
   "outputs": [
    {
     "name": "stdout",
     "output_type": "stream",
     "text": [
      "C:\\Users\\Admin\\Documents\\GitHub\\DS_Final_project\\data\n"
     ]
    }
   ],
   "source": [
    "#pwd = %pwd\n",
    "#if pwd != 'C:\\\\Users\\\\Admin\\\\Documents\\\\GitHub\\\\DS_Final_project\\\\data':\n",
    "#    %cd ./data"
   ]
  },
  {
   "cell_type": "code",
   "execution_count": 12,
   "metadata": {
    "colab": {},
    "colab_type": "code",
    "id": "u_XKai6DQBUx"
   },
   "outputs": [],
   "source": [
    "# load data\n",
    "file_list = os.listdir()\n",
    "data_tmp = []\n",
    "for file in file_list:\n",
    "    df = pd.read_csv(file)\n",
    "    data_tmp.append(df)\n",
    "final_df = pd.concat(data_tmp, axis = 0, ignore_index=True)"
   ]
  },
  {
   "cell_type": "code",
   "execution_count": 13,
   "metadata": {
    "colab": {
     "base_uri": "https://localhost:8080/",
     "height": 373
    },
    "colab_type": "code",
    "id": "xlhGggFgQBU5",
    "outputId": "9d019bb2-9c8f-42c2-92b2-e2640f4ff350"
   },
   "outputs": [
    {
     "data": {
      "text/html": [
       "<div>\n",
       "<style scoped>\n",
       "    .dataframe tbody tr th:only-of-type {\n",
       "        vertical-align: middle;\n",
       "    }\n",
       "\n",
       "    .dataframe tbody tr th {\n",
       "        vertical-align: top;\n",
       "    }\n",
       "\n",
       "    .dataframe thead th {\n",
       "        text-align: right;\n",
       "    }\n",
       "</style>\n",
       "<table border=\"1\" class=\"dataframe\">\n",
       "  <thead>\n",
       "    <tr style=\"text-align: right;\">\n",
       "      <th></th>\n",
       "      <th>title</th>\n",
       "      <th>runtime</th>\n",
       "      <th>des</th>\n",
       "      <th>date</th>\n",
       "      <th>genre</th>\n",
       "      <th>cast</th>\n",
       "      <th>director</th>\n",
       "      <th>vote</th>\n",
       "      <th>gross</th>\n",
       "      <th>rating</th>\n",
       "    </tr>\n",
       "  </thead>\n",
       "  <tbody>\n",
       "    <tr>\n",
       "      <td>count</td>\n",
       "      <td>78450</td>\n",
       "      <td>78450</td>\n",
       "      <td>78447</td>\n",
       "      <td>78450.000000</td>\n",
       "      <td>78450</td>\n",
       "      <td>77035</td>\n",
       "      <td>55833</td>\n",
       "      <td>7.845000e+04</td>\n",
       "      <td>4529</td>\n",
       "      <td>78450.000000</td>\n",
       "    </tr>\n",
       "    <tr>\n",
       "      <td>unique</td>\n",
       "      <td>60555</td>\n",
       "      <td>552</td>\n",
       "      <td>57146</td>\n",
       "      <td>NaN</td>\n",
       "      <td>1014</td>\n",
       "      <td>61886</td>\n",
       "      <td>35901</td>\n",
       "      <td>NaN</td>\n",
       "      <td>1278</td>\n",
       "      <td>NaN</td>\n",
       "    </tr>\n",
       "    <tr>\n",
       "      <td>top</td>\n",
       "      <td>Run</td>\n",
       "      <td>0</td>\n",
       "      <td>Add a Plot</td>\n",
       "      <td>NaN</td>\n",
       "      <td>Documentary</td>\n",
       "      <td>Missy Jubilee</td>\n",
       "      <td>Kevin Dunn</td>\n",
       "      <td>NaN</td>\n",
       "      <td>$0.01M</td>\n",
       "      <td>NaN</td>\n",
       "    </tr>\n",
       "    <tr>\n",
       "      <td>freq</td>\n",
       "      <td>15</td>\n",
       "      <td>7605</td>\n",
       "      <td>8135</td>\n",
       "      <td>NaN</td>\n",
       "      <td>5444</td>\n",
       "      <td>26</td>\n",
       "      <td>98</td>\n",
       "      <td>NaN</td>\n",
       "      <td>342</td>\n",
       "      <td>NaN</td>\n",
       "    </tr>\n",
       "    <tr>\n",
       "      <td>mean</td>\n",
       "      <td>NaN</td>\n",
       "      <td>NaN</td>\n",
       "      <td>NaN</td>\n",
       "      <td>2014.172569</td>\n",
       "      <td>NaN</td>\n",
       "      <td>NaN</td>\n",
       "      <td>NaN</td>\n",
       "      <td>4.836305e+03</td>\n",
       "      <td>NaN</td>\n",
       "      <td>4.144744</td>\n",
       "    </tr>\n",
       "    <tr>\n",
       "      <td>std</td>\n",
       "      <td>NaN</td>\n",
       "      <td>NaN</td>\n",
       "      <td>NaN</td>\n",
       "      <td>26.032289</td>\n",
       "      <td>NaN</td>\n",
       "      <td>NaN</td>\n",
       "      <td>NaN</td>\n",
       "      <td>3.736042e+04</td>\n",
       "      <td>NaN</td>\n",
       "      <td>3.422669</td>\n",
       "    </tr>\n",
       "    <tr>\n",
       "      <td>min</td>\n",
       "      <td>NaN</td>\n",
       "      <td>NaN</td>\n",
       "      <td>NaN</td>\n",
       "      <td>0.000000</td>\n",
       "      <td>NaN</td>\n",
       "      <td>NaN</td>\n",
       "      <td>NaN</td>\n",
       "      <td>0.000000e+00</td>\n",
       "      <td>NaN</td>\n",
       "      <td>0.000000</td>\n",
       "    </tr>\n",
       "    <tr>\n",
       "      <td>25%</td>\n",
       "      <td>NaN</td>\n",
       "      <td>NaN</td>\n",
       "      <td>NaN</td>\n",
       "      <td>2013.000000</td>\n",
       "      <td>NaN</td>\n",
       "      <td>NaN</td>\n",
       "      <td>NaN</td>\n",
       "      <td>0.000000e+00</td>\n",
       "      <td>NaN</td>\n",
       "      <td>0.000000</td>\n",
       "    </tr>\n",
       "    <tr>\n",
       "      <td>50%</td>\n",
       "      <td>NaN</td>\n",
       "      <td>NaN</td>\n",
       "      <td>NaN</td>\n",
       "      <td>2015.000000</td>\n",
       "      <td>NaN</td>\n",
       "      <td>NaN</td>\n",
       "      <td>NaN</td>\n",
       "      <td>1.400000e+01</td>\n",
       "      <td>NaN</td>\n",
       "      <td>5.500000</td>\n",
       "    </tr>\n",
       "    <tr>\n",
       "      <td>75%</td>\n",
       "      <td>NaN</td>\n",
       "      <td>NaN</td>\n",
       "      <td>NaN</td>\n",
       "      <td>2016.000000</td>\n",
       "      <td>NaN</td>\n",
       "      <td>NaN</td>\n",
       "      <td>NaN</td>\n",
       "      <td>2.020000e+02</td>\n",
       "      <td>NaN</td>\n",
       "      <td>7.200000</td>\n",
       "    </tr>\n",
       "    <tr>\n",
       "      <td>max</td>\n",
       "      <td>NaN</td>\n",
       "      <td>NaN</td>\n",
       "      <td>NaN</td>\n",
       "      <td>2020.000000</td>\n",
       "      <td>NaN</td>\n",
       "      <td>NaN</td>\n",
       "      <td>NaN</td>\n",
       "      <td>1.624258e+06</td>\n",
       "      <td>NaN</td>\n",
       "      <td>10.000000</td>\n",
       "    </tr>\n",
       "  </tbody>\n",
       "</table>\n",
       "</div>"
      ],
      "text/plain": [
       "        title runtime         des          date                    genre  \\\n",
       "count   78450   78450       78447  78450.000000                    78450   \n",
       "unique  60555     552       57146           NaN                     1014   \n",
       "top       Run       0  Add a Plot           NaN  Documentary               \n",
       "freq       15    7605        8135           NaN                     5444   \n",
       "mean      NaN     NaN         NaN   2014.172569                      NaN   \n",
       "std       NaN     NaN         NaN     26.032289                      NaN   \n",
       "min       NaN     NaN         NaN      0.000000                      NaN   \n",
       "25%       NaN     NaN         NaN   2013.000000                      NaN   \n",
       "50%       NaN     NaN         NaN   2015.000000                      NaN   \n",
       "75%       NaN     NaN         NaN   2016.000000                      NaN   \n",
       "max       NaN     NaN         NaN   2020.000000                      NaN   \n",
       "\n",
       "                 cast    director          vote   gross        rating  \n",
       "count           77035       55833  7.845000e+04    4529  78450.000000  \n",
       "unique          61886       35901           NaN    1278           NaN  \n",
       "top     Missy Jubilee  Kevin Dunn           NaN  $0.01M           NaN  \n",
       "freq               26          98           NaN     342           NaN  \n",
       "mean              NaN         NaN  4.836305e+03     NaN      4.144744  \n",
       "std               NaN         NaN  3.736042e+04     NaN      3.422669  \n",
       "min               NaN         NaN  0.000000e+00     NaN      0.000000  \n",
       "25%               NaN         NaN  0.000000e+00     NaN      0.000000  \n",
       "50%               NaN         NaN  1.400000e+01     NaN      5.500000  \n",
       "75%               NaN         NaN  2.020000e+02     NaN      7.200000  \n",
       "max               NaN         NaN  1.624258e+06     NaN     10.000000  "
      ]
     },
     "execution_count": 13,
     "metadata": {},
     "output_type": "execute_result"
    }
   ],
   "source": [
    "final_df.describe(include=\"all\")"
   ]
  },
  {
   "cell_type": "code",
   "execution_count": 14,
   "metadata": {
    "colab": {
     "base_uri": "https://localhost:8080/",
     "height": 363
    },
    "colab_type": "code",
    "id": "6ZXAlZ5VQBU8",
    "outputId": "8654c752-e6ee-4b92-e814-e3506743c422"
   },
   "outputs": [
    {
     "data": {
      "text/html": [
       "<div>\n",
       "<style scoped>\n",
       "    .dataframe tbody tr th:only-of-type {\n",
       "        vertical-align: middle;\n",
       "    }\n",
       "\n",
       "    .dataframe tbody tr th {\n",
       "        vertical-align: top;\n",
       "    }\n",
       "\n",
       "    .dataframe thead th {\n",
       "        text-align: right;\n",
       "    }\n",
       "</style>\n",
       "<table border=\"1\" class=\"dataframe\">\n",
       "  <thead>\n",
       "    <tr style=\"text-align: right;\">\n",
       "      <th></th>\n",
       "      <th>title</th>\n",
       "      <th>runtime</th>\n",
       "      <th>des</th>\n",
       "      <th>date</th>\n",
       "      <th>genre</th>\n",
       "      <th>cast</th>\n",
       "      <th>director</th>\n",
       "      <th>vote</th>\n",
       "      <th>gross</th>\n",
       "      <th>rating</th>\n",
       "    </tr>\n",
       "  </thead>\n",
       "  <tbody>\n",
       "    <tr>\n",
       "      <td>0</td>\n",
       "      <td>Star Wars: Episode VIII - The Last Jedi</td>\n",
       "      <td>151</td>\n",
       "      <td>Rey develops her newly discovered abilitie...</td>\n",
       "      <td>2017</td>\n",
       "      <td>Action, Adventure, Fantasy</td>\n",
       "      <td>Daisy Ridley, John Boyega, Mark Hamill, Carrie...</td>\n",
       "      <td>Rian Johnson</td>\n",
       "      <td>511977</td>\n",
       "      <td>$620.18M</td>\n",
       "      <td>7.0</td>\n",
       "    </tr>\n",
       "    <tr>\n",
       "      <td>1</td>\n",
       "      <td>Game of Thrones</td>\n",
       "      <td>57</td>\n",
       "      <td>Nine noble families fight for control over...</td>\n",
       "      <td>2019</td>\n",
       "      <td>Action, Adventure, Drama</td>\n",
       "      <td>Emilia Clarke, Peter Dinklage, Kit Harington, ...</td>\n",
       "      <td>NaN</td>\n",
       "      <td>1624187</td>\n",
       "      <td>NaN</td>\n",
       "      <td>9.3</td>\n",
       "    </tr>\n",
       "    <tr>\n",
       "      <td>2</td>\n",
       "      <td>Vikings</td>\n",
       "      <td>44</td>\n",
       "      <td>Vikings transports us to the brutal and my...</td>\n",
       "      <td>2013</td>\n",
       "      <td>Action, Adventure, Drama</td>\n",
       "      <td>Katheryn Winnick, Gustaf Skarsgård, Alexander ...</td>\n",
       "      <td>NaN</td>\n",
       "      <td>367194</td>\n",
       "      <td>NaN</td>\n",
       "      <td>8.6</td>\n",
       "    </tr>\n",
       "    <tr>\n",
       "      <td>3</td>\n",
       "      <td>Star Wars: Episode VII - The Force Awakens</td>\n",
       "      <td>138</td>\n",
       "      <td>Three decades after the Empire's defeat, a...</td>\n",
       "      <td>2015</td>\n",
       "      <td>Action, Adventure, Sci-Fi</td>\n",
       "      <td>Daisy Ridley, John Boyega, Oscar Isaac, Domhna...</td>\n",
       "      <td>J.J. Abrams</td>\n",
       "      <td>818309</td>\n",
       "      <td>$936.66M</td>\n",
       "      <td>7.9</td>\n",
       "    </tr>\n",
       "    <tr>\n",
       "      <td>4</td>\n",
       "      <td>Rogue One: A Star Wars Story</td>\n",
       "      <td>133</td>\n",
       "      <td>The daughter of an Imperial scientist join...</td>\n",
       "      <td>2016</td>\n",
       "      <td>Action, Adventure, Sci-Fi</td>\n",
       "      <td>Felicity Jones, Diego Luna, Alan Tudyk, Donnie...</td>\n",
       "      <td>Gareth Edwards</td>\n",
       "      <td>511959</td>\n",
       "      <td>$532.18M</td>\n",
       "      <td>7.8</td>\n",
       "    </tr>\n",
       "  </tbody>\n",
       "</table>\n",
       "</div>"
      ],
      "text/plain": [
       "                                        title runtime  \\\n",
       "0     Star Wars: Episode VIII - The Last Jedi     151   \n",
       "1                             Game of Thrones      57   \n",
       "2                                     Vikings      44   \n",
       "3  Star Wars: Episode VII - The Force Awakens     138   \n",
       "4                Rogue One: A Star Wars Story     133   \n",
       "\n",
       "                                                 des  date  \\\n",
       "0      Rey develops her newly discovered abilitie...  2017   \n",
       "1      Nine noble families fight for control over...  2019   \n",
       "2      Vikings transports us to the brutal and my...  2013   \n",
       "3      Three decades after the Empire's defeat, a...  2015   \n",
       "4      The daughter of an Imperial scientist join...  2016   \n",
       "\n",
       "                                    genre  \\\n",
       "0  Action, Adventure, Fantasy               \n",
       "1    Action, Adventure, Drama               \n",
       "2    Action, Adventure, Drama               \n",
       "3   Action, Adventure, Sci-Fi               \n",
       "4   Action, Adventure, Sci-Fi               \n",
       "\n",
       "                                                cast        director     vote  \\\n",
       "0  Daisy Ridley, John Boyega, Mark Hamill, Carrie...    Rian Johnson   511977   \n",
       "1  Emilia Clarke, Peter Dinklage, Kit Harington, ...             NaN  1624187   \n",
       "2  Katheryn Winnick, Gustaf Skarsgård, Alexander ...             NaN   367194   \n",
       "3  Daisy Ridley, John Boyega, Oscar Isaac, Domhna...     J.J. Abrams   818309   \n",
       "4  Felicity Jones, Diego Luna, Alan Tudyk, Donnie...  Gareth Edwards   511959   \n",
       "\n",
       "      gross  rating  \n",
       "0  $620.18M     7.0  \n",
       "1       NaN     9.3  \n",
       "2       NaN     8.6  \n",
       "3  $936.66M     7.9  \n",
       "4  $532.18M     7.8  "
      ]
     },
     "execution_count": 14,
     "metadata": {},
     "output_type": "execute_result"
    }
   ],
   "source": [
    "df = final_df.copy()\n",
    "df = df[df.rating != 0]\n",
    "df = df.drop_duplicates(subset=None,keep=\"first\")\n",
    "df.head()"
   ]
  },
  {
   "cell_type": "code",
   "execution_count": 15,
   "metadata": {
    "colab": {},
    "colab_type": "code",
    "id": "pwZIznGcQBU_"
   },
   "outputs": [],
   "source": [
    "# Tách X và y\n",
    "y_sr = df[\"rating\"] # sr là viết tắt của series\n",
    "X_df = df.drop(\"rating\", axis=1)"
   ]
  },
  {
   "cell_type": "code",
   "execution_count": 16,
   "metadata": {
    "colab": {},
    "colab_type": "code",
    "id": "kf_mZ49jQBVB"
   },
   "outputs": [],
   "source": [
    "# Tách tập train và tập validation theo tỉ lệ 70%:30%\n",
    "train_X_df, val_X_df, train_y_sr, val_y_sr = train_test_split(X_df, y_sr, test_size=0.3, \n",
    "                                                              stratify=y_sr, random_state=0)"
   ]
  },
  {
   "cell_type": "code",
   "execution_count": 17,
   "metadata": {
    "colab": {
     "base_uri": "https://localhost:8080/",
     "height": 252
    },
    "colab_type": "code",
    "id": "krTm1GmOQBVD",
    "outputId": "e95b56e3-3dfb-4cf6-c5ea-de93078a36a1"
   },
   "outputs": [
    {
     "name": "stdout",
     "output_type": "stream",
     "text": [
      "<class 'pandas.core.frame.DataFrame'>\n",
      "Int64Index: 29834 entries, 49202 to 3929\n",
      "Data columns (total 9 columns):\n",
      "title       29834 non-null object\n",
      "runtime     29834 non-null object\n",
      "des         29834 non-null object\n",
      "date        29834 non-null int64\n",
      "genre       29834 non-null object\n",
      "cast        29558 non-null object\n",
      "director    21919 non-null object\n",
      "vote        29834 non-null int64\n",
      "gross       2610 non-null object\n",
      "dtypes: int64(2), object(7)\n",
      "memory usage: 2.3+ MB\n"
     ]
    }
   ],
   "source": [
    "train_X_df.info()"
   ]
  },
  {
   "cell_type": "code",
   "execution_count": 18,
   "metadata": {
    "colab": {
     "base_uri": "https://localhost:8080/",
     "height": 252
    },
    "colab_type": "code",
    "id": "4d5eOsV-QBVH",
    "outputId": "10c6d352-d7d3-485e-9cd6-8120ac1577e8"
   },
   "outputs": [
    {
     "name": "stdout",
     "output_type": "stream",
     "text": [
      "<class 'pandas.core.frame.DataFrame'>\n",
      "Int64Index: 12787 entries, 73623 to 69684\n",
      "Data columns (total 9 columns):\n",
      "title       12787 non-null object\n",
      "runtime     12787 non-null object\n",
      "des         12787 non-null object\n",
      "date        12787 non-null int64\n",
      "genre       12787 non-null object\n",
      "cast        12656 non-null object\n",
      "director    9363 non-null object\n",
      "vote        12787 non-null int64\n",
      "gross       1147 non-null object\n",
      "dtypes: int64(2), object(7)\n",
      "memory usage: 999.0+ KB\n"
     ]
    }
   ],
   "source": [
    "val_X_df.info()"
   ]
  },
  {
   "cell_type": "code",
   "execution_count": 19,
   "metadata": {
    "colab": {
     "base_uri": "https://localhost:8080/",
     "height": 346
    },
    "colab_type": "code",
    "id": "JNW2PQ8GQBVL",
    "outputId": "bd5f61f0-883c-4f83-ac31-d68ff18b7598"
   },
   "outputs": [
    {
     "data": {
      "text/html": [
       "<div>\n",
       "<style scoped>\n",
       "    .dataframe tbody tr th:only-of-type {\n",
       "        vertical-align: middle;\n",
       "    }\n",
       "\n",
       "    .dataframe tbody tr th {\n",
       "        vertical-align: top;\n",
       "    }\n",
       "\n",
       "    .dataframe thead th {\n",
       "        text-align: right;\n",
       "    }\n",
       "</style>\n",
       "<table border=\"1\" class=\"dataframe\">\n",
       "  <thead>\n",
       "    <tr style=\"text-align: right;\">\n",
       "      <th></th>\n",
       "      <th>title</th>\n",
       "      <th>runtime</th>\n",
       "      <th>des</th>\n",
       "      <th>date</th>\n",
       "      <th>genre</th>\n",
       "      <th>cast</th>\n",
       "      <th>director</th>\n",
       "      <th>vote</th>\n",
       "      <th>gross</th>\n",
       "    </tr>\n",
       "  </thead>\n",
       "  <tbody>\n",
       "    <tr>\n",
       "      <td>49202</td>\n",
       "      <td>Homicide for the Holidays</td>\n",
       "      <td>0</td>\n",
       "      <td>For most, the winter holidays mean bringing fa...</td>\n",
       "      <td>2019</td>\n",
       "      <td>Crime</td>\n",
       "      <td>James Zeiss, Vanessa Molinelli, Mitch Damron, ...</td>\n",
       "      <td>NaN</td>\n",
       "      <td>22</td>\n",
       "      <td>NaN</td>\n",
       "    </tr>\n",
       "    <tr>\n",
       "      <td>30380</td>\n",
       "      <td>Song from the Forest</td>\n",
       "      <td>98</td>\n",
       "      <td>25 years ago, Louis Sarno, an American, heard ...</td>\n",
       "      <td>2013</td>\n",
       "      <td>Documentary, Biography, Music</td>\n",
       "      <td>Louis Sarno, Samedi Mathurin Bokombe, Jim Jarm...</td>\n",
       "      <td>Michael Obert</td>\n",
       "      <td>209</td>\n",
       "      <td>NaN</td>\n",
       "    </tr>\n",
       "    <tr>\n",
       "      <td>61848</td>\n",
       "      <td>Hieronymus Bosch, Touched by the Devil</td>\n",
       "      <td>86</td>\n",
       "      <td>In 2016, the Noordbrabants Museum in the Dutch...</td>\n",
       "      <td>2015</td>\n",
       "      <td>Documentary</td>\n",
       "      <td>Matthijs Ilsink, Peter Klein, Jos Koldeweij, R...</td>\n",
       "      <td>Pieter van Huystee</td>\n",
       "      <td>263</td>\n",
       "      <td>$0.17M</td>\n",
       "    </tr>\n",
       "    <tr>\n",
       "      <td>16592</td>\n",
       "      <td>The Adventures of Tintin: Secret of the Unicor...</td>\n",
       "      <td>0</td>\n",
       "      <td>Add a Plot</td>\n",
       "      <td>2011</td>\n",
       "      <td>Adventure</td>\n",
       "      <td>Erik Braa, Adam Harrington, Brian Sommer</td>\n",
       "      <td>NaN</td>\n",
       "      <td>13</td>\n",
       "      <td>NaN</td>\n",
       "    </tr>\n",
       "    <tr>\n",
       "      <td>47346</td>\n",
       "      <td>Forgiving Chris Brown</td>\n",
       "      <td>12</td>\n",
       "      <td>Forgiving Chris Brown is a dark comedy short t...</td>\n",
       "      <td>2015</td>\n",
       "      <td>Short, Comedy, Drama</td>\n",
       "      <td>Lodric D. Collins, Tami Jordan, Tanda Kerín, T...</td>\n",
       "      <td>Marquette Jones</td>\n",
       "      <td>9</td>\n",
       "      <td>NaN</td>\n",
       "    </tr>\n",
       "  </tbody>\n",
       "</table>\n",
       "</div>"
      ],
      "text/plain": [
       "                                                   title runtime  \\\n",
       "49202                          Homicide for the Holidays       0   \n",
       "30380                               Song from the Forest      98   \n",
       "61848             Hieronymus Bosch, Touched by the Devil      86   \n",
       "16592  The Adventures of Tintin: Secret of the Unicor...       0   \n",
       "47346                              Forgiving Chris Brown      12   \n",
       "\n",
       "                                                     des  date  \\\n",
       "49202  For most, the winter holidays mean bringing fa...  2019   \n",
       "30380  25 years ago, Louis Sarno, an American, heard ...  2013   \n",
       "61848  In 2016, the Noordbrabants Museum in the Dutch...  2015   \n",
       "16592                                         Add a Plot  2011   \n",
       "47346  Forgiving Chris Brown is a dark comedy short t...  2015   \n",
       "\n",
       "                                           genre  \\\n",
       "49202                          Crime               \n",
       "30380  Documentary, Biography, Music               \n",
       "61848                    Documentary               \n",
       "16592                      Adventure               \n",
       "47346           Short, Comedy, Drama               \n",
       "\n",
       "                                                    cast            director  \\\n",
       "49202  James Zeiss, Vanessa Molinelli, Mitch Damron, ...                 NaN   \n",
       "30380  Louis Sarno, Samedi Mathurin Bokombe, Jim Jarm...       Michael Obert   \n",
       "61848  Matthijs Ilsink, Peter Klein, Jos Koldeweij, R...  Pieter van Huystee   \n",
       "16592           Erik Braa, Adam Harrington, Brian Sommer                 NaN   \n",
       "47346  Lodric D. Collins, Tami Jordan, Tanda Kerín, T...     Marquette Jones   \n",
       "\n",
       "       vote   gross  \n",
       "49202    22     NaN  \n",
       "30380   209     NaN  \n",
       "61848   263  $0.17M  \n",
       "16592    13     NaN  \n",
       "47346     9     NaN  "
      ]
     },
     "execution_count": 19,
     "metadata": {},
     "output_type": "execute_result"
    }
   ],
   "source": [
    "train_X_df.head()"
   ]
  },
  {
   "cell_type": "code",
   "execution_count": 20,
   "metadata": {
    "colab": {},
    "colab_type": "code",
    "id": "DPKhwTRyQBVU"
   },
   "outputs": [],
   "source": [
    "genre_rating_df = train_X_df[\"genre\"].to_frame().join(train_y_sr)"
   ]
  },
  {
   "cell_type": "code",
   "execution_count": 21,
   "metadata": {
    "colab": {
     "base_uri": "https://localhost:8080/",
     "height": 195
    },
    "colab_type": "code",
    "id": "ZWU9v1N8QBVX",
    "outputId": "5af03e7c-5626-4142-d35a-c1201ce5fcd1"
   },
   "outputs": [
    {
     "data": {
      "text/html": [
       "<div>\n",
       "<style scoped>\n",
       "    .dataframe tbody tr th:only-of-type {\n",
       "        vertical-align: middle;\n",
       "    }\n",
       "\n",
       "    .dataframe tbody tr th {\n",
       "        vertical-align: top;\n",
       "    }\n",
       "\n",
       "    .dataframe thead th {\n",
       "        text-align: right;\n",
       "    }\n",
       "</style>\n",
       "<table border=\"1\" class=\"dataframe\">\n",
       "  <thead>\n",
       "    <tr style=\"text-align: right;\">\n",
       "      <th></th>\n",
       "      <th>genre</th>\n",
       "      <th>rating</th>\n",
       "    </tr>\n",
       "  </thead>\n",
       "  <tbody>\n",
       "    <tr>\n",
       "      <td>49202</td>\n",
       "      <td>Crime</td>\n",
       "      <td>7.1</td>\n",
       "    </tr>\n",
       "    <tr>\n",
       "      <td>30380</td>\n",
       "      <td>Documentary, Biography, Music</td>\n",
       "      <td>6.9</td>\n",
       "    </tr>\n",
       "    <tr>\n",
       "      <td>61848</td>\n",
       "      <td>Documentary</td>\n",
       "      <td>6.5</td>\n",
       "    </tr>\n",
       "    <tr>\n",
       "      <td>16592</td>\n",
       "      <td>Adventure</td>\n",
       "      <td>7.5</td>\n",
       "    </tr>\n",
       "    <tr>\n",
       "      <td>47346</td>\n",
       "      <td>Short, Comedy, Drama</td>\n",
       "      <td>8.2</td>\n",
       "    </tr>\n",
       "  </tbody>\n",
       "</table>\n",
       "</div>"
      ],
      "text/plain": [
       "                                           genre  rating\n",
       "49202                          Crime                 7.1\n",
       "30380  Documentary, Biography, Music                 6.9\n",
       "61848                    Documentary                 6.5\n",
       "16592                      Adventure                 7.5\n",
       "47346           Short, Comedy, Drama                 8.2"
      ]
     },
     "execution_count": 21,
     "metadata": {},
     "output_type": "execute_result"
    }
   ],
   "source": [
    "genre_rating_df.head()"
   ]
  },
  {
   "cell_type": "markdown",
   "metadata": {
    "colab_type": "text",
    "id": "ZETw6DRZQ3sa"
   },
   "source": [
    "Investigating the influence of some features into ratings\n",
    "==="
   ]
  },
  {
   "cell_type": "code",
   "execution_count": 22,
   "metadata": {
    "colab": {
     "base_uri": "https://localhost:8080/",
     "height": 318
    },
    "colab_type": "code",
    "id": "qAWnzp4PQBVb",
    "outputId": "b49db963-05e8-4296-f05a-42ad295856aa"
   },
   "outputs": [
    {
     "name": "stdout",
     "output_type": "stream",
     "text": [
      "Counter({'Comedy': 10512, 'Documentary': 8119, 'Drama': 8105, 'Action': 6215, 'Short': 6168, 'Adventure': 4731, 'Crime': 4102, 'Romance': 3999, 'Animation': 3784, 'Biography': 2870, 'Family': 1352, 'Horror': 1311, 'Thriller': 1268, 'Fantasy': 1114, 'History': 1053, 'Sci-Fi': 904, 'Music': 893, 'Mystery': 810, 'Sport': 522, 'Musical': 197, 'News': 191, 'War': 189, 'Reality-TV': 181, 'Talk-Show': 83, 'Western': 72, 'Game-Show': 58})\n",
      "len =  26\n"
     ]
    },
    {
     "data": {
      "image/png": "[encoded data removed]",
      "text/plain": [
       "<Figure size 1872x288 with 1 Axes>"
      ]
     },
     "metadata": {
      "needs_background": "light"
     },
     "output_type": "display_data"
    }
   ],
   "source": [
    "from collections import Counter\n",
    "\n",
    "list_gens = list(genre_rating_df.genre)\n",
    "unique_gen = []\n",
    "for g in list_gens:\n",
    "    unique_gen += g.strip().split(\", \")\n",
    "dict_gens = Counter(unique_gen)\n",
    "print(dict_gens)\n",
    "print(\"len = \",len(dict_gens))\n",
    "plt.figure(figsize=(26,4))\n",
    "plt.bar(dict_gens.keys(),dict_gens.values(), width = 0.5, color=plt.cm.Paired(np.arange(len(dict_gens))))\n",
    "plt.show()"
   ]
  },
  {
   "cell_type": "markdown",
   "metadata": {
    "colab_type": "text",
    "id": "XmSS5m2qQBVd"
   },
   "source": [
    "**The impact of genres on rating**"
   ]
  },
  {
   "cell_type": "code",
   "execution_count": 23,
   "metadata": {
    "colab": {
     "base_uri": "https://localhost:8080/",
     "height": 285
    },
    "colab_type": "code",
    "id": "AFqke6B9QBVe",
    "outputId": "edac5279-e81f-4db0-bb0e-5f83eca8a325"
   },
   "outputs": [
    {
     "data": {
      "text/plain": [
       "<matplotlib.axes._subplots.AxesSubplot at 0x1641bc12208>"
      ]
     },
     "execution_count": 23,
     "metadata": {},
     "output_type": "execute_result"
    },
    {
     "data": {
      "image/png": "[encoded data removed]",
      "text/plain": [
       "<Figure size 432x288 with 1 Axes>"
      ]
     },
     "metadata": {
      "needs_background": "light"
     },
     "output_type": "display_data"
    }
   ],
   "source": [
    "hist = {}\n",
    "for i in range(genre_rating_df.shape[0]):\n",
    "  genres = genre_rating_df.iloc[i].genre.strip().split(\", \")\n",
    "  rating  = genre_rating_df.iloc[i].rating\n",
    "  for g in genres:\n",
    "    if g not in hist:\n",
    "      hist[g] = [rating]\n",
    "    else:\n",
    "      hist[g].append(rating)\n",
    "keys = list(hist.keys())\n",
    "vals = list(hist.values())\n",
    "vals = [np.mean(x) for x in vals]\n",
    "\n",
    "assert len(keys) == len(vals)\n",
    "hist_df = pd.DataFrame(columns=[\"genre\",\"avg_score\"])\n",
    "hist_df.genre = keys\n",
    "hist_df.avg_score = vals\n",
    "hist_df = hist_df.sort_values(by = [\"avg_score\"],ascending=False)\n",
    "hist_df.plot.bar()\n"
   ]
  },
  {
   "cell_type": "code",
   "execution_count": 24,
   "metadata": {
    "colab": {
     "base_uri": "https://localhost:8080/",
     "height": 470
    },
    "colab_type": "code",
    "id": "5qOxLvloQBVg",
    "outputId": "94ae7b92-b819-4ff2-fc33-ea1421fff05f"
   },
   "outputs": [
    {
     "name": "stdout",
     "output_type": "stream",
     "text": [
      "          genre  avg_score\n",
      "25    Talk-Show   7.298795\n",
      "1   Documentary   7.260266\n",
      "19         News   7.194764\n",
      "2     Biography   7.191916\n",
      "14      History   7.184995\n",
      "5         Short   7.151443\n",
      "18        Sport   7.127395\n",
      "3         Music   6.975700\n",
      "22   Reality-TV   6.839227\n",
      "8     Animation   6.721670\n",
      "23          War   6.657672\n",
      "24    Game-Show   6.594828\n",
      "7         Drama   6.584762\n",
      "0         Crime   6.576085\n",
      "4     Adventure   6.561002\n",
      "21      Musical   6.498985\n",
      "13      Mystery   6.464074\n",
      "16      Fantasy   6.456463\n",
      "15      Romance   6.398225\n",
      "12       Family   6.380843\n",
      "17      Western   6.380556\n",
      "6        Comedy   6.361530\n",
      "11       Action   6.305889\n",
      "20       Sci-Fi   6.047788\n",
      "10     Thriller   5.713407\n",
      "9        Horror   5.465523\n"
     ]
    }
   ],
   "source": [
    "print(hist_df)"
   ]
  },
  {
   "cell_type": "markdown",
   "metadata": {
    "colab_type": "text",
    "id": "6lRGuyghRAwj"
   },
   "source": [
    "Feature Engineering\n",
    "==="
   ]
  },
  {
   "cell_type": "markdown",
   "metadata": {
    "colab_type": "text",
    "id": "kB_uHjbSMJYg"
   },
   "source": [
    "Compute IF-IDF of specific columns"
   ]
  },
  {
   "cell_type": "code",
   "execution_count": 25,
   "metadata": {
    "colab": {},
    "colab_type": "code",
    "id": "v4nhvGDG2sGC"
   },
   "outputs": [],
   "source": [
    "class tf_idf(BaseEstimator, TransformerMixin):\n",
    "  def __init__(self, columns):\n",
    "    self.columns = columns\n",
    "  def fit(self, X_df, y=None):\n",
    "    self.vectorizer = []\n",
    "    for column in self.columns:\n",
    "      tf = TfidfVectorizer()\n",
    "      self.vectorizer.append(tf.fit(X_df[column]))\n",
    "    return self\n",
    "  def transform(self, X_df, y=None):\n",
    "    new_X_df = X_df.copy()\n",
    "    for i, column in enumerate(self.columns):\n",
    "      transformed = self.vectorizer[i].transform(new_X_df[column])\n",
    "      new_X_df[column] = [transformed[j].sum() for j in range(len(new_X_df))]\n",
    "    return new_X_df"
   ]
  },
  {
   "cell_type": "markdown",
   "metadata": {
    "colab_type": "text",
    "id": "8KPSe5x3MS4d"
   },
   "source": [
    "Preprocessing pipeline:\n",
    "  - Compute IF-IDF of text features (genre, cast, director).\n",
    "  - Filling missing values by median of its columns.\n",
    "  - Standard Scaling in order to help SGD, ... converging more easily."
   ]
  },
  {
   "cell_type": "code",
   "execution_count": 26,
   "metadata": {
    "colab": {},
    "colab_type": "code",
    "id": "BpLc2j7SQBWq"
   },
   "outputs": [],
   "source": [
    "columns = ['genre','cast','director']\n",
    "preprocess_pipeline= Pipeline(steps=[('compute_tfidf', tf_idf(columns)),\n",
    "                                     ('imputing',SimpleImputer(missing_values = 0, strategy='median')),\n",
    "                                     (\"scaling\",StandardScaler())])"
   ]
  },
  {
   "cell_type": "code",
   "execution_count": 27,
   "metadata": {
    "colab": {},
    "colab_type": "code",
    "id": "y2whE3TFL2C1"
   },
   "outputs": [],
   "source": [
    "#replace NaN element in cast to \"other\"\n",
    "def fill_na(df):\n",
    "  df = df.drop(columns=['title','des']) # not necessary for predicting\n",
    "  df[\"director\"] = df[\"director\"].fillna(\"other_director\");\n",
    "  df[\"cast\"] = df[\"cast\"].fillna(\"other_cast\");\n",
    "  df[\"gross\"] = df[\"gross\"].fillna(\"0.0\");\n",
    "  #define money\n",
    "  money = {\"M\": 10**6, \"B\": 10**12, \"G\": 10**9, \"P\": 10**15, \"K\": 10**3, \"0\": 0}\n",
    "  for i in range(len(df)):\n",
    "      \n",
    "      df.gross.iloc[i] = float(re.findall(\"\\d+\\.\\d+\", df.gross.iloc[i])[0]) * money[df.gross.iloc[i][-1]]\n",
    "  return df"
   ]
  },
  {
   "cell_type": "code",
   "execution_count": 28,
   "metadata": {
    "colab": {},
    "colab_type": "code",
    "id": "dZoF59O4QJUY"
   },
   "outputs": [],
   "source": [
    "# pipeline for RandomForest\n",
    "full_pipeline = Pipeline(steps=[('preprocess',preprocess_pipeline),\n",
    "                                (\"regress\", RandomForestRegressor(max_depth=10))])"
   ]
  },
  {
   "cell_type": "code",
   "execution_count": 29,
   "metadata": {
    "colab": {},
    "colab_type": "code",
    "id": "Z0ApWFSbZZ5N"
   },
   "outputs": [],
   "source": [
    "#pipeline for linear regression\n",
    "linear_regress_pipeline = Pipeline(steps=[('preprocess',preprocess_pipeline),\n",
    "                                (\"regress\", LinearRegression())])"
   ]
  },
  {
   "cell_type": "markdown",
   "metadata": {
    "colab_type": "text",
    "id": "hPjPpeVkTWed"
   },
   "source": [
    "Predict\n",
    "==="
   ]
  },
  {
   "cell_type": "markdown",
   "metadata": {
    "colab_type": "text",
    "id": "DBSIjgQ5cTvC"
   },
   "source": [
    "##**Experiment with Linear Regression Model**"
   ]
  },
  {
   "cell_type": "code",
   "execution_count": 30,
   "metadata": {
    "colab": {
     "base_uri": "https://localhost:8080/",
     "height": 101
    },
    "colab_type": "code",
    "id": "blOFURFhZyto",
    "outputId": "971e639f-bfe9-481d-e2d4-a4c207966b7e"
   },
   "outputs": [
    {
     "name": "stderr",
     "output_type": "stream",
     "text": [
      "D:\\app\\anaconda\\run\\lib\\site-packages\\pandas\\core\\indexing.py:205: SettingWithCopyWarning: \n",
      "A value is trying to be set on a copy of a slice from a DataFrame\n",
      "\n",
      "See the caveats in the documentation: http://pandas.pydata.org/pandas-docs/stable/user_guide/indexing.html#returning-a-view-versus-a-copy\n",
      "  self._setitem_with_indexer(indexer, value)\n"
     ]
    },
    {
     "name": "stdout",
     "output_type": "stream",
     "text": [
      "Wall time: 3min 5s\n"
     ]
    }
   ],
   "source": [
    "%%time\n",
    "filled_train_X_df = fill_na(train_X_df)\n",
    "filled_val_X_df = fill_na(val_X_df)\n",
    "linear_regress_pipeline.fit(filled_train_X_df, train_y_sr)\n",
    "val_err = (1- linear_regress_pipeline.score(filled_val_X_df, val_y_sr))*100\n",
    "train_err = (1 -  linear_regress_pipeline.score(filled_train_X_df, train_y_sr)) * 100"
   ]
  },
  {
   "cell_type": "code",
   "execution_count": 31,
   "metadata": {
    "colab": {
     "base_uri": "https://localhost:8080/",
     "height": 50
    },
    "colab_type": "code",
    "id": "sT1MHcGncgoq",
    "outputId": "52a1764a-18bd-4b82-a410-f4111a4d697a"
   },
   "outputs": [
    {
     "name": "stdout",
     "output_type": "stream",
     "text": [
      "Error on train set: 94.18157487573599\n",
      "Error on val set: 94.34285009967508\n"
     ]
    }
   ],
   "source": [
    "print(\"Error on train set: {}\".format(train_err))\n",
    "print(\"Error on val set: {}\".format(val_err))"
   ]
  },
  {
   "cell_type": "code",
   "execution_count": 32,
   "metadata": {
    "colab": {},
    "colab_type": "code",
    "id": "UNQTvb7FaqJ0"
   },
   "outputs": [],
   "source": [
    "# get predictions\n",
    "linear_preds = linear_regress_pipeline.predict(filled_val_X_df)"
   ]
  },
  {
   "cell_type": "markdown",
   "metadata": {
    "colab_type": "text",
    "id": "BEsdvDhWQZlW"
   },
   "source": [
    "Visualize True and Pred values"
   ]
  },
  {
   "cell_type": "code",
   "execution_count": 33,
   "metadata": {
    "colab": {
     "base_uri": "https://localhost:8080/",
     "height": 301
    },
    "colab_type": "code",
    "id": "kO2j_7c3ZF34",
    "outputId": "ebbc37c1-ce3c-4009-b09d-05d36b55a1a9"
   },
   "outputs": [
    {
     "data": {
      "text/plain": [
       "Text(0.5, 1.0, 'Result of the first 30 entries of val set')"
      ]
     },
     "execution_count": 33,
     "metadata": {},
     "output_type": "execute_result"
    },
    {
     "data": {
      "image/png": "[encoded data removed]",
      "text/plain": [
       "<Figure size 432x288 with 1 Axes>"
      ]
     },
     "metadata": {
      "needs_background": "light"
     },
     "output_type": "display_data"
    }
   ],
   "source": [
    "linear_pred_df = pd.DataFrame(columns =['pred','true'])\n",
    "linear_pred_df['pred'] = linear_preds[:30]\n",
    "linear_pred_df['true'] = list(val_y_sr[:30])\n",
    "linear_pred_df.plot.bar()\n",
    "plt.title(\"Result of the first 30 entries of val set\")"
   ]
  },
  {
   "cell_type": "markdown",
   "metadata": {
    "colab_type": "text",
    "id": "VuBCplG8cRVK"
   },
   "source": [
    "##**Experiment RandomForest Model** (about 17mins to run)\n",
    "  - Choose the best model by tuning the depth and number of tree in forest.\n",
    "  - There are four choices of depth: 10, 20, 30, 40.\n",
    "  - Number of trees: 40, 50, 60.\n",
    "  - We decided these values because of the computational cost."
   ]
  },
  {
   "cell_type": "code",
   "execution_count": 34,
   "metadata": {
    "colab": {
     "base_uri": "https://localhost:8080/",
     "height": 386
    },
    "colab_type": "code",
    "id": "XvPxyei9UVdo",
    "outputId": "0b839251-e2f8-476a-a878-a13866297553"
   },
   "outputs": [
    {
     "name": "stderr",
     "output_type": "stream",
     "text": [
      "D:\\app\\anaconda\\run\\lib\\site-packages\\pandas\\core\\indexing.py:205: SettingWithCopyWarning: \n",
      "A value is trying to be set on a copy of a slice from a DataFrame\n",
      "\n",
      "See the caveats in the documentation: http://pandas.pydata.org/pandas-docs/stable/user_guide/indexing.html#returning-a-view-versus-a-copy\n",
      "  self._setitem_with_indexer(indexer, value)\n"
     ]
    },
    {
     "name": "stdout",
     "output_type": "stream",
     "text": [
      "estimator: 40\n",
      "depth: 10\n",
      "depth: 20\n",
      "depth: 30\n",
      "depth: 40\n",
      "estimator: 50\n",
      "depth: 10\n",
      "depth: 20\n",
      "depth: 30\n",
      "depth: 40\n",
      "estimator: 60\n",
      "depth: 10\n",
      "depth: 20\n",
      "depth: 30\n",
      "depth: 40\n",
      "Wall time: 21min 2s\n"
     ]
    }
   ],
   "source": [
    "%%time\n",
    "max_depth = [10,20,30,40]\n",
    "n_estimators = [40, 50, 60]\n",
    "best_depth = 0\n",
    "val_errs = []\n",
    "train_errs = []\n",
    "best_val_err = float('inf')\n",
    "best_estimator = 0\n",
    "filled_train_X_df = fill_na(train_X_df)\n",
    "filled_val_X_df = fill_na(val_X_df)\n",
    "for estimator in n_estimators:\n",
    "  print(\"estimator: {}\".format(estimator))\n",
    "  for depth in max_depth:\n",
    "    print(\"depth: {}\".format(depth))\n",
    "    full_pipeline.set_params(regress__n_estimators=estimator, regress__max_depth=depth)\n",
    "    full_pipeline.fit(filled_train_X_df,train_y_sr)\n",
    "    cur_train_err = (1 -  full_pipeline.score(filled_train_X_df, train_y_sr)) * 100\n",
    "    train_errs.append(cur_train_err)\n",
    "    cur_val_err = (1- full_pipeline.score(filled_val_X_df, val_y_sr))*100\n",
    "    val_errs.append(cur_val_err)\n",
    "    if cur_val_err < best_val_err:\n",
    "      best_val_err = cur_val_err\n",
    "      best_estimator = estimator\n",
    "      best_depth = depth\n"
   ]
  },
  {
   "cell_type": "code",
   "execution_count": 35,
   "metadata": {
    "colab": {
     "base_uri": "https://localhost:8080/",
     "height": 118
    },
    "colab_type": "code",
    "id": "NSV3JvHvYeKU",
    "outputId": "f5e53f93-96c6-4cc9-8571-55deefa3f765"
   },
   "outputs": [
    {
     "name": "stdout",
     "output_type": "stream",
     "text": [
      "best depth: 30\n",
      "best estimator: 60\n",
      "Error on train set: 94.18157487573599\n",
      "Error on val set: 94.34285009967508\n"
     ]
    }
   ],
   "source": [
    "print(\"best depth: {}\".format(best_depth))\n",
    "print(\"best estimator: {}\".format(best_estimator))\n",
    "print(\"Error on train set: {}\".format(train_err))\n",
    "print(\"Error on val set: {}\".format(val_err))"
   ]
  },
  {
   "cell_type": "code",
   "execution_count": 36,
   "metadata": {
    "colab": {},
    "colab_type": "code",
    "id": "-f47cpz2Zihb"
   },
   "outputs": [],
   "source": [
    "# train again with best_depth and best_estimator\n",
    "full_pipeline.set_params(regress__n_estimators=best_estimator, regress__max_depth=best_depth)\n",
    "full_pipeline.fit(filled_train_X_df,train_y_sr)\n",
    "forest_preds = full_pipeline.predict(filled_val_X_df)"
   ]
  },
  {
   "cell_type": "markdown",
   "metadata": {
    "colab_type": "text",
    "id": "r5pFiAPNQHpD"
   },
   "source": [
    "Visualize True and Pred values"
   ]
  },
  {
   "cell_type": "code",
   "execution_count": 37,
   "metadata": {
    "colab": {
     "base_uri": "https://localhost:8080/",
     "height": 301
    },
    "colab_type": "code",
    "id": "yxxzS4mpZ-iF",
    "outputId": "d7ed7cd5-1554-403b-9fc2-f1e6eafca143"
   },
   "outputs": [
    {
     "data": {
      "text/plain": [
       "Text(0.5, 1.0, 'Result of the first 30 entries of val set')"
      ]
     },
     "execution_count": 37,
     "metadata": {},
     "output_type": "execute_result"
    },
    {
     "data": {
      "image/png": "[encoded data removed]",
      "text/plain": [
       "<Figure size 432x288 with 1 Axes>"
      ]
     },
     "metadata": {
      "needs_background": "light"
     },
     "output_type": "display_data"
    }
   ],
   "source": [
    "randomforest_df = pd.DataFrame(columns =['pred','true'])\n",
    "randomforest_df['pred'] = forest_preds[:30]\n",
    "randomforest_df['true'] = list(val_y_sr[:30])\n",
    "randomforest_df.plot.bar()\n",
    "plt.title(\"Result of the first 30 entries of val set\")"
   ]
  },
  {
   "cell_type": "markdown",
   "metadata": {
    "colab_type": "text",
    "id": "wkzZD7DaHyU_"
   },
   "source": [
    "Plot results of both linear regression and Randomforest in validation set"
   ]
  },
  {
   "cell_type": "code",
   "execution_count": 38,
   "metadata": {
    "colab": {
     "base_uri": "https://localhost:8080/",
     "height": 719
    },
    "colab_type": "code",
    "id": "hn-N7VV0uCRT",
    "outputId": "3d525e97-889f-422e-8ecb-45fba1598fd2"
   },
   "outputs": [
    {
     "data": {
      "image/png": "[encoded data removed]",
      "text/plain": [
       "<Figure size 864x864 with 2 Axes>"
      ]
     },
     "metadata": {
      "needs_background": "light"
     },
     "output_type": "display_data"
    }
   ],
   "source": [
    "fig, axes = plt.subplots(nrows=2, ncols=1)\n",
    "linear_pred_df[[\"pred\",\"true\"]].plot(ax=axes[0],kind='bar', title=\"Linear Regression\",figsize=(12,12))\n",
    "randomforest_df[[\"pred\", \"true\"]].plot(ax=axes[1], kind='bar', title='Random Forest');"
   ]
  },
  {
   "cell_type": "markdown",
   "metadata": {
    "colab_type": "text",
    "id": "ZsGzhRqgzC6c"
   },
   "source": [
    "Nhận xét: Với Random Forest mô hình cho kết quả tốt nhất."
   ]
  },
  {
   "cell_type": "markdown",
   "metadata": {
    "colab_type": "text",
    "id": "Hz192ABZzRlD"
   },
   "source": [
    "##Working with test set"
   ]
  },
  {
   "cell_type": "code",
   "execution_count": 56,
   "metadata": {},
   "outputs": [
    {
     "data": {
      "text/plain": [
       "'C:\\\\Users\\\\Admin\\\\Documents\\\\GitHub\\\\DS_Final_project'"
      ]
     },
     "execution_count": 56,
     "metadata": {},
     "output_type": "execute_result"
    }
   ],
   "source": [
    "%pwd"
   ]
  },
  {
   "cell_type": "code",
   "execution_count": 57,
   "metadata": {
    "colab": {},
    "colab_type": "code",
    "id": "L2ofwqejvFTV"
   },
   "outputs": [],
   "source": [
    "#path = \"../testdata\"\n",
    "path = \"C:\\\\Users\\\\Admin\\\\Documents\\\\GitHub\\\\DS_Final_project\\\\test\"\n",
    "#file_list = os.listdir(\"../testdata\")\n",
    "file_list = os.listdir(path)\n",
    "data_tmp = []\n",
    "for file in file_list:\n",
    "    \n",
    "    df = pd.read_csv(os.path.join(path,file))\n",
    "    data_tmp.append(df)\n",
    "test_X_df = pd.concat(data_tmp, axis = 0, ignore_index=True)\n"
   ]
  },
  {
   "cell_type": "code",
   "execution_count": 64,
   "metadata": {
    "colab": {
     "base_uri": "https://localhost:8080/",
     "height": 195
    },
    "colab_type": "code",
    "id": "ilzrT11W1tFr",
    "outputId": "bea2be61-a2c7-4524-e11f-912832b4562e"
   },
   "outputs": [
    {
     "data": {
      "text/html": [
       "<div>\n",
       "<style scoped>\n",
       "    .dataframe tbody tr th:only-of-type {\n",
       "        vertical-align: middle;\n",
       "    }\n",
       "\n",
       "    .dataframe tbody tr th {\n",
       "        vertical-align: top;\n",
       "    }\n",
       "\n",
       "    .dataframe thead th {\n",
       "        text-align: right;\n",
       "    }\n",
       "</style>\n",
       "<table border=\"1\" class=\"dataframe\">\n",
       "  <thead>\n",
       "    <tr style=\"text-align: right;\">\n",
       "      <th></th>\n",
       "      <th>title</th>\n",
       "      <th>runtime</th>\n",
       "      <th>des</th>\n",
       "      <th>date</th>\n",
       "      <th>genre</th>\n",
       "      <th>cast</th>\n",
       "      <th>director</th>\n",
       "      <th>vote</th>\n",
       "      <th>gross</th>\n",
       "    </tr>\n",
       "  </thead>\n",
       "  <tbody>\n",
       "    <tr>\n",
       "      <td>0</td>\n",
       "      <td>Birds of Prey: And the Fantabulous Emancipatio...</td>\n",
       "      <td>0</td>\n",
       "      <td>After splitting with the Joker, Harley Qui...</td>\n",
       "      <td>2020</td>\n",
       "      <td>Action, Adventure, Crime</td>\n",
       "      <td>Margot Robbie, Mary Elizabeth Winstead, Ewan M...</td>\n",
       "      <td>Cathy Yan</td>\n",
       "      <td>0</td>\n",
       "      <td>NaN</td>\n",
       "    </tr>\n",
       "    <tr>\n",
       "      <td>1</td>\n",
       "      <td>No Time to Die</td>\n",
       "      <td>0</td>\n",
       "      <td>Bond has left active service. His peace is...</td>\n",
       "      <td>2020</td>\n",
       "      <td>Action, Adventure, Thriller</td>\n",
       "      <td>Ana de Armas, Daniel Craig, Léa Seydoux, Rami ...</td>\n",
       "      <td>Cary Joji Fukunaga</td>\n",
       "      <td>0</td>\n",
       "      <td>NaN</td>\n",
       "    </tr>\n",
       "    <tr>\n",
       "      <td>2</td>\n",
       "      <td>Wonder Woman 1984</td>\n",
       "      <td>0</td>\n",
       "      <td>Plot unknown. A sequel to the 2017 superhe...</td>\n",
       "      <td>2020</td>\n",
       "      <td>Action, Adventure, Fantasy</td>\n",
       "      <td>Pedro Pascal, Gal Gadot, Kristen Wiig, Chris Pine</td>\n",
       "      <td>Patty Jenkins</td>\n",
       "      <td>0</td>\n",
       "      <td>NaN</td>\n",
       "    </tr>\n",
       "    <tr>\n",
       "      <td>3</td>\n",
       "      <td>Black Widow</td>\n",
       "      <td>0</td>\n",
       "      <td>A film about Natasha Romanoff in her quest...</td>\n",
       "      <td>2020</td>\n",
       "      <td>Action, Adventure, Sci-Fi</td>\n",
       "      <td>Florence Pugh, Scarlett Johansson, Robert Down...</td>\n",
       "      <td>Cate Shortland</td>\n",
       "      <td>0</td>\n",
       "      <td>NaN</td>\n",
       "    </tr>\n",
       "    <tr>\n",
       "      <td>4</td>\n",
       "      <td>Dune</td>\n",
       "      <td>0</td>\n",
       "      <td>Feature adaptation of Frank Herbert's scie...</td>\n",
       "      <td>2020</td>\n",
       "      <td>Adventure, Drama, Sci-Fi</td>\n",
       "      <td>Timothée Chalamet, Rebecca Ferguson, Oscar Isa...</td>\n",
       "      <td>Denis Villeneuve</td>\n",
       "      <td>0</td>\n",
       "      <td>NaN</td>\n",
       "    </tr>\n",
       "  </tbody>\n",
       "</table>\n",
       "</div>"
      ],
      "text/plain": [
       "                                               title  runtime  \\\n",
       "0  Birds of Prey: And the Fantabulous Emancipatio...        0   \n",
       "1                                     No Time to Die        0   \n",
       "2                                  Wonder Woman 1984        0   \n",
       "3                                        Black Widow        0   \n",
       "4                                               Dune        0   \n",
       "\n",
       "                                                 des  date  \\\n",
       "0      After splitting with the Joker, Harley Qui...  2020   \n",
       "1      Bond has left active service. His peace is...  2020   \n",
       "2      Plot unknown. A sequel to the 2017 superhe...  2020   \n",
       "3      A film about Natasha Romanoff in her quest...  2020   \n",
       "4      Feature adaptation of Frank Herbert's scie...  2020   \n",
       "\n",
       "                                     genre  \\\n",
       "0     Action, Adventure, Crime               \n",
       "1  Action, Adventure, Thriller               \n",
       "2   Action, Adventure, Fantasy               \n",
       "3    Action, Adventure, Sci-Fi               \n",
       "4     Adventure, Drama, Sci-Fi               \n",
       "\n",
       "                                                cast            director  \\\n",
       "0  Margot Robbie, Mary Elizabeth Winstead, Ewan M...           Cathy Yan   \n",
       "1  Ana de Armas, Daniel Craig, Léa Seydoux, Rami ...  Cary Joji Fukunaga   \n",
       "2  Pedro Pascal, Gal Gadot, Kristen Wiig, Chris Pine       Patty Jenkins   \n",
       "3  Florence Pugh, Scarlett Johansson, Robert Down...      Cate Shortland   \n",
       "4  Timothée Chalamet, Rebecca Ferguson, Oscar Isa...    Denis Villeneuve   \n",
       "\n",
       "   vote  gross  \n",
       "0     0    NaN  \n",
       "1     0    NaN  \n",
       "2     0    NaN  \n",
       "3     0    NaN  \n",
       "4     0    NaN  "
      ]
     },
     "execution_count": 64,
     "metadata": {},
     "output_type": "execute_result"
    }
   ],
   "source": [
    "test_X_df.head()"
   ]
  },
  {
   "cell_type": "code",
   "execution_count": 59,
   "metadata": {
    "colab": {
     "base_uri": "https://localhost:8080/",
     "height": 101
    },
    "colab_type": "code",
    "id": "iWrtBlHn1r6H",
    "outputId": "cb379181-2d16-4a3a-e03b-58738ff5e800"
   },
   "outputs": [
    {
     "name": "stderr",
     "output_type": "stream",
     "text": [
      "D:\\app\\anaconda\\run\\lib\\site-packages\\pandas\\core\\indexing.py:205: SettingWithCopyWarning: \n",
      "A value is trying to be set on a copy of a slice from a DataFrame\n",
      "\n",
      "See the caveats in the documentation: http://pandas.pydata.org/pandas-docs/stable/user_guide/indexing.html#returning-a-view-versus-a-copy\n",
      "  self._setitem_with_indexer(indexer, value)\n"
     ]
    }
   ],
   "source": [
    "test_pred =full_pipeline.predict(fill_na(test_X_df))"
   ]
  },
  {
   "cell_type": "markdown",
   "metadata": {
    "colab_type": "text",
    "id": "vWOX4g75Rq6l"
   },
   "source": [
    "Visualize result of test set"
   ]
  },
  {
   "cell_type": "code",
   "execution_count": 75,
   "metadata": {
    "colab": {
     "base_uri": "https://localhost:8080/",
     "height": 301
    },
    "colab_type": "code",
    "id": "XpHzdgS6z6Mg",
    "outputId": "e4bfe45f-06ff-4a48-c92f-616e3a633de5"
   },
   "outputs": [
    {
     "data": {
      "text/plain": [
       "<matplotlib.axes._subplots.AxesSubplot at 0x1642de21f88>"
      ]
     },
     "execution_count": 75,
     "metadata": {},
     "output_type": "execute_result"
    },
    {
     "data": {
      "image/png": "[encoded data removed]",
      "text/plain": [
       "<Figure size 432x288 with 1 Axes>"
      ]
     },
     "metadata": {
      "needs_background": "light"
     },
     "output_type": "display_data"
    }
   ],
   "source": [
    "test_pred_df = pd.DataFrame(test_pred, columns=[\"pred\"])\n",
    "test_pred_df[:30].plot(kind = 'bar', title ='First 30 entries')"
   ]
  },
  {
   "cell_type": "code",
   "execution_count": 76,
   "metadata": {},
   "outputs": [],
   "source": [
    "test_pred_df.to_csv(\"result.csv\",header = True)"
   ]
  }
 ],
 "metadata": {
  "colab": {
   "collapsed_sections": [],
   "include_colab_link": true,
   "name": "Copy of Process_data.ipynb",
   "provenance": []
  },
  "kernelspec": {
   "display_name": "Python 3",
   "language": "python",
   "name": "python3"
  },
  "language_info": {
   "codemirror_mode": {
    "name": "ipython",
    "version": 3
   },
   "file_extension": ".py",
   "mimetype": "text/x-python",
   "name": "python",
   "nbconvert_exporter": "python",
   "pygments_lexer": "ipython3",
   "version": "3.7.4"
  }
 },
 "nbformat": 4,
 "nbformat_minor": 4
}
