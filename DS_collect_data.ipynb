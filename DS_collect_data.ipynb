{
  "nbformat": 4,
  "nbformat_minor": 0,
  "metadata": {
    "colab": {
      "name": "DS_collect_data.ipynb",
      "provenance": [],
      "collapsed_sections": [],
      "include_colab_link": true
    },
    "kernelspec": {
      "name": "python3",
      "display_name": "Python 3"
    }
  },
  "cells": [
    {
      "cell_type": "markdown",
      "metadata": {
        "id": "view-in-github",
        "colab_type": "text"
      },
      "source": [
        "<a href=\"https://colab.research.google.com/github/hungviet0304/DS_Final_project/blob/master/DS_collect_data.ipynb\" target=\"_parent\"><img src=\"https://colab.research.google.com/assets/colab-badge.svg\" alt=\"Open In Colab\"/></a>"
      ]
    },
    {
      "cell_type": "markdown",
      "metadata": {
        "id": "RZp5cga5tNNe",
        "colab_type": "text"
      },
      "source": [
        "**Crawling data**\n",
        " - Data source: https://www.imdb.com/*italicized text*\n",
        " - In 8 categories: action, comedy, Adventure,Animation, Crime, Romance, Documentary, Biography\n",
        " - Colecting 10000 samples each category"
      ]
    },
    {
      "cell_type": "code",
      "metadata": {
        "id": "D8b8UiutFr9k",
        "colab_type": "code",
        "colab": {}
      },
      "source": [
        "import lxml\n",
        "import re\n",
        "import numpy as np\n",
        "import pandas as pd\n",
        "from bs4 import BeautifulSoup\n",
        "from requests import get"
      ],
      "execution_count": 0,
      "outputs": []
    },
    {
      "cell_type": "code",
      "metadata": {
        "id": "euKYHLj8U756",
        "colab_type": "code",
        "colab": {}
      },
      "source": [
        "def crawling(url_next_page, genre):\n",
        "\n",
        "  position = 1\n",
        "  url = url_next_page.format(genre, position).lower()\n",
        "  print(url)\n",
        "\n",
        "  page = get(url)\n",
        "  s = BeautifulSoup(page.content,'lxml')\n",
        "\n",
        "  #page title\n",
        "  page_title = s.find(\"h1\", class_ = \"header\").text.replace(\"\\n\",\"\")\n",
        "  body = s.find(id = 'main')\n",
        "  content = body.find_all(\"div\", class_ = \"lister-item mode-advanced\")\n",
        "  total_results = 0\n",
        "  # movie_title = [] #\n",
        "  # movie_date = []\n",
        "  # movie_runtime = []#\n",
        "  # movie_genre = []#\n",
        "  # movie_rating = []\n",
        "  # movie_score = []\n",
        "  # movie_description = []\n",
        "  # movie_directors = []\n",
        "  # movie_stars = []\n",
        "  # movie_votes = []\n",
        "  # movie_gros = []\n",
        "  df = pd.DataFrame(columns = [\"title\", \"runtime\",\"des\",\"date\",\"rating\",\"genre\"])\n",
        "  total_results = body.find(\"div\",class_ = 'desc')\n",
        "  total_results = total_results.find('span').text.replace(\",\",\"\")\n",
        "  total_results = int(re.findall(r'\\d+',total_results)[-1])\n",
        "  print(\"total results: \".format(total_results))\n",
        "  total_results = int(total_results)\n",
        "  num_of_pages = total_results // 50 + 1 if total_results / 50 > total_results // 50 else total_results //50\n",
        "  print(num_of_pages)\n",
        "  num_of_pages /= 2\n",
        "  count = 0\n",
        "  while True:\n",
        "\n",
        "    for movie in content:\n",
        "      tmp = movie.find(\"h3\",class_ = \"lister-item-header\")\n",
        "      movie_title=tmp.find(\"a\").text\n",
        "\n",
        "      try:\n",
        "        movie_runtime = movie.find('span',class_ = 'runtime').text[:-4] # only number\n",
        "      except:\n",
        "        movie_runtine = 0\n",
        "        # print(\"error at runtime: \" + movie_title)\n",
        "\n",
        "      try:\n",
        "        movie_genre=movie.find('span',class_= 'genre').text.replace(\"\\n\",\"\")\n",
        "      except:\n",
        "        movie_genre = \"\"\n",
        "        # print(\"error at genre\" + movie_title)\n",
        "      try:\n",
        "        movie_description = movie.find_all('p',class_ = \"text-muted\")[-1].text.replace(\"\\n\",\"\")\n",
        "      except:\n",
        "        # print(\"error at description: \" + movie_title)\n",
        "        movie_description = \"\"\n",
        "      try:\n",
        "        movie_date = tmp.find_all(\"span\")[-1].text\n",
        "        movie_date = int(re.findall(r'\\d+',movie_date)[-1])\n",
        "      except:\n",
        "        movie_date = 0\n",
        "        # print(\"error at date:\" + movie_title)\n",
        "      try:\n",
        "        movie_rating = movie.find(\"strong\").text\n",
        "      except:\n",
        "        movie_rating = '0'\n",
        "        # print(\"error at rating: \" + movie_title)\n",
        "\n",
        "      df.loc[len(df)] = [movie_title, movie_runtime, movie_description,movie_date, movie_rating, movie_genre]\n",
        "      if df.shape[0] >= 10000:\n",
        "        # print()\n",
        "        return df[:10000]\n",
        "    position += 50\n",
        "    url = url_next_page.format(genre,position).lower()\n",
        "    page = get(url)\n",
        "    s = BeautifulSoup(page.content,'lxml')\n",
        "\n",
        "    #page title\n",
        "    page_title = s.find(\"h1\", class_ = \"header\").text.replace(\"\\n\",\"\")\n",
        "    body = s.find(id = 'main')\n",
        "    content = body.find_all(\"div\", class_ = \"lister-item mode-advanced\")\n",
        "    count += 1\n",
        "    # print(str(count) + \" / \" + str(num_of_pages))\n",
        "    if count == num_of_pages:\n",
        "      break\n",
        "  return df"
      ],
      "execution_count": 0,
      "outputs": []
    },
    {
      "cell_type": "code",
      "metadata": {
        "id": "oHlyH9UCw6Xt",
        "colab_type": "code",
        "colab": {}
      },
      "source": [
        "def crawling_genre(url, genre):\n",
        "  for g in genre:\n",
        "    print(\"crawling \" + g)\n",
        "    df_tmp = crawling(url,g)\n",
        "    print(\"crawed {}\".format(df_tmp.shape[0]))\n",
        "    df_tmp.to_csv(g+\".csv\",index = False)\n"
      ],
      "execution_count": 0,
      "outputs": []
    },
    {
      "cell_type": "code",
      "metadata": {
        "id": "fhbVkrFOVq3b",
        "colab_type": "code",
        "outputId": "75f3ab7e-656d-4c4d-fcda-ffb7b3a1528a",
        "colab": {
          "base_uri": "https://localhost:8080/",
          "height": 689
        }
      },
      "source": [
        "url = \"https://www.imdb.com/search/title/?genres={}&languages=en&start={}&ref_=adv_nxt\"\n",
        "df = crawling_genre(url,['action','comedy','Adventure','Animation','Crime','Romance','Documentary','Biography'])"
      ],
      "execution_count": 9,
      "outputs": [
        {
          "output_type": "stream",
          "text": [
            "crawling action\n",
            "https://www.imdb.com/search/title/?genres=action&languages=en&start=1&ref_=adv_nxt\n",
            "total results: \n",
            "1691\n",
            "crawed 10000\n",
            "crawling comedy\n",
            "https://www.imdb.com/search/title/?genres=comedy&languages=en&start=1&ref_=adv_nxt\n",
            "total results: \n",
            "7299\n",
            "crawed 10000\n",
            "crawling Adventure\n",
            "https://www.imdb.com/search/title/?genres=adventure&languages=en&start=1&ref_=adv_nxt\n",
            "total results: \n",
            "1348\n",
            "crawed 10000\n",
            "crawling Animation\n",
            "https://www.imdb.com/search/title/?genres=animation&languages=en&start=1&ref_=adv_nxt\n",
            "total results: \n",
            "1143\n",
            "crawed 10000\n",
            "crawling Crime\n",
            "https://www.imdb.com/search/title/?genres=crime&languages=en&start=1&ref_=adv_nxt\n",
            "total results: \n",
            "1854\n",
            "crawed 10000\n",
            "crawling Romance\n",
            "https://www.imdb.com/search/title/?genres=romance&languages=en&start=1&ref_=adv_nxt\n",
            "total results: \n",
            "2826\n",
            "crawed 10000\n",
            "crawling Documentary\n",
            "https://www.imdb.com/search/title/?genres=documentary&languages=en&start=1&ref_=adv_nxt\n",
            "total results: \n",
            "3963\n",
            "crawed 10000\n",
            "crawling Biography\n",
            "https://www.imdb.com/search/title/?genres=biography&languages=en&start=1&ref_=adv_nxt\n",
            "total results: \n",
            "521\n",
            "crawed 10000\n"
          ],
          "name": "stdout"
        }
      ]
    }
  ]
}