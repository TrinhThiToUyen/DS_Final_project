{
 "cells": [
  {
   "cell_type": "markdown",
   "metadata": {
    "colab_type": "text",
    "id": "view-in-github"
   },
   "source": [
    "<a href=\"https://colab.research.google.com/github/hungviet0304/DS_Final_project/blob/master/DS_collect_data.ipynb\" target=\"_parent\"><img src=\"https://colab.research.google.com/assets/colab-badge.svg\" alt=\"Open In Colab\"/></a>"
   ]
  },
  {
   "cell_type": "markdown",
   "metadata": {
    "colab_type": "text",
    "id": "RZp5cga5tNNe"
   },
   "source": [
    "**Crawling data**\n",
    " - Data source: https://www.imdb.com/\n",
    " - In 8 categories: action, comedy, Adventure,Animation, Crime, Romance, Documentary, Biography\n",
    " - Colecting 10000 samples each category"
   ]
  },
  {
   "cell_type": "code",
   "execution_count": null,
   "metadata": {
    "colab": {},
    "colab_type": "code",
    "id": "D8b8UiutFr9k"
   },
   "outputs": [],
   "source": [
    "import lxml\n",
    "import re\n",
    "import numpy as np\n",
    "import pandas as pd\n",
    "from bs4 import BeautifulSoup\n",
    "from requests import get\n",
    "import urllib.robotparser #check robot.txt from url file"
   ]
  },
  {
   "cell_type": "code",
   "execution_count": null,
   "metadata": {
    "colab": {},
    "colab_type": "code",
    "id": "Z8hEI7AGBsHa"
   },
   "outputs": [],
   "source": [
    "#check robots.txt from urls\n",
    "def check_robot(url):\n",
    "    base_url = url.split(\"//\")[-1].split(\"/\")[0].split('?')[0] #get host name from URL\n",
    "    url_robot = \"https://\"+base_url+\"/robots.txt\"\n",
    "    rp = urllib.robotparser.RobotFileParser()\n",
    "    rp.set_url(url_robot)\n",
    "    try:\n",
    "        conn = urllib.request.urlopen(url_robot)\n",
    "    except urllib.error.HTTPError as e:\n",
    "        # Return code error (e.g. 404, 501, ...)\n",
    "        # ...\n",
    "        #print('HTTPError: {}'.format(e.code)) ##page have not robots.txt file\n",
    "        return True\n",
    "    except urllib.error.URLError as e:\n",
    "        # Not an HTTP-specific error (e.g. connection refused)\n",
    "        # ...\n",
    "        #print('URLError: {}'.format(e.reason))\n",
    "        return True\n",
    "    else:\n",
    "        # 200\n",
    "        # ...\n",
    "        #print('good')\n",
    "        #check robot when able to access page\n",
    "        rp.read()\n",
    "        return rp.can_fetch('*', url) #True is ok to crawl"
   ]
  },
  {
   "cell_type": "code",
   "execution_count": null,
   "metadata": {
    "colab": {},
    "colab_type": "code",
    "id": "euKYHLj8U756"
   },
   "outputs": [],
   "source": [
    "def crawling(url_next_page, genre):\n",
    "\n",
    "  position = 1\n",
    "  url = url_next_page.format(genre, position).lower()\n",
    "  print(url)\n",
    "  if (check_robot(url) == False): \n",
    "        return None #cant crawl this url\n",
    "  page = get(url)\n",
    "  s = BeautifulSoup(page.content,'lxml')\n",
    "\n",
    "  #page title\n",
    "  page_title = s.find(\"h1\", class_ = \"header\").text.replace(\"\\n\",\"\")\n",
    "  body = s.find(id = 'main')\n",
    "  content = body.find_all(\"div\", class_ = \"lister-item mode-advanced\")\n",
    "  total_results = 0\n",
    "  # movie_title = [] #\n",
    "  # movie_date = []\n",
    "  # movie_runtime = []#\n",
    "  # movie_genre = []#\n",
    "  # movie_rating = []\n",
    "  # movie_score = []\n",
    "  # movie_description = []\n",
    "  # movie_directors = []\n",
    "  # movie_stars = []\n",
    "  # movie_votes = []\n",
    "  # movie_gros = []\n",
    "  df = pd.DataFrame(columns = [\"title\", \"runtime\",\"des\",\"date\",\"rating\",\"genre\"])\n",
    "  total_results = body.find(\"div\",class_ = 'desc')\n",
    "  total_results = total_results.find('span').text.replace(\",\",\"\")\n",
    "  total_results = int(re.findall(r'\\d+',total_results)[-1])\n",
    "  print(\"total results: {}\".format(total_results))\n",
    "  total_results = int(total_results)\n",
    "  num_of_pages = total_results // 50 + 1 if total_results / 50 > total_results // 50 else total_results //50\n",
    "  print(num_of_pages)\n",
    "  num_of_pages /= 2\n",
    "  count = 0\n",
    "  while True:\n",
    "\n",
    "    for movie in content:\n",
    "      tmp = movie.find(\"h3\",class_ = \"lister-item-header\")\n",
    "      movie_title=tmp.find(\"a\").text\n",
    "\n",
    "      try:\n",
    "        movie_runtime = movie.find('span',class_ = 'runtime').text[:-4] # only number\n",
    "      except:\n",
    "        movie_runtime = 0\n",
    "        # print(\"error at runtime: \" + movie_title)\n",
    "\n",
    "      try:\n",
    "        movie_genre=movie.find('span',class_= 'genre').text.replace(\"\\n\",\"\")\n",
    "      except:\n",
    "        movie_genre = \"\"\n",
    "        # print(\"error at genre\" + movie_title)\n",
    "      try:\n",
    "        movie_description = movie.find_all('p',class_ = \"text-muted\")[-1].text.replace(\"\\n\",\"\")\n",
    "      except:\n",
    "        # print(\"error at description: \" + movie_title)\n",
    "        movie_description = \"\"\n",
    "      try:\n",
    "        movie_date = tmp.find_all(\"span\")[-1].text\n",
    "        movie_date = int(re.findall(r'\\d+',movie_date)[-1])\n",
    "      except:\n",
    "        movie_date = 0\n",
    "        # print(\"error at date:\" + movie_title)\n",
    "      try:\n",
    "        movie_rating = movie.find(\"strong\").text\n",
    "      except:\n",
    "        movie_rating = '0'\n",
    "        # print(\"error at rating: \" + movie_title)\n",
    "\n",
    "      df.loc[len(df)] = [movie_title, movie_runtime, movie_description,movie_date, movie_rating, movie_genre]\n",
    "      if df.shape[0] >= 10000:\n",
    "        # print()\n",
    "        return df[:10000]\n",
    "    position += 50\n",
    "    url = url_next_page.format(genre,position).lower()\n",
    "    if (check_robot(url) == False): \n",
    "      return None #cant crawl this url\n",
    "    page = get(url)\n",
    "    s = BeautifulSoup(page.content,'lxml')\n",
    "\n",
    "    #page title\n",
    "    page_title = s.find(\"h1\", class_ = \"header\").text.replace(\"\\n\",\"\")\n",
    "    body = s.find(id = 'main')\n",
    "    content = body.find_all(\"div\", class_ = \"lister-item mode-advanced\")\n",
    "    count += 1\n",
    "    # print(str(count) + \" / \" + str(num_of_pages))\n",
    "    if count == num_of_pages:\n",
    "      break\n",
    "  return df"
   ]
  },
  {
   "cell_type": "code",
   "execution_count": null,
   "metadata": {
    "colab": {},
    "colab_type": "code",
    "id": "oHlyH9UCw6Xt"
   },
   "outputs": [],
   "source": [
    "def crawling_genre(url, genre):\n",
    "  for g in genre:\n",
    "    print(\"crawling \" + g)\n",
    "    df_tmp = crawling(url,g)\n",
    "    print(\"crawed {}\".format(df_tmp.shape[0]))\n",
    "    df_tmp.to_csv(g+\".csv\",index = False)\n"
   ]
  },
  {
   "cell_type": "code",
   "execution_count": null,
   "metadata": {
    "colab": {
     "base_uri": "https://localhost:8080/",
     "height": 689
    },
    "colab_type": "code",
    "id": "fhbVkrFOVq3b",
    "outputId": "75f3ab7e-656d-4c4d-fcda-ffb7b3a1528a"
   },
   "outputs": [],
   "source": [
    "url = \"https://www.imdb.com/search/title/?release_date=2010-10-10,2018-10-10&genres={}&languages=en&start={}&ref_=adv_nxt\"\n",
    "df = crawling_genre(url,['Action','Comedy','Adventure','Animation','Crime','Romance','Documentary','Biography'])"
   ]
  },
  {
   "cell_type": "markdown",
   "metadata": {},
   "source": [
    "Data Visualization"
   ]
  },
  {
   "cell_type": "code",
   "execution_count": null,
   "metadata": {},
   "outputs": [],
   "source": [
    "genres = ['Action','Comedy','Adventure','Animation','Crime','Romance','Documentary','Biography']"
   ]
  },
  {
   "cell_type": "code",
   "execution_count": null,
   "metadata": {},
   "outputs": [],
   "source": [
    "import pandas as pd"
   ]
  },
  {
   "cell_type": "code",
   "execution_count": 91,
   "metadata": {},
   "outputs": [],
   "source": [
    "data_path = \"./data/final_data.csv\"\n",
    "df = pd.read_csv(data_path)"
   ]
  },
  {
   "cell_type": "code",
   "execution_count": 92,
   "metadata": {},
   "outputs": [
    {
     "data": {
      "text/plain": [
       "Index(['title', 'runtime', 'des', 'date', 'rating', 'genre', 'genres'], dtype='object')"
      ]
     },
     "execution_count": 92,
     "metadata": {},
     "output_type": "execute_result"
    }
   ],
   "source": [
    "df.columns"
   ]
  },
  {
   "cell_type": "code",
   "execution_count": null,
   "metadata": {},
   "outputs": [],
   "source": [
    "# drop duplicate rows in data frame\n",
    "droped_df = df.drop_duplicates(keep = \"first\")"
   ]
  },
  {
   "cell_type": "code",
   "execution_count": 95,
   "metadata": {},
   "outputs": [],
   "source": [
    "def remove_unneccessary_genre(df):\n",
    "    gen_list = df.genre.values.tolist()\n",
    "    gens = []\n",
    "    for g in gen_list:\n",
    "        tmp = g.strip().split(\", \")\n",
    "        gen_ = [x for x in tmp if x in genres]\n",
    "        gens.append(gen_)\n",
    "    new_gens = [\",\".join(x for x in gen) for gen in gens]     \n",
    "    df_new_gens = pd.DataFrame(new_gens)\n",
    "    df['genres'] = new_gens\n",
    "    df.drop(columns = ['genre'])\n",
    "    return df"
   ]
  },
  {
   "cell_type": "code",
   "execution_count": 96,
   "metadata": {},
   "outputs": [],
   "source": [
    "df = remove_unneccessary_genre(droped_df)"
   ]
  },
  {
   "cell_type": "code",
   "execution_count": 88,
   "metadata": {},
   "outputs": [],
   "source": [
    "# only run this cell if you want to save current data frame\n",
    "df.to_csv(data_path + \"final_data.csv\", index = False)"
   ]
  },
  {
   "cell_type": "code",
   "execution_count": 97,
   "metadata": {},
   "outputs": [],
   "source": [
    "#extract genres for statistic\n",
    "gens_list = df.genres.values.tolist()\n",
    "gens = []\n",
    "for g in gen_list:\n",
    "    tmp = g.strip().split(\", \")\n",
    "    gen_ = [x for x in tmp if x in genres]\n",
    "    gens.append(gen_)\n",
    "new_list_gen = []\n",
    "for g in gens:\n",
    "    new_list_gen += g"
   ]
  },
  {
   "cell_type": "code",
   "execution_count": 98,
   "metadata": {},
   "outputs": [],
   "source": [
    "from nltk import FreqDist\n",
    "from matplotlib import pyplot as plt\n",
    "import seaborn as sns"
   ]
  },
  {
   "cell_type": "code",
   "execution_count": 99,
   "metadata": {},
   "outputs": [],
   "source": [
    "freq = FreqDist(new_list_gen)\n",
    "frq = pd.DataFrame({\"Genre\": list(freq.keys()),\n",
    "                   \"Freq\": list(freq.values())})"
   ]
  },
  {
   "cell_type": "code",
   "execution_count": 100,
   "metadata": {},
   "outputs": [
    {
     "data": {
      "image/png": "[encoded data removed]",
      "text/plain": [
       "<Figure size 864x1080 with 1 Axes>"
      ]
     },
     "metadata": {
      "needs_background": "light"
     },
     "output_type": "display_data"
    }
   ],
   "source": [
    "g = frq.nlargest(columns=\"Freq\", n = 50) \n",
    "plt.figure(figsize=(12,15)) \n",
    "ax = sns.barplot(data=g, x= \"Freq\", y = \"Genre\") \n",
    "ax.set(ylabel = 'Freq') \n",
    "plt.show()"
   ]
  },
  {
   "cell_type": "code",
   "execution_count": null,
   "metadata": {},
   "outputs": [],
   "source": []
  }
 ],
 "metadata": {
  "colab": {
   "collapsed_sections": [],
   "include_colab_link": true,
   "name": "DS_collect_data.ipynb",
   "provenance": []
  },
  "kernelspec": {
   "display_name": "Python 3",
   "language": "python",
   "name": "python3"
  },
  "language_info": {
   "codemirror_mode": {
    "name": "ipython",
    "version": 3
   },
   "file_extension": ".py",
   "mimetype": "text/x-python",
   "name": "python",
   "nbconvert_exporter": "python",
   "pygments_lexer": "ipython3",
   "version": "3.7.4"
  }
 },
 "nbformat": 4,
 "nbformat_minor": 4
}
