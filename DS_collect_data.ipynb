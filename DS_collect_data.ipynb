{
 "cells": [
  {
   "cell_type": "markdown",
   "metadata": {
    "colab_type": "text",
    "id": "view-in-github"
   },
   "source": [
    "<a href=\"https://colab.research.google.com/github/hungviet0304/DS_Final_project/blob/master/DS_collect_data.ipynb\" target=\"_parent\"><img src=\"https://colab.research.google.com/assets/colab-badge.svg\" alt=\"Open In Colab\"/></a>"
   ]
  },
  {
   "cell_type": "markdown",
   "metadata": {
    "colab_type": "text",
    "id": "RZp5cga5tNNe"
   },
   "source": [
    "**Crawling data**\n",
    " - Data source: https://www.imdb.com/\n",
    " - In 8 categories: action, comedy, Adventure,Animation, Crime, Romance, Documentary, Biography from 2010-10-10 to 2018-10-10\n",
    " - Total 80000 samples.\n",
    " - Total 900 samples to test\n",
    " - Details:\n",
    "     + **Title**: name of the film.\n",
    "     + **Runtime**: duration of films (**0** if unavailable).\n",
    "     + **des**: plot of the movie.\n",
    "     + **Date**: year (**0** if unavailable).\n",
    "     + **Rating**: how well the film performed (**0** if unavailable).\n",
    "     + **Genres**: genres of film."
   ]
  },
  {
   "cell_type": "code",
   "execution_count": 1,
   "metadata": {
    "colab": {
     "base_uri": "https://localhost:8080/",
     "height": 121
    },
    "colab_type": "code",
    "id": "7cZ2Q6WXPkyn",
    "outputId": "c724ef3a-1e1f-4630-ca0f-8e838d820861"
   },
   "outputs": [
    {
     "name": "stdout",
     "output_type": "stream",
     "text": [
      "Go to this URL in a browser: https://accounts.google.com/o/oauth2/auth?client_id=947318989803-6bn6qk8qdgf4n4g3pfee6491hc0brc4i.apps.googleusercontent.com&redirect_uri=urn%3aietf%3awg%3aoauth%3a2.0%3aoob&response_type=code&scope=email%20https%3a%2f%2fwww.googleapis.com%2fauth%2fdocs.test%20https%3a%2f%2fwww.googleapis.com%2fauth%2fdrive%20https%3a%2f%2fwww.googleapis.com%2fauth%2fdrive.photos.readonly%20https%3a%2f%2fwww.googleapis.com%2fauth%2fpeopleapi.readonly\n",
      "\n",
      "Enter your authorization code:\n",
      "··········\n",
      "Mounted at /content/drive\n"
     ]
    }
   ],
   "source": [
    "#from google.colab import drive\n",
    "#drive.mount('/content/drive')"
   ]
  },
  {
   "cell_type": "code",
   "execution_count": 2,
   "metadata": {
    "colab": {
     "base_uri": "https://localhost:8080/",
     "height": 50
    },
    "colab_type": "code",
    "id": "hVOSJyD2P_6A",
    "outputId": "440b8419-fad4-4141-bbdd-c4e9f6c3e17f"
   },
   "outputs": [
    {
     "name": "stdout",
     "output_type": "stream",
     "text": [
      "/content/drive/My Drive/Colab Notebooks/DS_final\n",
      "/content/drive/My Drive/Colab Notebooks/DS_final\n"
     ]
    }
   ],
   "source": [
    "#%cd drive/My\\ Drive/Colab\\ Notebooks/DS_final\n",
    "#!pwd"
   ]
  },
  {
   "cell_type": "code",
   "execution_count": null,
   "metadata": {
    "colab": {},
    "colab_type": "code",
    "id": "D8b8UiutFr9k"
   },
   "outputs": [],
   "source": [
    "import lxml\n",
    "import re\n",
    "import numpy as np\n",
    "import pandas as pd\n",
    "from bs4 import BeautifulSoup\n",
    "from requests import get\n",
    "import time"
   ]
  },
  {
   "cell_type": "code",
   "execution_count": null,
   "metadata": {
    "colab": {},
    "colab_type": "code",
    "id": "euKYHLj8U756"
   },
   "outputs": [],
   "source": [
    "def crawling(url_next_page, genre):\n",
    "\n",
    "  position = 1\n",
    "  url = url_next_page.format(genre, position).lower()\n",
    "  print(url)\n",
    "  \n",
    "  page = get(url)\n",
    "  s = BeautifulSoup(page.content,'lxml')\n",
    "\n",
    "  #page title\n",
    "  page_title = s.find(\"h1\", class_ = \"header\").text.replace(\"\\n\",\"\")\n",
    "  body = s.find(id = 'main')\n",
    "  content = body.find_all(\"div\", class_ = \"lister-item mode-advanced\")\n",
    "  total_results = 0\n",
    "\n",
    "  df = pd.DataFrame(columns = [\"title\", \"runtime\",\"des\",\"date\",\"genre\",\"cast\",\"director\",\"vote\",\"gross\",\"rating\"])\n",
    "  total_results = body.find(\"div\",class_ = 'desc')\n",
    "  total_results = total_results.find('span').text.replace(\",\",\"\")\n",
    "  total_results = int(re.findall(r'\\d+',total_results)[-1])\n",
    "  print(\"total results: {}\".format(total_results))\n",
    "  total_results = int(total_results)\n",
    "  num_of_pages = total_results // 50 + 1 if total_results / 50 > total_results // 50 else total_results //50\n",
    "  \n",
    "  count = 0\n",
    "  while True:\n",
    "\n",
    "    for movie in content:\n",
    "      \n",
    "      tmp = movie.find(\"h3\",class_ = \"lister-item-header\")\n",
    "      movie_title=tmp.find(\"a\").text\n",
    "\n",
    "      try:\n",
    "        movie_runtime = movie.find('span',class_ = 'runtime').text[:-4] # only number\n",
    "      except:\n",
    "        movie_runtime = 0\n",
    "        # print(\"error at runtime: \" + movie_title)\n",
    "\n",
    "      try:\n",
    "        movie_genre=movie.find('span',class_= 'genre').text.replace(\"\\n\",\"\")\n",
    "      except:\n",
    "        movie_genre = \"\"\n",
    "        # print(\"error at genre\" + movie_title)\n",
    "      \n",
    "      \n",
    "\n",
    "     # print(movie_title)\n",
    "      if \"\\n\" == (movie.find_all('p',class_ = \"text-muted\")[-1].next_element.next_element):\n",
    "        try:\n",
    "          movie_description = movie.find_all('p',class_ = \"text-muted\")[-1].text.replace(\"\\n\",\"\")\n",
    "          if (movie_description == \"Add a Plot\"):\n",
    "            movie_description = \"\"\n",
    "          \n",
    "        except:\n",
    "          # print(\"error at description: \" + movie_title)\n",
    "          movie_description = \"\"\n",
    "      else:\n",
    "        #print(movie.find_all('p',class_ = \"text-muted\")[-1].next_element.next_element.text)\n",
    "        if (movie.find_all('p',class_ = \"text-muted\")[-1].next_element.next_element.text == \"See full summary\"):\n",
    "        \n",
    "          # access to https://www.imdb.com +\"href\" to get detail description\n",
    "          href = movie.find_all('p',class_ = \"text-muted\")[-1].find_all('a')[-1].attrs[\"href\"]\n",
    "          tmp_link = \"https://www.imdb.com\" + href\n",
    "          tmp_page = get(tmp_link)\n",
    "          \n",
    "          tmp_s = BeautifulSoup(tmp_page.content,'lxml')\n",
    "          tmp_box_text = tmp_s.find(\"li\",class_ = \"ipl-zebra-list__item\")    \n",
    "          #print(tmp_box_text)\n",
    "          #print(\"-------------\")\n",
    "          movie_description = tmp_box_text.find(\"p\").text.replace(\"\\n\",\"\") \n",
    "        else:\n",
    "          movie_description = movie.find_all('p',class_ = \"text-muted\")[-1].text.replace(\"\\n\",\"\")\n",
    "\n",
    "      try:\n",
    "        movie_date = tmp.find_all(\"span\")[-1].text\n",
    "        movie_date = int(re.findall(r'\\d+',movie_date)[-1])\n",
    "      except:\n",
    "        movie_date = 0\n",
    "        # print(\"error at date:\" + movie_title)\n",
    "      try:\n",
    "        movie_rating = float(movie.find(\"strong\").text)\n",
    "      except:\n",
    "        movie_rating = 0.0\n",
    "        # print(\"error at rating: \" + movie_title)\n",
    "\n",
    "\n",
    "      #get from tail tab p\n",
    "      tab_p = movie.find_all(\"p\")\n",
    "\n",
    "\n",
    "      if (\"Vote\" in tab_p[-1].text) or (\"Gross\" in tab_p[-1].text):\n",
    "        vote_gross = tab_p[-1].text\n",
    "        if (\"Director\" in tab_p[-2].text) or (\"Star\" in tab_p[-2].text):\n",
    "          director_star = tab_p[-2].text\n",
    "          try:\n",
    "            vote_gross = vote_gross.replace(\"Votes:\",\"\")\n",
    "            vote_gross = vote_gross.replace(\"Gross:\",\"\")\n",
    "            vote_gross = vote_gross.split(\"|\")\n",
    "            \n",
    "            if (len(vote_gross)==2):\n",
    "              movie_vote = int(vote_gross[0].replace(\",\",\"\"))\n",
    "              movie_gross = vote_gross[1].strip()\n",
    "            else:\n",
    "              movie_vote = int(vote_gross[0].replace(\",\",\"\"))\n",
    "              movie_gross = \"\"\n",
    "          except:\n",
    "            movie_vote = 0\n",
    "            movie_gross = \"\"\n",
    "\n",
    "\n",
    "          director_star = director_star.replace(\"Director:\",\"\")\n",
    "          director_star = director_star.replace(\"Directors:\",\"\")\n",
    "          director_star = director_star.replace(\"Stars:\",\"\")\n",
    "          director_star = director_star.replace(\"Star:\",\"\")\n",
    "          director_star = director_star.split(\"|\")\n",
    "          try:\n",
    "\n",
    "            if(len(director_star)==2):\n",
    "              movie_director = director_star[0].strip().replace(\"\\n\",\"\")\n",
    "              movie_star = director_star[1].strip().replace(\"\\n\",\"\")\n",
    "              \n",
    "            else:\n",
    "              movie_star = director_star[0].strip().replace(\"\\n\",\"\")\n",
    "              movie_director = \"\"\n",
    "\n",
    "          except:\n",
    "            movie_director = \"\"\n",
    "            movie_star = \"\"\n",
    "        else:\n",
    "          movie_director = \"\"\n",
    "          movie_star = \"\"\n",
    "          try:\n",
    "            vote_gross = vote_gross.replace(\"Votes:\",\"\")\n",
    "            vote_gross = vote_gross.replace(\"Gross:\",\"\")\n",
    "            vote_gross = vote_gross.split(\"|\")\n",
    "            \n",
    "            if (len(vote_gross)==2):\n",
    "              movie_vote = int(vote_gross[0].replace(\",\",\"\"))\n",
    "              movie_gross = vote_gross[1].strip()\n",
    "            else:\n",
    "              movie_vote = int(vote_gross[0].replace(\",\",\"\"))\n",
    "              movie_gross = \"\"\n",
    "          except:\n",
    "            movie_vote = 0\n",
    "            movie_gross = \"\"\n",
    "        \n",
    "      else:\n",
    "        movie_gross = \"\"\n",
    "        movie_vote = 0\n",
    "        if (\"Director\" in tab_p[-1].text ) or (\"Star\" in tab_p[-1].text):\n",
    "          director_star = tab_p[-1].text\n",
    "\n",
    "          director_star = director_star.replace(\"Director:\",\"\")\n",
    "          director_star = director_star.replace(\"Directors:\",\"\")\n",
    "          director_star = director_star.replace(\"Star:\",\"\")\n",
    "          director_star = director_star.replace(\"Stars:\",\"\")\n",
    "          director_star = director_star.split(\"|\")\n",
    "          try:\n",
    "\n",
    "            if(len(director_star)==2):\n",
    "              movie_director = director_star[0].strip().replace(\"\\n\",\"\")\n",
    "              movie_star = director_star[1].strip().replace(\"\\n\",\"\")\n",
    "              \n",
    "            else:\n",
    "              movie_star = director_star[0].strip().replace(\"\\n\",\"\")\n",
    "              movie_director = \"\"\n",
    "\n",
    "          except:\n",
    "            movie_director = \"\"\n",
    "            movie_star = \"\"\n",
    "        else:\n",
    "          movie_director = \"\"\n",
    "          movie_star = \"\"\n",
    "\n",
    "      \n",
    "      \n",
    "\n",
    "      df.loc[len(df)] = [movie_title, movie_runtime, movie_description,movie_date, movie_genre, movie_star, movie_director, movie_vote, movie_gross, movie_rating]\n",
    "      if df.shape[0] >= 10000:\n",
    "        # print()\n",
    "        return df[:10000]\n",
    "    position += 50\n",
    "    url = url_next_page.format(genre,position).lower()\n",
    "    #print(url)\n",
    "    page = get(url)\n",
    "    s = BeautifulSoup(page.content,'lxml')\n",
    "\n",
    "    #page title\n",
    "    page_title = s.find(\"h1\", class_ = \"header\").text.replace(\"\\n\",\"\")\n",
    "    body = s.find(id = 'main')\n",
    "    content = body.find_all(\"div\", class_ = \"lister-item mode-advanced\")\n",
    "    count += 1\n",
    "    #print(count)\n",
    "    # print(str(count) + \" / \" + str(num_of_pages))\n",
    "    if count == num_of_pages:\n",
    "      break\n",
    "\n",
    "  return df"
   ]
  },
  {
   "cell_type": "code",
   "execution_count": null,
   "metadata": {
    "colab": {},
    "colab_type": "code",
    "id": "oHlyH9UCw6Xt"
   },
   "outputs": [],
   "source": [
    "def crawling_genre(url, genre):\n",
    "  for g in genre:\n",
    "    print(\"crawling \" + g)\n",
    "    df_tmp = crawling(url,g)\n",
    "    print(\"crawed {}\".format(df_tmp.shape[0]))\n",
    "    df_tmp.to_csv(\"./data/\" + g+\".csv\",index = False)\n"
   ]
  },
  {
   "cell_type": "code",
   "execution_count": 6,
   "metadata": {
    "colab": {
     "base_uri": "https://localhost:8080/",
     "height": 605
    },
    "colab_type": "code",
    "id": "fhbVkrFOVq3b",
    "outputId": "815f13c1-3dd4-48e6-f2da-4d35d9a38532"
   },
   "outputs": [
    {
     "name": "stdout",
     "output_type": "stream",
     "text": [
      "crawling Action\n",
      "https://www.imdb.com/search/title/?release_date=2010-10-10,2018-10-10&genres=action&languages=en&start=1&ref_=adv_nxt\n",
      "total results: 29927\n",
      "crawed 10000\n",
      "crawling Comedy\n",
      "https://www.imdb.com/search/title/?release_date=2010-10-10,2018-10-10&genres=comedy&languages=en&start=1&ref_=adv_nxt\n",
      "total results: 130086\n",
      "crawed 10000\n",
      "crawling Adventure\n",
      "https://www.imdb.com/search/title/?release_date=2010-10-10,2018-10-10&genres=adventure&languages=en&start=1&ref_=adv_nxt\n",
      "total results: 18986\n",
      "crawed 10000\n",
      "crawling Animation\n",
      "https://www.imdb.com/search/title/?release_date=2010-10-10,2018-10-10&genres=animation&languages=en&start=1&ref_=adv_nxt\n",
      "total results: 17853\n",
      "crawed 10000\n",
      "crawling Crime\n",
      "https://www.imdb.com/search/title/?release_date=2010-10-10,2018-10-10&genres=crime&languages=en&start=1&ref_=adv_nxt\n",
      "total results: 28385\n",
      "crawed 10000\n",
      "crawling Romance\n",
      "https://www.imdb.com/search/title/?release_date=2010-10-10,2018-10-10&genres=romance&languages=en&start=1&ref_=adv_nxt\n",
      "total results: 40583\n",
      "crawed 10000\n",
      "crawling Documentary\n",
      "https://www.imdb.com/search/title/?release_date=2010-10-10,2018-10-10&genres=documentary&languages=en&start=1&ref_=adv_nxt\n",
      "total results: 83438\n",
      "crawed 10000\n",
      "crawling Biography\n",
      "https://www.imdb.com/search/title/?release_date=2010-10-10,2018-10-10&genres=biography&languages=en&start=1&ref_=adv_nxt\n",
      "total results: 14537\n",
      "crawed 10000\n",
      "Total collecting time:  14008.634268283844\n",
      "CPU times: user 34min 50s, sys: 21.8 s, total: 35min 12s\n",
      "Wall time: 3h 53min 28s\n"
     ]
    }
   ],
   "source": [
    "%%time\n",
    "url = \"https://www.imdb.com/search/title/?release_date=2010-10-10,2018-10-10&genres={}&languages=en&start={}&ref_=adv_nxt\"\n",
    "first_time = time.time()\n",
    "crawling_genre(url,['Action','Comedy','Adventure','Animation','Crime','Romance','Documentary','Biography'])\n",
    "\n",
    "second_time = time.time()\n",
    "print(\"Total collecting time: \",second_time-first_time)"
   ]
  },
  {
   "cell_type": "markdown",
   "metadata": {
    "colab_type": "text",
    "id": "VYMcD-wMPdvF"
   },
   "source": [
    "- crawl test data\n",
    "- Released between 2020-01-15 and 2022-01-15\n",
    "- url example: https://www.imdb.com/search/title/?release_date=2020-01-10,&genres=action"
   ]
  },
  {
   "cell_type": "code",
   "execution_count": null,
   "metadata": {
    "colab": {},
    "colab_type": "code",
    "id": "XkHVR6nFPdvG"
   },
   "outputs": [],
   "source": [
    "def crawling_genre_test(url, genre):\n",
    "  for g in genre:\n",
    "    print(\"crawling \" + g)\n",
    "    df_tmp = crawling(url,g)\n",
    "    df_tmp = df_tmp.drop(columns=\"rating\")\n",
    "    print(\"crawed {}\".format(df_tmp.shape[0]))\n",
    "    df_tmp.to_csv(\"./test/\" + g +\".csv\",index = False)\n"
   ]
  },
  {
   "cell_type": "code",
   "execution_count": 8,
   "metadata": {
    "colab": {
     "base_uri": "https://localhost:8080/",
     "height": 605
    },
    "colab_type": "code",
    "id": "sH4MWn8LPdvI",
    "outputId": "174c0852-f781-4009-c6f0-6143e196168a"
   },
   "outputs": [
    {
     "name": "stdout",
     "output_type": "stream",
     "text": [
      "crawling Action\n",
      "https://www.imdb.com/search/title/?release_date=2020-01-15,2022-01-15&genres=action&languages=en&start=1&ref_=adv_nxt\n",
      "total results: 621\n",
      "crawed 621\n",
      "crawling Comedy\n",
      "https://www.imdb.com/search/title/?release_date=2020-01-15,2022-01-15&genres=comedy&languages=en&start=1&ref_=adv_nxt\n",
      "total results: 1202\n",
      "crawed 1203\n",
      "crawling Adventure\n",
      "https://www.imdb.com/search/title/?release_date=2020-01-15,2022-01-15&genres=adventure&languages=en&start=1&ref_=adv_nxt\n",
      "total results: 387\n",
      "crawed 387\n",
      "crawling Animation\n",
      "https://www.imdb.com/search/title/?release_date=2020-01-15,2022-01-15&genres=animation&languages=en&start=1&ref_=adv_nxt\n",
      "total results: 196\n",
      "crawed 196\n",
      "crawling Crime\n",
      "https://www.imdb.com/search/title/?release_date=2020-01-15,2022-01-15&genres=crime&languages=en&start=1&ref_=adv_nxt\n",
      "total results: 399\n",
      "crawed 399\n",
      "crawling Romance\n",
      "https://www.imdb.com/search/title/?release_date=2020-01-15,2022-01-15&genres=romance&languages=en&start=1&ref_=adv_nxt\n",
      "total results: 281\n",
      "crawed 281\n",
      "crawling Documentary\n",
      "https://www.imdb.com/search/title/?release_date=2020-01-15,2022-01-15&genres=documentary&languages=en&start=1&ref_=adv_nxt\n",
      "total results: 800\n",
      "crawed 800\n",
      "crawling Biography\n",
      "https://www.imdb.com/search/title/?release_date=2020-01-15,2022-01-15&genres=biography&languages=en&start=1&ref_=adv_nxt\n",
      "total results: 84\n",
      "crawed 84\n",
      "Total collecting time:  386.09087014198303\n",
      "CPU times: user 1min, sys: 553 ms, total: 1min 1s\n",
      "Wall time: 6min 26s\n"
     ]
    }
   ],
   "source": [
    "%%time\n",
    "url = \"https://www.imdb.com/search/title/?release_date=2020-01-15,2022-01-15&genres={}&languages=en&start={}&ref_=adv_nxt\"\n",
    "first_time = time.time()\n",
    "crawling_genre_test(url,['Action','Comedy','Adventure','Animation','Crime','Romance','Documentary','Biography'])\n",
    "second_time = time.time()\n",
    "print(\"Total collecting time: \",second_time-first_time)"
   ]
  },
  {
   "cell_type": "code",
   "execution_count": null,
   "metadata": {
    "colab": {},
    "colab_type": "code",
    "id": "tF0alp8yPdvL"
   },
   "outputs": [],
   "source": []
  }
 ],
 "metadata": {
  "colab": {
   "collapsed_sections": [],
   "name": "DS_collect_data.ipynb",
   "provenance": []
  },
  "kernelspec": {
   "display_name": "Python 3",
   "language": "python",
   "name": "python3"
  },
  "language_info": {
   "codemirror_mode": {
    "name": "ipython",
    "version": 3
   },
   "file_extension": ".py",
   "mimetype": "text/x-python",
   "name": "python",
   "nbconvert_exporter": "python",
   "pygments_lexer": "ipython3",
   "version": "3.7.4"
  }
 },
 "nbformat": 4,
 "nbformat_minor": 4
}
