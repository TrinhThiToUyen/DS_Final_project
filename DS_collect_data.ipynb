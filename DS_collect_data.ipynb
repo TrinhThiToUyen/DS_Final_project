{
 "cells": [
  {
   "cell_type": "markdown",
   "metadata": {
    "colab_type": "text",
    "id": "view-in-github"
   },
   "source": [
    "<a href=\"https://colab.research.google.com/github/hungviet0304/DS_Final_project/blob/master/DS_collect_data.ipynb\" target=\"_parent\"><img src=\"https://colab.research.google.com/assets/colab-badge.svg\" alt=\"Open In Colab\"/></a>"
   ]
  },
  {
   "cell_type": "markdown",
   "metadata": {
    "colab_type": "text",
    "id": "RZp5cga5tNNe"
   },
   "source": [
    "**Crawling data**\n",
    " - Data source: https://www.imdb.com/\n",
    " - In 8 categories: action, comedy, Adventure,Animation, Crime, Romance, Documentary, Biography\n",
    " - Total 80000 samples.\n",
    " - Details:\n",
    "     + **Title**: name of the film.\n",
    "     + **Runtime**: duration of films (**0** if unavailable).\n",
    "     + **des**: plot of the movie.\n",
    "     + **Date**: year (**0** if unavailable).\n",
    "     + **Rating**: how well the film performed (**0** if unavailable).\n",
    "     + **Genres**: genres of film."
   ]
  },
  {
   "cell_type": "code",
   "execution_count": 1,
   "metadata": {
    "colab": {},
    "colab_type": "code",
    "id": "D8b8UiutFr9k"
   },
   "outputs": [],
   "source": [
    "import lxml\n",
    "import re\n",
    "import numpy as np\n",
    "import pandas as pd\n",
    "from bs4 import BeautifulSoup\n",
    "from requests import get\n",
    "import urllib.robotparser #check robot.txt from url file\n",
    "import time"
   ]
  },
  {
   "cell_type": "code",
   "execution_count": 2,
   "metadata": {
    "colab": {},
    "colab_type": "code",
    "id": "Z8hEI7AGBsHa"
   },
   "outputs": [],
   "source": [
    "#check robots.txt from urls\n",
    "def check_robot(url):\n",
    "    base_url = url.split(\"//\")[-1].split(\"/\")[0].split('?')[0] #get host name from URL\n",
    "    url_robot = \"https://\"+base_url+\"/robots.txt\"\n",
    "    rp = urllib.robotparser.RobotFileParser()\n",
    "    rp.set_url(url_robot)\n",
    "    try:\n",
    "        conn = urllib.request.urlopen(url_robot)\n",
    "    except urllib.error.HTTPError as e:\n",
    "        # Return code error (e.g. 404, 501, ...)\n",
    "        # ...\n",
    "        #print('HTTPError: {}'.format(e.code)) ##page have not robots.txt file\n",
    "        return True\n",
    "    except urllib.error.URLError as e:\n",
    "        # Not an HTTP-specific error (e.g. connection refused)\n",
    "        # ...\n",
    "        #print('URLError: {}'.format(e.reason))\n",
    "        return True\n",
    "    else:\n",
    "        # 200\n",
    "        # ...\n",
    "        #print('good')\n",
    "        #check robot when able to access page\n",
    "        rp.read()\n",
    "        return rp.can_fetch('*', url) #True is ok to crawl"
   ]
  },
  {
   "cell_type": "code",
   "execution_count": 3,
   "metadata": {
    "colab": {},
    "colab_type": "code",
    "id": "euKYHLj8U756"
   },
   "outputs": [],
   "source": [
    "def crawling(url_next_page, genre):\n",
    "\n",
    "  position = 1\n",
    "  url = url_next_page.format(genre, position).lower()\n",
    "  print(url)\n",
    "  if (check_robot(url) == False): \n",
    "        return None #cant crawl this url\n",
    "  page = get(url)\n",
    "  s = BeautifulSoup(page.content,'lxml')\n",
    "\n",
    "  #page title\n",
    "  page_title = s.find(\"h1\", class_ = \"header\").text.replace(\"\\n\",\"\")\n",
    "  body = s.find(id = 'main')\n",
    "  content = body.find_all(\"div\", class_ = \"lister-item mode-advanced\")\n",
    "  total_results = 0\n",
    "  # movie_title = [] #\n",
    "  # movie_date = []\n",
    "  # movie_runtime = []#\n",
    "  # movie_genre = []#\n",
    "  # movie_rating = []\n",
    "  # movie_score = []\n",
    "  # movie_description = []\n",
    "  # movie_directors = []\n",
    "  # movie_stars = []\n",
    "  # movie_votes = []\n",
    "  # movie_gros = []\n",
    "  df = pd.DataFrame(columns = [\"title\", \"runtime\",\"des\",\"date\",\"genre\",\"cast\",\"director\",\"vote\",\"gross\",\"rating\"])\n",
    "  total_results = body.find(\"div\",class_ = 'desc')\n",
    "  total_results = total_results.find('span').text.replace(\",\",\"\")\n",
    "  total_results = int(re.findall(r'\\d+',total_results)[-1])\n",
    "  print(\"total results: {}\".format(total_results))\n",
    "  total_results = int(total_results)\n",
    "  num_of_pages = total_results // 50 + 1 if total_results / 50 > total_results // 50 else total_results //50\n",
    "  print(num_of_pages)\n",
    "  num_of_pages /= 2\n",
    "  count = 0\n",
    "  while True:\n",
    "\n",
    "    for movie in content:\n",
    "      \n",
    "      tmp = movie.find(\"h3\",class_ = \"lister-item-header\")\n",
    "      movie_title=tmp.find(\"a\").text\n",
    "\n",
    "      try:\n",
    "        movie_runtime = movie.find('span',class_ = 'runtime').text[:-4] # only number\n",
    "      except:\n",
    "        movie_runtime = 0\n",
    "        # print(\"error at runtime: \" + movie_title)\n",
    "\n",
    "      try:\n",
    "        movie_genre=movie.find('span',class_= 'genre').text.replace(\"\\n\",\"\")\n",
    "      except:\n",
    "        movie_genre = \"\"\n",
    "        # print(\"error at genre\" + movie_title)\n",
    "      \n",
    "      \n",
    "\n",
    "     # print(movie_title)\n",
    "      if \"\\n\" == (movie.find_all('p',class_ = \"text-muted\")[-1].next_element.next_element):\n",
    "        try:\n",
    "          movie_description = movie.find_all('p',class_ = \"text-muted\")[-1].text.replace(\"\\n\",\"\")\n",
    "          if (movie_description == \"Add a Plot\"):\n",
    "            movie_description = \"\"\n",
    "          \n",
    "        except:\n",
    "          # print(\"error at description: \" + movie_title)\n",
    "          movie_description = \"\"\n",
    "      else:\n",
    "        #print(movie.find_all('p',class_ = \"text-muted\")[-1].next_element.next_element.text)\n",
    "        if (movie.find_all('p',class_ = \"text-muted\")[-1].next_element.next_element.text == \"See full summary\"):\n",
    "        \n",
    "          # access to https://www.imdb.com +\"href\" to get detail description\n",
    "          href = movie.find_all('p',class_ = \"text-muted\")[-1].find_all('a')[-1].attrs[\"href\"]\n",
    "          tmp_link = \"https://www.imdb.com\" + href\n",
    "          tmp_page = get(tmp_link)\n",
    "          \n",
    "          tmp_s = BeautifulSoup(tmp_page.content,'lxml')\n",
    "          tmp_box_text = tmp_s.find(\"li\",class_ = \"ipl-zebra-list__item\")    \n",
    "          #print(tmp_box_text)\n",
    "          #print(\"-------------\")\n",
    "          movie_description = tmp_box_text.find(\"p\").text.replace(\"\\n\",\"\") \n",
    "        else:\n",
    "          movie_description = movie.find_all('p',class_ = \"text-muted\")[-1].text.replace(\"\\n\",\"\")\n",
    "\n",
    "      try:\n",
    "        movie_date = tmp.find_all(\"span\")[-1].text\n",
    "        movie_date = int(re.findall(r'\\d+',movie_date)[-1])\n",
    "      except:\n",
    "        movie_date = 0\n",
    "        # print(\"error at date:\" + movie_title)\n",
    "      try:\n",
    "        movie_rating = float(movie.find(\"strong\").text)\n",
    "      except:\n",
    "        movie_rating = 0.0\n",
    "        # print(\"error at rating: \" + movie_title)\n",
    "\n",
    "\n",
    "      #get from tail tab p\n",
    "      tab_p = movie.find_all(\"p\")\n",
    "\n",
    "\n",
    "      if (\"Vote\" in tab_p[-1].text) or (\"Gross\" in tab_p[-1].text):\n",
    "        vote_gross = tab_p[-1].text\n",
    "        if (\"Director\" in tab_p[-2].text) or (\"Star\" in tab_p[-2].text):\n",
    "          director_star = tab_p[-2].text\n",
    "          try:\n",
    "            vote_gross = vote_gross.replace(\"Votes:\",\"\")\n",
    "            vote_gross = vote_gross.replace(\"Gross:\",\"\")\n",
    "            vote_gross = vote_gross.split(\"|\")\n",
    "            \n",
    "            if (len(vote_gross)==2):\n",
    "              movie_vote = int(vote_gross[0].replace(\",\",\"\"))\n",
    "              movie_gross = vote_gross[1].strip()\n",
    "            else:\n",
    "              movie_vote = int(vote_gross[0].replace(\",\",\"\"))\n",
    "              movie_gross = \"\"\n",
    "          except:\n",
    "            movie_vote = 0\n",
    "            movie_gross = \"\"\n",
    "\n",
    "\n",
    "          director_star = director_star.replace(\"Director:\",\"\")\n",
    "          director_star = director_star.replace(\"Directors:\",\"\")\n",
    "          director_star = director_star.replace(\"Stars:\",\"\")\n",
    "          director_star = director_star.replace(\"Star:\",\"\")\n",
    "          director_star = director_star.split(\"|\")\n",
    "          try:\n",
    "\n",
    "            if(len(director_star)==2):\n",
    "              movie_director = director_star[0].strip().replace(\"\\n\",\"\")\n",
    "              movie_star = director_star[1].strip().replace(\"\\n\",\"\")\n",
    "              \n",
    "            else:\n",
    "              movie_star = director_star[0].strip().replace(\"\\n\",\"\")\n",
    "              movie_director = \"\"\n",
    "\n",
    "          except:\n",
    "            movie_director = \"\"\n",
    "            movie_star = \"\"\n",
    "        else:\n",
    "          movie_director = \"\"\n",
    "          movie_star = \"\"\n",
    "          try:\n",
    "            vote_gross = vote_gross.replace(\"Votes:\",\"\")\n",
    "            vote_gross = vote_gross.replace(\"Gross:\",\"\")\n",
    "            vote_gross = vote_gross.split(\"|\")\n",
    "            \n",
    "            if (len(vote_gross)==2):\n",
    "              movie_vote = int(vote_gross[0].replace(\",\",\"\"))\n",
    "              movie_gross = vote_gross[1].strip()\n",
    "            else:\n",
    "              movie_vote = int(vote_gross[0].replace(\",\",\"\"))\n",
    "              movie_gross = \"\"\n",
    "          except:\n",
    "            movie_vote = 0\n",
    "            movie_gross = \"\"\n",
    "        \n",
    "      else:\n",
    "        movie_gross = \"\"\n",
    "        movie_vote = 0\n",
    "        if (\"Director\" in tab_p[-1].text ) or (\"Star\" in tab_p[-1].text):\n",
    "          director_star = tab_p[-1].text\n",
    "\n",
    "          director_star = director_star.replace(\"Director:\",\"\")\n",
    "          director_star = director_star.replace(\"Directors:\",\"\")\n",
    "          director_star = director_star.replace(\"Star:\",\"\")\n",
    "          director_star = director_star.replace(\"Stars:\",\"\")\n",
    "          director_star = director_star.split(\"|\")\n",
    "          try:\n",
    "\n",
    "            if(len(director_star)==2):\n",
    "              movie_director = director_star[0].strip().replace(\"\\n\",\"\")\n",
    "              movie_star = director_star[1].strip().replace(\"\\n\",\"\")\n",
    "              \n",
    "            else:\n",
    "              movie_star = director_star[0].strip().replace(\"\\n\",\"\")\n",
    "              movie_director = \"\"\n",
    "\n",
    "          except:\n",
    "            movie_director = \"\"\n",
    "            movie_star = \"\"\n",
    "        else:\n",
    "          movie_director = \"\"\n",
    "          movie_star = \"\"\n",
    "\n",
    "      \n",
    "      \n",
    "\n",
    "      df.loc[len(df)] = [movie_title, movie_runtime, movie_description,movie_date, movie_genre, movie_star, movie_director, movie_vote, movie_gross, movie_rating]\n",
    "      if df.shape[0] >= 10000:\n",
    "        # print()\n",
    "        return df[:10000]\n",
    "    position += 50\n",
    "    url = url_next_page.format(genre,position).lower()\n",
    "    \n",
    "    page = get(url)\n",
    "    s = BeautifulSoup(page.content,'lxml')\n",
    "\n",
    "    #page title\n",
    "    page_title = s.find(\"h1\", class_ = \"header\").text.replace(\"\\n\",\"\")\n",
    "    body = s.find(id = 'main')\n",
    "    content = body.find_all(\"div\", class_ = \"lister-item mode-advanced\")\n",
    "    count += 1\n",
    "    # print(str(count) + \" / \" + str(num_of_pages))\n",
    "    if count == num_of_pages:\n",
    "      break\n",
    "  return df"
   ]
  },
  {
   "cell_type": "code",
   "execution_count": 4,
   "metadata": {
    "colab": {},
    "colab_type": "code",
    "id": "oHlyH9UCw6Xt"
   },
   "outputs": [],
   "source": [
    "def crawling_genre(url, genre):\n",
    "  for g in genre:\n",
    "    print(\"crawling \" + g)\n",
    "    df_tmp = crawling(url,g)\n",
    "    print(\"crawed {}\".format(df_tmp.shape[0]))\n",
    "    df_tmp.to_csv(g+\".csv\",index = False)\n"
   ]
  },
  {
   "cell_type": "code",
   "execution_count": null,
   "metadata": {
    "colab": {},
    "colab_type": "code",
    "id": "fhbVkrFOVq3b"
   },
   "outputs": [],
   "source": [
    "%%time\n",
    "url = \"https://www.imdb.com/search/title/?release_date=2010-10-10,2018-10-10&genres={}&languages=en&start={}&ref_=adv_nxt\"\n",
    "first_time = time.time()\n",
    "crawling_genre(url,['Action','Comedy','Adventure','Animation','Crime','Romance','Documentary','Biography'])\n",
    "\n",
    "second_time = time.time()\n",
    "print(\"Total collecting time: \",second_time-first_time)"
   ]
  },
  {
   "cell_type": "markdown",
   "metadata": {},
   "source": [
    "- crawl test data\n",
    "- Released between 2020-01-15 and 2022-01-15\n",
    "- url example: https://www.imdb.com/search/title/?release_date=2020-01-10,&genres=action"
   ]
  },
  {
   "cell_type": "code",
   "execution_count": 5,
   "metadata": {},
   "outputs": [],
   "source": [
    "def crawling_genre_test(url, genre):\n",
    "  for g in genre:\n",
    "    print(\"crawling \" + g)\n",
    "    df_tmp = crawling(url,g)\n",
    "    df_tmp = df_tmp.drop(columns=\"rating\")\n",
    "    print(\"crawed {}\".format(df_tmp.shape[0]))\n",
    "    df_tmp.to_csv(\"./test/\" + g +\".csv\",index = False)\n"
   ]
  },
  {
   "cell_type": "code",
   "execution_count": 7,
   "metadata": {},
   "outputs": [
    {
     "name": "stdout",
     "output_type": "stream",
     "text": [
      "crawling Animation\n",
      "https://www.imdb.com/search/title/?release_date=2020-01-15,2022-01-15&genres=animation&languages=en&start=1&ref_=adv_nxt\n",
      "total results: 197\n",
      "4\n",
      "crawed 100\n",
      "crawling Crime\n",
      "https://www.imdb.com/search/title/?release_date=2020-01-15,2022-01-15&genres=crime&languages=en&start=1&ref_=adv_nxt\n",
      "total results: 380\n",
      "8\n",
      "crawed 200\n",
      "crawling Romance\n",
      "https://www.imdb.com/search/title/?release_date=2020-01-15,2022-01-15&genres=romance&languages=en&start=1&ref_=adv_nxt\n",
      "total results: 280\n",
      "6\n",
      "crawed 150\n",
      "crawling Documentary\n",
      "https://www.imdb.com/search/title/?release_date=2020-01-15,2022-01-15&genres=documentary&languages=en&start=1&ref_=adv_nxt\n",
      "total results: 780\n",
      "16\n",
      "crawed 400\n",
      "crawling Biography\n",
      "https://www.imdb.com/search/title/?release_date=2020-01-15,2022-01-15&genres=biography&languages=en&start=1&ref_=adv_nxt\n",
      "total results: 82\n",
      "2\n",
      "crawed 50\n",
      "Total collecting time:  365.98769211769104\n",
      "Wall time: 6min 5s\n"
     ]
    }
   ],
   "source": [
    "%%time\n",
    "url = \"https://www.imdb.com/search/title/?release_date=2020-01-15,2022-01-15&genres={}&languages=en&start={}&ref_=adv_nxt\"\n",
    "first_time = time.time()\n",
    "crawling_genre_test(url,['Action','Comedy','Adventure','Animation','Crime','Romance','Documentary','Biography'])\n",
    "\n",
    "second_time = time.time()\n",
    "print(\"Total collecting time: \",second_time-first_time)"
   ]
  },
  {
   "cell_type": "markdown",
   "metadata": {
    "colab_type": "text",
    "id": "l32nIrSMexk5"
   },
   "source": [
    "Data Visualization"
   ]
  },
  {
   "cell_type": "code",
   "execution_count": null,
   "metadata": {
    "colab": {},
    "colab_type": "code",
    "id": "FZ9CgfG5exk7"
   },
   "outputs": [],
   "source": [
    "genres = ['Action','Comedy','Adventure','Animation','Crime','Romance','Documentary','Biography']"
   ]
  },
  {
   "cell_type": "code",
   "execution_count": null,
   "metadata": {
    "colab": {},
    "colab_type": "code",
    "id": "LJUTPphWexk-"
   },
   "outputs": [],
   "source": [
    "import pandas as pd"
   ]
  },
  {
   "cell_type": "code",
   "execution_count": null,
   "metadata": {
    "colab": {},
    "colab_type": "code",
    "id": "Ldt92fUnexlB"
   },
   "outputs": [],
   "source": [
    "#### IMPORTANT: need "
   ]
  },
  {
   "cell_type": "code",
   "execution_count": null,
   "metadata": {
    "colab": {},
    "colab_type": "code",
    "id": "Dh6qpWRFexlE"
   },
   "outputs": [],
   "source": [
    "data_path = \"./data/final_data.csv\"\n",
    "df = pd.read_csv(data_path)"
   ]
  },
  {
   "cell_type": "code",
   "execution_count": null,
   "metadata": {
    "colab": {},
    "colab_type": "code",
    "id": "1IhnOzYAexlI"
   },
   "outputs": [],
   "source": [
    "df.columns"
   ]
  },
  {
   "cell_type": "code",
   "execution_count": null,
   "metadata": {
    "colab": {},
    "colab_type": "code",
    "id": "RKkCdihEexlN"
   },
   "outputs": [],
   "source": [
    "# drop duplicate rows in data frame\n",
    "droped_df = df.drop_duplicates(keep = \"first\")"
   ]
  },
  {
   "cell_type": "code",
   "execution_count": null,
   "metadata": {
    "colab": {},
    "colab_type": "code",
    "id": "mCn14XYVexlQ"
   },
   "outputs": [],
   "source": [
    "def remove_unneccessary_genre(df):\n",
    "    gen_list = df.genre.values.tolist()\n",
    "    gens = []\n",
    "    for g in gen_list:\n",
    "        tmp = g.strip().split(\", \")\n",
    "        gen_ = [x for x in tmp if x in genres]\n",
    "        gens.append(gen_)\n",
    "    new_gens = [\",\".join(x for x in gen) for gen in gens]     \n",
    "    df_new_gens = pd.DataFrame(new_gens)\n",
    "    df['genres'] = new_gens\n",
    "    df.drop(columns = ['genre'])\n",
    "    return df"
   ]
  },
  {
   "cell_type": "code",
   "execution_count": null,
   "metadata": {
    "colab": {},
    "colab_type": "code",
    "id": "LN8NTR95exlV"
   },
   "outputs": [],
   "source": [
    "df = remove_unneccessary_genre(droped_df)"
   ]
  },
  {
   "cell_type": "code",
   "execution_count": null,
   "metadata": {
    "colab": {},
    "colab_type": "code",
    "id": "3sDyrj44exlZ"
   },
   "outputs": [],
   "source": [
    "# only run this cell if you want to save current data frame\n",
    "df.to_csv(data_path + \"final_data.csv\", index = False)"
   ]
  },
  {
   "cell_type": "code",
   "execution_count": null,
   "metadata": {
    "colab": {},
    "colab_type": "code",
    "id": "VEbsd0kqexld"
   },
   "outputs": [],
   "source": [
    "#extract genres for statistic\n",
    "gens_list = df.genres.values.tolist()\n",
    "gens = []\n",
    "for g in gen_list:\n",
    "    tmp = g.strip().split(\", \")\n",
    "    gen_ = [x for x in tmp if x in genres]\n",
    "    gens.append(gen_)\n",
    "new_list_gen = []\n",
    "for g in gens:\n",
    "    new_list_gen += g"
   ]
  },
  {
   "cell_type": "code",
   "execution_count": null,
   "metadata": {
    "colab": {},
    "colab_type": "code",
    "id": "QUjnVrxLexlg"
   },
   "outputs": [],
   "source": [
    "from nltk import FreqDist\n",
    "from matplotlib import pyplot as plt\n",
    "import seaborn as sns"
   ]
  },
  {
   "cell_type": "code",
   "execution_count": null,
   "metadata": {
    "colab": {},
    "colab_type": "code",
    "id": "Rl1jzK7Oexlj"
   },
   "outputs": [],
   "source": [
    "freq = FreqDist(new_list_gen)\n",
    "frq = pd.DataFrame({\"Genre\": list(freq.keys()),\n",
    "                   \"Freq\": list(freq.values())})"
   ]
  },
  {
   "cell_type": "code",
   "execution_count": null,
   "metadata": {
    "colab": {},
    "colab_type": "code",
    "id": "g-I-MIVmexll"
   },
   "outputs": [],
   "source": [
    "g = frq.nlargest(columns=\"Freq\", n = 50) \n",
    "plt.figure(figsize=(12,15)) \n",
    "ax = sns.barplot(data=g, x= \"Freq\", y = \"Genre\") \n",
    "ax.set(ylabel = 'Freq') \n",
    "plt.show()"
   ]
  },
  {
   "cell_type": "code",
   "execution_count": null,
   "metadata": {
    "colab": {},
    "colab_type": "code",
    "id": "y9xbKjW0exlq"
   },
   "outputs": [],
   "source": []
  },
  {
   "cell_type": "code",
   "execution_count": null,
   "metadata": {},
   "outputs": [],
   "source": []
  },
  {
   "cell_type": "code",
   "execution_count": null,
   "metadata": {},
   "outputs": [],
   "source": []
  },
  {
   "cell_type": "code",
   "execution_count": null,
   "metadata": {},
   "outputs": [],
   "source": []
  },
  {
   "cell_type": "code",
   "execution_count": null,
   "metadata": {},
   "outputs": [],
   "source": []
  },
  {
   "cell_type": "code",
   "execution_count": null,
   "metadata": {},
   "outputs": [],
   "source": []
  }
 ],
 "metadata": {
  "colab": {
   "collapsed_sections": [],
   "include_colab_link": true,
   "name": "DS_collect_data.ipynb",
   "provenance": []
  },
  "kernelspec": {
   "display_name": "Python 3",
   "language": "python",
   "name": "python3"
  },
  "language_info": {
   "codemirror_mode": {
    "name": "ipython",
    "version": 3
   },
   "file_extension": ".py",
   "mimetype": "text/x-python",
   "name": "python",
   "nbconvert_exporter": "python",
   "pygments_lexer": "ipython3",
   "version": "3.7.4"
  }
 },
 "nbformat": 4,
 "nbformat_minor": 4
}
